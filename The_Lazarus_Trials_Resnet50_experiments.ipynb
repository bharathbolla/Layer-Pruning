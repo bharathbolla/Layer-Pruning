{
  "nbformat": 4,
  "nbformat_minor": 0,
  "metadata": {
    "kernelspec": {
      "display_name": "Python 3",
      "language": "python",
      "name": "python3"
    },
    "language_info": {
      "codemirror_mode": {
        "name": "ipython",
        "version": 3
      },
      "file_extension": ".py",
      "mimetype": "text/x-python",
      "name": "python",
      "nbconvert_exporter": "python",
      "pygments_lexer": "ipython3",
      "version": "3.8.3"
    },
    "colab": {
      "name": "The Lazarus Trials - Resnet50_experiments.ipynb",
      "provenance": [],
      "collapsed_sections": [],
      "include_colab_link": true
    },
    "accelerator": "GPU"
  },
  "cells": [
    {
      "cell_type": "markdown",
      "metadata": {
        "id": "view-in-github",
        "colab_type": "text"
      },
      "source": [
        "<a href=\"https://colab.research.google.com/github/sabeesh90/Layer_Fine_Tuning_Deep_Neural_Networks/blob/main/The_Lazarus_Trials_Resnet50_experiments.ipynb\" target=\"_parent\"><img src=\"https://colab.research.google.com/assets/colab-badge.svg\" alt=\"Open In Colab\"/></a>"
      ]
    },
    {
      "cell_type": "markdown",
      "metadata": {
        "id": "SC1TI_gLUXF4"
      },
      "source": [
        "#### Importing libraries"
      ]
    },
    {
      "cell_type": "code",
      "metadata": {
        "id": "vADQpd_tUXF5",
        "colab": {
          "base_uri": "https://localhost:8080/"
        },
        "outputId": "1de4bbd8-ee55-4bc9-e586-dc291bbdc2a7"
      },
      "source": [
        "from PIL import Image\n",
        "import requests\n",
        "from io import BytesIO\n",
        "import pandas as pd\n",
        "import numpy as np\n",
        "import matplotlib.pyplot as plt\n",
        "import tensorflow.keras as keras\n",
        "import seaborn as sns\n",
        "import warnings\n",
        "import os\n",
        "from skimage import io\n",
        "import pathlib\n",
        "import glob\n",
        "import numpy as np\n",
        "import pandas as pd\n",
        "import tensorflow as tf\n",
        "from sklearn.model_selection import train_test_split\n",
        "from tensorflow.keras import Model\n",
        "from tensorflow.keras.layers import *\n",
        "from tensorflow.keras.losses import CategoricalCrossentropy\n",
        "from tensorflow.keras import layers\n",
        "from tensorflow.keras.models import Sequential, Model, load_model\n",
        "from tensorflow.keras.layers import Dense, Dropout, Flatten, Conv2D, MaxPooling2D, BatchNormalization,GlobalAveragePooling2D\n",
        "from tensorflow.keras.preprocessing.image import ImageDataGenerator\n",
        "from tensorflow.keras import optimizers\n",
        "from sklearn.metrics import classification_report, confusion_matrix\n",
        "!pip install -q -U keras-tuner\n",
        "import kerastuner as kt\n",
        "%load_ext tensorboard\n",
        "warnings.filterwarnings(\"ignore\")\n"
      ],
      "execution_count": null,
      "outputs": [
        {
          "output_type": "stream",
          "text": [
            "\u001b[?25l\r\u001b[K     |███▍                            | 10 kB 23.4 MB/s eta 0:00:01\r\u001b[K     |██████▉                         | 20 kB 24.8 MB/s eta 0:00:01\r\u001b[K     |██████████▏                     | 30 kB 11.4 MB/s eta 0:00:01\r\u001b[K     |█████████████▋                  | 40 kB 9.2 MB/s eta 0:00:01\r\u001b[K     |█████████████████               | 51 kB 4.8 MB/s eta 0:00:01\r\u001b[K     |████████████████████▍           | 61 kB 5.2 MB/s eta 0:00:01\r\u001b[K     |███████████████████████▊        | 71 kB 5.6 MB/s eta 0:00:01\r\u001b[K     |███████████████████████████▏    | 81 kB 6.3 MB/s eta 0:00:01\r\u001b[K     |██████████████████████████████▋ | 92 kB 6.6 MB/s eta 0:00:01\r\u001b[K     |████████████████████████████████| 96 kB 3.5 MB/s \n",
            "\u001b[?25h"
          ],
          "name": "stdout"
        },
        {
          "output_type": "stream",
          "text": [
            "/usr/local/lib/python3.7/dist-packages/ipykernel_launcher.py:28: DeprecationWarning: `import kerastuner` is deprecated, please use `import keras_tuner`.\n"
          ],
          "name": "stderr"
        }
      ]
    },
    {
      "cell_type": "code",
      "metadata": {
        "colab": {
          "base_uri": "https://localhost:8080/"
        },
        "id": "QVwvbxEr6EZI",
        "outputId": "381b54a8-a80d-4fe5-f8a2-de77f8da5c90"
      },
      "source": [
        "pip install Ipython"
      ],
      "execution_count": null,
      "outputs": [
        {
          "output_type": "stream",
          "text": [
            "Requirement already satisfied: Ipython in /usr/local/lib/python3.7/dist-packages (5.5.0)\n",
            "Requirement already satisfied: prompt-toolkit<2.0.0,>=1.0.4 in /usr/local/lib/python3.7/dist-packages (from Ipython) (1.0.18)\n",
            "Requirement already satisfied: traitlets>=4.2 in /usr/local/lib/python3.7/dist-packages (from Ipython) (5.0.5)\n",
            "Requirement already satisfied: setuptools>=18.5 in /usr/local/lib/python3.7/dist-packages (from Ipython) (57.4.0)\n",
            "Requirement already satisfied: pygments in /usr/local/lib/python3.7/dist-packages (from Ipython) (2.6.1)\n",
            "Requirement already satisfied: pickleshare in /usr/local/lib/python3.7/dist-packages (from Ipython) (0.7.5)\n",
            "Requirement already satisfied: pexpect in /usr/local/lib/python3.7/dist-packages (from Ipython) (4.8.0)\n",
            "Requirement already satisfied: decorator in /usr/local/lib/python3.7/dist-packages (from Ipython) (4.4.2)\n",
            "Requirement already satisfied: simplegeneric>0.8 in /usr/local/lib/python3.7/dist-packages (from Ipython) (0.8.1)\n",
            "Requirement already satisfied: wcwidth in /usr/local/lib/python3.7/dist-packages (from prompt-toolkit<2.0.0,>=1.0.4->Ipython) (0.2.5)\n",
            "Requirement already satisfied: six>=1.9.0 in /usr/local/lib/python3.7/dist-packages (from prompt-toolkit<2.0.0,>=1.0.4->Ipython) (1.15.0)\n",
            "Requirement already satisfied: ipython-genutils in /usr/local/lib/python3.7/dist-packages (from traitlets>=4.2->Ipython) (0.2.0)\n",
            "Requirement already satisfied: ptyprocess>=0.5 in /usr/local/lib/python3.7/dist-packages (from pexpect->Ipython) (0.7.0)\n"
          ],
          "name": "stdout"
        }
      ]
    },
    {
      "cell_type": "code",
      "metadata": {
        "colab": {
          "base_uri": "https://localhost:8080/"
        },
        "id": "94NDxt-p3HJs",
        "outputId": "3f789181-d12e-4b3e-a0a6-96ae1ca23880"
      },
      "source": [
        "from google.colab import drive\n",
        "drive.mount('/content/drive')"
      ],
      "execution_count": null,
      "outputs": [
        {
          "output_type": "stream",
          "text": [
            "Mounted at /content/drive\n"
          ],
          "name": "stdout"
        }
      ]
    },
    {
      "cell_type": "code",
      "metadata": {
        "colab": {
          "base_uri": "https://localhost:8080/"
        },
        "id": "S_jhi5Md3LkI",
        "outputId": "336e2fc2-07e4-4a60-99a6-d1f3347062f9"
      },
      "source": [
        "%cd drive/MyDrive/Colab Notebooks"
      ],
      "execution_count": null,
      "outputs": [
        {
          "output_type": "stream",
          "text": [
            "/content/drive/MyDrive/Colab Notebooks\n"
          ],
          "name": "stdout"
        }
      ]
    },
    {
      "cell_type": "code",
      "metadata": {
        "id": "EGCbghzXZJwz"
      },
      "source": [
        "classes = ['GALAXY', 'QSO', 'STAR']"
      ],
      "execution_count": null,
      "outputs": []
    },
    {
      "cell_type": "code",
      "metadata": {
        "id": "1uf5Vn11O4wq"
      },
      "source": [
        "def generate_graph(model_training):\n",
        "    plt.figure(figsize= (15,5))\n",
        "    plt.subplot(1,2,1)\n",
        "    plt.plot(model_training.history.history['accuracy'])\n",
        "    plt.plot(model_training.history.history['val_accuracy'])\n",
        "    plt.title('Training vs TestAccuracy')\n",
        "    plt.xlabel('Epochs')\n",
        "    plt.ylabel('Accuracy')\n",
        "    plt.legend(('Training', 'Validation'), loc = 'best')\n",
        "    plt.subplot(1,2,2)\n",
        "    plt.plot(model_training.history.history['loss'])\n",
        "    plt.plot(model_training.history.history['val_loss'])\n",
        "    plt.title('Training loss vs Test Loss')\n",
        "    plt.xlabel('Epochs')\n",
        "    plt.ylabel('Loss')\n",
        "    plt.legend(('Training', 'Validation'), loc = 'best')\n",
        "    plt.show()\n",
        "\n",
        "class Metrics:\n",
        "    # from sklearn\n",
        "    def __init__(self, model, val_ds):\n",
        "        self.val_ds = val_ds\n",
        "        self.model = model\n",
        "        self.prediction_classes = np.array([])\n",
        "        self.true_classes = np.array([])\n",
        "        \n",
        "    def calculate_scores(self):     \n",
        "        print('calculating score.....')   \n",
        "        \n",
        "        for x, y in self.val_ds:\n",
        "            self.prediction_classes = np.concatenate([self.prediction_classes,np.argmax(self.model.predict(x), axis = -1)])\n",
        "            self.true_classes = np.concatenate([self.true_classes, np.argmax(y.numpy(), axis=-1)])\n",
        "        \n",
        "        class_report = classification_report(self.true_classes, self.prediction_classes)\n",
        "        conf_matrix = confusion_matrix(self.true_classes, self.prediction_classes)\n",
        "        print(conf_matrix)\n",
        "        print('------------------------------------')\n",
        "        print(class_report)\n",
        "\n",
        "reduce_lr = tf.keras.callbacks.ReduceLROnPlateau(\n",
        "    monitor=\"val_loss\",\n",
        "    factor=0.1,\n",
        "    patience=5,\n",
        "    verbose=0,\n",
        "    mode=\"auto\",\n",
        "    min_delta=0.0001,\n",
        "    cooldown=0,\n",
        "    min_lr=0,\n",
        ")\n",
        "early_stop = tf.keras.callbacks.EarlyStopping(\n",
        "    monitor=\"val_loss\",\n",
        "    min_delta=0,\n",
        "    patience=10,\n",
        "    verbose=0,\n",
        "    mode=\"auto\",\n",
        "    baseline=None,\n",
        "    restore_best_weights=True,\n",
        ")"
      ],
      "execution_count": null,
      "outputs": []
    },
    {
      "cell_type": "markdown",
      "metadata": {
        "id": "sEUWxsddLFIw"
      },
      "source": [
        "#### Resnet 50"
      ]
    },
    {
      "cell_type": "markdown",
      "metadata": {
        "id": "7mp2bYwBmOtm"
      },
      "source": [
        "##### Data preparation"
      ]
    },
    {
      "cell_type": "code",
      "metadata": {
        "colab": {
          "base_uri": "https://localhost:8080/"
        },
        "id": "UfG1CGD5Mxph",
        "outputId": "1f97860f-c71a-41ba-b879-a2c0f141248e"
      },
      "source": [
        "# Preprocessing the data\n",
        "dataset_path = 'Images'\n",
        "img_width = 512\n",
        "img_height = 512\n",
        "channels = 3\n",
        "num_classes = 3\n",
        "batch_size = 8\n",
        "\n",
        "\n",
        "img_width_crop = 1024\n",
        "img_height_crop = 1024\n",
        "\n",
        "rescale = tf.keras.Sequential([layers.experimental.preprocessing.Rescaling(1./255)])\n",
        "\n",
        "\n",
        "# augmenting the data\n",
        "# cropless flip and rotate\n",
        "\n",
        "data_aug_flip = tf.keras.Sequential([layers.experimental.preprocessing.RandomFlip(\"horizontal_and_vertical\"),\n",
        "                                # layers.experimental.preprocessing.RandomRotation(0.2)])\n",
        "])\n",
        "\n",
        "data_aug_flip_rotate = tf.keras.Sequential([layers.experimental.preprocessing.RandomFlip(\"horizontal_and_vertical\"),\n",
        "                                layers.experimental.preprocessing.RandomRotation(0.2)])\n",
        "\n",
        "\n",
        "# crop flip and rotate\n",
        "data_aug_crop_flip_rotate = tf.keras.Sequential([layers.experimental.preprocessing.CenterCrop(512,512),\n",
        "                                                 layers.experimental.preprocessing.RandomFlip(\"horizontal_and_vertical\"),\n",
        "                                                 layers.experimental.preprocessing.RandomRotation(0.2)])\n",
        "\n",
        "data_aug_crop_flip = tf.keras.Sequential([layers.experimental.preprocessing.CenterCrop(512,512),\n",
        "                                          layers.experimental.preprocessing.RandomFlip(\"horizontal_and_vertical\")])\n",
        "\n",
        "normal_crop = tf.keras.Sequential([layers.experimental.preprocessing.CenterCrop(512,512)],)\n",
        "batch_size =32 \n",
        "autotune = tf.data.AUTOTUNE\n",
        "\n",
        "# Preparing the normal dataset\n",
        "train_ds = tf.keras.preprocessing.image_dataset_from_directory(dataset_path, validation_split = 0.2,subset = 'training',seed = 123, image_size = (img_width, img_height), \n",
        "                                                                  batch_size = batch_size, label_mode = 'categorical',)\n",
        "val_ds = tf.keras.preprocessing.image_dataset_from_directory(dataset_path, validation_split = 0.2,subset = 'validation',seed = 123, image_size = (img_width, img_height),\n",
        "                                                                batch_size = batch_size, label_mode = 'categorical')\n",
        "\n",
        "train_ds_cropped = tf.keras.preprocessing.image_dataset_from_directory(dataset_path, validation_split = 0.2,subset = 'training',seed = 123, image_size = (img_width_crop, img_height_crop), \n",
        "                                                                  batch_size = batch_size, label_mode = 'categorical',)\n",
        "val_ds_cropped = tf.keras.preprocessing.image_dataset_from_directory(dataset_path, validation_split = 0.2,subset = 'validation',seed = 123, image_size = (img_width_crop, img_height_crop),\n",
        "                                                                batch_size = batch_size, label_mode = 'categorical')\n",
        "\n",
        "\n",
        "# preparing the scalred dataset\n",
        "train_ds_scaled = train_ds.map(lambda x,y: (rescale(x, training = True), y), num_parallel_calls=autotune)\n",
        "val_ds_scaled = val_ds.map(lambda x,y: (rescale(x, training = False), y), num_parallel_calls=autotune)\n",
        "train_ds.prefetch(buffer_size=autotune)\n",
        "val_ds.prefetch(buffer_size=autotune)\n",
        "\n",
        "train_ds_scaled_cropped = train_ds_scaled.map(lambda x,y: (rescale(x, training = True), y), num_parallel_calls=autotune)\n",
        "val_ds_scaled_cropped = val_ds_scaled.map(lambda x,y: (rescale(x, training = False), y), num_parallel_calls=autotune)\n",
        "\n",
        "# augment function \n",
        "def prepare_dataset(ds, flip = False, flip_rotate = False):\n",
        "    if flip == True:\n",
        "        ds = ds.map(lambda x, y : (data_aug_flip(x, training = True), y), num_parallel_calls = autotune)\n",
        "    elif flip_rotate == True:\n",
        "        ds = ds.map(lambda x, y : (data_aug_flip_rotate(x, training = True), y), num_parallel_calls = autotune)\n",
        "    \n",
        "    return ds.prefetch(buffer_size =autotune)\n",
        "\n",
        "def prepare_dataset_crop(ds, crop_flip = False, crop_flip_rotate = False):\n",
        "    if crop_flip_rotate == True:\n",
        "        ds = ds.map(lambda x, y : (data_aug_crop_flip_rotate(x, training = True), y), num_parallel_calls = autotune)\n",
        "    elif crop_flip == True:\n",
        "        ds = ds.map(lambda x, y : (data_aug_crop_flip(x, training = True), y), num_parallel_calls = autotune)\n",
        "    \n",
        "    return ds.prefetch(buffer_size =autotune)\n",
        "    \n",
        "def prepare_dataset_normal_crop(ds, training = True):\n",
        "    ds = ds.map(lambda x, y : (normal_crop(x, training = training), y), num_parallel_calls = autotune)\n",
        "    return ds.prefetch(buffer_size =autotune)\n",
        "# 25 batches of 32 each and 7 batches of 32 each\n",
        "\n"
      ],
      "execution_count": null,
      "outputs": [
        {
          "output_type": "stream",
          "text": [
            "Found 1000 files belonging to 3 classes.\n",
            "Using 800 files for training.\n",
            "Found 1000 files belonging to 3 classes.\n",
            "Using 200 files for validation.\n",
            "Found 1000 files belonging to 3 classes.\n",
            "Using 800 files for training.\n",
            "Found 1000 files belonging to 3 classes.\n",
            "Using 200 files for validation.\n"
          ],
          "name": "stdout"
        }
      ]
    },
    {
      "cell_type": "markdown",
      "metadata": {
        "id": "m4cuzjMadXZv"
      },
      "source": [
        "##### Resnet model building"
      ]
    },
    {
      "cell_type": "code",
      "metadata": {
        "id": "tyqSrpPwRoDj",
        "colab": {
          "base_uri": "https://localhost:8080/"
        },
        "outputId": "fe2fde9e-c3d8-400b-ed55-5b5b0dd6df8a"
      },
      "source": [
        "from tensorflow.keras.applications import  ResNet50\n",
        "models = {'base_model'+str(num) : ResNet50(include_top=False, weights='imagenet', \n",
        "                                           input_shape = (img_height, img_width, 3),classes = num_classes, pooling = 'avg') for num in range(0,10)}"
      ],
      "execution_count": null,
      "outputs": [
        {
          "output_type": "stream",
          "text": [
            "Downloading data from https://storage.googleapis.com/tensorflow/keras-applications/resnet/resnet50_weights_tf_dim_ordering_tf_kernels_notop.h5\n",
            "94773248/94765736 [==============================] - 1s 0us/step\n",
            "94781440/94765736 [==============================] - 1s 0us/step\n"
          ],
          "name": "stdout"
        }
      ]
    },
    {
      "cell_type": "code",
      "metadata": {
        "colab": {
          "base_uri": "https://localhost:8080/"
        },
        "id": "EUpJglBPSKwS",
        "outputId": "e3abc18d-4ecd-425b-8714-6c202680fbcc"
      },
      "source": [
        "models"
      ],
      "execution_count": null,
      "outputs": [
        {
          "output_type": "execute_result",
          "data": {
            "text/plain": [
              "{'base_model0': <keras.engine.functional.Functional at 0x7f8787628110>,\n",
              " 'base_model1': <keras.engine.functional.Functional at 0x7f8786efb890>,\n",
              " 'base_model2': <keras.engine.functional.Functional at 0x7f8786d1b090>,\n",
              " 'base_model3': <keras.engine.functional.Functional at 0x7f8786cce610>,\n",
              " 'base_model4': <keras.engine.functional.Functional at 0x7f878671aa90>,\n",
              " 'base_model5': <keras.engine.functional.Functional at 0x7f87864e71d0>,\n",
              " 'base_model6': <keras.engine.functional.Functional at 0x7f87864df450>,\n",
              " 'base_model7': <keras.engine.functional.Functional at 0x7f8786203dd0>,\n",
              " 'base_model8': <keras.engine.functional.Functional at 0x7f8747f2ae50>,\n",
              " 'base_model9': <keras.engine.functional.Functional at 0x7f87479dbb50>}"
            ]
          },
          "metadata": {},
          "execution_count": 9
        }
      ]
    },
    {
      "cell_type": "code",
      "metadata": {
        "colab": {
          "base_uri": "https://localhost:8080/"
        },
        "id": "5u6kNMzeshhn",
        "outputId": "33c0e2cf-6d31-401a-e2a5-a5430fd7c0e8"
      },
      "source": [
        "layer_count  = len(models['base_model0'].layers)\n",
        "print(f'There are a total of {layer_count} in the resnet layer')"
      ],
      "execution_count": null,
      "outputs": [
        {
          "output_type": "stream",
          "text": [
            "There are a total of 176 in the resnet layer\n"
          ],
          "name": "stdout"
        }
      ]
    },
    {
      "cell_type": "code",
      "metadata": {
        "colab": {
          "base_uri": "https://localhost:8080/"
        },
        "id": "xmbRbcXBTAie",
        "outputId": "fd48befc-de34-4ee7-a140-40c36933c488"
      },
      "source": [
        "for model,value in models.items():\n",
        "    print(model)"
      ],
      "execution_count": null,
      "outputs": [
        {
          "output_type": "stream",
          "text": [
            "base_model0\n",
            "base_model1\n",
            "base_model2\n",
            "base_model3\n",
            "base_model4\n",
            "base_model5\n",
            "base_model6\n",
            "base_model7\n",
            "base_model8\n",
            "base_model9\n"
          ],
          "name": "stdout"
        }
      ]
    },
    {
      "cell_type": "code",
      "metadata": {
        "id": "eZKmwR_AjSIa"
      },
      "source": [
        "num=0\n",
        "for i, (model_name, model) in zip(range(176, -1,-5), models.items()):\n",
        "    break_point  = i\n",
        "    for layer in model.layers[0:break_point]:\n",
        "        layer.trainable = False\n",
        "    for layer in model.layers[break_point:]:\n",
        "        layer.trainable = True\n",
        "    input_layer = model.input\n",
        "    output_layer = model.output\n",
        "    x = Dense(num_classes, activation  = 'softmax')(output_layer)    \n",
        "    models[model_name] = Model(inputs = input_layer, outputs = x)\n"
      ],
      "execution_count": null,
      "outputs": []
    },
    {
      "cell_type": "code",
      "metadata": {
        "colab": {
          "base_uri": "https://localhost:8080/"
        },
        "id": "LiYDL6oO_ZJg",
        "outputId": "91e32151-8384-491e-a71f-4d93f638223a"
      },
      "source": [
        "for model_name, model in models.items():\n",
        "    count = 0\n",
        "    trained_layers = ['a' if layer.trainable == True else None for layer in model.layers]\n",
        "    print(f'The number of trainable layers in {model_name} is', trained_layers.count('a'), sep=':')"
      ],
      "execution_count": null,
      "outputs": [
        {
          "output_type": "stream",
          "text": [
            "The number of trainable layers in base_model0 is:1\n",
            "The number of trainable layers in base_model1 is:6\n",
            "The number of trainable layers in base_model2 is:11\n",
            "The number of trainable layers in base_model3 is:16\n",
            "The number of trainable layers in base_model4 is:21\n",
            "The number of trainable layers in base_model5 is:26\n",
            "The number of trainable layers in base_model6 is:31\n",
            "The number of trainable layers in base_model7 is:36\n",
            "The number of trainable layers in base_model8 is:41\n",
            "The number of trainable layers in base_model9 is:46\n"
          ],
          "name": "stdout"
        }
      ]
    },
    {
      "cell_type": "code",
      "metadata": {
        "id": "tHznpzHGshsv"
      },
      "source": [
        "# resnet_model.summary()\n",
        "for model_name, model in models.items():\n",
        "    model.compile(optimizer = optimizers.Adam(lr=1e-4), loss = 'categorical_crossentropy', metrics = ['accuracy'])"
      ],
      "execution_count": null,
      "outputs": []
    },
    {
      "cell_type": "code",
      "metadata": {
        "id": "1LigIM9Ckko7",
        "outputId": "6b23146b-a9ed-4091-eba0-6da31ed695b5",
        "colab": {
          "base_uri": "https://localhost:8080/"
        }
      },
      "source": [
        "i=0\n",
        "for model_name, model in models.items():\n",
        "    trainableParams = np.sum([np.prod(v.get_shape()) for v in model.trainable_weights])\n",
        "    nonTrainableParams = np.sum([np.prod(v.get_shape()) for v in model.non_trainable_weights])\n",
        "    totalParams = trainableParams + nonTrainableParams\n",
        "    \n",
        "    print('base_model'+str(i),trainableParams,nonTrainableParams,totalParams)\n",
        "    i+=1\n"
      ],
      "execution_count": null,
      "outputs": [
        {
          "output_type": "stream",
          "text": [
            "base_model0 6147 23587712 23593859\n",
            "base_model1 1060867 22532992 23593859\n",
            "base_model2 3422723 20171136 23593859\n",
            "base_model3 5526531 18067328 23593859\n",
            "base_model4 7888387 15705472 23593859\n",
            "base_model5 8945667 14648192 23593859\n",
            "base_model6 14456323 9137536 23593859\n",
            "base_model7 14982147 8611712 23593859\n",
            "base_model8 15837955 7755904 23593859\n",
            "base_model9 16100867 7492992 23593859\n"
          ],
          "name": "stdout"
        }
      ]
    },
    {
      "cell_type": "markdown",
      "metadata": {
        "id": "Yq4hEpqjbl6K"
      },
      "source": [
        "##### Resnet model with normalization of  image pixels"
      ]
    },
    {
      "cell_type": "code",
      "metadata": {
        "colab": {
          "base_uri": "https://localhost:8080/"
        },
        "id": "ZAivYUjkshyu",
        "outputId": "8b101ece-4f27-4ce6-cbf7-19bd8a648cb1"
      },
      "source": [
        "models['base_model0'].fit(train_ds_scaled,validation_data=val_ds_scaled,epochs = 60, verbose = 1, workers = 3, class_weight = {0:1.13, 1:8.03, 2:1}, callbacks = [reduce_lr])"
      ],
      "execution_count": null,
      "outputs": [
        {
          "output_type": "stream",
          "text": [
            "Epoch 1/60\n",
            "25/25 [==============================] - 21s 709ms/step - loss: 1.7098 - accuracy: 0.4475 - val_loss: 1.1169 - val_accuracy: 0.4800\n",
            "Epoch 2/60\n",
            "25/25 [==============================] - 19s 695ms/step - loss: 1.6058 - accuracy: 0.3800 - val_loss: 1.1005 - val_accuracy: 0.4350\n",
            "Epoch 3/60\n",
            "25/25 [==============================] - 18s 674ms/step - loss: 1.6017 - accuracy: 0.2962 - val_loss: 1.0578 - val_accuracy: 0.4350\n",
            "Epoch 4/60\n",
            "25/25 [==============================] - 18s 660ms/step - loss: 1.6011 - accuracy: 0.4663 - val_loss: 1.0884 - val_accuracy: 0.4350\n",
            "Epoch 5/60\n",
            "25/25 [==============================] - 18s 664ms/step - loss: 1.6034 - accuracy: 0.4800 - val_loss: 1.0884 - val_accuracy: 0.4350\n",
            "Epoch 6/60\n",
            "25/25 [==============================] - 18s 674ms/step - loss: 1.6012 - accuracy: 0.4600 - val_loss: 1.0826 - val_accuracy: 0.4350\n",
            "Epoch 7/60\n",
            "25/25 [==============================] - 18s 675ms/step - loss: 1.6111 - accuracy: 0.4825 - val_loss: 1.1209 - val_accuracy: 0.0850\n",
            "Epoch 8/60\n",
            "25/25 [==============================] - 18s 665ms/step - loss: 1.6066 - accuracy: 0.3700 - val_loss: 1.0892 - val_accuracy: 0.4350\n",
            "Epoch 9/60\n",
            "25/25 [==============================] - 18s 662ms/step - loss: 1.5941 - accuracy: 0.5138 - val_loss: 1.0950 - val_accuracy: 0.4350\n",
            "Epoch 10/60\n",
            "25/25 [==============================] - 18s 664ms/step - loss: 1.5932 - accuracy: 0.5138 - val_loss: 1.0855 - val_accuracy: 0.4350\n",
            "Epoch 11/60\n",
            "25/25 [==============================] - 18s 673ms/step - loss: 1.5934 - accuracy: 0.5138 - val_loss: 1.0751 - val_accuracy: 0.4350\n",
            "Epoch 12/60\n",
            "25/25 [==============================] - 18s 669ms/step - loss: 1.5935 - accuracy: 0.5138 - val_loss: 1.0717 - val_accuracy: 0.4350\n",
            "Epoch 13/60\n",
            "25/25 [==============================] - 18s 671ms/step - loss: 1.5924 - accuracy: 0.5138 - val_loss: 1.0793 - val_accuracy: 0.4350\n",
            "Epoch 14/60\n",
            "25/25 [==============================] - 18s 665ms/step - loss: 1.5920 - accuracy: 0.5138 - val_loss: 1.0793 - val_accuracy: 0.4350\n",
            "Epoch 15/60\n",
            "25/25 [==============================] - 18s 671ms/step - loss: 1.5922 - accuracy: 0.5138 - val_loss: 1.0782 - val_accuracy: 0.4350\n",
            "Epoch 16/60\n",
            "25/25 [==============================] - 18s 668ms/step - loss: 1.5922 - accuracy: 0.5138 - val_loss: 1.0794 - val_accuracy: 0.4350\n",
            "Epoch 17/60\n",
            "25/25 [==============================] - 18s 665ms/step - loss: 1.5921 - accuracy: 0.5138 - val_loss: 1.0793 - val_accuracy: 0.4350\n",
            "Epoch 18/60\n",
            "25/25 [==============================] - 18s 668ms/step - loss: 1.5920 - accuracy: 0.5138 - val_loss: 1.0783 - val_accuracy: 0.4350\n",
            "Epoch 19/60\n",
            "25/25 [==============================] - 18s 671ms/step - loss: 1.5920 - accuracy: 0.5138 - val_loss: 1.0783 - val_accuracy: 0.4350\n",
            "Epoch 20/60\n",
            "25/25 [==============================] - 18s 669ms/step - loss: 1.5920 - accuracy: 0.5138 - val_loss: 1.0783 - val_accuracy: 0.4350\n",
            "Epoch 21/60\n",
            "25/25 [==============================] - 18s 666ms/step - loss: 1.5920 - accuracy: 0.5138 - val_loss: 1.0783 - val_accuracy: 0.4350\n",
            "Epoch 22/60\n",
            "25/25 [==============================] - 18s 670ms/step - loss: 1.5920 - accuracy: 0.5138 - val_loss: 1.0783 - val_accuracy: 0.4350\n",
            "Epoch 23/60\n",
            "25/25 [==============================] - 18s 672ms/step - loss: 1.5920 - accuracy: 0.5138 - val_loss: 1.0783 - val_accuracy: 0.4350\n",
            "Epoch 24/60\n",
            "25/25 [==============================] - 18s 669ms/step - loss: 1.5920 - accuracy: 0.5138 - val_loss: 1.0783 - val_accuracy: 0.4350\n",
            "Epoch 25/60\n",
            "25/25 [==============================] - 18s 670ms/step - loss: 1.5920 - accuracy: 0.5138 - val_loss: 1.0783 - val_accuracy: 0.4350\n",
            "Epoch 26/60\n",
            "25/25 [==============================] - 18s 667ms/step - loss: 1.5920 - accuracy: 0.5138 - val_loss: 1.0783 - val_accuracy: 0.4350\n",
            "Epoch 27/60\n",
            "25/25 [==============================] - 18s 669ms/step - loss: 1.5920 - accuracy: 0.5138 - val_loss: 1.0783 - val_accuracy: 0.4350\n",
            "Epoch 28/60\n",
            "25/25 [==============================] - 18s 670ms/step - loss: 1.5920 - accuracy: 0.5138 - val_loss: 1.0783 - val_accuracy: 0.4350\n",
            "Epoch 29/60\n",
            "25/25 [==============================] - 18s 666ms/step - loss: 1.5920 - accuracy: 0.5138 - val_loss: 1.0783 - val_accuracy: 0.4350\n",
            "Epoch 30/60\n",
            "25/25 [==============================] - 18s 671ms/step - loss: 1.5920 - accuracy: 0.5138 - val_loss: 1.0783 - val_accuracy: 0.4350\n",
            "Epoch 31/60\n",
            "25/25 [==============================] - 18s 669ms/step - loss: 1.5920 - accuracy: 0.5138 - val_loss: 1.0783 - val_accuracy: 0.4350\n",
            "Epoch 32/60\n",
            "25/25 [==============================] - 18s 664ms/step - loss: 1.5920 - accuracy: 0.5138 - val_loss: 1.0783 - val_accuracy: 0.4350\n",
            "Epoch 33/60\n",
            "25/25 [==============================] - 18s 665ms/step - loss: 1.5920 - accuracy: 0.5138 - val_loss: 1.0783 - val_accuracy: 0.4350\n",
            "Epoch 34/60\n",
            "25/25 [==============================] - 18s 669ms/step - loss: 1.5920 - accuracy: 0.5138 - val_loss: 1.0783 - val_accuracy: 0.4350\n",
            "Epoch 35/60\n",
            "25/25 [==============================] - 18s 671ms/step - loss: 1.5920 - accuracy: 0.5138 - val_loss: 1.0783 - val_accuracy: 0.4350\n",
            "Epoch 36/60\n",
            "25/25 [==============================] - 18s 670ms/step - loss: 1.5920 - accuracy: 0.5138 - val_loss: 1.0783 - val_accuracy: 0.4350\n",
            "Epoch 37/60\n",
            "25/25 [==============================] - 18s 668ms/step - loss: 1.5920 - accuracy: 0.5138 - val_loss: 1.0783 - val_accuracy: 0.4350\n",
            "Epoch 38/60\n",
            "25/25 [==============================] - 18s 667ms/step - loss: 1.5920 - accuracy: 0.5138 - val_loss: 1.0783 - val_accuracy: 0.4350\n",
            "Epoch 39/60\n",
            "25/25 [==============================] - 18s 666ms/step - loss: 1.5920 - accuracy: 0.5138 - val_loss: 1.0783 - val_accuracy: 0.4350\n",
            "Epoch 40/60\n",
            "25/25 [==============================] - 18s 662ms/step - loss: 1.5920 - accuracy: 0.5138 - val_loss: 1.0783 - val_accuracy: 0.4350\n",
            "Epoch 41/60\n",
            "25/25 [==============================] - 18s 670ms/step - loss: 1.5920 - accuracy: 0.5138 - val_loss: 1.0783 - val_accuracy: 0.4350\n",
            "Epoch 42/60\n",
            "25/25 [==============================] - 18s 666ms/step - loss: 1.5920 - accuracy: 0.5138 - val_loss: 1.0783 - val_accuracy: 0.4350\n",
            "Epoch 43/60\n",
            "25/25 [==============================] - 18s 672ms/step - loss: 1.5920 - accuracy: 0.5138 - val_loss: 1.0783 - val_accuracy: 0.4350\n",
            "Epoch 44/60\n",
            "25/25 [==============================] - 18s 668ms/step - loss: 1.5920 - accuracy: 0.5138 - val_loss: 1.0783 - val_accuracy: 0.4350\n",
            "Epoch 45/60\n",
            "25/25 [==============================] - 18s 666ms/step - loss: 1.5920 - accuracy: 0.5138 - val_loss: 1.0783 - val_accuracy: 0.4350\n",
            "Epoch 46/60\n",
            "25/25 [==============================] - 18s 668ms/step - loss: 1.5920 - accuracy: 0.5138 - val_loss: 1.0783 - val_accuracy: 0.4350\n",
            "Epoch 47/60\n",
            "25/25 [==============================] - 18s 670ms/step - loss: 1.5920 - accuracy: 0.5138 - val_loss: 1.0783 - val_accuracy: 0.4350\n",
            "Epoch 48/60\n",
            "25/25 [==============================] - 18s 667ms/step - loss: 1.5920 - accuracy: 0.5138 - val_loss: 1.0783 - val_accuracy: 0.4350\n",
            "Epoch 49/60\n",
            "25/25 [==============================] - 18s 666ms/step - loss: 1.5920 - accuracy: 0.5138 - val_loss: 1.0783 - val_accuracy: 0.4350\n",
            "Epoch 50/60\n",
            "25/25 [==============================] - 18s 670ms/step - loss: 1.5920 - accuracy: 0.5138 - val_loss: 1.0783 - val_accuracy: 0.4350\n",
            "Epoch 51/60\n",
            "25/25 [==============================] - 18s 670ms/step - loss: 1.5920 - accuracy: 0.5138 - val_loss: 1.0783 - val_accuracy: 0.4350\n",
            "Epoch 52/60\n",
            "25/25 [==============================] - 18s 668ms/step - loss: 1.5920 - accuracy: 0.5138 - val_loss: 1.0783 - val_accuracy: 0.4350\n",
            "Epoch 53/60\n",
            "25/25 [==============================] - 18s 672ms/step - loss: 1.5920 - accuracy: 0.5138 - val_loss: 1.0783 - val_accuracy: 0.4350\n",
            "Epoch 54/60\n",
            "25/25 [==============================] - 18s 672ms/step - loss: 1.5920 - accuracy: 0.5138 - val_loss: 1.0783 - val_accuracy: 0.4350\n",
            "Epoch 55/60\n",
            "25/25 [==============================] - 18s 661ms/step - loss: 1.5920 - accuracy: 0.5138 - val_loss: 1.0783 - val_accuracy: 0.4350\n",
            "Epoch 56/60\n",
            "25/25 [==============================] - 18s 674ms/step - loss: 1.5920 - accuracy: 0.5138 - val_loss: 1.0783 - val_accuracy: 0.4350\n",
            "Epoch 57/60\n",
            "25/25 [==============================] - 18s 668ms/step - loss: 1.5920 - accuracy: 0.5138 - val_loss: 1.0783 - val_accuracy: 0.4350\n",
            "Epoch 58/60\n",
            "25/25 [==============================] - 18s 664ms/step - loss: 1.5920 - accuracy: 0.5138 - val_loss: 1.0783 - val_accuracy: 0.4350\n",
            "Epoch 59/60\n",
            "25/25 [==============================] - 18s 664ms/step - loss: 1.5920 - accuracy: 0.5138 - val_loss: 1.0783 - val_accuracy: 0.4350\n",
            "Epoch 60/60\n",
            "25/25 [==============================] - 18s 676ms/step - loss: 1.5920 - accuracy: 0.5138 - val_loss: 1.0783 - val_accuracy: 0.4350\n"
          ],
          "name": "stdout"
        },
        {
          "output_type": "execute_result",
          "data": {
            "text/plain": [
              "<keras.callbacks.History at 0x7f361dfbe250>"
            ]
          },
          "metadata": {},
          "execution_count": 36
        }
      ]
    },
    {
      "cell_type": "code",
      "metadata": {
        "colab": {
          "base_uri": "https://localhost:8080/"
        },
        "id": "j38vXSHyNBfn",
        "outputId": "5d6635a2-6a4b-4a8e-e5ee-e2f66f62f61d"
      },
      "source": [
        "models['base_model1'].fit(train_ds_scaled,validation_data=val_ds_scaled,epochs = 30, verbose = 1, workers = 3, class_weight = {0:1.13, 1:8.03, 2:1}, callbacks = [reduce_lr,early_stop])"
      ],
      "execution_count": null,
      "outputs": [
        {
          "output_type": "stream",
          "text": [
            "Epoch 1/30\n",
            "25/25 [==============================] - 20s 634ms/step - loss: 1.6482 - accuracy: 0.4187 - val_loss: 1.4591 - val_accuracy: 0.4800\n",
            "Epoch 2/30\n",
            "25/25 [==============================] - 17s 618ms/step - loss: 1.5923 - accuracy: 0.4825 - val_loss: 1.3490 - val_accuracy: 0.4800\n",
            "Epoch 3/30\n",
            "25/25 [==============================] - 17s 621ms/step - loss: 1.5698 - accuracy: 0.4263 - val_loss: 1.3874 - val_accuracy: 0.4800\n",
            "Epoch 4/30\n",
            "25/25 [==============================] - 17s 623ms/step - loss: 1.5536 - accuracy: 0.5938 - val_loss: 1.3281 - val_accuracy: 0.4800\n",
            "Epoch 5/30\n",
            "25/25 [==============================] - 17s 624ms/step - loss: 1.5408 - accuracy: 0.5213 - val_loss: 1.4799 - val_accuracy: 0.0850\n",
            "Epoch 6/30\n",
            "25/25 [==============================] - 17s 629ms/step - loss: 1.5201 - accuracy: 0.5412 - val_loss: 1.4006 - val_accuracy: 0.0850\n",
            "Epoch 7/30\n",
            "25/25 [==============================] - 17s 631ms/step - loss: 1.5163 - accuracy: 0.4137 - val_loss: 1.3643 - val_accuracy: 0.0850\n",
            "Epoch 8/30\n",
            "25/25 [==============================] - 17s 644ms/step - loss: 1.4790 - accuracy: 0.6162 - val_loss: 1.2488 - val_accuracy: 0.0850\n",
            "Epoch 9/30\n",
            "25/25 [==============================] - 17s 633ms/step - loss: 1.4800 - accuracy: 0.5975 - val_loss: 1.7378 - val_accuracy: 0.0850\n",
            "Epoch 10/30\n",
            "25/25 [==============================] - 17s 632ms/step - loss: 1.4496 - accuracy: 0.5525 - val_loss: 1.5860 - val_accuracy: 0.0850\n",
            "Epoch 11/30\n",
            "25/25 [==============================] - 17s 633ms/step - loss: 1.4112 - accuracy: 0.7525 - val_loss: 1.5355 - val_accuracy: 0.0850\n",
            "Epoch 12/30\n",
            "25/25 [==============================] - 17s 631ms/step - loss: 1.4217 - accuracy: 0.6137 - val_loss: 1.2370 - val_accuracy: 0.0850\n",
            "Epoch 13/30\n",
            "25/25 [==============================] - 17s 632ms/step - loss: 1.3834 - accuracy: 0.6600 - val_loss: 1.4592 - val_accuracy: 0.0850\n",
            "Epoch 14/30\n",
            "25/25 [==============================] - 17s 633ms/step - loss: 1.3483 - accuracy: 0.6500 - val_loss: 1.3935 - val_accuracy: 0.0850\n",
            "Epoch 15/30\n",
            "25/25 [==============================] - 17s 634ms/step - loss: 1.3069 - accuracy: 0.6125 - val_loss: 1.2651 - val_accuracy: 0.4350\n",
            "Epoch 16/30\n",
            "25/25 [==============================] - 17s 632ms/step - loss: 1.3245 - accuracy: 0.7075 - val_loss: 1.0956 - val_accuracy: 0.4400\n",
            "Epoch 17/30\n",
            "25/25 [==============================] - 17s 632ms/step - loss: 1.2939 - accuracy: 0.8213 - val_loss: 1.1201 - val_accuracy: 0.1000\n",
            "Epoch 18/30\n",
            "25/25 [==============================] - 17s 637ms/step - loss: 1.2761 - accuracy: 0.6363 - val_loss: 0.9317 - val_accuracy: 0.4350\n",
            "Epoch 19/30\n",
            "25/25 [==============================] - 17s 636ms/step - loss: 1.2559 - accuracy: 0.7163 - val_loss: 1.5777 - val_accuracy: 0.4350\n",
            "Epoch 20/30\n",
            "25/25 [==============================] - 17s 641ms/step - loss: 1.2468 - accuracy: 0.8050 - val_loss: 1.4509 - val_accuracy: 0.3200\n",
            "Epoch 21/30\n",
            "25/25 [==============================] - 17s 637ms/step - loss: 1.2441 - accuracy: 0.6550 - val_loss: 1.0541 - val_accuracy: 0.4350\n",
            "Epoch 22/30\n",
            "25/25 [==============================] - 17s 641ms/step - loss: 1.2493 - accuracy: 0.6950 - val_loss: 1.0951 - val_accuracy: 0.4350\n",
            "Epoch 23/30\n",
            "25/25 [==============================] - 17s 643ms/step - loss: 1.2145 - accuracy: 0.7312 - val_loss: 1.2093 - val_accuracy: 0.1150\n",
            "Epoch 24/30\n",
            "25/25 [==============================] - 17s 645ms/step - loss: 1.2098 - accuracy: 0.4963 - val_loss: 1.0174 - val_accuracy: 0.2700\n",
            "Epoch 25/30\n",
            "25/25 [==============================] - 17s 645ms/step - loss: 1.1761 - accuracy: 0.8112 - val_loss: 1.0173 - val_accuracy: 0.4600\n",
            "Epoch 26/30\n",
            "25/25 [==============================] - 17s 646ms/step - loss: 1.1609 - accuracy: 0.8300 - val_loss: 1.0033 - val_accuracy: 0.3650\n",
            "Epoch 27/30\n",
            "25/25 [==============================] - 17s 645ms/step - loss: 1.1553 - accuracy: 0.8475 - val_loss: 0.9310 - val_accuracy: 0.5150\n",
            "Epoch 28/30\n",
            "25/25 [==============================] - 17s 647ms/step - loss: 1.1498 - accuracy: 0.8300 - val_loss: 0.9266 - val_accuracy: 0.4900\n",
            "Epoch 29/30\n",
            "25/25 [==============================] - 18s 648ms/step - loss: 1.1402 - accuracy: 0.8363 - val_loss: 0.8768 - val_accuracy: 0.6400\n",
            "Epoch 30/30\n",
            "25/25 [==============================] - 17s 646ms/step - loss: 1.1407 - accuracy: 0.8487 - val_loss: 0.8106 - val_accuracy: 0.8150\n"
          ],
          "name": "stdout"
        },
        {
          "output_type": "execute_result",
          "data": {
            "text/plain": [
              "<keras.callbacks.History at 0x7f362efe05d0>"
            ]
          },
          "metadata": {},
          "execution_count": 17
        }
      ]
    },
    {
      "cell_type": "code",
      "metadata": {
        "id": "hG-qeLtlPRfT",
        "colab": {
          "base_uri": "https://localhost:8080/"
        },
        "outputId": "ab76890e-5758-4b11-e9ba-6d617a5061a9"
      },
      "source": [
        "models['base_model1'].fit(train_ds_scaled,validation_data=val_ds_scaled,epochs = 30, verbose = 1, workers = 3, class_weight = {0:1.13, 1:8.03, 2:1}, callbacks = [reduce_lr,early_stop])"
      ],
      "execution_count": null,
      "outputs": [
        {
          "output_type": "stream",
          "text": [
            "Epoch 1/30\n",
            "25/25 [==============================] - 17s 635ms/step - loss: 1.1526 - accuracy: 0.8400 - val_loss: 0.7824 - val_accuracy: 0.8400\n",
            "Epoch 2/30\n",
            "25/25 [==============================] - 17s 635ms/step - loss: 1.1334 - accuracy: 0.8325 - val_loss: 0.9028 - val_accuracy: 0.4550\n",
            "Epoch 3/30\n",
            "25/25 [==============================] - 17s 639ms/step - loss: 1.1389 - accuracy: 0.8062 - val_loss: 0.7661 - val_accuracy: 0.7650\n",
            "Epoch 4/30\n",
            "25/25 [==============================] - 17s 637ms/step - loss: 1.1299 - accuracy: 0.8325 - val_loss: 0.8387 - val_accuracy: 0.5500\n",
            "Epoch 5/30\n",
            "25/25 [==============================] - 17s 640ms/step - loss: 1.1378 - accuracy: 0.8450 - val_loss: 0.8125 - val_accuracy: 0.7550\n",
            "Epoch 6/30\n",
            "25/25 [==============================] - 17s 639ms/step - loss: 1.1274 - accuracy: 0.8000 - val_loss: 0.7921 - val_accuracy: 0.7500\n",
            "Epoch 7/30\n",
            "25/25 [==============================] - 17s 643ms/step - loss: 1.1329 - accuracy: 0.8438 - val_loss: 0.7261 - val_accuracy: 0.7850\n",
            "Epoch 8/30\n",
            "25/25 [==============================] - 17s 641ms/step - loss: 1.1232 - accuracy: 0.8413 - val_loss: 0.7652 - val_accuracy: 0.7550\n",
            "Epoch 9/30\n",
            "25/25 [==============================] - 17s 642ms/step - loss: 1.1261 - accuracy: 0.8425 - val_loss: 0.7686 - val_accuracy: 0.5750\n",
            "Epoch 10/30\n",
            "25/25 [==============================] - 17s 644ms/step - loss: 1.1147 - accuracy: 0.7437 - val_loss: 0.7313 - val_accuracy: 0.7550\n",
            "Epoch 11/30\n",
            "25/25 [==============================] - 17s 642ms/step - loss: 1.1212 - accuracy: 0.8163 - val_loss: 0.6824 - val_accuracy: 0.8200\n",
            "Epoch 12/30\n",
            "25/25 [==============================] - 17s 637ms/step - loss: 1.1184 - accuracy: 0.8263 - val_loss: 0.6980 - val_accuracy: 0.8250\n",
            "Epoch 13/30\n",
            "25/25 [==============================] - 17s 641ms/step - loss: 1.1160 - accuracy: 0.8400 - val_loss: 0.7294 - val_accuracy: 0.6400\n",
            "Epoch 14/30\n",
            "25/25 [==============================] - 17s 640ms/step - loss: 1.1096 - accuracy: 0.8238 - val_loss: 0.7065 - val_accuracy: 0.8200\n",
            "Epoch 15/30\n",
            "25/25 [==============================] - 17s 643ms/step - loss: 1.1141 - accuracy: 0.8300 - val_loss: 0.6976 - val_accuracy: 0.7950\n",
            "Epoch 16/30\n",
            "25/25 [==============================] - 17s 642ms/step - loss: 1.1203 - accuracy: 0.8425 - val_loss: 0.7411 - val_accuracy: 0.7450\n",
            "Epoch 17/30\n",
            "25/25 [==============================] - 17s 646ms/step - loss: 1.1056 - accuracy: 0.8375 - val_loss: 0.7208 - val_accuracy: 0.7700\n",
            "Epoch 18/30\n",
            "25/25 [==============================] - 17s 645ms/step - loss: 1.1078 - accuracy: 0.8475 - val_loss: 0.6972 - val_accuracy: 0.8250\n",
            "Epoch 19/30\n",
            "25/25 [==============================] - 18s 659ms/step - loss: 1.0996 - accuracy: 0.8475 - val_loss: 0.6857 - val_accuracy: 0.8550\n",
            "Epoch 20/30\n",
            "25/25 [==============================] - 19s 695ms/step - loss: 1.1030 - accuracy: 0.8438 - val_loss: 0.6770 - val_accuracy: 0.8400\n",
            "Epoch 21/30\n",
            "25/25 [==============================] - 19s 703ms/step - loss: 1.1032 - accuracy: 0.8450 - val_loss: 0.6717 - val_accuracy: 0.8450\n",
            "Epoch 22/30\n",
            "25/25 [==============================] - 18s 679ms/step - loss: 1.1020 - accuracy: 0.8512 - val_loss: 0.6667 - val_accuracy: 0.8400\n",
            "Epoch 23/30\n",
            "25/25 [==============================] - 18s 676ms/step - loss: 1.1021 - accuracy: 0.8500 - val_loss: 0.6683 - val_accuracy: 0.8450\n",
            "Epoch 24/30\n",
            "25/25 [==============================] - 18s 676ms/step - loss: 1.1002 - accuracy: 0.8425 - val_loss: 0.6682 - val_accuracy: 0.8400\n",
            "Epoch 25/30\n",
            "25/25 [==============================] - 19s 689ms/step - loss: 1.1017 - accuracy: 0.8413 - val_loss: 0.6705 - val_accuracy: 0.8450\n",
            "Epoch 26/30\n",
            "25/25 [==============================] - 19s 695ms/step - loss: 1.1051 - accuracy: 0.8438 - val_loss: 0.6711 - val_accuracy: 0.8400\n",
            "Epoch 27/30\n",
            "25/25 [==============================] - 18s 682ms/step - loss: 1.1009 - accuracy: 0.8400 - val_loss: 0.6724 - val_accuracy: 0.8450\n",
            "Epoch 28/30\n",
            "25/25 [==============================] - 18s 680ms/step - loss: 1.1016 - accuracy: 0.8462 - val_loss: 0.6725 - val_accuracy: 0.8500\n",
            "Epoch 29/30\n",
            "25/25 [==============================] - 18s 679ms/step - loss: 1.1047 - accuracy: 0.8462 - val_loss: 0.6735 - val_accuracy: 0.8550\n",
            "Epoch 30/30\n",
            "25/25 [==============================] - 18s 684ms/step - loss: 1.0973 - accuracy: 0.8475 - val_loss: 0.6730 - val_accuracy: 0.8550\n"
          ],
          "name": "stdout"
        },
        {
          "output_type": "execute_result",
          "data": {
            "text/plain": [
              "<keras.callbacks.History at 0x7f3825c14690>"
            ]
          },
          "metadata": {},
          "execution_count": 18
        }
      ]
    },
    {
      "cell_type": "code",
      "metadata": {
        "colab": {
          "base_uri": "https://localhost:8080/"
        },
        "id": "HbbrEeUhN4-u",
        "outputId": "e686d6b4-48ca-454e-ba02-52c256e5de6f"
      },
      "source": [
        "models['base_model2'].fit(train_ds_scaled,validation_data=val_ds_scaled,epochs = 60, verbose = 1, workers = 3, class_weight = {0:1.13, 1:8.03, 2:1}, callbacks = [reduce_lr])"
      ],
      "execution_count": null,
      "outputs": [
        {
          "output_type": "stream",
          "text": [
            "Epoch 1/60\n",
            "25/25 [==============================] - 20s 734ms/step - loss: 1.5441 - accuracy: 0.8238 - val_loss: 1.1995 - val_accuracy: 0.4800\n",
            "Epoch 2/60\n",
            "25/25 [==============================] - 19s 709ms/step - loss: 1.5365 - accuracy: 0.8050 - val_loss: 1.1630 - val_accuracy: 0.4800\n",
            "Epoch 3/60\n",
            "25/25 [==============================] - 18s 684ms/step - loss: 1.5335 - accuracy: 0.8150 - val_loss: 1.1466 - val_accuracy: 0.4800\n",
            "Epoch 4/60\n",
            "25/25 [==============================] - 18s 687ms/step - loss: 1.5300 - accuracy: 0.8037 - val_loss: 1.1329 - val_accuracy: 0.4800\n",
            "Epoch 5/60\n",
            "25/25 [==============================] - 19s 699ms/step - loss: 1.5279 - accuracy: 0.8213 - val_loss: 1.1160 - val_accuracy: 0.4800\n",
            "Epoch 6/60\n",
            "25/25 [==============================] - 19s 708ms/step - loss: 1.5249 - accuracy: 0.8325 - val_loss: 1.0976 - val_accuracy: 0.4800\n",
            "Epoch 7/60\n",
            "25/25 [==============================] - 19s 700ms/step - loss: 1.5237 - accuracy: 0.8213 - val_loss: 1.0800 - val_accuracy: 0.4800\n",
            "Epoch 8/60\n",
            "25/25 [==============================] - 19s 692ms/step - loss: 1.5223 - accuracy: 0.8363 - val_loss: 1.0670 - val_accuracy: 0.4800\n",
            "Epoch 9/60\n",
            "25/25 [==============================] - 19s 698ms/step - loss: 1.5199 - accuracy: 0.8225 - val_loss: 1.0583 - val_accuracy: 0.4800\n",
            "Epoch 10/60\n",
            "25/25 [==============================] - 19s 700ms/step - loss: 1.5192 - accuracy: 0.8188 - val_loss: 1.0510 - val_accuracy: 0.4800\n",
            "Epoch 11/60\n",
            "25/25 [==============================] - 19s 701ms/step - loss: 1.5174 - accuracy: 0.8350 - val_loss: 1.0457 - val_accuracy: 0.4800\n",
            "Epoch 12/60\n",
            "25/25 [==============================] - 19s 699ms/step - loss: 1.5150 - accuracy: 0.8338 - val_loss: 1.0390 - val_accuracy: 0.4800\n",
            "Epoch 13/60\n",
            "25/25 [==============================] - 19s 695ms/step - loss: 1.5133 - accuracy: 0.8375 - val_loss: 1.0317 - val_accuracy: 0.4800\n",
            "Epoch 14/60\n",
            "25/25 [==============================] - 19s 698ms/step - loss: 1.5120 - accuracy: 0.8338 - val_loss: 1.0264 - val_accuracy: 0.4800\n",
            "Epoch 15/60\n",
            "25/25 [==============================] - 19s 703ms/step - loss: 1.5120 - accuracy: 0.8363 - val_loss: 1.0185 - val_accuracy: 0.4800\n",
            "Epoch 16/60\n",
            "25/25 [==============================] - 19s 696ms/step - loss: 1.5089 - accuracy: 0.8363 - val_loss: 1.0125 - val_accuracy: 0.4800\n",
            "Epoch 17/60\n",
            "25/25 [==============================] - 19s 699ms/step - loss: 1.5078 - accuracy: 0.8325 - val_loss: 1.0109 - val_accuracy: 0.4800\n",
            "Epoch 18/60\n",
            "25/25 [==============================] - 19s 699ms/step - loss: 1.5064 - accuracy: 0.8388 - val_loss: 1.0089 - val_accuracy: 0.4800\n",
            "Epoch 19/60\n",
            "25/25 [==============================] - 19s 695ms/step - loss: 1.5043 - accuracy: 0.8288 - val_loss: 1.0068 - val_accuracy: 0.4800\n",
            "Epoch 20/60\n",
            "25/25 [==============================] - 19s 695ms/step - loss: 1.5016 - accuracy: 0.8438 - val_loss: 1.0059 - val_accuracy: 0.6100\n",
            "Epoch 21/60\n",
            "25/25 [==============================] - 19s 699ms/step - loss: 1.5009 - accuracy: 0.8450 - val_loss: 1.0059 - val_accuracy: 0.7550\n",
            "Epoch 22/60\n",
            "25/25 [==============================] - 19s 702ms/step - loss: 1.4988 - accuracy: 0.8438 - val_loss: 1.0045 - val_accuracy: 0.8000\n",
            "Epoch 23/60\n",
            "25/25 [==============================] - 19s 699ms/step - loss: 1.4973 - accuracy: 0.8425 - val_loss: 1.0095 - val_accuracy: 0.8150\n",
            "Epoch 24/60\n",
            "25/25 [==============================] - 19s 700ms/step - loss: 1.4964 - accuracy: 0.8438 - val_loss: 1.0072 - val_accuracy: 0.8250\n",
            "Epoch 25/60\n",
            "25/25 [==============================] - 19s 700ms/step - loss: 1.4932 - accuracy: 0.8350 - val_loss: 1.0027 - val_accuracy: 0.8250\n",
            "Epoch 26/60\n",
            "25/25 [==============================] - 19s 702ms/step - loss: 1.4903 - accuracy: 0.8375 - val_loss: 0.9985 - val_accuracy: 0.8200\n",
            "Epoch 27/60\n",
            "25/25 [==============================] - 19s 705ms/step - loss: 1.4890 - accuracy: 0.8325 - val_loss: 0.9966 - val_accuracy: 0.8150\n",
            "Epoch 28/60\n",
            "25/25 [==============================] - 19s 701ms/step - loss: 1.4871 - accuracy: 0.8425 - val_loss: 0.9977 - val_accuracy: 0.8050\n",
            "Epoch 29/60\n",
            "25/25 [==============================] - 19s 704ms/step - loss: 1.4845 - accuracy: 0.8325 - val_loss: 1.0011 - val_accuracy: 0.8050\n",
            "Epoch 30/60\n",
            "25/25 [==============================] - 19s 702ms/step - loss: 1.4832 - accuracy: 0.8388 - val_loss: 0.9959 - val_accuracy: 0.7950\n",
            "Epoch 31/60\n",
            "25/25 [==============================] - 19s 702ms/step - loss: 1.4800 - accuracy: 0.8388 - val_loss: 0.9909 - val_accuracy: 0.8000\n",
            "Epoch 32/60\n",
            "25/25 [==============================] - 19s 702ms/step - loss: 1.4781 - accuracy: 0.8400 - val_loss: 0.9929 - val_accuracy: 0.8050\n",
            "Epoch 33/60\n",
            "25/25 [==============================] - 19s 700ms/step - loss: 1.4757 - accuracy: 0.8325 - val_loss: 0.9893 - val_accuracy: 0.8000\n",
            "Epoch 34/60\n",
            "25/25 [==============================] - 19s 698ms/step - loss: 1.4722 - accuracy: 0.8375 - val_loss: 0.9903 - val_accuracy: 0.8000\n",
            "Epoch 35/60\n",
            "25/25 [==============================] - 19s 703ms/step - loss: 1.4719 - accuracy: 0.8425 - val_loss: 0.9854 - val_accuracy: 0.8000\n",
            "Epoch 36/60\n",
            "25/25 [==============================] - 19s 705ms/step - loss: 1.4675 - accuracy: 0.8375 - val_loss: 0.9874 - val_accuracy: 0.8050\n",
            "Epoch 37/60\n",
            "25/25 [==============================] - 19s 702ms/step - loss: 1.4639 - accuracy: 0.8425 - val_loss: 0.9835 - val_accuracy: 0.8000\n",
            "Epoch 38/60\n",
            "25/25 [==============================] - 19s 703ms/step - loss: 1.4636 - accuracy: 0.8400 - val_loss: 0.9813 - val_accuracy: 0.8050\n",
            "Epoch 39/60\n",
            "25/25 [==============================] - 19s 702ms/step - loss: 1.4611 - accuracy: 0.8375 - val_loss: 0.9778 - val_accuracy: 0.8000\n",
            "Epoch 40/60\n",
            "25/25 [==============================] - 19s 700ms/step - loss: 1.4568 - accuracy: 0.8375 - val_loss: 0.9817 - val_accuracy: 0.8000\n",
            "Epoch 41/60\n",
            "25/25 [==============================] - 19s 702ms/step - loss: 1.4564 - accuracy: 0.8438 - val_loss: 0.9729 - val_accuracy: 0.8000\n",
            "Epoch 42/60\n",
            "25/25 [==============================] - 19s 699ms/step - loss: 1.4523 - accuracy: 0.8388 - val_loss: 0.9740 - val_accuracy: 0.8000\n",
            "Epoch 43/60\n",
            "25/25 [==============================] - 19s 702ms/step - loss: 1.4484 - accuracy: 0.8313 - val_loss: 0.9701 - val_accuracy: 0.8000\n",
            "Epoch 44/60\n",
            "25/25 [==============================] - 19s 706ms/step - loss: 1.4495 - accuracy: 0.8388 - val_loss: 0.9717 - val_accuracy: 0.8000\n",
            "Epoch 45/60\n",
            "25/25 [==============================] - 19s 702ms/step - loss: 1.4447 - accuracy: 0.8413 - val_loss: 0.9631 - val_accuracy: 0.8000\n",
            "Epoch 46/60\n",
            "25/25 [==============================] - 19s 701ms/step - loss: 1.4408 - accuracy: 0.8388 - val_loss: 0.9699 - val_accuracy: 0.8000\n",
            "Epoch 47/60\n",
            "25/25 [==============================] - 19s 702ms/step - loss: 1.4380 - accuracy: 0.8413 - val_loss: 0.9661 - val_accuracy: 0.8050\n",
            "Epoch 48/60\n",
            "25/25 [==============================] - 19s 703ms/step - loss: 1.4346 - accuracy: 0.8413 - val_loss: 0.9647 - val_accuracy: 0.8000\n",
            "Epoch 49/60\n",
            "25/25 [==============================] - 19s 703ms/step - loss: 1.4300 - accuracy: 0.8425 - val_loss: 0.9612 - val_accuracy: 0.8000\n",
            "Epoch 50/60\n",
            "25/25 [==============================] - 19s 701ms/step - loss: 1.4268 - accuracy: 0.8438 - val_loss: 0.9570 - val_accuracy: 0.8000\n",
            "Epoch 51/60\n",
            "25/25 [==============================] - 19s 703ms/step - loss: 1.4221 - accuracy: 0.8425 - val_loss: 0.9552 - val_accuracy: 0.8050\n",
            "Epoch 52/60\n",
            "25/25 [==============================] - 19s 701ms/step - loss: 1.4189 - accuracy: 0.8388 - val_loss: 0.9540 - val_accuracy: 0.8000\n",
            "Epoch 53/60\n",
            "25/25 [==============================] - 19s 704ms/step - loss: 1.4178 - accuracy: 0.8363 - val_loss: 0.9483 - val_accuracy: 0.8000\n",
            "Epoch 54/60\n",
            "25/25 [==============================] - 19s 704ms/step - loss: 1.4128 - accuracy: 0.8450 - val_loss: 0.9482 - val_accuracy: 0.8000\n",
            "Epoch 55/60\n",
            "25/25 [==============================] - 19s 702ms/step - loss: 1.4082 - accuracy: 0.8388 - val_loss: 0.9462 - val_accuracy: 0.8050\n",
            "Epoch 56/60\n",
            "25/25 [==============================] - 19s 703ms/step - loss: 1.4064 - accuracy: 0.8450 - val_loss: 0.9455 - val_accuracy: 0.8050\n",
            "Epoch 57/60\n",
            "25/25 [==============================] - 19s 706ms/step - loss: 1.4050 - accuracy: 0.8425 - val_loss: 0.9386 - val_accuracy: 0.8000\n",
            "Epoch 58/60\n",
            "25/25 [==============================] - 19s 702ms/step - loss: 1.3995 - accuracy: 0.8525 - val_loss: 0.9409 - val_accuracy: 0.8000\n",
            "Epoch 59/60\n",
            "25/25 [==============================] - 19s 701ms/step - loss: 1.3963 - accuracy: 0.8450 - val_loss: 0.9346 - val_accuracy: 0.8050\n",
            "Epoch 60/60\n",
            "25/25 [==============================] - 19s 703ms/step - loss: 1.3908 - accuracy: 0.8425 - val_loss: 0.9328 - val_accuracy: 0.8000\n"
          ],
          "name": "stdout"
        },
        {
          "output_type": "execute_result",
          "data": {
            "text/plain": [
              "<keras.callbacks.History at 0x7f38258a8090>"
            ]
          },
          "metadata": {},
          "execution_count": 21
        }
      ]
    },
    {
      "cell_type": "code",
      "metadata": {
        "colab": {
          "base_uri": "https://localhost:8080/"
        },
        "id": "Tpd21vA7Yyj7",
        "outputId": "ca966d18-a33a-4a07-bc84-bc30d067cd3a"
      },
      "source": [
        "models['base_model3'].fit(train_ds_scaled,validation_data=val_ds_scaled,epochs = 60, verbose = 1, workers = 3, class_weight = {0:1.13, 1:8.03, 2:1}, callbacks = [reduce_lr])"
      ],
      "execution_count": null,
      "outputs": [
        {
          "output_type": "stream",
          "text": [
            "Epoch 1/60\n",
            "25/25 [==============================] - 23s 751ms/step - loss: 1.6418 - accuracy: 0.4050 - val_loss: 1.8373 - val_accuracy: 0.0850\n",
            "Epoch 2/60\n",
            "25/25 [==============================] - 20s 747ms/step - loss: 1.2255 - accuracy: 0.5950 - val_loss: 1.3619 - val_accuracy: 0.4800\n",
            "Epoch 3/60\n",
            "25/25 [==============================] - 19s 729ms/step - loss: 1.0664 - accuracy: 0.7287 - val_loss: 1.9477 - val_accuracy: 0.4800\n",
            "Epoch 4/60\n",
            "25/25 [==============================] - 19s 717ms/step - loss: 0.9407 - accuracy: 0.7513 - val_loss: 0.8697 - val_accuracy: 0.4950\n",
            "Epoch 5/60\n",
            "25/25 [==============================] - 19s 721ms/step - loss: 0.8422 - accuracy: 0.7487 - val_loss: 1.8770 - val_accuracy: 0.4350\n",
            "Epoch 6/60\n",
            "25/25 [==============================] - 19s 729ms/step - loss: 0.7796 - accuracy: 0.8200 - val_loss: 1.5635 - val_accuracy: 0.4350\n",
            "Epoch 7/60\n",
            "25/25 [==============================] - 19s 724ms/step - loss: 0.7169 - accuracy: 0.8350 - val_loss: 0.9349 - val_accuracy: 0.4350\n",
            "Epoch 8/60\n",
            "25/25 [==============================] - 19s 723ms/step - loss: 0.6925 - accuracy: 0.8175 - val_loss: 1.1551 - val_accuracy: 0.4800\n",
            "Epoch 9/60\n",
            "25/25 [==============================] - 19s 725ms/step - loss: 0.5943 - accuracy: 0.8675 - val_loss: 1.8307 - val_accuracy: 0.4350\n",
            "Epoch 10/60\n",
            "25/25 [==============================] - 20s 729ms/step - loss: 0.5994 - accuracy: 0.8813 - val_loss: 1.3930 - val_accuracy: 0.4350\n",
            "Epoch 11/60\n",
            "25/25 [==============================] - 19s 725ms/step - loss: 0.5852 - accuracy: 0.8575 - val_loss: 1.2539 - val_accuracy: 0.4350\n",
            "Epoch 12/60\n",
            "25/25 [==============================] - 19s 723ms/step - loss: 0.5748 - accuracy: 0.8725 - val_loss: 1.3237 - val_accuracy: 0.4350\n",
            "Epoch 13/60\n",
            "25/25 [==============================] - 19s 728ms/step - loss: 0.5656 - accuracy: 0.8700 - val_loss: 1.0363 - val_accuracy: 0.4350\n",
            "Epoch 14/60\n",
            "25/25 [==============================] - 19s 724ms/step - loss: 0.5725 - accuracy: 0.8587 - val_loss: 1.2698 - val_accuracy: 0.4350\n",
            "Epoch 15/60\n",
            "25/25 [==============================] - 19s 727ms/step - loss: 0.5518 - accuracy: 0.8813 - val_loss: 1.0873 - val_accuracy: 0.4350\n",
            "Epoch 16/60\n",
            "25/25 [==============================] - 19s 724ms/step - loss: 0.5425 - accuracy: 0.8788 - val_loss: 0.8500 - val_accuracy: 0.4350\n",
            "Epoch 17/60\n",
            "25/25 [==============================] - 19s 723ms/step - loss: 0.5179 - accuracy: 0.8925 - val_loss: 0.6342 - val_accuracy: 0.7050\n",
            "Epoch 18/60\n",
            "25/25 [==============================] - 19s 725ms/step - loss: 0.5168 - accuracy: 0.8825 - val_loss: 0.4976 - val_accuracy: 0.8450\n",
            "Epoch 19/60\n",
            "25/25 [==============================] - 19s 725ms/step - loss: 0.5237 - accuracy: 0.8838 - val_loss: 0.4155 - val_accuracy: 0.8700\n",
            "Epoch 20/60\n",
            "25/25 [==============================] - 19s 728ms/step - loss: 0.5342 - accuracy: 0.8800 - val_loss: 0.3662 - val_accuracy: 0.8900\n",
            "Epoch 21/60\n",
            "25/25 [==============================] - 19s 726ms/step - loss: 0.5085 - accuracy: 0.8938 - val_loss: 0.3338 - val_accuracy: 0.8850\n",
            "Epoch 22/60\n",
            "25/25 [==============================] - 19s 718ms/step - loss: 0.5277 - accuracy: 0.8750 - val_loss: 0.3268 - val_accuracy: 0.8800\n",
            "Epoch 23/60\n",
            "25/25 [==============================] - 19s 720ms/step - loss: 0.5387 - accuracy: 0.8763 - val_loss: 0.2901 - val_accuracy: 0.9000\n",
            "Epoch 24/60\n",
            "25/25 [==============================] - 19s 725ms/step - loss: 0.5256 - accuracy: 0.8750 - val_loss: 0.3097 - val_accuracy: 0.8900\n",
            "Epoch 25/60\n",
            "25/25 [==============================] - 19s 727ms/step - loss: 0.5422 - accuracy: 0.8825 - val_loss: 0.2953 - val_accuracy: 0.9000\n",
            "Epoch 26/60\n",
            "25/25 [==============================] - 19s 724ms/step - loss: 0.5181 - accuracy: 0.8875 - val_loss: 0.2903 - val_accuracy: 0.9100\n",
            "Epoch 27/60\n",
            "25/25 [==============================] - 19s 722ms/step - loss: 0.5023 - accuracy: 0.8875 - val_loss: 0.2779 - val_accuracy: 0.9150\n",
            "Epoch 28/60\n",
            "25/25 [==============================] - 19s 723ms/step - loss: 0.5156 - accuracy: 0.8825 - val_loss: 0.2709 - val_accuracy: 0.9250\n",
            "Epoch 29/60\n",
            "25/25 [==============================] - 19s 724ms/step - loss: 0.5249 - accuracy: 0.8825 - val_loss: 0.3175 - val_accuracy: 0.8800\n",
            "Epoch 30/60\n",
            "25/25 [==============================] - 19s 725ms/step - loss: 0.5068 - accuracy: 0.8888 - val_loss: 0.2846 - val_accuracy: 0.9050\n",
            "Epoch 31/60\n",
            "25/25 [==============================] - 19s 724ms/step - loss: 0.5155 - accuracy: 0.8850 - val_loss: 0.2771 - val_accuracy: 0.9050\n",
            "Epoch 32/60\n",
            "25/25 [==============================] - 19s 723ms/step - loss: 0.5312 - accuracy: 0.8863 - val_loss: 0.2724 - val_accuracy: 0.9150\n",
            "Epoch 33/60\n",
            "25/25 [==============================] - 19s 720ms/step - loss: 0.5528 - accuracy: 0.8725 - val_loss: 0.2875 - val_accuracy: 0.8950\n",
            "Epoch 34/60\n",
            "25/25 [==============================] - 19s 723ms/step - loss: 0.5117 - accuracy: 0.8800 - val_loss: 0.2830 - val_accuracy: 0.9000\n",
            "Epoch 35/60\n",
            "25/25 [==============================] - 19s 725ms/step - loss: 0.5310 - accuracy: 0.8863 - val_loss: 0.2837 - val_accuracy: 0.8900\n",
            "Epoch 36/60\n",
            "25/25 [==============================] - 19s 721ms/step - loss: 0.5217 - accuracy: 0.8825 - val_loss: 0.2842 - val_accuracy: 0.8900\n",
            "Epoch 37/60\n",
            "25/25 [==============================] - 19s 725ms/step - loss: 0.5200 - accuracy: 0.8913 - val_loss: 0.2834 - val_accuracy: 0.9000\n",
            "Epoch 38/60\n",
            "25/25 [==============================] - 19s 726ms/step - loss: 0.4912 - accuracy: 0.8875 - val_loss: 0.2817 - val_accuracy: 0.9050\n",
            "Epoch 39/60\n",
            "25/25 [==============================] - 19s 725ms/step - loss: 0.5296 - accuracy: 0.8737 - val_loss: 0.2823 - val_accuracy: 0.9050\n",
            "Epoch 40/60\n",
            "25/25 [==============================] - 19s 722ms/step - loss: 0.4999 - accuracy: 0.8863 - val_loss: 0.2822 - val_accuracy: 0.9000\n",
            "Epoch 41/60\n",
            "25/25 [==============================] - 19s 722ms/step - loss: 0.5211 - accuracy: 0.8800 - val_loss: 0.2823 - val_accuracy: 0.9000\n",
            "Epoch 42/60\n",
            "25/25 [==============================] - 19s 720ms/step - loss: 0.4932 - accuracy: 0.8863 - val_loss: 0.2828 - val_accuracy: 0.9000\n",
            "Epoch 43/60\n",
            "25/25 [==============================] - 19s 726ms/step - loss: 0.5101 - accuracy: 0.8900 - val_loss: 0.2831 - val_accuracy: 0.8950\n",
            "Epoch 44/60\n",
            "25/25 [==============================] - 19s 725ms/step - loss: 0.5168 - accuracy: 0.8900 - val_loss: 0.2832 - val_accuracy: 0.8900\n",
            "Epoch 45/60\n",
            "25/25 [==============================] - 19s 722ms/step - loss: 0.5238 - accuracy: 0.8863 - val_loss: 0.2834 - val_accuracy: 0.8900\n",
            "Epoch 46/60\n",
            "25/25 [==============================] - 19s 723ms/step - loss: 0.5346 - accuracy: 0.8750 - val_loss: 0.2836 - val_accuracy: 0.8900\n",
            "Epoch 47/60\n",
            "25/25 [==============================] - 19s 723ms/step - loss: 0.5077 - accuracy: 0.8825 - val_loss: 0.2838 - val_accuracy: 0.8900\n",
            "Epoch 48/60\n",
            "25/25 [==============================] - 19s 726ms/step - loss: 0.5267 - accuracy: 0.8825 - val_loss: 0.2840 - val_accuracy: 0.8900\n",
            "Epoch 49/60\n",
            "25/25 [==============================] - 19s 723ms/step - loss: 0.5089 - accuracy: 0.8938 - val_loss: 0.2841 - val_accuracy: 0.8900\n",
            "Epoch 50/60\n",
            "25/25 [==============================] - 19s 724ms/step - loss: 0.5339 - accuracy: 0.8813 - val_loss: 0.2842 - val_accuracy: 0.8900\n",
            "Epoch 51/60\n",
            "25/25 [==============================] - 19s 725ms/step - loss: 0.5195 - accuracy: 0.8925 - val_loss: 0.2841 - val_accuracy: 0.8900\n",
            "Epoch 52/60\n",
            "25/25 [==============================] - 19s 726ms/step - loss: 0.5219 - accuracy: 0.8863 - val_loss: 0.2844 - val_accuracy: 0.8900\n",
            "Epoch 53/60\n",
            "25/25 [==============================] - 19s 720ms/step - loss: 0.5088 - accuracy: 0.8863 - val_loss: 0.2845 - val_accuracy: 0.8900\n",
            "Epoch 54/60\n",
            "25/25 [==============================] - 19s 723ms/step - loss: 0.5364 - accuracy: 0.8737 - val_loss: 0.2843 - val_accuracy: 0.8900\n",
            "Epoch 55/60\n",
            "25/25 [==============================] - 19s 729ms/step - loss: 0.5141 - accuracy: 0.8925 - val_loss: 0.2846 - val_accuracy: 0.8900\n",
            "Epoch 56/60\n",
            "25/25 [==============================] - 19s 727ms/step - loss: 0.5171 - accuracy: 0.8838 - val_loss: 0.2844 - val_accuracy: 0.8900\n",
            "Epoch 57/60\n",
            "25/25 [==============================] - 19s 719ms/step - loss: 0.5207 - accuracy: 0.8863 - val_loss: 0.2846 - val_accuracy: 0.8900\n",
            "Epoch 58/60\n",
            "25/25 [==============================] - 19s 714ms/step - loss: 0.5136 - accuracy: 0.8813 - val_loss: 0.2844 - val_accuracy: 0.8900\n",
            "Epoch 59/60\n",
            "25/25 [==============================] - 19s 725ms/step - loss: 0.5330 - accuracy: 0.8825 - val_loss: 0.2844 - val_accuracy: 0.8900\n",
            "Epoch 60/60\n",
            "25/25 [==============================] - 20s 727ms/step - loss: 0.5053 - accuracy: 0.8938 - val_loss: 0.2843 - val_accuracy: 0.8900\n"
          ],
          "name": "stdout"
        },
        {
          "output_type": "execute_result",
          "data": {
            "text/plain": [
              "<keras.callbacks.History at 0x7f38258b39d0>"
            ]
          },
          "metadata": {},
          "execution_count": 22
        }
      ]
    },
    {
      "cell_type": "code",
      "metadata": {
        "colab": {
          "base_uri": "https://localhost:8080/"
        },
        "id": "8YobNQPmY1ew",
        "outputId": "752132e1-b26e-4ed3-ce5b-9b2faa48edc3"
      },
      "source": [
        "models['base_model4'].fit(train_ds_scaled,validation_data=val_ds_scaled,epochs = 60, verbose = 1, workers = 3, class_weight = {0:1.13, 1:8.03, 2:1}, callbacks = [reduce_lr])"
      ],
      "execution_count": null,
      "outputs": [
        {
          "output_type": "stream",
          "text": [
            "Epoch 1/60\n",
            "25/25 [==============================] - 23s 769ms/step - loss: 1.6067 - accuracy: 0.4737 - val_loss: 1.6996 - val_accuracy: 0.4350\n",
            "Epoch 2/60\n",
            "25/25 [==============================] - 20s 732ms/step - loss: 1.1349 - accuracy: 0.7063 - val_loss: 2.0442 - val_accuracy: 0.4350\n",
            "Epoch 3/60\n",
            "25/25 [==============================] - 20s 767ms/step - loss: 0.9587 - accuracy: 0.7513 - val_loss: 1.0266 - val_accuracy: 0.4350\n",
            "Epoch 4/60\n",
            "25/25 [==============================] - 20s 750ms/step - loss: 0.8953 - accuracy: 0.7550 - val_loss: 1.7439 - val_accuracy: 0.4350\n",
            "Epoch 5/60\n",
            "25/25 [==============================] - 19s 725ms/step - loss: 0.7664 - accuracy: 0.8175 - val_loss: 1.2315 - val_accuracy: 0.5550\n",
            "Epoch 6/60\n",
            "25/25 [==============================] - 20s 734ms/step - loss: 0.7772 - accuracy: 0.7987 - val_loss: 2.0274 - val_accuracy: 0.4350\n",
            "Epoch 7/60\n",
            "25/25 [==============================] - 20s 744ms/step - loss: 0.6502 - accuracy: 0.8288 - val_loss: 1.1391 - val_accuracy: 0.6800\n",
            "Epoch 8/60\n",
            "25/25 [==============================] - 20s 742ms/step - loss: 0.6062 - accuracy: 0.8450 - val_loss: 1.3049 - val_accuracy: 0.4350\n",
            "Epoch 9/60\n",
            "25/25 [==============================] - 20s 734ms/step - loss: 0.6327 - accuracy: 0.8550 - val_loss: 2.3911 - val_accuracy: 0.4800\n",
            "Epoch 10/60\n",
            "25/25 [==============================] - 20s 738ms/step - loss: 0.5410 - accuracy: 0.8737 - val_loss: 2.6623 - val_accuracy: 0.4800\n",
            "Epoch 11/60\n",
            "25/25 [==============================] - 20s 745ms/step - loss: 0.5184 - accuracy: 0.8813 - val_loss: 3.0896 - val_accuracy: 0.4800\n",
            "Epoch 12/60\n",
            "25/25 [==============================] - 20s 742ms/step - loss: 0.5313 - accuracy: 0.8788 - val_loss: 2.9991 - val_accuracy: 0.4800\n",
            "Epoch 13/60\n",
            "25/25 [==============================] - 20s 744ms/step - loss: 0.5278 - accuracy: 0.8850 - val_loss: 3.1979 - val_accuracy: 0.4800\n",
            "Epoch 14/60\n",
            "25/25 [==============================] - 20s 744ms/step - loss: 0.5000 - accuracy: 0.8612 - val_loss: 3.1017 - val_accuracy: 0.4800\n",
            "Epoch 15/60\n",
            "25/25 [==============================] - 20s 744ms/step - loss: 0.4704 - accuracy: 0.8850 - val_loss: 2.9001 - val_accuracy: 0.4800\n",
            "Epoch 16/60\n",
            "25/25 [==============================] - 20s 740ms/step - loss: 0.4614 - accuracy: 0.8825 - val_loss: 2.6317 - val_accuracy: 0.4800\n",
            "Epoch 17/60\n",
            "25/25 [==============================] - 20s 743ms/step - loss: 0.4832 - accuracy: 0.8925 - val_loss: 2.2540 - val_accuracy: 0.4800\n",
            "Epoch 18/60\n",
            "25/25 [==============================] - 20s 738ms/step - loss: 0.4546 - accuracy: 0.8963 - val_loss: 1.7659 - val_accuracy: 0.4850\n",
            "Epoch 19/60\n",
            "25/25 [==============================] - 20s 737ms/step - loss: 0.4592 - accuracy: 0.8963 - val_loss: 1.3381 - val_accuracy: 0.5100\n",
            "Epoch 20/60\n",
            "25/25 [==============================] - 20s 740ms/step - loss: 0.4785 - accuracy: 0.8913 - val_loss: 0.9916 - val_accuracy: 0.6050\n",
            "Epoch 21/60\n",
            "25/25 [==============================] - 20s 744ms/step - loss: 0.4664 - accuracy: 0.8963 - val_loss: 0.7445 - val_accuracy: 0.6900\n",
            "Epoch 22/60\n",
            "25/25 [==============================] - 20s 742ms/step - loss: 0.4677 - accuracy: 0.8975 - val_loss: 0.5798 - val_accuracy: 0.7400\n",
            "Epoch 23/60\n",
            "25/25 [==============================] - 20s 738ms/step - loss: 0.4543 - accuracy: 0.8950 - val_loss: 0.4730 - val_accuracy: 0.7900\n",
            "Epoch 24/60\n",
            "25/25 [==============================] - 20s 739ms/step - loss: 0.4766 - accuracy: 0.8913 - val_loss: 0.4093 - val_accuracy: 0.8400\n",
            "Epoch 25/60\n",
            "25/25 [==============================] - 20s 745ms/step - loss: 0.4763 - accuracy: 0.8913 - val_loss: 0.3681 - val_accuracy: 0.8550\n",
            "Epoch 26/60\n",
            "25/25 [==============================] - 20s 741ms/step - loss: 0.4571 - accuracy: 0.8938 - val_loss: 0.3412 - val_accuracy: 0.8700\n",
            "Epoch 27/60\n",
            "25/25 [==============================] - 20s 735ms/step - loss: 0.4869 - accuracy: 0.8950 - val_loss: 0.3248 - val_accuracy: 0.8700\n",
            "Epoch 28/60\n",
            "25/25 [==============================] - 20s 736ms/step - loss: 0.4827 - accuracy: 0.8925 - val_loss: 0.3166 - val_accuracy: 0.8750\n",
            "Epoch 29/60\n",
            "25/25 [==============================] - 20s 735ms/step - loss: 0.4752 - accuracy: 0.8850 - val_loss: 0.3094 - val_accuracy: 0.8900\n",
            "Epoch 30/60\n",
            "25/25 [==============================] - 20s 736ms/step - loss: 0.4563 - accuracy: 0.8875 - val_loss: 0.3043 - val_accuracy: 0.8900\n",
            "Epoch 31/60\n",
            "25/25 [==============================] - 20s 740ms/step - loss: 0.4960 - accuracy: 0.8813 - val_loss: 0.3019 - val_accuracy: 0.8950\n",
            "Epoch 32/60\n",
            "25/25 [==============================] - 20s 738ms/step - loss: 0.4749 - accuracy: 0.8863 - val_loss: 0.2984 - val_accuracy: 0.8900\n",
            "Epoch 33/60\n",
            "25/25 [==============================] - 20s 740ms/step - loss: 0.4743 - accuracy: 0.8988 - val_loss: 0.2980 - val_accuracy: 0.8900\n",
            "Epoch 34/60\n",
            "25/25 [==============================] - 20s 739ms/step - loss: 0.4713 - accuracy: 0.8963 - val_loss: 0.2972 - val_accuracy: 0.8900\n",
            "Epoch 35/60\n",
            "25/25 [==============================] - 20s 744ms/step - loss: 0.5222 - accuracy: 0.8875 - val_loss: 0.2972 - val_accuracy: 0.8900\n",
            "Epoch 36/60\n",
            "25/25 [==============================] - 20s 741ms/step - loss: 0.4962 - accuracy: 0.8888 - val_loss: 0.2992 - val_accuracy: 0.8900\n",
            "Epoch 37/60\n",
            "25/25 [==============================] - 20s 739ms/step - loss: 0.4852 - accuracy: 0.8950 - val_loss: 0.2986 - val_accuracy: 0.8900\n",
            "Epoch 38/60\n",
            "25/25 [==============================] - 20s 739ms/step - loss: 0.4711 - accuracy: 0.8800 - val_loss: 0.2974 - val_accuracy: 0.8950\n",
            "Epoch 39/60\n",
            "25/25 [==============================] - 20s 744ms/step - loss: 0.4576 - accuracy: 0.8888 - val_loss: 0.2959 - val_accuracy: 0.8950\n",
            "Epoch 40/60\n",
            "25/25 [==============================] - 20s 737ms/step - loss: 0.5007 - accuracy: 0.8800 - val_loss: 0.2970 - val_accuracy: 0.8950\n",
            "Epoch 41/60\n",
            "25/25 [==============================] - 20s 737ms/step - loss: 0.4838 - accuracy: 0.8875 - val_loss: 0.2970 - val_accuracy: 0.8950\n",
            "Epoch 42/60\n",
            "25/25 [==============================] - 20s 742ms/step - loss: 0.4895 - accuracy: 0.8838 - val_loss: 0.2961 - val_accuracy: 0.8950\n",
            "Epoch 43/60\n",
            "25/25 [==============================] - 20s 738ms/step - loss: 0.4888 - accuracy: 0.8800 - val_loss: 0.2970 - val_accuracy: 0.8950\n",
            "Epoch 44/60\n",
            "25/25 [==============================] - 20s 740ms/step - loss: 0.4707 - accuracy: 0.8900 - val_loss: 0.2972 - val_accuracy: 0.8950\n",
            "Epoch 45/60\n",
            "25/25 [==============================] - 20s 743ms/step - loss: 0.4820 - accuracy: 0.8938 - val_loss: 0.2972 - val_accuracy: 0.8950\n",
            "Epoch 46/60\n",
            "25/25 [==============================] - 20s 739ms/step - loss: 0.4801 - accuracy: 0.8875 - val_loss: 0.2971 - val_accuracy: 0.8950\n",
            "Epoch 47/60\n",
            "25/25 [==============================] - 20s 744ms/step - loss: 0.4680 - accuracy: 0.8988 - val_loss: 0.2966 - val_accuracy: 0.8950\n",
            "Epoch 48/60\n",
            "25/25 [==============================] - 20s 741ms/step - loss: 0.4578 - accuracy: 0.8925 - val_loss: 0.2965 - val_accuracy: 0.8950\n",
            "Epoch 49/60\n",
            "25/25 [==============================] - 20s 733ms/step - loss: 0.4836 - accuracy: 0.8875 - val_loss: 0.2962 - val_accuracy: 0.8950\n",
            "Epoch 50/60\n",
            "25/25 [==============================] - 20s 741ms/step - loss: 0.4732 - accuracy: 0.8863 - val_loss: 0.2959 - val_accuracy: 0.8950\n",
            "Epoch 51/60\n",
            "25/25 [==============================] - 20s 747ms/step - loss: 0.4582 - accuracy: 0.8875 - val_loss: 0.2961 - val_accuracy: 0.8950\n",
            "Epoch 52/60\n",
            "25/25 [==============================] - 20s 745ms/step - loss: 0.4691 - accuracy: 0.8925 - val_loss: 0.2962 - val_accuracy: 0.8950\n",
            "Epoch 53/60\n",
            "25/25 [==============================] - 20s 731ms/step - loss: 0.4865 - accuracy: 0.8838 - val_loss: 0.2961 - val_accuracy: 0.8950\n",
            "Epoch 54/60\n",
            "25/25 [==============================] - 20s 734ms/step - loss: 0.4493 - accuracy: 0.8938 - val_loss: 0.2959 - val_accuracy: 0.8950\n",
            "Epoch 55/60\n",
            "25/25 [==============================] - 20s 740ms/step - loss: 0.4807 - accuracy: 0.8938 - val_loss: 0.2958 - val_accuracy: 0.8950\n",
            "Epoch 56/60\n",
            "25/25 [==============================] - 20s 739ms/step - loss: 0.4675 - accuracy: 0.8925 - val_loss: 0.2958 - val_accuracy: 0.8950\n",
            "Epoch 57/60\n",
            "25/25 [==============================] - 20s 744ms/step - loss: 0.4976 - accuracy: 0.8913 - val_loss: 0.2958 - val_accuracy: 0.8950\n",
            "Epoch 58/60\n",
            "25/25 [==============================] - 20s 740ms/step - loss: 0.4827 - accuracy: 0.8925 - val_loss: 0.2955 - val_accuracy: 0.8950\n",
            "Epoch 59/60\n",
            "25/25 [==============================] - 20s 738ms/step - loss: 0.4501 - accuracy: 0.8875 - val_loss: 0.2956 - val_accuracy: 0.8950\n",
            "Epoch 60/60\n",
            "25/25 [==============================] - 20s 740ms/step - loss: 0.4760 - accuracy: 0.8800 - val_loss: 0.2955 - val_accuracy: 0.8950\n"
          ],
          "name": "stdout"
        },
        {
          "output_type": "execute_result",
          "data": {
            "text/plain": [
              "<keras.callbacks.History at 0x7f3825861f50>"
            ]
          },
          "metadata": {},
          "execution_count": 23
        }
      ]
    },
    {
      "cell_type": "code",
      "metadata": {
        "colab": {
          "base_uri": "https://localhost:8080/"
        },
        "id": "DU72VgJ6qt0d",
        "outputId": "e8a5377d-0c9f-41c9-ac1d-684d4c53de18"
      },
      "source": [
        "models['base_model5'].fit(train_ds_scaled,validation_data=val_ds_scaled,epochs = 60, verbose = 1, workers = 3, class_weight = {0:1.13, 1:8.03, 2:1}, callbacks = [reduce_lr])"
      ],
      "execution_count": null,
      "outputs": [
        {
          "output_type": "stream",
          "text": [
            "Epoch 1/60\n",
            "25/25 [==============================] - 71s 1s/step - loss: 1.8265 - accuracy: 0.3388 - val_loss: 1.3350 - val_accuracy: 0.4800\n",
            "Epoch 2/60\n",
            "25/25 [==============================] - 11s 388ms/step - loss: 1.6533 - accuracy: 0.3338 - val_loss: 1.1514 - val_accuracy: 0.4800\n",
            "Epoch 3/60\n",
            "25/25 [==============================] - 11s 388ms/step - loss: 1.5833 - accuracy: 0.4162 - val_loss: 1.0694 - val_accuracy: 0.4800\n",
            "Epoch 4/60\n",
            "25/25 [==============================] - 11s 388ms/step - loss: 1.1641 - accuracy: 0.7500 - val_loss: 1.2644 - val_accuracy: 0.4350\n",
            "Epoch 5/60\n",
            "25/25 [==============================] - 11s 389ms/step - loss: 0.9826 - accuracy: 0.7050 - val_loss: 2.4349 - val_accuracy: 0.4350\n",
            "Epoch 6/60\n",
            "25/25 [==============================] - 11s 389ms/step - loss: 0.8395 - accuracy: 0.8050 - val_loss: 4.4705 - val_accuracy: 0.4350\n",
            "Epoch 7/60\n",
            "25/25 [==============================] - 11s 388ms/step - loss: 0.7253 - accuracy: 0.8263 - val_loss: 6.5502 - val_accuracy: 0.4350\n",
            "Epoch 8/60\n",
            "25/25 [==============================] - 11s 390ms/step - loss: 0.6069 - accuracy: 0.8450 - val_loss: 1.2270 - val_accuracy: 0.4350\n",
            "Epoch 9/60\n",
            "25/25 [==============================] - 11s 390ms/step - loss: 0.5403 - accuracy: 0.8825 - val_loss: 0.6166 - val_accuracy: 0.7900\n",
            "Epoch 10/60\n",
            "25/25 [==============================] - 11s 390ms/step - loss: 0.5103 - accuracy: 0.8913 - val_loss: 1.1669 - val_accuracy: 0.4850\n",
            "Epoch 11/60\n",
            "25/25 [==============================] - 11s 389ms/step - loss: 0.5138 - accuracy: 0.9038 - val_loss: 1.1649 - val_accuracy: 0.5100\n",
            "Epoch 12/60\n",
            "25/25 [==============================] - 11s 390ms/step - loss: 0.4726 - accuracy: 0.9050 - val_loss: 1.3811 - val_accuracy: 0.5400\n",
            "Epoch 13/60\n",
            "25/25 [==============================] - 11s 389ms/step - loss: 0.4899 - accuracy: 0.8913 - val_loss: 1.4710 - val_accuracy: 0.5150\n",
            "Epoch 14/60\n",
            "25/25 [==============================] - 11s 389ms/step - loss: 0.4698 - accuracy: 0.9050 - val_loss: 1.1834 - val_accuracy: 0.5550\n",
            "Epoch 15/60\n",
            "25/25 [==============================] - 11s 390ms/step - loss: 0.4451 - accuracy: 0.9087 - val_loss: 1.1109 - val_accuracy: 0.5900\n",
            "Epoch 16/60\n",
            "25/25 [==============================] - 11s 391ms/step - loss: 0.4515 - accuracy: 0.9112 - val_loss: 0.9985 - val_accuracy: 0.6300\n",
            "Epoch 17/60\n",
            "25/25 [==============================] - 11s 387ms/step - loss: 0.4604 - accuracy: 0.8975 - val_loss: 0.8726 - val_accuracy: 0.6700\n",
            "Epoch 18/60\n",
            "25/25 [==============================] - 11s 392ms/step - loss: 0.4800 - accuracy: 0.9000 - val_loss: 0.7168 - val_accuracy: 0.6950\n",
            "Epoch 19/60\n",
            "25/25 [==============================] - 11s 389ms/step - loss: 0.4549 - accuracy: 0.9025 - val_loss: 0.6210 - val_accuracy: 0.7500\n",
            "Epoch 20/60\n",
            "25/25 [==============================] - 11s 392ms/step - loss: 0.4395 - accuracy: 0.9025 - val_loss: 0.5410 - val_accuracy: 0.7750\n",
            "Epoch 21/60\n",
            "25/25 [==============================] - 11s 391ms/step - loss: 0.4515 - accuracy: 0.8975 - val_loss: 0.4773 - val_accuracy: 0.8050\n",
            "Epoch 22/60\n",
            "25/25 [==============================] - 11s 387ms/step - loss: 0.4358 - accuracy: 0.8963 - val_loss: 0.4251 - val_accuracy: 0.8300\n",
            "Epoch 23/60\n",
            "25/25 [==============================] - 11s 388ms/step - loss: 0.4449 - accuracy: 0.9038 - val_loss: 0.3878 - val_accuracy: 0.8550\n",
            "Epoch 24/60\n",
            "25/25 [==============================] - 11s 388ms/step - loss: 0.4613 - accuracy: 0.9038 - val_loss: 0.3556 - val_accuracy: 0.8650\n",
            "Epoch 25/60\n",
            "25/25 [==============================] - 11s 391ms/step - loss: 0.4590 - accuracy: 0.9025 - val_loss: 0.3364 - val_accuracy: 0.8700\n",
            "Epoch 26/60\n",
            "25/25 [==============================] - 11s 390ms/step - loss: 0.4565 - accuracy: 0.9050 - val_loss: 0.3194 - val_accuracy: 0.8750\n",
            "Epoch 27/60\n",
            "25/25 [==============================] - 11s 391ms/step - loss: 0.4424 - accuracy: 0.9137 - val_loss: 0.3072 - val_accuracy: 0.8850\n",
            "Epoch 28/60\n",
            "25/25 [==============================] - 11s 388ms/step - loss: 0.4424 - accuracy: 0.9000 - val_loss: 0.2986 - val_accuracy: 0.8800\n",
            "Epoch 29/60\n",
            "25/25 [==============================] - 11s 388ms/step - loss: 0.4218 - accuracy: 0.9112 - val_loss: 0.2911 - val_accuracy: 0.8800\n",
            "Epoch 30/60\n",
            "25/25 [==============================] - 11s 390ms/step - loss: 0.4319 - accuracy: 0.9112 - val_loss: 0.2848 - val_accuracy: 0.8850\n",
            "Epoch 31/60\n",
            "25/25 [==============================] - 11s 388ms/step - loss: 0.4556 - accuracy: 0.8925 - val_loss: 0.2819 - val_accuracy: 0.8800\n",
            "Epoch 32/60\n",
            "25/25 [==============================] - 11s 389ms/step - loss: 0.4841 - accuracy: 0.8900 - val_loss: 0.2796 - val_accuracy: 0.8800\n",
            "Epoch 33/60\n",
            "25/25 [==============================] - 11s 390ms/step - loss: 0.4389 - accuracy: 0.9050 - val_loss: 0.2771 - val_accuracy: 0.8850\n",
            "Epoch 34/60\n",
            "25/25 [==============================] - 11s 390ms/step - loss: 0.4631 - accuracy: 0.9100 - val_loss: 0.2753 - val_accuracy: 0.8850\n",
            "Epoch 35/60\n",
            "25/25 [==============================] - 11s 389ms/step - loss: 0.4664 - accuracy: 0.9100 - val_loss: 0.2743 - val_accuracy: 0.8850\n",
            "Epoch 36/60\n",
            "25/25 [==============================] - 11s 388ms/step - loss: 0.4650 - accuracy: 0.9075 - val_loss: 0.2732 - val_accuracy: 0.8850\n",
            "Epoch 37/60\n",
            "25/25 [==============================] - 11s 388ms/step - loss: 0.4515 - accuracy: 0.9038 - val_loss: 0.2725 - val_accuracy: 0.8850\n",
            "Epoch 38/60\n",
            "25/25 [==============================] - 11s 390ms/step - loss: 0.4702 - accuracy: 0.9100 - val_loss: 0.2709 - val_accuracy: 0.8900\n",
            "Epoch 39/60\n",
            "25/25 [==============================] - 11s 390ms/step - loss: 0.4608 - accuracy: 0.9038 - val_loss: 0.2710 - val_accuracy: 0.8850\n",
            "Epoch 40/60\n",
            "25/25 [==============================] - 11s 391ms/step - loss: 0.4236 - accuracy: 0.9137 - val_loss: 0.2712 - val_accuracy: 0.8850\n",
            "Epoch 41/60\n",
            "25/25 [==============================] - 11s 390ms/step - loss: 0.4408 - accuracy: 0.9050 - val_loss: 0.2712 - val_accuracy: 0.8850\n",
            "Epoch 42/60\n",
            "25/25 [==============================] - 11s 390ms/step - loss: 0.4635 - accuracy: 0.8988 - val_loss: 0.2712 - val_accuracy: 0.8850\n",
            "Epoch 43/60\n",
            "25/25 [==============================] - 11s 391ms/step - loss: 0.4406 - accuracy: 0.9112 - val_loss: 0.2710 - val_accuracy: 0.8850\n",
            "Epoch 44/60\n",
            "25/25 [==============================] - 11s 388ms/step - loss: 0.4456 - accuracy: 0.9112 - val_loss: 0.2709 - val_accuracy: 0.8900\n",
            "Epoch 45/60\n",
            "25/25 [==============================] - 11s 391ms/step - loss: 0.4800 - accuracy: 0.8938 - val_loss: 0.2704 - val_accuracy: 0.8950\n",
            "Epoch 46/60\n",
            "25/25 [==============================] - 11s 388ms/step - loss: 0.4359 - accuracy: 0.9050 - val_loss: 0.2703 - val_accuracy: 0.8950\n",
            "Epoch 47/60\n",
            "25/25 [==============================] - 11s 389ms/step - loss: 0.4597 - accuracy: 0.8950 - val_loss: 0.2703 - val_accuracy: 0.8950\n",
            "Epoch 48/60\n",
            "25/25 [==============================] - 11s 388ms/step - loss: 0.4543 - accuracy: 0.9087 - val_loss: 0.2704 - val_accuracy: 0.8950\n",
            "Epoch 49/60\n",
            "25/25 [==============================] - 11s 391ms/step - loss: 0.4613 - accuracy: 0.9038 - val_loss: 0.2702 - val_accuracy: 0.8950\n",
            "Epoch 50/60\n",
            "25/25 [==============================] - 11s 390ms/step - loss: 0.4418 - accuracy: 0.9050 - val_loss: 0.2701 - val_accuracy: 0.8950\n",
            "Epoch 51/60\n",
            "25/25 [==============================] - 11s 390ms/step - loss: 0.4793 - accuracy: 0.8975 - val_loss: 0.2699 - val_accuracy: 0.8950\n",
            "Epoch 52/60\n",
            "25/25 [==============================] - 11s 388ms/step - loss: 0.4744 - accuracy: 0.9075 - val_loss: 0.2700 - val_accuracy: 0.8950\n",
            "Epoch 53/60\n",
            "25/25 [==============================] - 11s 389ms/step - loss: 0.4217 - accuracy: 0.9112 - val_loss: 0.2698 - val_accuracy: 0.8950\n",
            "Epoch 54/60\n",
            "25/25 [==============================] - 11s 391ms/step - loss: 0.4341 - accuracy: 0.9075 - val_loss: 0.2700 - val_accuracy: 0.8950\n",
            "Epoch 55/60\n",
            "25/25 [==============================] - 11s 391ms/step - loss: 0.4338 - accuracy: 0.9100 - val_loss: 0.2700 - val_accuracy: 0.8950\n",
            "Epoch 56/60\n",
            "25/25 [==============================] - 11s 388ms/step - loss: 0.4669 - accuracy: 0.8863 - val_loss: 0.2699 - val_accuracy: 0.8950\n",
            "Epoch 57/60\n",
            "25/25 [==============================] - 11s 388ms/step - loss: 0.4204 - accuracy: 0.9025 - val_loss: 0.2698 - val_accuracy: 0.8950\n",
            "Epoch 58/60\n",
            "25/25 [==============================] - 11s 389ms/step - loss: 0.4451 - accuracy: 0.9050 - val_loss: 0.2699 - val_accuracy: 0.8950\n",
            "Epoch 59/60\n",
            "25/25 [==============================] - 11s 388ms/step - loss: 0.4707 - accuracy: 0.9013 - val_loss: 0.2699 - val_accuracy: 0.8950\n",
            "Epoch 60/60\n",
            "25/25 [==============================] - 11s 390ms/step - loss: 0.4806 - accuracy: 0.9000 - val_loss: 0.2699 - val_accuracy: 0.8950\n"
          ],
          "name": "stdout"
        },
        {
          "output_type": "execute_result",
          "data": {
            "text/plain": [
              "<keras.callbacks.History at 0x7f83102697d0>"
            ]
          },
          "metadata": {},
          "execution_count": 15
        }
      ]
    },
    {
      "cell_type": "code",
      "metadata": {
        "colab": {
          "base_uri": "https://localhost:8080/",
          "height": 281
        },
        "id": "CLqc67AxtmxS",
        "outputId": "14ca1cfd-19f7-4742-f0b9-81a473f9623f"
      },
      "source": [
        "plt.plot(models['base_model5'].history.history['accuracy'])\n",
        "plt.plot(models['base_model5'].history.history['val_accuracy'])\n",
        "plt.legend(['train', 'validation'])\n",
        "plt.title('Resnet50 training curves')\n",
        "plt.show()"
      ],
      "execution_count": null,
      "outputs": [
        {
          "output_type": "display_data",
          "data": {
            "image/png": "[encoded data removed]",
            "text/plain": [
              "<Figure size 432x288 with 1 Axes>"
            ]
          },
          "metadata": {
            "needs_background": "light"
          }
        }
      ]
    },
    {
      "cell_type": "code",
      "metadata": {
        "colab": {
          "base_uri": "https://localhost:8080/"
        },
        "id": "JXBQoXwAY1yi",
        "outputId": "a8d37d6b-59fb-4dae-e12f-88ca4a2b2859"
      },
      "source": [
        "models['base_model5'].fit(train_ds_scaled,validation_data=val_ds_scaled,epochs = 60, verbose = 1, workers = 3, class_weight = {0:1.13, 1:8.03, 2:1}, callbacks = [reduce_lr])"
      ],
      "execution_count": null,
      "outputs": [
        {
          "output_type": "stream",
          "text": [
            "Epoch 1/60\n",
            "25/25 [==============================] - 24s 787ms/step - loss: 1.6893 - accuracy: 0.3450 - val_loss: 0.9436 - val_accuracy: 0.4800\n",
            "Epoch 2/60\n",
            "25/25 [==============================] - 20s 765ms/step - loss: 1.2261 - accuracy: 0.6575 - val_loss: 1.5894 - val_accuracy: 0.4800\n",
            "Epoch 3/60\n",
            "25/25 [==============================] - 20s 756ms/step - loss: 0.8975 - accuracy: 0.7025 - val_loss: 0.9778 - val_accuracy: 0.4800\n",
            "Epoch 4/60\n",
            "25/25 [==============================] - 20s 751ms/step - loss: 0.7850 - accuracy: 0.8238 - val_loss: 1.2230 - val_accuracy: 0.4350\n",
            "Epoch 5/60\n",
            "25/25 [==============================] - 20s 754ms/step - loss: 0.7191 - accuracy: 0.8288 - val_loss: 2.4836 - val_accuracy: 0.4350\n",
            "Epoch 6/60\n",
            "25/25 [==============================] - 20s 759ms/step - loss: 0.5826 - accuracy: 0.8562 - val_loss: 2.7180 - val_accuracy: 0.4350\n",
            "Epoch 7/60\n",
            "25/25 [==============================] - 20s 757ms/step - loss: 0.5259 - accuracy: 0.8650 - val_loss: 1.4585 - val_accuracy: 0.4350\n",
            "Epoch 8/60\n",
            "25/25 [==============================] - 20s 755ms/step - loss: 0.4862 - accuracy: 0.9062 - val_loss: 0.9356 - val_accuracy: 0.4450\n",
            "Epoch 9/60\n",
            "25/25 [==============================] - 20s 760ms/step - loss: 0.4902 - accuracy: 0.8975 - val_loss: 0.7099 - val_accuracy: 0.8450\n",
            "Epoch 10/60\n",
            "25/25 [==============================] - 20s 760ms/step - loss: 0.4762 - accuracy: 0.8875 - val_loss: 1.0881 - val_accuracy: 0.4900\n",
            "Epoch 11/60\n",
            "25/25 [==============================] - 20s 758ms/step - loss: 0.4678 - accuracy: 0.8938 - val_loss: 1.4551 - val_accuracy: 0.4800\n",
            "Epoch 12/60\n",
            "25/25 [==============================] - 20s 757ms/step - loss: 0.4957 - accuracy: 0.8863 - val_loss: 1.6993 - val_accuracy: 0.4800\n",
            "Epoch 13/60\n",
            "25/25 [==============================] - 20s 754ms/step - loss: 0.4508 - accuracy: 0.9025 - val_loss: 0.8763 - val_accuracy: 0.6100\n",
            "Epoch 14/60\n",
            "25/25 [==============================] - 20s 758ms/step - loss: 0.4679 - accuracy: 0.9062 - val_loss: 0.7576 - val_accuracy: 0.6900\n",
            "Epoch 15/60\n",
            "25/25 [==============================] - 20s 754ms/step - loss: 0.4667 - accuracy: 0.9225 - val_loss: 0.7502 - val_accuracy: 0.7100\n",
            "Epoch 16/60\n",
            "25/25 [==============================] - 20s 754ms/step - loss: 0.4341 - accuracy: 0.9150 - val_loss: 0.6639 - val_accuracy: 0.7500\n",
            "Epoch 17/60\n",
            "25/25 [==============================] - 20s 756ms/step - loss: 0.4324 - accuracy: 0.9062 - val_loss: 0.5777 - val_accuracy: 0.7700\n",
            "Epoch 18/60\n",
            "25/25 [==============================] - 20s 757ms/step - loss: 0.4320 - accuracy: 0.9087 - val_loss: 0.5323 - val_accuracy: 0.7900\n",
            "Epoch 19/60\n",
            "25/25 [==============================] - 20s 759ms/step - loss: 0.4323 - accuracy: 0.9050 - val_loss: 0.4692 - val_accuracy: 0.8200\n",
            "Epoch 20/60\n",
            "25/25 [==============================] - 20s 754ms/step - loss: 0.4465 - accuracy: 0.9038 - val_loss: 0.4334 - val_accuracy: 0.8350\n",
            "Epoch 21/60\n",
            "25/25 [==============================] - 20s 758ms/step - loss: 0.4351 - accuracy: 0.9075 - val_loss: 0.3633 - val_accuracy: 0.8550\n",
            "Epoch 22/60\n",
            "25/25 [==============================] - 20s 754ms/step - loss: 0.4409 - accuracy: 0.9112 - val_loss: 0.3351 - val_accuracy: 0.8550\n",
            "Epoch 23/60\n",
            "25/25 [==============================] - 20s 758ms/step - loss: 0.4548 - accuracy: 0.9137 - val_loss: 0.3352 - val_accuracy: 0.8600\n",
            "Epoch 24/60\n",
            "25/25 [==============================] - 20s 757ms/step - loss: 0.4363 - accuracy: 0.9162 - val_loss: 0.2999 - val_accuracy: 0.8800\n",
            "Epoch 25/60\n",
            "25/25 [==============================] - 20s 758ms/step - loss: 0.4406 - accuracy: 0.9175 - val_loss: 0.2689 - val_accuracy: 0.8950\n",
            "Epoch 26/60\n",
            "25/25 [==============================] - 20s 753ms/step - loss: 0.4317 - accuracy: 0.9150 - val_loss: 0.2547 - val_accuracy: 0.9000\n",
            "Epoch 27/60\n",
            "25/25 [==============================] - 20s 755ms/step - loss: 0.4484 - accuracy: 0.9087 - val_loss: 0.2651 - val_accuracy: 0.9000\n",
            "Epoch 28/60\n",
            "25/25 [==============================] - 20s 759ms/step - loss: 0.4252 - accuracy: 0.9062 - val_loss: 0.2507 - val_accuracy: 0.9000\n",
            "Epoch 29/60\n",
            "25/25 [==============================] - 20s 755ms/step - loss: 0.4453 - accuracy: 0.9062 - val_loss: 0.2434 - val_accuracy: 0.9000\n",
            "Epoch 30/60\n",
            "25/25 [==============================] - 20s 752ms/step - loss: 0.4141 - accuracy: 0.9087 - val_loss: 0.2335 - val_accuracy: 0.9050\n",
            "Epoch 31/60\n",
            "25/25 [==============================] - 20s 751ms/step - loss: 0.4141 - accuracy: 0.9225 - val_loss: 0.2342 - val_accuracy: 0.9150\n",
            "Epoch 32/60\n",
            "25/25 [==============================] - 20s 753ms/step - loss: 0.4207 - accuracy: 0.9100 - val_loss: 0.2401 - val_accuracy: 0.9000\n",
            "Epoch 33/60\n",
            "25/25 [==============================] - 20s 760ms/step - loss: 0.4177 - accuracy: 0.9100 - val_loss: 0.2309 - val_accuracy: 0.9300\n",
            "Epoch 34/60\n",
            "25/25 [==============================] - 20s 758ms/step - loss: 0.4422 - accuracy: 0.9100 - val_loss: 0.2384 - val_accuracy: 0.9000\n",
            "Epoch 35/60\n",
            "25/25 [==============================] - 20s 754ms/step - loss: 0.4411 - accuracy: 0.9100 - val_loss: 0.2366 - val_accuracy: 0.9050\n",
            "Epoch 36/60\n",
            "25/25 [==============================] - 20s 756ms/step - loss: 0.4434 - accuracy: 0.9112 - val_loss: 0.2309 - val_accuracy: 0.9250\n",
            "Epoch 37/60\n",
            "25/25 [==============================] - 20s 759ms/step - loss: 0.4379 - accuracy: 0.9038 - val_loss: 0.2407 - val_accuracy: 0.9000\n",
            "Epoch 38/60\n",
            "25/25 [==============================] - 20s 758ms/step - loss: 0.4314 - accuracy: 0.9112 - val_loss: 0.2272 - val_accuracy: 0.9350\n",
            "Epoch 39/60\n",
            "25/25 [==============================] - 20s 758ms/step - loss: 0.4301 - accuracy: 0.9075 - val_loss: 0.2350 - val_accuracy: 0.9050\n",
            "Epoch 40/60\n",
            "25/25 [==============================] - 20s 761ms/step - loss: 0.4241 - accuracy: 0.9100 - val_loss: 0.2307 - val_accuracy: 0.9200\n",
            "Epoch 41/60\n",
            "25/25 [==============================] - 20s 764ms/step - loss: 0.4338 - accuracy: 0.9187 - val_loss: 0.2310 - val_accuracy: 0.9300\n",
            "Epoch 42/60\n",
            "25/25 [==============================] - 20s 758ms/step - loss: 0.4470 - accuracy: 0.9087 - val_loss: 0.2374 - val_accuracy: 0.9000\n",
            "Epoch 43/60\n",
            "25/25 [==============================] - 20s 762ms/step - loss: 0.4359 - accuracy: 0.9112 - val_loss: 0.2328 - val_accuracy: 0.9150\n",
            "Epoch 44/60\n",
            "25/25 [==============================] - 20s 759ms/step - loss: 0.4266 - accuracy: 0.9187 - val_loss: 0.2336 - val_accuracy: 0.9150\n",
            "Epoch 45/60\n",
            "25/25 [==============================] - 20s 759ms/step - loss: 0.4358 - accuracy: 0.9100 - val_loss: 0.2324 - val_accuracy: 0.9150\n",
            "Epoch 46/60\n",
            "25/25 [==============================] - 20s 761ms/step - loss: 0.4159 - accuracy: 0.9100 - val_loss: 0.2329 - val_accuracy: 0.9150\n",
            "Epoch 47/60\n",
            "25/25 [==============================] - 20s 763ms/step - loss: 0.4353 - accuracy: 0.9038 - val_loss: 0.2341 - val_accuracy: 0.9050\n",
            "Epoch 48/60\n",
            "25/25 [==============================] - 20s 757ms/step - loss: 0.4270 - accuracy: 0.9100 - val_loss: 0.2345 - val_accuracy: 0.9100\n",
            "Epoch 49/60\n",
            "25/25 [==============================] - 20s 760ms/step - loss: 0.4190 - accuracy: 0.9162 - val_loss: 0.2343 - val_accuracy: 0.9100\n",
            "Epoch 50/60\n",
            "25/25 [==============================] - 20s 760ms/step - loss: 0.4428 - accuracy: 0.9075 - val_loss: 0.2342 - val_accuracy: 0.9100\n",
            "Epoch 51/60\n",
            "25/25 [==============================] - 20s 759ms/step - loss: 0.4395 - accuracy: 0.9050 - val_loss: 0.2343 - val_accuracy: 0.9100\n",
            "Epoch 52/60\n",
            "25/25 [==============================] - 20s 757ms/step - loss: 0.4388 - accuracy: 0.9050 - val_loss: 0.2341 - val_accuracy: 0.9100\n",
            "Epoch 53/60\n",
            "25/25 [==============================] - 20s 761ms/step - loss: 0.4170 - accuracy: 0.9187 - val_loss: 0.2341 - val_accuracy: 0.9100\n",
            "Epoch 54/60\n",
            "25/25 [==============================] - 20s 761ms/step - loss: 0.4188 - accuracy: 0.9162 - val_loss: 0.2341 - val_accuracy: 0.9100\n",
            "Epoch 55/60\n",
            "25/25 [==============================] - 20s 758ms/step - loss: 0.4123 - accuracy: 0.9150 - val_loss: 0.2341 - val_accuracy: 0.9100\n",
            "Epoch 56/60\n",
            "25/25 [==============================] - 20s 756ms/step - loss: 0.4539 - accuracy: 0.9137 - val_loss: 0.2341 - val_accuracy: 0.9100\n",
            "Epoch 57/60\n",
            "25/25 [==============================] - 20s 759ms/step - loss: 0.4396 - accuracy: 0.9125 - val_loss: 0.2340 - val_accuracy: 0.9100\n",
            "Epoch 58/60\n",
            "25/25 [==============================] - 20s 758ms/step - loss: 0.4277 - accuracy: 0.9125 - val_loss: 0.2341 - val_accuracy: 0.9100\n",
            "Epoch 59/60\n",
            "25/25 [==============================] - 20s 763ms/step - loss: 0.4233 - accuracy: 0.9212 - val_loss: 0.2342 - val_accuracy: 0.9100\n",
            "Epoch 60/60\n",
            "25/25 [==============================] - 20s 764ms/step - loss: 0.4358 - accuracy: 0.9125 - val_loss: 0.2343 - val_accuracy: 0.9100\n"
          ],
          "name": "stdout"
        },
        {
          "output_type": "execute_result",
          "data": {
            "text/plain": [
              "<keras.callbacks.History at 0x7f361e9de2d0>"
            ]
          },
          "metadata": {},
          "execution_count": 24
        }
      ]
    },
    {
      "cell_type": "code",
      "metadata": {
        "colab": {
          "base_uri": "https://localhost:8080/"
        },
        "id": "VumBn9UpY2KA",
        "outputId": "7236f76e-faed-4bbf-eacf-66c012525ab0"
      },
      "source": [
        "models['base_model6'].fit(train_ds_scaled,validation_data=val_ds_scaled,epochs = 60, verbose = 1, workers = 3, class_weight = {0:1.13, 1:8.03, 2:1}, callbacks = [reduce_lr])"
      ],
      "execution_count": null,
      "outputs": [
        {
          "output_type": "stream",
          "text": [
            "Epoch 1/60\n",
            "25/25 [==============================] - 25s 820ms/step - loss: 1.7243 - accuracy: 0.3262 - val_loss: 1.6910 - val_accuracy: 0.4350\n",
            "Epoch 2/60\n",
            "25/25 [==============================] - 21s 804ms/step - loss: 1.7212 - accuracy: 0.3537 - val_loss: 1.4927 - val_accuracy: 0.4350\n",
            "Epoch 3/60\n",
            "25/25 [==============================] - 21s 805ms/step - loss: 1.3152 - accuracy: 0.6575 - val_loss: 2.1140 - val_accuracy: 0.0850\n",
            "Epoch 4/60\n",
            "25/25 [==============================] - 21s 783ms/step - loss: 1.0886 - accuracy: 0.6500 - val_loss: 2.0173 - val_accuracy: 0.4350\n",
            "Epoch 5/60\n",
            "25/25 [==============================] - 21s 779ms/step - loss: 0.9491 - accuracy: 0.7337 - val_loss: 3.8571 - val_accuracy: 0.4800\n",
            "Epoch 6/60\n",
            "25/25 [==============================] - 21s 789ms/step - loss: 0.7717 - accuracy: 0.8050 - val_loss: 13.3604 - val_accuracy: 0.4800\n",
            "Epoch 7/60\n",
            "25/25 [==============================] - 21s 797ms/step - loss: 0.7056 - accuracy: 0.8300 - val_loss: 12.8480 - val_accuracy: 0.4800\n",
            "Epoch 8/60\n",
            "25/25 [==============================] - 21s 786ms/step - loss: 0.5742 - accuracy: 0.8525 - val_loss: 8.7599 - val_accuracy: 0.4800\n",
            "Epoch 9/60\n",
            "25/25 [==============================] - 21s 783ms/step - loss: 0.5602 - accuracy: 0.8687 - val_loss: 5.9770 - val_accuracy: 0.4800\n",
            "Epoch 10/60\n",
            "25/25 [==============================] - 21s 779ms/step - loss: 0.5324 - accuracy: 0.8687 - val_loss: 4.3847 - val_accuracy: 0.4800\n",
            "Epoch 11/60\n",
            "25/25 [==============================] - 22s 819ms/step - loss: 0.5016 - accuracy: 0.8988 - val_loss: 3.6037 - val_accuracy: 0.4800\n",
            "Epoch 12/60\n",
            "25/25 [==============================] - 21s 790ms/step - loss: 0.5154 - accuracy: 0.8938 - val_loss: 1.5356 - val_accuracy: 0.5550\n",
            "Epoch 13/60\n",
            "25/25 [==============================] - 21s 780ms/step - loss: 0.4940 - accuracy: 0.9050 - val_loss: 1.5542 - val_accuracy: 0.5450\n",
            "Epoch 14/60\n",
            "25/25 [==============================] - 21s 779ms/step - loss: 0.4877 - accuracy: 0.9013 - val_loss: 1.5127 - val_accuracy: 0.5350\n",
            "Epoch 15/60\n",
            "25/25 [==============================] - 21s 795ms/step - loss: 0.4668 - accuracy: 0.9038 - val_loss: 1.2060 - val_accuracy: 0.5500\n",
            "Epoch 16/60\n",
            "25/25 [==============================] - 21s 789ms/step - loss: 0.4809 - accuracy: 0.8988 - val_loss: 0.9607 - val_accuracy: 0.6100\n",
            "Epoch 17/60\n",
            "25/25 [==============================] - 21s 783ms/step - loss: 0.4779 - accuracy: 0.9062 - val_loss: 0.7846 - val_accuracy: 0.6550\n",
            "Epoch 18/60\n",
            "25/25 [==============================] - 21s 786ms/step - loss: 0.4677 - accuracy: 0.9038 - val_loss: 0.5838 - val_accuracy: 0.7350\n",
            "Epoch 19/60\n",
            "25/25 [==============================] - 21s 790ms/step - loss: 0.4863 - accuracy: 0.9050 - val_loss: 0.3908 - val_accuracy: 0.8400\n",
            "Epoch 20/60\n",
            "25/25 [==============================] - 21s 789ms/step - loss: 0.4678 - accuracy: 0.9025 - val_loss: 0.3645 - val_accuracy: 0.8500\n",
            "Epoch 21/60\n",
            "25/25 [==============================] - 21s 784ms/step - loss: 0.4525 - accuracy: 0.9025 - val_loss: 0.3594 - val_accuracy: 0.8600\n",
            "Epoch 22/60\n",
            "25/25 [==============================] - 21s 786ms/step - loss: 0.4817 - accuracy: 0.9038 - val_loss: 0.2812 - val_accuracy: 0.8900\n",
            "Epoch 23/60\n",
            "25/25 [==============================] - 21s 789ms/step - loss: 0.4663 - accuracy: 0.9013 - val_loss: 0.2674 - val_accuracy: 0.9050\n",
            "Epoch 24/60\n",
            "25/25 [==============================] - 21s 785ms/step - loss: 0.4464 - accuracy: 0.9075 - val_loss: 0.2695 - val_accuracy: 0.8950\n",
            "Epoch 25/60\n",
            "25/25 [==============================] - 21s 785ms/step - loss: 0.4927 - accuracy: 0.9050 - val_loss: 0.3058 - val_accuracy: 0.8850\n",
            "Epoch 26/60\n",
            "25/25 [==============================] - 21s 785ms/step - loss: 0.4457 - accuracy: 0.9038 - val_loss: 0.2512 - val_accuracy: 0.9200\n",
            "Epoch 27/60\n",
            "25/25 [==============================] - 22s 817ms/step - loss: 0.4475 - accuracy: 0.9087 - val_loss: 0.2777 - val_accuracy: 0.8900\n",
            "Epoch 28/60\n",
            "25/25 [==============================] - 21s 786ms/step - loss: 0.4656 - accuracy: 0.9125 - val_loss: 0.2742 - val_accuracy: 0.8900\n",
            "Epoch 29/60\n",
            "25/25 [==============================] - 21s 778ms/step - loss: 0.4663 - accuracy: 0.8988 - val_loss: 0.2591 - val_accuracy: 0.9150\n",
            "Epoch 30/60\n",
            "25/25 [==============================] - 21s 785ms/step - loss: 0.4356 - accuracy: 0.9112 - val_loss: 0.2468 - val_accuracy: 0.9300\n",
            "Epoch 31/60\n",
            "25/25 [==============================] - 21s 795ms/step - loss: 0.4360 - accuracy: 0.9175 - val_loss: 0.2488 - val_accuracy: 0.9250\n",
            "Epoch 32/60\n",
            "25/25 [==============================] - 21s 789ms/step - loss: 0.4829 - accuracy: 0.9050 - val_loss: 0.2575 - val_accuracy: 0.9050\n",
            "Epoch 33/60\n",
            "25/25 [==============================] - 21s 785ms/step - loss: 0.4763 - accuracy: 0.9087 - val_loss: 0.2488 - val_accuracy: 0.9250\n",
            "Epoch 34/60\n",
            "25/25 [==============================] - 21s 788ms/step - loss: 0.4209 - accuracy: 0.9038 - val_loss: 0.2612 - val_accuracy: 0.9150\n",
            "Epoch 35/60\n",
            "25/25 [==============================] - 21s 792ms/step - loss: 0.4576 - accuracy: 0.9087 - val_loss: 0.2423 - val_accuracy: 0.9350\n",
            "Epoch 36/60\n",
            "25/25 [==============================] - 21s 788ms/step - loss: 0.4601 - accuracy: 0.9137 - val_loss: 0.2641 - val_accuracy: 0.8950\n",
            "Epoch 37/60\n",
            "25/25 [==============================] - 21s 785ms/step - loss: 0.4541 - accuracy: 0.9038 - val_loss: 0.2834 - val_accuracy: 0.8900\n",
            "Epoch 38/60\n",
            "25/25 [==============================] - 21s 781ms/step - loss: 0.4841 - accuracy: 0.9000 - val_loss: 0.2373 - val_accuracy: 0.9350\n",
            "Epoch 39/60\n",
            "25/25 [==============================] - 22s 816ms/step - loss: 0.4460 - accuracy: 0.8963 - val_loss: 0.2435 - val_accuracy: 0.9150\n",
            "Epoch 40/60\n",
            "25/25 [==============================] - 21s 797ms/step - loss: 0.4499 - accuracy: 0.9087 - val_loss: 0.2721 - val_accuracy: 0.9150\n",
            "Epoch 41/60\n",
            "25/25 [==============================] - 21s 776ms/step - loss: 0.4507 - accuracy: 0.9075 - val_loss: 0.2926 - val_accuracy: 0.8800\n",
            "Epoch 42/60\n",
            "25/25 [==============================] - 21s 779ms/step - loss: 0.4596 - accuracy: 0.9100 - val_loss: 0.2645 - val_accuracy: 0.9000\n",
            "Epoch 43/60\n",
            "25/25 [==============================] - 21s 794ms/step - loss: 0.4341 - accuracy: 0.9087 - val_loss: 0.2996 - val_accuracy: 0.8900\n",
            "Epoch 44/60\n",
            "25/25 [==============================] - 21s 792ms/step - loss: 0.4271 - accuracy: 0.9100 - val_loss: 0.2864 - val_accuracy: 0.8900\n",
            "Epoch 45/60\n",
            "25/25 [==============================] - 21s 785ms/step - loss: 0.4281 - accuracy: 0.9162 - val_loss: 0.2749 - val_accuracy: 0.8750\n",
            "Epoch 46/60\n",
            "25/25 [==============================] - 21s 785ms/step - loss: 0.4297 - accuracy: 0.9162 - val_loss: 0.2657 - val_accuracy: 0.8900\n",
            "Epoch 47/60\n",
            "25/25 [==============================] - 21s 788ms/step - loss: 0.4607 - accuracy: 0.9050 - val_loss: 0.2681 - val_accuracy: 0.8850\n",
            "Epoch 48/60\n",
            "25/25 [==============================] - 21s 787ms/step - loss: 0.4704 - accuracy: 0.9013 - val_loss: 0.2667 - val_accuracy: 0.8900\n",
            "Epoch 49/60\n",
            "25/25 [==============================] - 21s 785ms/step - loss: 0.4447 - accuracy: 0.9087 - val_loss: 0.2643 - val_accuracy: 0.8950\n",
            "Epoch 50/60\n",
            "25/25 [==============================] - 21s 784ms/step - loss: 0.4215 - accuracy: 0.9112 - val_loss: 0.2632 - val_accuracy: 0.8950\n",
            "Epoch 51/60\n",
            "25/25 [==============================] - 21s 785ms/step - loss: 0.4148 - accuracy: 0.9125 - val_loss: 0.2616 - val_accuracy: 0.8950\n",
            "Epoch 52/60\n",
            "25/25 [==============================] - 21s 786ms/step - loss: 0.4477 - accuracy: 0.9025 - val_loss: 0.2612 - val_accuracy: 0.8950\n",
            "Epoch 53/60\n",
            "25/25 [==============================] - 21s 787ms/step - loss: 0.4141 - accuracy: 0.9150 - val_loss: 0.2604 - val_accuracy: 0.8950\n",
            "Epoch 54/60\n",
            "25/25 [==============================] - 21s 788ms/step - loss: 0.4199 - accuracy: 0.9125 - val_loss: 0.2603 - val_accuracy: 0.8950\n",
            "Epoch 55/60\n",
            "25/25 [==============================] - 21s 788ms/step - loss: 0.4707 - accuracy: 0.9087 - val_loss: 0.2602 - val_accuracy: 0.8950\n",
            "Epoch 56/60\n",
            "25/25 [==============================] - 21s 785ms/step - loss: 0.4400 - accuracy: 0.9062 - val_loss: 0.2598 - val_accuracy: 0.8950\n",
            "Epoch 57/60\n",
            "25/25 [==============================] - 21s 783ms/step - loss: 0.4463 - accuracy: 0.9075 - val_loss: 0.2595 - val_accuracy: 0.8950\n",
            "Epoch 58/60\n",
            "25/25 [==============================] - 21s 791ms/step - loss: 0.4328 - accuracy: 0.9100 - val_loss: 0.2594 - val_accuracy: 0.8950\n",
            "Epoch 59/60\n",
            "25/25 [==============================] - 21s 786ms/step - loss: 0.4311 - accuracy: 0.9125 - val_loss: 0.2597 - val_accuracy: 0.8950\n",
            "Epoch 60/60\n",
            "25/25 [==============================] - 21s 783ms/step - loss: 0.4405 - accuracy: 0.9050 - val_loss: 0.2598 - val_accuracy: 0.8950\n"
          ],
          "name": "stdout"
        },
        {
          "output_type": "execute_result",
          "data": {
            "text/plain": [
              "<keras.callbacks.History at 0x7f361e9de5d0>"
            ]
          },
          "metadata": {},
          "execution_count": 25
        }
      ]
    },
    {
      "cell_type": "code",
      "metadata": {
        "colab": {
          "base_uri": "https://localhost:8080/"
        },
        "id": "dnvkoNMTY2Wf",
        "outputId": "87490e45-ddab-409b-eba8-0e7862842d0c"
      },
      "source": [
        "models['base_model7'].fit(train_ds_scaled,validation_data=val_ds_scaled,epochs = 60, verbose = 1, workers = 3, class_weight = {0:1.13, 1:8.03, 2:1}, callbacks = [reduce_lr])"
      ],
      "execution_count": null,
      "outputs": [
        {
          "output_type": "stream",
          "text": [
            "Epoch 1/60\n",
            "25/25 [==============================] - 25s 827ms/step - loss: 1.7186 - accuracy: 0.4187 - val_loss: 1.3673 - val_accuracy: 0.4350\n",
            "Epoch 2/60\n",
            "25/25 [==============================] - 21s 804ms/step - loss: 1.6733 - accuracy: 0.3400 - val_loss: 1.3989 - val_accuracy: 0.4350\n",
            "Epoch 3/60\n",
            "25/25 [==============================] - 21s 797ms/step - loss: 1.5956 - accuracy: 0.4288 - val_loss: 2.1989 - val_accuracy: 0.4350\n",
            "Epoch 4/60\n",
            "25/25 [==============================] - 21s 796ms/step - loss: 1.0582 - accuracy: 0.6550 - val_loss: 1.2600 - val_accuracy: 0.4350\n",
            "Epoch 5/60\n",
            "25/25 [==============================] - 21s 796ms/step - loss: 0.9546 - accuracy: 0.7663 - val_loss: 4.5391 - val_accuracy: 0.4800\n",
            "Epoch 6/60\n",
            "25/25 [==============================] - 21s 799ms/step - loss: 0.9253 - accuracy: 0.7588 - val_loss: 4.3335 - val_accuracy: 0.4800\n",
            "Epoch 7/60\n",
            "25/25 [==============================] - 21s 788ms/step - loss: 0.7499 - accuracy: 0.8100 - val_loss: 4.2061 - val_accuracy: 0.4800\n",
            "Epoch 8/60\n",
            "25/25 [==============================] - 22s 827ms/step - loss: 0.6608 - accuracy: 0.8562 - val_loss: 4.1685 - val_accuracy: 0.4800\n",
            "Epoch 9/60\n",
            "25/25 [==============================] - 21s 801ms/step - loss: 0.6689 - accuracy: 0.8350 - val_loss: 2.1180 - val_accuracy: 0.4800\n",
            "Epoch 10/60\n",
            "25/25 [==============================] - 21s 784ms/step - loss: 0.6046 - accuracy: 0.8888 - val_loss: 2.0098 - val_accuracy: 0.4800\n",
            "Epoch 11/60\n",
            "25/25 [==============================] - 21s 789ms/step - loss: 0.5201 - accuracy: 0.9050 - val_loss: 2.0511 - val_accuracy: 0.4800\n",
            "Epoch 12/60\n",
            "25/25 [==============================] - 21s 803ms/step - loss: 0.4535 - accuracy: 0.8838 - val_loss: 1.8597 - val_accuracy: 0.4800\n",
            "Epoch 13/60\n",
            "25/25 [==============================] - 21s 797ms/step - loss: 0.4438 - accuracy: 0.9013 - val_loss: 1.5933 - val_accuracy: 0.4800\n",
            "Epoch 14/60\n",
            "25/25 [==============================] - 21s 789ms/step - loss: 0.4249 - accuracy: 0.9125 - val_loss: 1.4690 - val_accuracy: 0.4800\n",
            "Epoch 15/60\n",
            "25/25 [==============================] - 21s 790ms/step - loss: 0.4212 - accuracy: 0.9100 - val_loss: 1.6638 - val_accuracy: 0.4800\n",
            "Epoch 16/60\n",
            "25/25 [==============================] - 21s 798ms/step - loss: 0.4431 - accuracy: 0.9137 - val_loss: 1.9772 - val_accuracy: 0.4800\n",
            "Epoch 17/60\n",
            "25/25 [==============================] - 21s 797ms/step - loss: 0.4441 - accuracy: 0.9062 - val_loss: 2.2247 - val_accuracy: 0.4800\n",
            "Epoch 18/60\n",
            "25/25 [==============================] - 21s 795ms/step - loss: 0.4478 - accuracy: 0.9075 - val_loss: 2.4029 - val_accuracy: 0.4800\n",
            "Epoch 19/60\n",
            "25/25 [==============================] - 21s 796ms/step - loss: 0.4083 - accuracy: 0.9175 - val_loss: 2.3417 - val_accuracy: 0.4800\n",
            "Epoch 20/60\n",
            "25/25 [==============================] - 21s 798ms/step - loss: 0.4349 - accuracy: 0.9075 - val_loss: 2.1674 - val_accuracy: 0.4900\n",
            "Epoch 21/60\n",
            "25/25 [==============================] - 21s 801ms/step - loss: 0.4134 - accuracy: 0.9200 - val_loss: 1.9752 - val_accuracy: 0.5000\n",
            "Epoch 22/60\n",
            "25/25 [==============================] - 21s 795ms/step - loss: 0.4135 - accuracy: 0.9125 - val_loss: 1.8113 - val_accuracy: 0.5250\n",
            "Epoch 23/60\n",
            "25/25 [==============================] - 21s 796ms/step - loss: 0.4391 - accuracy: 0.9175 - val_loss: 1.6385 - val_accuracy: 0.5500\n",
            "Epoch 24/60\n",
            "25/25 [==============================] - 21s 800ms/step - loss: 0.4233 - accuracy: 0.9212 - val_loss: 1.4146 - val_accuracy: 0.5600\n",
            "Epoch 25/60\n",
            "25/25 [==============================] - 21s 796ms/step - loss: 0.4177 - accuracy: 0.9175 - val_loss: 1.1663 - val_accuracy: 0.6150\n",
            "Epoch 26/60\n",
            "25/25 [==============================] - 21s 798ms/step - loss: 0.4065 - accuracy: 0.9200 - val_loss: 0.9375 - val_accuracy: 0.6800\n",
            "Epoch 27/60\n",
            "25/25 [==============================] - 21s 798ms/step - loss: 0.4189 - accuracy: 0.9175 - val_loss: 0.7534 - val_accuracy: 0.7100\n",
            "Epoch 28/60\n",
            "25/25 [==============================] - 21s 790ms/step - loss: 0.4083 - accuracy: 0.9187 - val_loss: 0.6146 - val_accuracy: 0.7650\n",
            "Epoch 29/60\n",
            "25/25 [==============================] - 22s 827ms/step - loss: 0.3975 - accuracy: 0.9162 - val_loss: 0.5154 - val_accuracy: 0.8100\n",
            "Epoch 30/60\n",
            "25/25 [==============================] - 21s 785ms/step - loss: 0.4199 - accuracy: 0.9125 - val_loss: 0.4449 - val_accuracy: 0.8350\n",
            "Epoch 31/60\n",
            "25/25 [==============================] - 22s 829ms/step - loss: 0.4080 - accuracy: 0.9150 - val_loss: 0.3956 - val_accuracy: 0.8500\n",
            "Epoch 32/60\n",
            "25/25 [==============================] - 21s 805ms/step - loss: 0.4056 - accuracy: 0.9175 - val_loss: 0.3611 - val_accuracy: 0.8700\n",
            "Epoch 33/60\n",
            "25/25 [==============================] - 21s 784ms/step - loss: 0.4002 - accuracy: 0.9212 - val_loss: 0.3367 - val_accuracy: 0.8800\n",
            "Epoch 34/60\n",
            "25/25 [==============================] - 21s 786ms/step - loss: 0.4249 - accuracy: 0.9162 - val_loss: 0.3197 - val_accuracy: 0.8850\n",
            "Epoch 35/60\n",
            "25/25 [==============================] - 21s 801ms/step - loss: 0.4159 - accuracy: 0.9087 - val_loss: 0.3072 - val_accuracy: 0.8850\n",
            "Epoch 36/60\n",
            "25/25 [==============================] - 21s 798ms/step - loss: 0.4204 - accuracy: 0.9112 - val_loss: 0.2979 - val_accuracy: 0.8850\n",
            "Epoch 37/60\n",
            "25/25 [==============================] - 21s 792ms/step - loss: 0.4024 - accuracy: 0.9237 - val_loss: 0.2918 - val_accuracy: 0.8950\n",
            "Epoch 38/60\n",
            "25/25 [==============================] - 21s 793ms/step - loss: 0.4532 - accuracy: 0.9062 - val_loss: 0.2868 - val_accuracy: 0.9000\n",
            "Epoch 39/60\n",
            "25/25 [==============================] - 21s 796ms/step - loss: 0.4151 - accuracy: 0.9162 - val_loss: 0.2832 - val_accuracy: 0.9000\n",
            "Epoch 40/60\n",
            "25/25 [==============================] - 21s 796ms/step - loss: 0.4232 - accuracy: 0.9062 - val_loss: 0.2806 - val_accuracy: 0.9000\n",
            "Epoch 41/60\n",
            "25/25 [==============================] - 21s 799ms/step - loss: 0.4160 - accuracy: 0.9212 - val_loss: 0.2785 - val_accuracy: 0.9050\n",
            "Epoch 42/60\n",
            "25/25 [==============================] - 21s 795ms/step - loss: 0.4153 - accuracy: 0.9162 - val_loss: 0.2771 - val_accuracy: 0.9050\n",
            "Epoch 43/60\n",
            "25/25 [==============================] - 21s 798ms/step - loss: 0.4019 - accuracy: 0.9225 - val_loss: 0.2764 - val_accuracy: 0.9050\n",
            "Epoch 44/60\n",
            "25/25 [==============================] - 21s 797ms/step - loss: 0.3965 - accuracy: 0.9187 - val_loss: 0.2755 - val_accuracy: 0.9050\n",
            "Epoch 45/60\n",
            "25/25 [==============================] - 21s 797ms/step - loss: 0.4039 - accuracy: 0.9225 - val_loss: 0.2748 - val_accuracy: 0.9050\n",
            "Epoch 46/60\n",
            "25/25 [==============================] - 21s 798ms/step - loss: 0.4399 - accuracy: 0.9112 - val_loss: 0.2743 - val_accuracy: 0.9100\n",
            "Epoch 47/60\n",
            "25/25 [==============================] - 21s 796ms/step - loss: 0.4227 - accuracy: 0.9137 - val_loss: 0.2742 - val_accuracy: 0.9100\n",
            "Epoch 48/60\n",
            "25/25 [==============================] - 21s 794ms/step - loss: 0.4176 - accuracy: 0.9150 - val_loss: 0.2736 - val_accuracy: 0.9100\n",
            "Epoch 49/60\n",
            "25/25 [==============================] - 21s 798ms/step - loss: 0.4091 - accuracy: 0.9187 - val_loss: 0.2732 - val_accuracy: 0.9100\n",
            "Epoch 50/60\n",
            "25/25 [==============================] - 21s 797ms/step - loss: 0.4350 - accuracy: 0.9100 - val_loss: 0.2727 - val_accuracy: 0.9100\n",
            "Epoch 51/60\n",
            "25/25 [==============================] - 21s 794ms/step - loss: 0.4026 - accuracy: 0.9162 - val_loss: 0.2727 - val_accuracy: 0.9100\n",
            "Epoch 52/60\n",
            "25/25 [==============================] - 21s 797ms/step - loss: 0.4091 - accuracy: 0.9125 - val_loss: 0.2725 - val_accuracy: 0.9100\n",
            "Epoch 53/60\n",
            "25/25 [==============================] - 21s 797ms/step - loss: 0.4126 - accuracy: 0.9162 - val_loss: 0.2724 - val_accuracy: 0.9100\n",
            "Epoch 54/60\n",
            "25/25 [==============================] - 21s 798ms/step - loss: 0.3970 - accuracy: 0.9175 - val_loss: 0.2723 - val_accuracy: 0.9100\n",
            "Epoch 55/60\n",
            "25/25 [==============================] - 21s 797ms/step - loss: 0.4496 - accuracy: 0.9187 - val_loss: 0.2724 - val_accuracy: 0.9100\n",
            "Epoch 56/60\n",
            "25/25 [==============================] - 21s 798ms/step - loss: 0.4262 - accuracy: 0.9137 - val_loss: 0.2722 - val_accuracy: 0.9100\n",
            "Epoch 57/60\n",
            "25/25 [==============================] - 21s 795ms/step - loss: 0.4278 - accuracy: 0.9237 - val_loss: 0.2726 - val_accuracy: 0.9100\n",
            "Epoch 58/60\n",
            "25/25 [==============================] - 21s 798ms/step - loss: 0.4112 - accuracy: 0.9137 - val_loss: 0.2726 - val_accuracy: 0.9100\n",
            "Epoch 59/60\n",
            "25/25 [==============================] - 21s 797ms/step - loss: 0.4199 - accuracy: 0.9100 - val_loss: 0.2724 - val_accuracy: 0.9100\n",
            "Epoch 60/60\n",
            "25/25 [==============================] - 21s 796ms/step - loss: 0.4088 - accuracy: 0.9150 - val_loss: 0.2724 - val_accuracy: 0.9100\n"
          ],
          "name": "stdout"
        },
        {
          "output_type": "execute_result",
          "data": {
            "text/plain": [
              "<keras.callbacks.History at 0x7f361ff708d0>"
            ]
          },
          "metadata": {},
          "execution_count": 26
        }
      ]
    },
    {
      "cell_type": "code",
      "metadata": {
        "colab": {
          "base_uri": "https://localhost:8080/"
        },
        "id": "eXFc8TjpY2jL",
        "outputId": "3b22e48e-fa3d-4d9d-d6c2-205ef99b887f"
      },
      "source": [
        "models['base_model8'].fit(train_ds_scaled,validation_data=val_ds_scaled,epochs = 60, verbose = 1, workers = 3, class_weight = {0:1.13, 1:8.03, 2:1}, callbacks = [reduce_lr])"
      ],
      "execution_count": null,
      "outputs": [
        {
          "output_type": "stream",
          "text": [
            "Epoch 1/60\n",
            "25/25 [==============================] - 26s 872ms/step - loss: 1.8133 - accuracy: 0.3225 - val_loss: 1.4944 - val_accuracy: 0.4800\n",
            "Epoch 2/60\n",
            "25/25 [==============================] - 22s 844ms/step - loss: 1.5045 - accuracy: 0.5113 - val_loss: 2.4711 - val_accuracy: 0.4800\n",
            "Epoch 3/60\n",
            "25/25 [==============================] - 22s 839ms/step - loss: 1.0813 - accuracy: 0.6587 - val_loss: 4.4346 - val_accuracy: 0.4800\n",
            "Epoch 4/60\n",
            "25/25 [==============================] - 22s 837ms/step - loss: 0.9991 - accuracy: 0.6825 - val_loss: 7.4850 - val_accuracy: 0.4800\n",
            "Epoch 5/60\n",
            "25/25 [==============================] - 22s 841ms/step - loss: 0.9265 - accuracy: 0.7487 - val_loss: 6.9022 - val_accuracy: 0.4800\n",
            "Epoch 6/60\n",
            "25/25 [==============================] - 22s 843ms/step - loss: 0.8079 - accuracy: 0.7663 - val_loss: 3.0360 - val_accuracy: 0.4350\n",
            "Epoch 7/60\n",
            "25/25 [==============================] - 22s 841ms/step - loss: 0.6603 - accuracy: 0.8100 - val_loss: 3.2307 - val_accuracy: 0.4350\n",
            "Epoch 8/60\n",
            "25/25 [==============================] - 22s 839ms/step - loss: 0.6226 - accuracy: 0.8462 - val_loss: 3.0301 - val_accuracy: 0.4350\n",
            "Epoch 9/60\n",
            "25/25 [==============================] - 22s 840ms/step - loss: 0.6215 - accuracy: 0.8462 - val_loss: 3.0514 - val_accuracy: 0.4350\n",
            "Epoch 10/60\n",
            "25/25 [==============================] - 22s 844ms/step - loss: 0.5977 - accuracy: 0.8175 - val_loss: 3.0962 - val_accuracy: 0.4350\n",
            "Epoch 11/60\n",
            "25/25 [==============================] - 22s 837ms/step - loss: 0.5322 - accuracy: 0.8763 - val_loss: 2.6523 - val_accuracy: 0.4350\n",
            "Epoch 12/60\n",
            "25/25 [==============================] - 23s 872ms/step - loss: 0.5274 - accuracy: 0.8813 - val_loss: 2.4339 - val_accuracy: 0.4300\n",
            "Epoch 13/60\n",
            "25/25 [==============================] - 22s 839ms/step - loss: 0.5383 - accuracy: 0.8600 - val_loss: 2.2913 - val_accuracy: 0.1600\n",
            "Epoch 14/60\n",
            "25/25 [==============================] - 22s 827ms/step - loss: 0.5153 - accuracy: 0.8825 - val_loss: 2.6501 - val_accuracy: 0.0550\n",
            "Epoch 15/60\n",
            "25/25 [==============================] - 22s 840ms/step - loss: 0.5015 - accuracy: 0.8838 - val_loss: 2.9790 - val_accuracy: 0.0650\n",
            "Epoch 16/60\n",
            "25/25 [==============================] - 22s 844ms/step - loss: 0.5199 - accuracy: 0.8800 - val_loss: 2.9892 - val_accuracy: 0.1650\n",
            "Epoch 17/60\n",
            "25/25 [==============================] - 22s 840ms/step - loss: 0.5002 - accuracy: 0.8750 - val_loss: 2.7312 - val_accuracy: 0.3950\n",
            "Epoch 18/60\n",
            "25/25 [==============================] - 22s 838ms/step - loss: 0.5143 - accuracy: 0.8813 - val_loss: 2.3767 - val_accuracy: 0.5050\n",
            "Epoch 19/60\n",
            "25/25 [==============================] - 22s 839ms/step - loss: 0.5001 - accuracy: 0.8625 - val_loss: 1.9789 - val_accuracy: 0.5700\n",
            "Epoch 20/60\n",
            "25/25 [==============================] - 22s 845ms/step - loss: 0.5075 - accuracy: 0.8750 - val_loss: 1.6000 - val_accuracy: 0.5850\n",
            "Epoch 21/60\n",
            "25/25 [==============================] - 22s 842ms/step - loss: 0.5260 - accuracy: 0.8712 - val_loss: 1.2680 - val_accuracy: 0.6150\n",
            "Epoch 22/60\n",
            "25/25 [==============================] - 23s 881ms/step - loss: 0.5072 - accuracy: 0.8700 - val_loss: 1.0004 - val_accuracy: 0.6450\n",
            "Epoch 23/60\n",
            "25/25 [==============================] - 22s 838ms/step - loss: 0.4969 - accuracy: 0.8737 - val_loss: 0.8022 - val_accuracy: 0.7150\n",
            "Epoch 24/60\n",
            "25/25 [==============================] - 22s 844ms/step - loss: 0.5210 - accuracy: 0.8800 - val_loss: 0.6573 - val_accuracy: 0.7400\n",
            "Epoch 25/60\n",
            "25/25 [==============================] - 22s 843ms/step - loss: 0.5116 - accuracy: 0.8662 - val_loss: 0.5584 - val_accuracy: 0.7700\n",
            "Epoch 26/60\n",
            "25/25 [==============================] - 22s 840ms/step - loss: 0.5022 - accuracy: 0.8737 - val_loss: 0.4905 - val_accuracy: 0.7950\n",
            "Epoch 27/60\n",
            "25/25 [==============================] - 22s 842ms/step - loss: 0.5072 - accuracy: 0.8725 - val_loss: 0.4463 - val_accuracy: 0.8300\n",
            "Epoch 28/60\n",
            "25/25 [==============================] - 22s 843ms/step - loss: 0.5245 - accuracy: 0.8737 - val_loss: 0.4177 - val_accuracy: 0.8300\n",
            "Epoch 29/60\n",
            "25/25 [==============================] - 22s 840ms/step - loss: 0.5107 - accuracy: 0.8775 - val_loss: 0.3933 - val_accuracy: 0.8450\n",
            "Epoch 30/60\n",
            "25/25 [==============================] - 22s 840ms/step - loss: 0.5208 - accuracy: 0.8750 - val_loss: 0.3731 - val_accuracy: 0.8500\n",
            "Epoch 31/60\n",
            "25/25 [==============================] - 22s 845ms/step - loss: 0.5173 - accuracy: 0.8763 - val_loss: 0.3632 - val_accuracy: 0.8600\n",
            "Epoch 32/60\n",
            "25/25 [==============================] - 22s 841ms/step - loss: 0.5342 - accuracy: 0.8662 - val_loss: 0.3607 - val_accuracy: 0.8600\n",
            "Epoch 33/60\n",
            "25/25 [==============================] - 22s 839ms/step - loss: 0.5110 - accuracy: 0.8700 - val_loss: 0.3501 - val_accuracy: 0.8600\n",
            "Epoch 34/60\n",
            "25/25 [==============================] - 23s 844ms/step - loss: 0.4971 - accuracy: 0.8725 - val_loss: 0.3429 - val_accuracy: 0.8600\n",
            "Epoch 35/60\n",
            "25/25 [==============================] - 22s 843ms/step - loss: 0.4946 - accuracy: 0.8788 - val_loss: 0.3437 - val_accuracy: 0.8600\n",
            "Epoch 36/60\n",
            "25/25 [==============================] - 22s 843ms/step - loss: 0.4902 - accuracy: 0.8863 - val_loss: 0.3426 - val_accuracy: 0.8600\n",
            "Epoch 37/60\n",
            "25/25 [==============================] - 22s 837ms/step - loss: 0.5070 - accuracy: 0.8788 - val_loss: 0.3379 - val_accuracy: 0.8700\n",
            "Epoch 38/60\n",
            "25/25 [==============================] - 23s 872ms/step - loss: 0.5000 - accuracy: 0.8788 - val_loss: 0.3377 - val_accuracy: 0.8700\n",
            "Epoch 39/60\n",
            "25/25 [==============================] - 22s 838ms/step - loss: 0.5135 - accuracy: 0.8775 - val_loss: 0.3368 - val_accuracy: 0.8700\n",
            "Epoch 40/60\n",
            "25/25 [==============================] - 22s 821ms/step - loss: 0.5317 - accuracy: 0.8712 - val_loss: 0.3367 - val_accuracy: 0.8700\n",
            "Epoch 41/60\n",
            "25/25 [==============================] - 23s 870ms/step - loss: 0.5334 - accuracy: 0.8700 - val_loss: 0.3428 - val_accuracy: 0.8600\n",
            "Epoch 42/60\n",
            "25/25 [==============================] - 23s 850ms/step - loss: 0.5045 - accuracy: 0.8750 - val_loss: 0.3408 - val_accuracy: 0.8650\n",
            "Epoch 43/60\n",
            "25/25 [==============================] - 22s 825ms/step - loss: 0.5329 - accuracy: 0.8788 - val_loss: 0.3414 - val_accuracy: 0.8650\n",
            "Epoch 44/60\n",
            "25/25 [==============================] - 22s 836ms/step - loss: 0.4951 - accuracy: 0.8775 - val_loss: 0.3381 - val_accuracy: 0.8700\n",
            "Epoch 45/60\n",
            "25/25 [==============================] - 22s 845ms/step - loss: 0.5015 - accuracy: 0.8763 - val_loss: 0.3363 - val_accuracy: 0.8700\n",
            "Epoch 46/60\n",
            "25/25 [==============================] - 22s 845ms/step - loss: 0.4942 - accuracy: 0.8813 - val_loss: 0.3365 - val_accuracy: 0.8700\n",
            "Epoch 47/60\n",
            "25/25 [==============================] - 22s 839ms/step - loss: 0.5119 - accuracy: 0.8763 - val_loss: 0.3379 - val_accuracy: 0.8700\n",
            "Epoch 48/60\n",
            "25/25 [==============================] - 22s 842ms/step - loss: 0.4942 - accuracy: 0.8813 - val_loss: 0.3330 - val_accuracy: 0.8700\n",
            "Epoch 49/60\n",
            "25/25 [==============================] - 22s 843ms/step - loss: 0.4941 - accuracy: 0.8750 - val_loss: 0.3297 - val_accuracy: 0.8700\n",
            "Epoch 50/60\n",
            "25/25 [==============================] - 22s 842ms/step - loss: 0.4900 - accuracy: 0.8900 - val_loss: 0.3291 - val_accuracy: 0.8750\n",
            "Epoch 51/60\n",
            "25/25 [==============================] - 22s 838ms/step - loss: 0.4721 - accuracy: 0.8850 - val_loss: 0.3306 - val_accuracy: 0.8700\n",
            "Epoch 52/60\n",
            "25/25 [==============================] - 23s 879ms/step - loss: 0.4868 - accuracy: 0.8838 - val_loss: 0.3320 - val_accuracy: 0.8700\n",
            "Epoch 53/60\n",
            "25/25 [==============================] - 22s 841ms/step - loss: 0.5023 - accuracy: 0.8763 - val_loss: 0.3302 - val_accuracy: 0.8700\n",
            "Epoch 54/60\n",
            "25/25 [==============================] - 22s 829ms/step - loss: 0.5001 - accuracy: 0.8838 - val_loss: 0.3318 - val_accuracy: 0.8700\n",
            "Epoch 55/60\n",
            "25/25 [==============================] - 22s 844ms/step - loss: 0.5059 - accuracy: 0.8825 - val_loss: 0.3313 - val_accuracy: 0.8700\n",
            "Epoch 56/60\n",
            "25/25 [==============================] - 22s 846ms/step - loss: 0.5007 - accuracy: 0.8788 - val_loss: 0.3322 - val_accuracy: 0.8700\n",
            "Epoch 57/60\n",
            "25/25 [==============================] - 22s 844ms/step - loss: 0.4947 - accuracy: 0.8700 - val_loss: 0.3333 - val_accuracy: 0.8700\n",
            "Epoch 58/60\n",
            "25/25 [==============================] - 22s 839ms/step - loss: 0.4830 - accuracy: 0.8850 - val_loss: 0.3341 - val_accuracy: 0.8700\n",
            "Epoch 59/60\n",
            "25/25 [==============================] - 22s 842ms/step - loss: 0.5214 - accuracy: 0.8700 - val_loss: 0.3348 - val_accuracy: 0.8700\n",
            "Epoch 60/60\n",
            "25/25 [==============================] - 22s 842ms/step - loss: 0.5111 - accuracy: 0.8687 - val_loss: 0.3362 - val_accuracy: 0.8700\n"
          ],
          "name": "stdout"
        },
        {
          "output_type": "execute_result",
          "data": {
            "text/plain": [
              "<keras.callbacks.History at 0x7f361f0c47d0>"
            ]
          },
          "metadata": {},
          "execution_count": 27
        }
      ]
    },
    {
      "cell_type": "code",
      "metadata": {
        "colab": {
          "base_uri": "https://localhost:8080/"
        },
        "id": "yq0K7xbSY2td",
        "outputId": "d8b901c1-0f6d-43da-ea12-1c598fe05702"
      },
      "source": [
        "models['base_model9'].fit(train_ds_scaled,validation_data=val_ds_scaled,epochs = 60, verbose = 1, workers = 3, class_weight = {0:1.13, 1:8.03, 2:1}, callbacks = [reduce_lr])"
      ],
      "execution_count": null,
      "outputs": [
        {
          "output_type": "stream",
          "text": [
            "Epoch 1/60\n",
            "25/25 [==============================] - 26s 846ms/step - loss: 1.6887 - accuracy: 0.3913 - val_loss: 1.2466 - val_accuracy: 0.0850\n",
            "Epoch 2/60\n",
            "25/25 [==============================] - 22s 828ms/step - loss: 1.2700 - accuracy: 0.6425 - val_loss: 1.3263 - val_accuracy: 0.0850\n",
            "Epoch 3/60\n",
            "25/25 [==============================] - 22s 831ms/step - loss: 1.1764 - accuracy: 0.6263 - val_loss: 1.9645 - val_accuracy: 0.0850\n",
            "Epoch 4/60\n",
            "25/25 [==============================] - 22s 833ms/step - loss: 0.9656 - accuracy: 0.7287 - val_loss: 1.7612 - val_accuracy: 0.4800\n",
            "Epoch 5/60\n",
            "25/25 [==============================] - 22s 836ms/step - loss: 0.9767 - accuracy: 0.7337 - val_loss: 1.8396 - val_accuracy: 0.4800\n",
            "Epoch 6/60\n",
            "25/25 [==============================] - 21s 804ms/step - loss: 0.8373 - accuracy: 0.8050 - val_loss: 6.1869 - val_accuracy: 0.4800\n",
            "Epoch 7/60\n",
            "25/25 [==============================] - 22s 813ms/step - loss: 0.7033 - accuracy: 0.8462 - val_loss: 6.2747 - val_accuracy: 0.4800\n",
            "Epoch 8/60\n",
            "25/25 [==============================] - 21s 791ms/step - loss: 0.6734 - accuracy: 0.8587 - val_loss: 6.9461 - val_accuracy: 0.4800\n",
            "Epoch 9/60\n",
            "25/25 [==============================] - 21s 801ms/step - loss: 0.6295 - accuracy: 0.8650 - val_loss: 5.5967 - val_accuracy: 0.4800\n",
            "Epoch 10/60\n",
            "25/25 [==============================] - 21s 806ms/step - loss: 0.6545 - accuracy: 0.8500 - val_loss: 5.6656 - val_accuracy: 0.4800\n",
            "Epoch 11/60\n",
            "25/25 [==============================] - 22s 813ms/step - loss: 0.5866 - accuracy: 0.8550 - val_loss: 4.2391 - val_accuracy: 0.4800\n",
            "Epoch 12/60\n",
            "25/25 [==============================] - 22s 817ms/step - loss: 0.5752 - accuracy: 0.8975 - val_loss: 3.5539 - val_accuracy: 0.4900\n",
            "Epoch 13/60\n",
            "25/25 [==============================] - 22s 823ms/step - loss: 0.5763 - accuracy: 0.8763 - val_loss: 2.9280 - val_accuracy: 0.5000\n",
            "Epoch 14/60\n",
            "25/25 [==============================] - 22s 830ms/step - loss: 0.5539 - accuracy: 0.8800 - val_loss: 2.4099 - val_accuracy: 0.5450\n",
            "Epoch 15/60\n",
            "25/25 [==============================] - 22s 848ms/step - loss: 0.5908 - accuracy: 0.8763 - val_loss: 1.8123 - val_accuracy: 0.5600\n",
            "Epoch 16/60\n",
            "25/25 [==============================] - 23s 857ms/step - loss: 0.5428 - accuracy: 0.8763 - val_loss: 1.4029 - val_accuracy: 0.5850\n",
            "Epoch 17/60\n",
            "25/25 [==============================] - 22s 846ms/step - loss: 0.5465 - accuracy: 0.8850 - val_loss: 1.0931 - val_accuracy: 0.6150\n",
            "Epoch 18/60\n",
            "25/25 [==============================] - 23s 881ms/step - loss: 0.5387 - accuracy: 0.8750 - val_loss: 0.8436 - val_accuracy: 0.6600\n",
            "Epoch 19/60\n",
            "25/25 [==============================] - 22s 845ms/step - loss: 0.5539 - accuracy: 0.8725 - val_loss: 0.6623 - val_accuracy: 0.7450\n",
            "Epoch 20/60\n",
            "25/25 [==============================] - 23s 881ms/step - loss: 0.5385 - accuracy: 0.8825 - val_loss: 0.5450 - val_accuracy: 0.7750\n",
            "Epoch 21/60\n",
            "25/25 [==============================] - 23s 860ms/step - loss: 0.5459 - accuracy: 0.8800 - val_loss: 0.4715 - val_accuracy: 0.7950\n",
            "Epoch 22/60\n",
            "25/25 [==============================] - 22s 841ms/step - loss: 0.5922 - accuracy: 0.8575 - val_loss: 0.4254 - val_accuracy: 0.8300\n",
            "Epoch 23/60\n",
            "25/25 [==============================] - 22s 838ms/step - loss: 0.5723 - accuracy: 0.8813 - val_loss: 0.3874 - val_accuracy: 0.8400\n",
            "Epoch 24/60\n",
            "25/25 [==============================] - 23s 884ms/step - loss: 0.5817 - accuracy: 0.8662 - val_loss: 0.3668 - val_accuracy: 0.8600\n",
            "Epoch 25/60\n",
            "25/25 [==============================] - 22s 844ms/step - loss: 0.5405 - accuracy: 0.8750 - val_loss: 0.3479 - val_accuracy: 0.8700\n",
            "Epoch 26/60\n",
            "25/25 [==============================] - 23s 881ms/step - loss: 0.5373 - accuracy: 0.8775 - val_loss: 0.3408 - val_accuracy: 0.8800\n",
            "Epoch 27/60\n",
            "25/25 [==============================] - 23s 851ms/step - loss: 0.5663 - accuracy: 0.8763 - val_loss: 0.3319 - val_accuracy: 0.8750\n",
            "Epoch 28/60\n",
            "25/25 [==============================] - 22s 842ms/step - loss: 0.5733 - accuracy: 0.8725 - val_loss: 0.3269 - val_accuracy: 0.8850\n",
            "Epoch 29/60\n",
            "25/25 [==============================] - 22s 846ms/step - loss: 0.5547 - accuracy: 0.8788 - val_loss: 0.3195 - val_accuracy: 0.8950\n",
            "Epoch 30/60\n",
            "25/25 [==============================] - 23s 857ms/step - loss: 0.5439 - accuracy: 0.8813 - val_loss: 0.3151 - val_accuracy: 0.9000\n",
            "Epoch 31/60\n",
            "25/25 [==============================] - 23s 849ms/step - loss: 0.5306 - accuracy: 0.8850 - val_loss: 0.3125 - val_accuracy: 0.9000\n",
            "Epoch 32/60\n",
            "25/25 [==============================] - 23s 849ms/step - loss: 0.5311 - accuracy: 0.8863 - val_loss: 0.3115 - val_accuracy: 0.9000\n",
            "Epoch 33/60\n",
            "25/25 [==============================] - 23s 845ms/step - loss: 0.5558 - accuracy: 0.8900 - val_loss: 0.3114 - val_accuracy: 0.9000\n",
            "Epoch 34/60\n",
            "25/25 [==============================] - 23s 849ms/step - loss: 0.5302 - accuracy: 0.8838 - val_loss: 0.3113 - val_accuracy: 0.9000\n",
            "Epoch 35/60\n",
            "25/25 [==============================] - 23s 850ms/step - loss: 0.5485 - accuracy: 0.8750 - val_loss: 0.3118 - val_accuracy: 0.9000\n",
            "Epoch 36/60\n",
            "25/25 [==============================] - 23s 852ms/step - loss: 0.5337 - accuracy: 0.8975 - val_loss: 0.3094 - val_accuracy: 0.8950\n",
            "Epoch 37/60\n",
            "25/25 [==============================] - 22s 848ms/step - loss: 0.5473 - accuracy: 0.8925 - val_loss: 0.3123 - val_accuracy: 0.8950\n",
            "Epoch 38/60\n",
            "25/25 [==============================] - 22s 846ms/step - loss: 0.5581 - accuracy: 0.8700 - val_loss: 0.3113 - val_accuracy: 0.8950\n",
            "Epoch 39/60\n",
            "25/25 [==============================] - 23s 852ms/step - loss: 0.5763 - accuracy: 0.8687 - val_loss: 0.3105 - val_accuracy: 0.8950\n",
            "Epoch 40/60\n",
            "25/25 [==============================] - 22s 847ms/step - loss: 0.5584 - accuracy: 0.8838 - val_loss: 0.3099 - val_accuracy: 0.8950\n",
            "Epoch 41/60\n",
            "25/25 [==============================] - 22s 847ms/step - loss: 0.5592 - accuracy: 0.8788 - val_loss: 0.3118 - val_accuracy: 0.8950\n",
            "Epoch 42/60\n",
            "25/25 [==============================] - 23s 850ms/step - loss: 0.5330 - accuracy: 0.8925 - val_loss: 0.3143 - val_accuracy: 0.8950\n",
            "Epoch 43/60\n",
            "25/25 [==============================] - 23s 850ms/step - loss: 0.5512 - accuracy: 0.8813 - val_loss: 0.3165 - val_accuracy: 0.8950\n",
            "Epoch 44/60\n",
            "25/25 [==============================] - 22s 847ms/step - loss: 0.5381 - accuracy: 0.8888 - val_loss: 0.3175 - val_accuracy: 0.8950\n",
            "Epoch 45/60\n",
            "25/25 [==============================] - 23s 850ms/step - loss: 0.5766 - accuracy: 0.8850 - val_loss: 0.3186 - val_accuracy: 0.8950\n",
            "Epoch 46/60\n",
            "25/25 [==============================] - 23s 853ms/step - loss: 0.5576 - accuracy: 0.8875 - val_loss: 0.3197 - val_accuracy: 0.9000\n",
            "Epoch 47/60\n",
            "25/25 [==============================] - 22s 848ms/step - loss: 0.5517 - accuracy: 0.8863 - val_loss: 0.3211 - val_accuracy: 0.8950\n",
            "Epoch 48/60\n",
            "25/25 [==============================] - 23s 848ms/step - loss: 0.5523 - accuracy: 0.8875 - val_loss: 0.3222 - val_accuracy: 0.8950\n",
            "Epoch 49/60\n",
            "25/25 [==============================] - 23s 852ms/step - loss: 0.5550 - accuracy: 0.8838 - val_loss: 0.3231 - val_accuracy: 0.8900\n",
            "Epoch 50/60\n",
            "25/25 [==============================] - 23s 850ms/step - loss: 0.5497 - accuracy: 0.8900 - val_loss: 0.3236 - val_accuracy: 0.8900\n",
            "Epoch 51/60\n",
            "25/25 [==============================] - 22s 848ms/step - loss: 0.5531 - accuracy: 0.8850 - val_loss: 0.3243 - val_accuracy: 0.8900\n",
            "Epoch 52/60\n",
            "25/25 [==============================] - 23s 851ms/step - loss: 0.5582 - accuracy: 0.8825 - val_loss: 0.3248 - val_accuracy: 0.8900\n",
            "Epoch 53/60\n",
            "25/25 [==============================] - 23s 853ms/step - loss: 0.5520 - accuracy: 0.8888 - val_loss: 0.3250 - val_accuracy: 0.8900\n",
            "Epoch 54/60\n",
            "25/25 [==============================] - 23s 851ms/step - loss: 0.5731 - accuracy: 0.8875 - val_loss: 0.3250 - val_accuracy: 0.8900\n",
            "Epoch 55/60\n",
            "25/25 [==============================] - 23s 849ms/step - loss: 0.5375 - accuracy: 0.8775 - val_loss: 0.3253 - val_accuracy: 0.8900\n",
            "Epoch 56/60\n",
            "25/25 [==============================] - 22s 845ms/step - loss: 0.5606 - accuracy: 0.8737 - val_loss: 0.3254 - val_accuracy: 0.8900\n",
            "Epoch 57/60\n",
            "25/25 [==============================] - 23s 849ms/step - loss: 0.5464 - accuracy: 0.8775 - val_loss: 0.3255 - val_accuracy: 0.8900\n",
            "Epoch 58/60\n",
            "25/25 [==============================] - 23s 876ms/step - loss: 0.5621 - accuracy: 0.8775 - val_loss: 0.3257 - val_accuracy: 0.8950\n",
            "Epoch 59/60\n",
            "25/25 [==============================] - 23s 860ms/step - loss: 0.5339 - accuracy: 0.8700 - val_loss: 0.3258 - val_accuracy: 0.8950\n",
            "Epoch 60/60\n",
            "25/25 [==============================] - 22s 835ms/step - loss: 0.5710 - accuracy: 0.8813 - val_loss: 0.3261 - val_accuracy: 0.8950\n"
          ],
          "name": "stdout"
        },
        {
          "output_type": "execute_result",
          "data": {
            "text/plain": [
              "<keras.callbacks.History at 0x7f3619c86f10>"
            ]
          },
          "metadata": {},
          "execution_count": 28
        }
      ]
    },
    {
      "cell_type": "code",
      "metadata": {
        "colab": {
          "base_uri": "https://localhost:8080/"
        },
        "id": "DYT1wGYbY25E",
        "outputId": "74904dcf-ab76-4800-ca90-f56ac933caf2"
      },
      "source": [
        "base_resnet= ResNet50(include_top=False, weights='imagenet',input_shape = (img_height, img_width, 3),classes = num_classes, pooling = 'avg')\n",
        "for layer in base_resnet.layers:\n",
        "    layer.trainable = True\n",
        "input_layer = base_resnet.input\n",
        "output_layer = base_resnet.output\n",
        "x = Dense(num_classes, activation  = 'softmax')(output_layer)    \n",
        "base_resnet_retrained = Model(inputs = input_layer, outputs = x)\n",
        "\n",
        "trained_layers = ['a' if layer.trainable == True else None for layer in base_resnet_retrained.layers]\n",
        "print(f'The number of trainable layers in base_resnet_retrained is', trained_layers.count('a'), sep=':')"
      ],
      "execution_count": null,
      "outputs": [
        {
          "output_type": "stream",
          "text": [
            "The number of trainable layers in base_resnet_retrained is:177\n"
          ],
          "name": "stdout"
        }
      ]
    },
    {
      "cell_type": "code",
      "metadata": {
        "id": "O1LJes6bY3Ea"
      },
      "source": [
        "base_resnet_retrained.compile(optimizer = optimizers.Adam(lr=1e-4), loss = 'categorical_crossentropy', metrics = ['accuracy'])"
      ],
      "execution_count": null,
      "outputs": []
    },
    {
      "cell_type": "code",
      "metadata": {
        "colab": {
          "base_uri": "https://localhost:8080/",
          "height": 455
        },
        "id": "BK_VnZdqY3P_",
        "outputId": "7e613d29-a234-4956-8810-2dfab3ea3a4b"
      },
      "source": [
        "base_resnet_retrained.fit(train_ds_scaled,validation_data=val_ds_scaled,epochs = 60, verbose = 1, workers = 3, class_weight = {0:1.13, 1:8.03, 2:1}, callbacks = [reduce_lr])"
      ],
      "execution_count": null,
      "outputs": [
        {
          "output_type": "stream",
          "text": [
            "Epoch 1/60\n"
          ],
          "name": "stdout"
        },
        {
          "output_type": "error",
          "ename": "ResourceExhaustedError",
          "evalue": "ignored",
          "traceback": [
            "\u001b[0;31m---------------------------------------------------------------------------\u001b[0m",
            "\u001b[0;31mResourceExhaustedError\u001b[0m                    Traceback (most recent call last)",
            "\u001b[0;32m<ipython-input-40-a2a3d91fea52>\u001b[0m in \u001b[0;36m<module>\u001b[0;34m()\u001b[0m\n\u001b[0;32m----> 1\u001b[0;31m \u001b[0mbase_resnet_retrained\u001b[0m\u001b[0;34m.\u001b[0m\u001b[0mfit\u001b[0m\u001b[0;34m(\u001b[0m\u001b[0mtrain_ds_scaled\u001b[0m\u001b[0;34m,\u001b[0m\u001b[0mvalidation_data\u001b[0m\u001b[0;34m=\u001b[0m\u001b[0mval_ds_scaled\u001b[0m\u001b[0;34m,\u001b[0m\u001b[0mepochs\u001b[0m \u001b[0;34m=\u001b[0m \u001b[0;36m60\u001b[0m\u001b[0;34m,\u001b[0m \u001b[0mverbose\u001b[0m \u001b[0;34m=\u001b[0m \u001b[0;36m1\u001b[0m\u001b[0;34m,\u001b[0m \u001b[0mworkers\u001b[0m \u001b[0;34m=\u001b[0m \u001b[0;36m3\u001b[0m\u001b[0;34m,\u001b[0m \u001b[0mclass_weight\u001b[0m \u001b[0;34m=\u001b[0m \u001b[0;34m{\u001b[0m\u001b[0;36m0\u001b[0m\u001b[0;34m:\u001b[0m\u001b[0;36m1.13\u001b[0m\u001b[0;34m,\u001b[0m \u001b[0;36m1\u001b[0m\u001b[0;34m:\u001b[0m\u001b[0;36m8.03\u001b[0m\u001b[0;34m,\u001b[0m \u001b[0;36m2\u001b[0m\u001b[0;34m:\u001b[0m\u001b[0;36m1\u001b[0m\u001b[0;34m}\u001b[0m\u001b[0;34m,\u001b[0m \u001b[0mcallbacks\u001b[0m \u001b[0;34m=\u001b[0m \u001b[0;34m[\u001b[0m\u001b[0mreduce_lr\u001b[0m\u001b[0;34m]\u001b[0m\u001b[0;34m)\u001b[0m\u001b[0;34m\u001b[0m\u001b[0;34m\u001b[0m\u001b[0m\n\u001b[0m",
            "\u001b[0;32m/usr/local/lib/python3.7/dist-packages/keras/engine/training.py\u001b[0m in \u001b[0;36mfit\u001b[0;34m(self, x, y, batch_size, epochs, verbose, callbacks, validation_split, validation_data, shuffle, class_weight, sample_weight, initial_epoch, steps_per_epoch, validation_steps, validation_batch_size, validation_freq, max_queue_size, workers, use_multiprocessing)\u001b[0m\n\u001b[1;32m   1182\u001b[0m                 _r=1):\n\u001b[1;32m   1183\u001b[0m               \u001b[0mcallbacks\u001b[0m\u001b[0;34m.\u001b[0m\u001b[0mon_train_batch_begin\u001b[0m\u001b[0;34m(\u001b[0m\u001b[0mstep\u001b[0m\u001b[0;34m)\u001b[0m\u001b[0;34m\u001b[0m\u001b[0;34m\u001b[0m\u001b[0m\n\u001b[0;32m-> 1184\u001b[0;31m               \u001b[0mtmp_logs\u001b[0m \u001b[0;34m=\u001b[0m \u001b[0mself\u001b[0m\u001b[0;34m.\u001b[0m\u001b[0mtrain_function\u001b[0m\u001b[0;34m(\u001b[0m\u001b[0miterator\u001b[0m\u001b[0;34m)\u001b[0m\u001b[0;34m\u001b[0m\u001b[0;34m\u001b[0m\u001b[0m\n\u001b[0m\u001b[1;32m   1185\u001b[0m               \u001b[0;32mif\u001b[0m \u001b[0mdata_handler\u001b[0m\u001b[0;34m.\u001b[0m\u001b[0mshould_sync\u001b[0m\u001b[0;34m:\u001b[0m\u001b[0;34m\u001b[0m\u001b[0;34m\u001b[0m\u001b[0m\n\u001b[1;32m   1186\u001b[0m                 \u001b[0mcontext\u001b[0m\u001b[0;34m.\u001b[0m\u001b[0masync_wait\u001b[0m\u001b[0;34m(\u001b[0m\u001b[0;34m)\u001b[0m\u001b[0;34m\u001b[0m\u001b[0;34m\u001b[0m\u001b[0m\n",
            "\u001b[0;32m/usr/local/lib/python3.7/dist-packages/tensorflow/python/eager/def_function.py\u001b[0m in \u001b[0;36m__call__\u001b[0;34m(self, *args, **kwds)\u001b[0m\n\u001b[1;32m    883\u001b[0m \u001b[0;34m\u001b[0m\u001b[0m\n\u001b[1;32m    884\u001b[0m       \u001b[0;32mwith\u001b[0m \u001b[0mOptionalXlaContext\u001b[0m\u001b[0;34m(\u001b[0m\u001b[0mself\u001b[0m\u001b[0;34m.\u001b[0m\u001b[0m_jit_compile\u001b[0m\u001b[0;34m)\u001b[0m\u001b[0;34m:\u001b[0m\u001b[0;34m\u001b[0m\u001b[0;34m\u001b[0m\u001b[0m\n\u001b[0;32m--> 885\u001b[0;31m         \u001b[0mresult\u001b[0m \u001b[0;34m=\u001b[0m \u001b[0mself\u001b[0m\u001b[0;34m.\u001b[0m\u001b[0m_call\u001b[0m\u001b[0;34m(\u001b[0m\u001b[0;34m*\u001b[0m\u001b[0margs\u001b[0m\u001b[0;34m,\u001b[0m \u001b[0;34m**\u001b[0m\u001b[0mkwds\u001b[0m\u001b[0;34m)\u001b[0m\u001b[0;34m\u001b[0m\u001b[0;34m\u001b[0m\u001b[0m\n\u001b[0m\u001b[1;32m    886\u001b[0m \u001b[0;34m\u001b[0m\u001b[0m\n\u001b[1;32m    887\u001b[0m       \u001b[0mnew_tracing_count\u001b[0m \u001b[0;34m=\u001b[0m \u001b[0mself\u001b[0m\u001b[0;34m.\u001b[0m\u001b[0mexperimental_get_tracing_count\u001b[0m\u001b[0;34m(\u001b[0m\u001b[0;34m)\u001b[0m\u001b[0;34m\u001b[0m\u001b[0;34m\u001b[0m\u001b[0m\n",
            "\u001b[0;32m/usr/local/lib/python3.7/dist-packages/tensorflow/python/eager/def_function.py\u001b[0m in \u001b[0;36m_call\u001b[0;34m(self, *args, **kwds)\u001b[0m\n\u001b[1;32m    948\u001b[0m         \u001b[0;31m# Lifting succeeded, so variables are initialized and we can run the\u001b[0m\u001b[0;34m\u001b[0m\u001b[0;34m\u001b[0m\u001b[0;34m\u001b[0m\u001b[0m\n\u001b[1;32m    949\u001b[0m         \u001b[0;31m# stateless function.\u001b[0m\u001b[0;34m\u001b[0m\u001b[0;34m\u001b[0m\u001b[0;34m\u001b[0m\u001b[0m\n\u001b[0;32m--> 950\u001b[0;31m         \u001b[0;32mreturn\u001b[0m \u001b[0mself\u001b[0m\u001b[0;34m.\u001b[0m\u001b[0m_stateless_fn\u001b[0m\u001b[0;34m(\u001b[0m\u001b[0;34m*\u001b[0m\u001b[0margs\u001b[0m\u001b[0;34m,\u001b[0m \u001b[0;34m**\u001b[0m\u001b[0mkwds\u001b[0m\u001b[0;34m)\u001b[0m\u001b[0;34m\u001b[0m\u001b[0;34m\u001b[0m\u001b[0m\n\u001b[0m\u001b[1;32m    951\u001b[0m     \u001b[0;32melse\u001b[0m\u001b[0;34m:\u001b[0m\u001b[0;34m\u001b[0m\u001b[0;34m\u001b[0m\u001b[0m\n\u001b[1;32m    952\u001b[0m       \u001b[0m_\u001b[0m\u001b[0;34m,\u001b[0m \u001b[0m_\u001b[0m\u001b[0;34m,\u001b[0m \u001b[0m_\u001b[0m\u001b[0;34m,\u001b[0m \u001b[0mfiltered_flat_args\u001b[0m \u001b[0;34m=\u001b[0m\u001b[0;31m \u001b[0m\u001b[0;31m\\\u001b[0m\u001b[0;34m\u001b[0m\u001b[0;34m\u001b[0m\u001b[0m\n",
            "\u001b[0;32m/usr/local/lib/python3.7/dist-packages/tensorflow/python/eager/function.py\u001b[0m in \u001b[0;36m__call__\u001b[0;34m(self, *args, **kwargs)\u001b[0m\n\u001b[1;32m   3038\u001b[0m        filtered_flat_args) = self._maybe_define_function(args, kwargs)\n\u001b[1;32m   3039\u001b[0m     return graph_function._call_flat(\n\u001b[0;32m-> 3040\u001b[0;31m         filtered_flat_args, captured_inputs=graph_function.captured_inputs)  # pylint: disable=protected-access\n\u001b[0m\u001b[1;32m   3041\u001b[0m \u001b[0;34m\u001b[0m\u001b[0m\n\u001b[1;32m   3042\u001b[0m   \u001b[0;34m@\u001b[0m\u001b[0mproperty\u001b[0m\u001b[0;34m\u001b[0m\u001b[0;34m\u001b[0m\u001b[0m\n",
            "\u001b[0;32m/usr/local/lib/python3.7/dist-packages/tensorflow/python/eager/function.py\u001b[0m in \u001b[0;36m_call_flat\u001b[0;34m(self, args, captured_inputs, cancellation_manager)\u001b[0m\n\u001b[1;32m   1962\u001b[0m       \u001b[0;31m# No tape is watching; skip to running the function.\u001b[0m\u001b[0;34m\u001b[0m\u001b[0;34m\u001b[0m\u001b[0;34m\u001b[0m\u001b[0m\n\u001b[1;32m   1963\u001b[0m       return self._build_call_outputs(self._inference_function.call(\n\u001b[0;32m-> 1964\u001b[0;31m           ctx, args, cancellation_manager=cancellation_manager))\n\u001b[0m\u001b[1;32m   1965\u001b[0m     forward_backward = self._select_forward_and_backward_functions(\n\u001b[1;32m   1966\u001b[0m         \u001b[0margs\u001b[0m\u001b[0;34m,\u001b[0m\u001b[0;34m\u001b[0m\u001b[0;34m\u001b[0m\u001b[0m\n",
            "\u001b[0;32m/usr/local/lib/python3.7/dist-packages/tensorflow/python/eager/function.py\u001b[0m in \u001b[0;36mcall\u001b[0;34m(self, ctx, args, cancellation_manager)\u001b[0m\n\u001b[1;32m    594\u001b[0m               \u001b[0minputs\u001b[0m\u001b[0;34m=\u001b[0m\u001b[0margs\u001b[0m\u001b[0;34m,\u001b[0m\u001b[0;34m\u001b[0m\u001b[0;34m\u001b[0m\u001b[0m\n\u001b[1;32m    595\u001b[0m               \u001b[0mattrs\u001b[0m\u001b[0;34m=\u001b[0m\u001b[0mattrs\u001b[0m\u001b[0;34m,\u001b[0m\u001b[0;34m\u001b[0m\u001b[0;34m\u001b[0m\u001b[0m\n\u001b[0;32m--> 596\u001b[0;31m               ctx=ctx)\n\u001b[0m\u001b[1;32m    597\u001b[0m         \u001b[0;32melse\u001b[0m\u001b[0;34m:\u001b[0m\u001b[0;34m\u001b[0m\u001b[0;34m\u001b[0m\u001b[0m\n\u001b[1;32m    598\u001b[0m           outputs = execute.execute_with_cancellation(\n",
            "\u001b[0;32m/usr/local/lib/python3.7/dist-packages/tensorflow/python/eager/execute.py\u001b[0m in \u001b[0;36mquick_execute\u001b[0;34m(op_name, num_outputs, inputs, attrs, ctx, name)\u001b[0m\n\u001b[1;32m     58\u001b[0m     \u001b[0mctx\u001b[0m\u001b[0;34m.\u001b[0m\u001b[0mensure_initialized\u001b[0m\u001b[0;34m(\u001b[0m\u001b[0;34m)\u001b[0m\u001b[0;34m\u001b[0m\u001b[0;34m\u001b[0m\u001b[0m\n\u001b[1;32m     59\u001b[0m     tensors = pywrap_tfe.TFE_Py_Execute(ctx._handle, device_name, op_name,\n\u001b[0;32m---> 60\u001b[0;31m                                         inputs, attrs, num_outputs)\n\u001b[0m\u001b[1;32m     61\u001b[0m   \u001b[0;32mexcept\u001b[0m \u001b[0mcore\u001b[0m\u001b[0;34m.\u001b[0m\u001b[0m_NotOkStatusException\u001b[0m \u001b[0;32mas\u001b[0m \u001b[0me\u001b[0m\u001b[0;34m:\u001b[0m\u001b[0;34m\u001b[0m\u001b[0;34m\u001b[0m\u001b[0m\n\u001b[1;32m     62\u001b[0m     \u001b[0;32mif\u001b[0m \u001b[0mname\u001b[0m \u001b[0;32mis\u001b[0m \u001b[0;32mnot\u001b[0m \u001b[0;32mNone\u001b[0m\u001b[0;34m:\u001b[0m\u001b[0;34m\u001b[0m\u001b[0;34m\u001b[0m\u001b[0m\n",
            "\u001b[0;31mResourceExhaustedError\u001b[0m:  OOM when allocating tensor with shape[1024,512,1,1] and type float on /job:localhost/replica:0/task:0/device:GPU:0 by allocator GPU_0_bfc\n\t [[node model_21/conv4_block1_0_conv/Conv2D (defined at <ipython-input-40-a2a3d91fea52>:1) ]]\nHint: If you want to see a list of allocated tensors when OOM happens, add report_tensor_allocations_upon_oom to RunOptions for current allocation info. This isn't available when running in Eager mode.\n [Op:__inference_train_function_229077]\n\nFunction call stack:\ntrain_function\n"
          ]
        }
      ]
    }
  ]
}