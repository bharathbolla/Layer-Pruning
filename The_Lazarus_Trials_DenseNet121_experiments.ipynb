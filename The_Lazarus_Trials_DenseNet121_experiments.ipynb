{
  "nbformat": 4,
  "nbformat_minor": 0,
  "metadata": {
    "kernelspec": {
      "display_name": "Python 3",
      "language": "python",
      "name": "python3"
    },
    "language_info": {
      "codemirror_mode": {
        "name": "ipython",
        "version": 3
      },
      "file_extension": ".py",
      "mimetype": "text/x-python",
      "name": "python",
      "nbconvert_exporter": "python",
      "pygments_lexer": "ipython3",
      "version": "3.8.3"
    },
    "colab": {
      "name": "The Lazarus Trials - DenseNet121_experiments.ipynb",
      "provenance": [],
      "collapsed_sections": [],
      "machine_shape": "hm",
      "include_colab_link": true
    },
    "accelerator": "GPU"
  },
  "cells": [
    {
      "cell_type": "markdown",
      "metadata": {
        "id": "view-in-github",
        "colab_type": "text"
      },
      "source": [
        "<a href=\"https://colab.research.google.com/github/sabeesh90/Layer_Fine_Tuning_Deep_Neural_Networks/blob/main/The_Lazarus_Trials_DenseNet121_experiments.ipynb\" target=\"_parent\"><img src=\"https://colab.research.google.com/assets/colab-badge.svg\" alt=\"Open In Colab\"/></a>"
      ]
    },
    {
      "cell_type": "markdown",
      "metadata": {
        "id": "SC1TI_gLUXF4"
      },
      "source": [
        "#### Importing libraries"
      ]
    },
    {
      "cell_type": "code",
      "metadata": {
        "id": "vADQpd_tUXF5",
        "colab": {
          "base_uri": "https://localhost:8080/"
        },
        "outputId": "31574ef6-45d8-41ab-be0a-5df9ce253fc0"
      },
      "source": [
        "from PIL import Image\n",
        "import requests\n",
        "from io import BytesIO\n",
        "import pandas as pd\n",
        "import numpy as np\n",
        "import matplotlib.pyplot as plt\n",
        "import tensorflow.keras as keras\n",
        "import seaborn as sns\n",
        "import warnings\n",
        "import os\n",
        "from skimage import io\n",
        "import pathlib\n",
        "import glob\n",
        "import numpy as np\n",
        "import pandas as pd\n",
        "import tensorflow as tf\n",
        "from sklearn.model_selection import train_test_split\n",
        "from tensorflow.keras import Model\n",
        "from tensorflow.keras.layers import *\n",
        "from tensorflow.keras.losses import CategoricalCrossentropy\n",
        "from tensorflow.keras import layers\n",
        "from tensorflow.keras.models import Sequential, Model, load_model\n",
        "from tensorflow.keras.layers import Dense, Dropout, Flatten, Conv2D, MaxPooling2D, BatchNormalization,GlobalAveragePooling2D\n",
        "from tensorflow.keras.preprocessing.image import ImageDataGenerator\n",
        "from tensorflow.keras import optimizers\n",
        "from sklearn.metrics import classification_report, confusion_matrix\n",
        "!pip install -q -U keras-tuner\n",
        "import kerastuner as kt\n",
        "%load_ext tensorboard\n",
        "warnings.filterwarnings(\"ignore\")\n"
      ],
      "execution_count": null,
      "outputs": [
        {
          "output_type": "stream",
          "text": [
            "\u001b[?25l\r\u001b[K     |███▍                            | 10 kB 38.8 MB/s eta 0:00:01\r\u001b[K     |██████▉                         | 20 kB 39.9 MB/s eta 0:00:01\r\u001b[K     |██████████▏                     | 30 kB 43.8 MB/s eta 0:00:01\r\u001b[K     |█████████████▋                  | 40 kB 28.4 MB/s eta 0:00:01\r\u001b[K     |█████████████████               | 51 kB 18.5 MB/s eta 0:00:01\r\u001b[K     |████████████████████▍           | 61 kB 16.0 MB/s eta 0:00:01\r\u001b[K     |███████████████████████▊        | 71 kB 14.8 MB/s eta 0:00:01\r\u001b[K     |███████████████████████████▏    | 81 kB 16.2 MB/s eta 0:00:01\r\u001b[K     |██████████████████████████████▋ | 92 kB 17.8 MB/s eta 0:00:01\r\u001b[K     |████████████████████████████████| 96 kB 5.4 MB/s \n",
            "\u001b[?25h"
          ],
          "name": "stdout"
        },
        {
          "output_type": "stream",
          "text": [
            "/usr/local/lib/python3.7/dist-packages/ipykernel_launcher.py:28: DeprecationWarning: `import kerastuner` is deprecated, please use `import keras_tuner`.\n"
          ],
          "name": "stderr"
        }
      ]
    },
    {
      "cell_type": "code",
      "metadata": {
        "colab": {
          "base_uri": "https://localhost:8080/"
        },
        "id": "QVwvbxEr6EZI",
        "outputId": "b09a5842-e682-4e63-bb3b-5d8c5f0e064e"
      },
      "source": [
        "pip install Ipython"
      ],
      "execution_count": null,
      "outputs": [
        {
          "output_type": "stream",
          "text": [
            "Requirement already satisfied: Ipython in /usr/local/lib/python3.7/dist-packages (5.5.0)\n",
            "Requirement already satisfied: setuptools>=18.5 in /usr/local/lib/python3.7/dist-packages (from Ipython) (57.4.0)\n",
            "Requirement already satisfied: pickleshare in /usr/local/lib/python3.7/dist-packages (from Ipython) (0.7.5)\n",
            "Requirement already satisfied: pygments in /usr/local/lib/python3.7/dist-packages (from Ipython) (2.6.1)\n",
            "Requirement already satisfied: traitlets>=4.2 in /usr/local/lib/python3.7/dist-packages (from Ipython) (5.0.5)\n",
            "Requirement already satisfied: simplegeneric>0.8 in /usr/local/lib/python3.7/dist-packages (from Ipython) (0.8.1)\n",
            "Requirement already satisfied: prompt-toolkit<2.0.0,>=1.0.4 in /usr/local/lib/python3.7/dist-packages (from Ipython) (1.0.18)\n",
            "Requirement already satisfied: pexpect in /usr/local/lib/python3.7/dist-packages (from Ipython) (4.8.0)\n",
            "Requirement already satisfied: decorator in /usr/local/lib/python3.7/dist-packages (from Ipython) (4.4.2)\n",
            "Requirement already satisfied: six>=1.9.0 in /usr/local/lib/python3.7/dist-packages (from prompt-toolkit<2.0.0,>=1.0.4->Ipython) (1.15.0)\n",
            "Requirement already satisfied: wcwidth in /usr/local/lib/python3.7/dist-packages (from prompt-toolkit<2.0.0,>=1.0.4->Ipython) (0.2.5)\n",
            "Requirement already satisfied: ipython-genutils in /usr/local/lib/python3.7/dist-packages (from traitlets>=4.2->Ipython) (0.2.0)\n",
            "Requirement already satisfied: ptyprocess>=0.5 in /usr/local/lib/python3.7/dist-packages (from pexpect->Ipython) (0.7.0)\n"
          ],
          "name": "stdout"
        }
      ]
    },
    {
      "cell_type": "code",
      "metadata": {
        "colab": {
          "base_uri": "https://localhost:8080/"
        },
        "id": "94NDxt-p3HJs",
        "outputId": "7675cf08-b730-4601-ff54-01a226ee609a"
      },
      "source": [
        "from google.colab import drive\n",
        "drive.mount('/content/drive')"
      ],
      "execution_count": null,
      "outputs": [
        {
          "output_type": "stream",
          "text": [
            "Mounted at /content/drive\n"
          ],
          "name": "stdout"
        }
      ]
    },
    {
      "cell_type": "code",
      "metadata": {
        "colab": {
          "base_uri": "https://localhost:8080/"
        },
        "id": "S_jhi5Md3LkI",
        "outputId": "2781d6f6-96bd-46b4-c634-8e60dea16f06"
      },
      "source": [
        "%cd drive/MyDrive/Colab Notebooks"
      ],
      "execution_count": null,
      "outputs": [
        {
          "output_type": "stream",
          "text": [
            "/content/drive/MyDrive/Colab Notebooks\n"
          ],
          "name": "stdout"
        }
      ]
    },
    {
      "cell_type": "code",
      "metadata": {
        "id": "EGCbghzXZJwz"
      },
      "source": [
        "classes = ['GALAXY', 'QSO', 'STAR']"
      ],
      "execution_count": null,
      "outputs": []
    },
    {
      "cell_type": "code",
      "metadata": {
        "id": "1uf5Vn11O4wq"
      },
      "source": [
        "def generate_graph(model_training):\n",
        "    plt.figure(figsize= (15,5))\n",
        "    plt.subplot(1,2,1)\n",
        "    plt.plot(model_training.history.history['accuracy'])\n",
        "    plt.plot(model_training.history.history['val_accuracy'])\n",
        "    plt.title('Training vs TestAccuracy')\n",
        "    plt.xlabel('Epochs')\n",
        "    plt.ylabel('Accuracy')\n",
        "    plt.legend(('Training', 'Validation'), loc = 'best')\n",
        "    plt.subplot(1,2,2)\n",
        "    plt.plot(model_training.history.history['loss'])\n",
        "    plt.plot(model_training.history.history['val_loss'])\n",
        "    plt.title('Training loss vs Test Loss')\n",
        "    plt.xlabel('Epochs')\n",
        "    plt.ylabel('Loss')\n",
        "    plt.legend(('Training', 'Validation'), loc = 'best')\n",
        "    plt.show()\n",
        "\n",
        "class Metrics:\n",
        "    # from sklearn\n",
        "    def __init__(self, model, val_ds):\n",
        "        self.val_ds = val_ds\n",
        "        self.model = model\n",
        "        self.prediction_classes = np.array([])\n",
        "        self.true_classes = np.array([])\n",
        "        \n",
        "    def calculate_scores(self):     \n",
        "        print('calculating score.....')   \n",
        "        \n",
        "        for x, y in self.val_ds:\n",
        "            self.prediction_classes = np.concatenate([self.prediction_classes,np.argmax(self.model.predict(x), axis = -1)])\n",
        "            self.true_classes = np.concatenate([self.true_classes, np.argmax(y.numpy(), axis=-1)])\n",
        "        \n",
        "        class_report = classification_report(self.true_classes, self.prediction_classes)\n",
        "        conf_matrix = confusion_matrix(self.true_classes, self.prediction_classes)\n",
        "        print(conf_matrix)\n",
        "        print('------------------------------------')\n",
        "        print(class_report)\n",
        "\n",
        "reduce_lr = tf.keras.callbacks.ReduceLROnPlateau(\n",
        "    monitor=\"val_loss\",\n",
        "    factor=0.1,\n",
        "    patience=5,\n",
        "    verbose=0,\n",
        "    mode=\"auto\",\n",
        "    min_delta=0.0001,\n",
        "    cooldown=0,\n",
        "    min_lr=0,\n",
        ")\n",
        "early_stop = tf.keras.callbacks.EarlyStopping(\n",
        "    monitor=\"val_loss\",\n",
        "    min_delta=0,\n",
        "    patience=10,\n",
        "    verbose=0,\n",
        "    mode=\"auto\",\n",
        "    baseline=None,\n",
        "    restore_best_weights=True,\n",
        ")"
      ],
      "execution_count": null,
      "outputs": []
    },
    {
      "cell_type": "markdown",
      "metadata": {
        "id": "sEUWxsddLFIw"
      },
      "source": [
        "#### Densenet 121"
      ]
    },
    {
      "cell_type": "markdown",
      "metadata": {
        "id": "7mp2bYwBmOtm"
      },
      "source": [
        "##### Data preparation"
      ]
    },
    {
      "cell_type": "code",
      "metadata": {
        "colab": {
          "base_uri": "https://localhost:8080/"
        },
        "id": "UfG1CGD5Mxph",
        "outputId": "804eb145-ccda-41da-8b42-8bf46c0bc8b9"
      },
      "source": [
        "# Preprocessing the data\n",
        "dataset_path = 'Images'\n",
        "img_width = 512\n",
        "img_height = 512\n",
        "channels = 3\n",
        "num_classes = 3\n",
        "batch_size = 8\n",
        "\n",
        "\n",
        "img_width_crop = 1024\n",
        "img_height_crop = 1024\n",
        "\n",
        "rescale = tf.keras.Sequential([layers.experimental.preprocessing.Rescaling(1./255)])\n",
        "\n",
        "\n",
        "# augmenting the data\n",
        "# cropless flip and rotate\n",
        "\n",
        "data_aug_flip = tf.keras.Sequential([layers.experimental.preprocessing.RandomFlip(\"horizontal_and_vertical\"),\n",
        "                                # layers.experimental.preprocessing.RandomRotation(0.2)])\n",
        "])\n",
        "\n",
        "data_aug_flip_rotate = tf.keras.Sequential([layers.experimental.preprocessing.RandomFlip(\"horizontal_and_vertical\"),\n",
        "                                layers.experimental.preprocessing.RandomRotation(0.2)])\n",
        "\n",
        "\n",
        "# crop flip and rotate\n",
        "data_aug_crop_flip_rotate = tf.keras.Sequential([layers.experimental.preprocessing.CenterCrop(512,512),\n",
        "                                                 layers.experimental.preprocessing.RandomFlip(\"horizontal_and_vertical\"),\n",
        "                                                 layers.experimental.preprocessing.RandomRotation(0.2)])\n",
        "\n",
        "data_aug_crop_flip = tf.keras.Sequential([layers.experimental.preprocessing.CenterCrop(512,512),\n",
        "                                          layers.experimental.preprocessing.RandomFlip(\"horizontal_and_vertical\")])\n",
        "\n",
        "normal_crop = tf.keras.Sequential([layers.experimental.preprocessing.CenterCrop(512,512)],)\n",
        "batch_size =32 \n",
        "autotune = tf.data.AUTOTUNE\n",
        "\n",
        "# Preparing the normal dataset\n",
        "train_ds = tf.keras.preprocessing.image_dataset_from_directory(dataset_path, validation_split = 0.2,subset = 'training',seed = 123, image_size = (img_width, img_height), \n",
        "                                                                  batch_size = batch_size, label_mode = 'categorical',)\n",
        "val_ds = tf.keras.preprocessing.image_dataset_from_directory(dataset_path, validation_split = 0.2,subset = 'validation',seed = 123, image_size = (img_width, img_height),\n",
        "                                                                batch_size = batch_size, label_mode = 'categorical')\n",
        "\n",
        "train_ds_cropped = tf.keras.preprocessing.image_dataset_from_directory(dataset_path, validation_split = 0.2,subset = 'training',seed = 123, image_size = (img_width_crop, img_height_crop), \n",
        "                                                                  batch_size = batch_size, label_mode = 'categorical',)\n",
        "val_ds_cropped = tf.keras.preprocessing.image_dataset_from_directory(dataset_path, validation_split = 0.2,subset = 'validation',seed = 123, image_size = (img_width_crop, img_height_crop),\n",
        "                                                                batch_size = batch_size, label_mode = 'categorical')\n",
        "\n",
        "\n",
        "# preparing the scalred dataset\n",
        "train_ds_scaled = train_ds.map(lambda x,y: (rescale(x, training = True), y), num_parallel_calls=autotune)\n",
        "val_ds_scaled = val_ds.map(lambda x,y: (rescale(x, training = False), y), num_parallel_calls=autotune)\n",
        "train_ds.prefetch(buffer_size=autotune)\n",
        "val_ds.prefetch(buffer_size=autotune)\n",
        "\n",
        "train_ds_scaled_cropped = train_ds_scaled.map(lambda x,y: (rescale(x, training = True), y), num_parallel_calls=autotune)\n",
        "val_ds_scaled_cropped = val_ds_scaled.map(lambda x,y: (rescale(x, training = False), y), num_parallel_calls=autotune)\n",
        "\n",
        "# augment function \n",
        "def prepare_dataset(ds, flip = False, flip_rotate = False):\n",
        "    if flip == True:\n",
        "        ds = ds.map(lambda x, y : (data_aug_flip(x, training = True), y), num_parallel_calls = autotune)\n",
        "    elif flip_rotate == True:\n",
        "        ds = ds.map(lambda x, y : (data_aug_flip_rotate(x, training = True), y), num_parallel_calls = autotune)\n",
        "    \n",
        "    return ds.prefetch(buffer_size =autotune)\n",
        "\n",
        "def prepare_dataset_crop(ds, crop_flip = False, crop_flip_rotate = False):\n",
        "    if crop_flip_rotate == True:\n",
        "        ds = ds.map(lambda x, y : (data_aug_crop_flip_rotate(x, training = True), y), num_parallel_calls = autotune)\n",
        "    elif crop_flip == True:\n",
        "        ds = ds.map(lambda x, y : (data_aug_crop_flip(x, training = True), y), num_parallel_calls = autotune)\n",
        "    \n",
        "    return ds.prefetch(buffer_size =autotune)\n",
        "    \n",
        "def prepare_dataset_normal_crop(ds, training = True):\n",
        "    ds = ds.map(lambda x, y : (normal_crop(x, training = training), y), num_parallel_calls = autotune)\n",
        "    return ds.prefetch(buffer_size =autotune)\n",
        "# 25 batches of 32 each and 7 batches of 32 each\n",
        "\n"
      ],
      "execution_count": null,
      "outputs": [
        {
          "output_type": "stream",
          "text": [
            "Found 1000 files belonging to 3 classes.\n",
            "Using 800 files for training.\n",
            "Found 1000 files belonging to 3 classes.\n",
            "Using 200 files for validation.\n",
            "Found 1000 files belonging to 3 classes.\n",
            "Using 800 files for training.\n",
            "Found 1000 files belonging to 3 classes.\n",
            "Using 200 files for validation.\n"
          ],
          "name": "stdout"
        }
      ]
    },
    {
      "cell_type": "markdown",
      "metadata": {
        "id": "m4cuzjMadXZv"
      },
      "source": [
        "##### Densenet model building"
      ]
    },
    {
      "cell_type": "code",
      "metadata": {
        "id": "tyqSrpPwRoDj",
        "colab": {
          "base_uri": "https://localhost:8080/"
        },
        "outputId": "242184cc-f1cf-4e2a-b30f-c21a30305791"
      },
      "source": [
        "from tensorflow.keras.applications import  DenseNet121\n",
        "models = {'base_model'+str(num) : DenseNet121(include_top=False, weights='imagenet', \n",
        "                                           input_shape = (img_height, img_width, 3),classes = num_classes, pooling = 'avg') for num in range(0,10)}"
      ],
      "execution_count": null,
      "outputs": [
        {
          "output_type": "stream",
          "text": [
            "Downloading data from https://storage.googleapis.com/tensorflow/keras-applications/densenet/densenet121_weights_tf_dim_ordering_tf_kernels_notop.h5\n",
            "29089792/29084464 [==============================] - 0s 0us/step\n",
            "29097984/29084464 [==============================] - 0s 0us/step\n"
          ],
          "name": "stdout"
        }
      ]
    },
    {
      "cell_type": "code",
      "metadata": {
        "colab": {
          "base_uri": "https://localhost:8080/"
        },
        "id": "EUpJglBPSKwS",
        "outputId": "9bd72857-62bb-47aa-a58a-87f2c87135d3"
      },
      "source": [
        "models"
      ],
      "execution_count": null,
      "outputs": [
        {
          "output_type": "execute_result",
          "data": {
            "text/plain": [
              "{'base_model0': <keras.engine.functional.Functional at 0x7fbe9f1c9f10>,\n",
              " 'base_model1': <keras.engine.functional.Functional at 0x7fbe9d7a92d0>,\n",
              " 'base_model2': <keras.engine.functional.Functional at 0x7fbe9d1f0b10>,\n",
              " 'base_model3': <keras.engine.functional.Functional at 0x7fbe9bc1b490>,\n",
              " 'base_model4': <keras.engine.functional.Functional at 0x7fbe9b649b90>,\n",
              " 'base_model5': <keras.engine.functional.Functional at 0x7fbe9b6074d0>,\n",
              " 'base_model6': <keras.engine.functional.Functional at 0x7fbe9b01c710>,\n",
              " 'base_model7': <keras.engine.functional.Functional at 0x7fbe9a44df50>,\n",
              " 'base_model8': <keras.engine.functional.Functional at 0x7fbe9a443cd0>,\n",
              " 'base_model9': <keras.engine.functional.Functional at 0x7fbe7b7f57d0>}"
            ]
          },
          "metadata": {},
          "execution_count": 10
        }
      ]
    },
    {
      "cell_type": "code",
      "metadata": {
        "colab": {
          "base_uri": "https://localhost:8080/"
        },
        "id": "5u6kNMzeshhn",
        "outputId": "0578c995-fb7e-4d28-9b97-48d5ec0ed060"
      },
      "source": [
        "layer_count  = len(models['base_model0'].layers)\n",
        "print(f'There are a total of {layer_count} in the Densenet layer')"
      ],
      "execution_count": null,
      "outputs": [
        {
          "output_type": "stream",
          "text": [
            "There are a total of 428 in the Densenet layer\n"
          ],
          "name": "stdout"
        }
      ]
    },
    {
      "cell_type": "code",
      "metadata": {
        "colab": {
          "base_uri": "https://localhost:8080/"
        },
        "id": "xmbRbcXBTAie",
        "outputId": "81e92fcb-c05f-49aa-d8a2-5a98eb01c3eb"
      },
      "source": [
        "for model,value in models.items():\n",
        "    print(model)"
      ],
      "execution_count": null,
      "outputs": [
        {
          "output_type": "stream",
          "text": [
            "base_model0\n",
            "base_model1\n",
            "base_model2\n",
            "base_model3\n",
            "base_model4\n",
            "base_model5\n",
            "base_model6\n",
            "base_model7\n",
            "base_model8\n",
            "base_model9\n"
          ],
          "name": "stdout"
        }
      ]
    },
    {
      "cell_type": "code",
      "metadata": {
        "id": "eZKmwR_AjSIa"
      },
      "source": [
        "num=0\n",
        "for i, (model_name, model) in zip(range(428, -1,-5), models.items()):\n",
        "    break_point  = i\n",
        "    for layer in model.layers[0:break_point]:\n",
        "        layer.trainable = False\n",
        "    for layer in model.layers[break_point:]:\n",
        "        layer.trainable = True\n",
        "    input_layer = model.input\n",
        "    output_layer = model.output\n",
        "    x = Dense(num_classes, activation  = 'softmax')(output_layer)    \n",
        "    models[model_name] = Model(inputs = input_layer, outputs = x)\n"
      ],
      "execution_count": null,
      "outputs": []
    },
    {
      "cell_type": "code",
      "metadata": {
        "colab": {
          "base_uri": "https://localhost:8080/"
        },
        "id": "LiYDL6oO_ZJg",
        "outputId": "0a2bd04c-0ad0-42d0-a1cc-bc027dc9fd5e"
      },
      "source": [
        "for model_name, model in models.items():\n",
        "    count = 0\n",
        "    trained_layers = ['a' if layer.trainable == True else None for layer in model.layers]\n",
        "    print(f'The number of trainable layers in {model_name} is', trained_layers.count('a'), sep=':')"
      ],
      "execution_count": null,
      "outputs": [
        {
          "output_type": "stream",
          "text": [
            "The number of trainable layers in base_model0 is:1\n",
            "The number of trainable layers in base_model1 is:6\n",
            "The number of trainable layers in base_model2 is:11\n",
            "The number of trainable layers in base_model3 is:16\n",
            "The number of trainable layers in base_model4 is:21\n",
            "The number of trainable layers in base_model5 is:26\n",
            "The number of trainable layers in base_model6 is:31\n",
            "The number of trainable layers in base_model7 is:36\n",
            "The number of trainable layers in base_model8 is:41\n",
            "The number of trainable layers in base_model9 is:46\n"
          ],
          "name": "stdout"
        }
      ]
    },
    {
      "cell_type": "code",
      "metadata": {
        "id": "tHznpzHGshsv"
      },
      "source": [
        "# resnet_model.summary()\n",
        "for model_name, model in models.items():\n",
        "    model.compile(optimizer = optimizers.Adam(lr=1e-4), loss = 'categorical_crossentropy', metrics = ['accuracy'])"
      ],
      "execution_count": null,
      "outputs": []
    },
    {
      "cell_type": "markdown",
      "metadata": {
        "id": "Yq4hEpqjbl6K"
      },
      "source": [
        "##### Densnet model with normalization of  image pixels"
      ]
    },
    {
      "cell_type": "code",
      "metadata": {
        "colab": {
          "base_uri": "https://localhost:8080/"
        },
        "id": "ZAivYUjkshyu",
        "outputId": "d708d2a8-baa1-488c-886b-4d2f0b641ed5"
      },
      "source": [
        "models['base_model0'].fit(train_ds_scaled,validation_data=val_ds_scaled,epochs = 60, verbose = 1, workers = 3, class_weight = {0:1.13, 1:8.03, 2:1}, callbacks = [reduce_lr])"
      ],
      "execution_count": null,
      "outputs": [
        {
          "output_type": "stream",
          "text": [
            "Epoch 1/60\n",
            "25/25 [==============================] - 35s 792ms/step - loss: 2.2425 - accuracy: 0.5063 - val_loss: 1.0144 - val_accuracy: 0.4250\n",
            "Epoch 2/60\n",
            "25/25 [==============================] - 19s 657ms/step - loss: 2.0335 - accuracy: 0.4837 - val_loss: 0.9920 - val_accuracy: 0.4050\n",
            "Epoch 3/60\n",
            "25/25 [==============================] - 19s 644ms/step - loss: 1.8671 - accuracy: 0.4688 - val_loss: 0.9984 - val_accuracy: 0.4250\n",
            "Epoch 4/60\n",
            "25/25 [==============================] - 19s 650ms/step - loss: 1.7589 - accuracy: 0.4975 - val_loss: 1.0167 - val_accuracy: 0.4450\n",
            "Epoch 5/60\n",
            "25/25 [==============================] - 19s 649ms/step - loss: 1.6864 - accuracy: 0.5487 - val_loss: 1.0286 - val_accuracy: 0.4950\n",
            "Epoch 6/60\n",
            "25/25 [==============================] - 19s 654ms/step - loss: 1.6391 - accuracy: 0.5987 - val_loss: 1.0337 - val_accuracy: 0.5700\n",
            "Epoch 7/60\n",
            "25/25 [==============================] - 19s 656ms/step - loss: 1.6033 - accuracy: 0.6450 - val_loss: 1.0266 - val_accuracy: 0.6150\n",
            "Epoch 8/60\n",
            "25/25 [==============================] - 19s 665ms/step - loss: 1.5819 - accuracy: 0.6737 - val_loss: 1.0252 - val_accuracy: 0.6350\n",
            "Epoch 9/60\n",
            "25/25 [==============================] - 20s 702ms/step - loss: 1.5786 - accuracy: 0.6787 - val_loss: 1.0239 - val_accuracy: 0.6550\n",
            "Epoch 10/60\n",
            "25/25 [==============================] - 20s 697ms/step - loss: 1.5753 - accuracy: 0.6837 - val_loss: 1.0226 - val_accuracy: 0.6550\n",
            "Epoch 11/60\n",
            "25/25 [==============================] - 19s 674ms/step - loss: 1.5720 - accuracy: 0.6900 - val_loss: 1.0206 - val_accuracy: 0.6550\n",
            "Epoch 12/60\n",
            "25/25 [==============================] - 19s 662ms/step - loss: 1.5686 - accuracy: 0.6950 - val_loss: 1.0187 - val_accuracy: 0.6600\n",
            "Epoch 13/60\n",
            "25/25 [==============================] - 20s 672ms/step - loss: 1.5667 - accuracy: 0.6975 - val_loss: 1.0186 - val_accuracy: 0.6600\n",
            "Epoch 14/60\n",
            "25/25 [==============================] - 19s 673ms/step - loss: 1.5663 - accuracy: 0.6988 - val_loss: 1.0185 - val_accuracy: 0.6600\n",
            "Epoch 15/60\n",
            "25/25 [==============================] - 19s 667ms/step - loss: 1.5660 - accuracy: 0.6988 - val_loss: 1.0183 - val_accuracy: 0.6600\n",
            "Epoch 16/60\n",
            "25/25 [==============================] - 19s 670ms/step - loss: 1.5657 - accuracy: 0.6988 - val_loss: 1.0183 - val_accuracy: 0.6600\n",
            "Epoch 17/60\n",
            "25/25 [==============================] - 19s 671ms/step - loss: 1.5653 - accuracy: 0.6988 - val_loss: 1.0181 - val_accuracy: 0.6600\n",
            "Epoch 18/60\n",
            "25/25 [==============================] - 19s 669ms/step - loss: 1.5651 - accuracy: 0.6988 - val_loss: 1.0181 - val_accuracy: 0.6600\n",
            "Epoch 19/60\n",
            "25/25 [==============================] - 19s 673ms/step - loss: 1.5651 - accuracy: 0.6988 - val_loss: 1.0181 - val_accuracy: 0.6600\n",
            "Epoch 20/60\n",
            "25/25 [==============================] - 19s 670ms/step - loss: 1.5651 - accuracy: 0.6988 - val_loss: 1.0181 - val_accuracy: 0.6600\n",
            "Epoch 21/60\n",
            "25/25 [==============================] - 19s 672ms/step - loss: 1.5650 - accuracy: 0.6988 - val_loss: 1.0181 - val_accuracy: 0.6600\n",
            "Epoch 22/60\n",
            "25/25 [==============================] - 19s 670ms/step - loss: 1.5650 - accuracy: 0.6988 - val_loss: 1.0180 - val_accuracy: 0.6600\n",
            "Epoch 23/60\n",
            "25/25 [==============================] - 19s 668ms/step - loss: 1.5650 - accuracy: 0.6988 - val_loss: 1.0180 - val_accuracy: 0.6600\n",
            "Epoch 24/60\n",
            "25/25 [==============================] - 19s 666ms/step - loss: 1.5650 - accuracy: 0.6988 - val_loss: 1.0180 - val_accuracy: 0.6600\n",
            "Epoch 25/60\n",
            "25/25 [==============================] - 19s 667ms/step - loss: 1.5650 - accuracy: 0.6988 - val_loss: 1.0180 - val_accuracy: 0.6600\n",
            "Epoch 26/60\n",
            "25/25 [==============================] - 19s 668ms/step - loss: 1.5650 - accuracy: 0.6988 - val_loss: 1.0180 - val_accuracy: 0.6600\n",
            "Epoch 27/60\n",
            "25/25 [==============================] - 19s 671ms/step - loss: 1.5650 - accuracy: 0.6988 - val_loss: 1.0180 - val_accuracy: 0.6600\n",
            "Epoch 28/60\n",
            "25/25 [==============================] - 19s 673ms/step - loss: 1.5650 - accuracy: 0.6988 - val_loss: 1.0180 - val_accuracy: 0.6600\n",
            "Epoch 29/60\n",
            "25/25 [==============================] - 20s 683ms/step - loss: 1.5650 - accuracy: 0.6988 - val_loss: 1.0180 - val_accuracy: 0.6600\n",
            "Epoch 30/60\n",
            "25/25 [==============================] - 20s 696ms/step - loss: 1.5650 - accuracy: 0.6988 - val_loss: 1.0180 - val_accuracy: 0.6600\n",
            "Epoch 31/60\n",
            "25/25 [==============================] - 20s 685ms/step - loss: 1.5650 - accuracy: 0.6988 - val_loss: 1.0180 - val_accuracy: 0.6600\n",
            "Epoch 32/60\n",
            "25/25 [==============================] - 20s 678ms/step - loss: 1.5650 - accuracy: 0.6988 - val_loss: 1.0180 - val_accuracy: 0.6600\n",
            "Epoch 33/60\n",
            "25/25 [==============================] - 20s 678ms/step - loss: 1.5650 - accuracy: 0.6988 - val_loss: 1.0180 - val_accuracy: 0.6600\n",
            "Epoch 34/60\n",
            "25/25 [==============================] - 20s 677ms/step - loss: 1.5650 - accuracy: 0.6988 - val_loss: 1.0180 - val_accuracy: 0.6600\n",
            "Epoch 35/60\n",
            "25/25 [==============================] - 20s 678ms/step - loss: 1.5650 - accuracy: 0.6988 - val_loss: 1.0180 - val_accuracy: 0.6600\n",
            "Epoch 36/60\n",
            "25/25 [==============================] - 20s 676ms/step - loss: 1.5650 - accuracy: 0.6988 - val_loss: 1.0180 - val_accuracy: 0.6600\n",
            "Epoch 37/60\n",
            "25/25 [==============================] - 20s 678ms/step - loss: 1.5650 - accuracy: 0.6988 - val_loss: 1.0180 - val_accuracy: 0.6600\n",
            "Epoch 38/60\n",
            "25/25 [==============================] - 20s 676ms/step - loss: 1.5650 - accuracy: 0.6988 - val_loss: 1.0180 - val_accuracy: 0.6600\n",
            "Epoch 39/60\n",
            "25/25 [==============================] - 20s 680ms/step - loss: 1.5650 - accuracy: 0.6988 - val_loss: 1.0180 - val_accuracy: 0.6600\n",
            "Epoch 40/60\n",
            "25/25 [==============================] - 20s 679ms/step - loss: 1.5650 - accuracy: 0.6988 - val_loss: 1.0180 - val_accuracy: 0.6600\n",
            "Epoch 41/60\n",
            "25/25 [==============================] - 19s 675ms/step - loss: 1.5650 - accuracy: 0.6988 - val_loss: 1.0180 - val_accuracy: 0.6600\n",
            "Epoch 42/60\n",
            "25/25 [==============================] - 20s 677ms/step - loss: 1.5650 - accuracy: 0.6988 - val_loss: 1.0180 - val_accuracy: 0.6600\n",
            "Epoch 43/60\n",
            "25/25 [==============================] - 20s 674ms/step - loss: 1.5650 - accuracy: 0.6988 - val_loss: 1.0180 - val_accuracy: 0.6600\n",
            "Epoch 44/60\n",
            "25/25 [==============================] - 19s 671ms/step - loss: 1.5650 - accuracy: 0.6988 - val_loss: 1.0180 - val_accuracy: 0.6600\n",
            "Epoch 45/60\n",
            "25/25 [==============================] - 19s 675ms/step - loss: 1.5650 - accuracy: 0.6988 - val_loss: 1.0180 - val_accuracy: 0.6600\n",
            "Epoch 46/60\n",
            "25/25 [==============================] - 20s 676ms/step - loss: 1.5650 - accuracy: 0.6988 - val_loss: 1.0180 - val_accuracy: 0.6600\n",
            "Epoch 47/60\n",
            "25/25 [==============================] - 20s 674ms/step - loss: 1.5650 - accuracy: 0.6988 - val_loss: 1.0180 - val_accuracy: 0.6600\n",
            "Epoch 48/60\n",
            "25/25 [==============================] - 19s 672ms/step - loss: 1.5650 - accuracy: 0.6988 - val_loss: 1.0180 - val_accuracy: 0.6600\n",
            "Epoch 49/60\n",
            "25/25 [==============================] - 20s 673ms/step - loss: 1.5650 - accuracy: 0.6988 - val_loss: 1.0180 - val_accuracy: 0.6600\n",
            "Epoch 50/60\n",
            "25/25 [==============================] - 20s 682ms/step - loss: 1.5650 - accuracy: 0.6988 - val_loss: 1.0180 - val_accuracy: 0.6600\n",
            "Epoch 51/60\n",
            "25/25 [==============================] - 20s 702ms/step - loss: 1.5650 - accuracy: 0.6988 - val_loss: 1.0180 - val_accuracy: 0.6600\n",
            "Epoch 52/60\n",
            "25/25 [==============================] - 20s 690ms/step - loss: 1.5650 - accuracy: 0.6988 - val_loss: 1.0180 - val_accuracy: 0.6600\n",
            "Epoch 53/60\n",
            "25/25 [==============================] - 20s 680ms/step - loss: 1.5650 - accuracy: 0.6988 - val_loss: 1.0180 - val_accuracy: 0.6600\n",
            "Epoch 54/60\n",
            "25/25 [==============================] - 20s 679ms/step - loss: 1.5650 - accuracy: 0.6988 - val_loss: 1.0180 - val_accuracy: 0.6600\n",
            "Epoch 55/60\n",
            "25/25 [==============================] - 20s 684ms/step - loss: 1.5650 - accuracy: 0.6988 - val_loss: 1.0180 - val_accuracy: 0.6600\n",
            "Epoch 56/60\n",
            "25/25 [==============================] - 20s 682ms/step - loss: 1.5650 - accuracy: 0.6988 - val_loss: 1.0180 - val_accuracy: 0.6600\n",
            "Epoch 57/60\n",
            "25/25 [==============================] - 20s 678ms/step - loss: 1.5650 - accuracy: 0.6988 - val_loss: 1.0180 - val_accuracy: 0.6600\n",
            "Epoch 58/60\n",
            "25/25 [==============================] - 19s 673ms/step - loss: 1.5650 - accuracy: 0.6988 - val_loss: 1.0180 - val_accuracy: 0.6600\n",
            "Epoch 59/60\n",
            "25/25 [==============================] - 19s 674ms/step - loss: 1.5650 - accuracy: 0.6988 - val_loss: 1.0180 - val_accuracy: 0.6600\n",
            "Epoch 60/60\n",
            "25/25 [==============================] - 19s 673ms/step - loss: 1.5650 - accuracy: 0.6988 - val_loss: 1.0180 - val_accuracy: 0.6600\n"
          ],
          "name": "stdout"
        },
        {
          "output_type": "execute_result",
          "data": {
            "text/plain": [
              "<keras.callbacks.History at 0x7f2d07779e50>"
            ]
          },
          "metadata": {},
          "execution_count": 15
        }
      ]
    },
    {
      "cell_type": "code",
      "metadata": {
        "colab": {
          "base_uri": "https://localhost:8080/",
          "height": 281
        },
        "id": "5h6QFI7l2wib",
        "outputId": "079f0e84-160c-428d-8120-a774261bdd48"
      },
      "source": [
        "plt.plot(models['base_model0'].history.history['accuracy'])\n",
        "plt.plot(models['base_model0'].history.history['val_accuracy'])\n",
        "plt.legend(['Train', 'Validation'])\n",
        "plt.title('Densenet121 training curves')\n",
        "plt.show()"
      ],
      "execution_count": null,
      "outputs": [
        {
          "output_type": "display_data",
          "data": {
            "image/png": "[encoded data removed]",
            "text/plain": [
              "<Figure size 432x288 with 1 Axes>"
            ]
          },
          "metadata": {
            "needs_background": "light"
          }
        }
      ]
    },
    {
      "cell_type": "code",
      "metadata": {
        "colab": {
          "base_uri": "https://localhost:8080/",
          "height": 1000
        },
        "id": "b0FIUvMy3BjC",
        "outputId": "ac1a9026-5e52-484c-a58e-85a39f13a04d"
      },
      "source": [
        "models['base_model1'].fit(train_ds_scaled,validation_data=val_ds_scaled,epochs = 60, verbose = 1, workers = 3, class_weight = {0:1.13, 1:8.03, 2:1}, callbacks = [reduce_lr])\n",
        "plt.plot(models['base_model1'].history.history['accuracy'])\n",
        "plt.plot(models['base_model1'].history.history['val_accuracy'])\n",
        "plt.legend(['Train', 'Validation'])\n",
        "plt.title('Densenet121 training curves')\n",
        "plt.show()"
      ],
      "execution_count": null,
      "outputs": [
        {
          "output_type": "stream",
          "text": [
            "Epoch 1/60\n",
            "25/25 [==============================] - 26s 725ms/step - loss: 1.7119 - accuracy: 0.1713 - val_loss: 1.0364 - val_accuracy: 0.4800\n",
            "Epoch 2/60\n",
            "25/25 [==============================] - 19s 666ms/step - loss: 1.4273 - accuracy: 0.6225 - val_loss: 0.9457 - val_accuracy: 0.4800\n",
            "Epoch 3/60\n",
            "25/25 [==============================] - 19s 672ms/step - loss: 1.3202 - accuracy: 0.7025 - val_loss: 0.8956 - val_accuracy: 0.5050\n",
            "Epoch 4/60\n",
            "25/25 [==============================] - 19s 672ms/step - loss: 1.2299 - accuracy: 0.7150 - val_loss: 0.8390 - val_accuracy: 0.6000\n",
            "Epoch 5/60\n",
            "25/25 [==============================] - 19s 670ms/step - loss: 1.1615 - accuracy: 0.7675 - val_loss: 0.7935 - val_accuracy: 0.7100\n",
            "Epoch 6/60\n",
            "25/25 [==============================] - 20s 678ms/step - loss: 1.1069 - accuracy: 0.7487 - val_loss: 0.7573 - val_accuracy: 0.7400\n",
            "Epoch 7/60\n",
            "25/25 [==============================] - 20s 696ms/step - loss: 1.0593 - accuracy: 0.7688 - val_loss: 0.7241 - val_accuracy: 0.7800\n",
            "Epoch 8/60\n",
            "25/25 [==============================] - 20s 697ms/step - loss: 1.0156 - accuracy: 0.7725 - val_loss: 0.6947 - val_accuracy: 0.8000\n",
            "Epoch 9/60\n",
            "25/25 [==============================] - 20s 689ms/step - loss: 0.9877 - accuracy: 0.7887 - val_loss: 0.6684 - val_accuracy: 0.7800\n",
            "Epoch 10/60\n",
            "25/25 [==============================] - 20s 678ms/step - loss: 0.9521 - accuracy: 0.7975 - val_loss: 0.6526 - val_accuracy: 0.7550\n",
            "Epoch 11/60\n",
            "25/25 [==============================] - 20s 691ms/step - loss: 0.9197 - accuracy: 0.7975 - val_loss: 0.6180 - val_accuracy: 0.7900\n",
            "Epoch 12/60\n",
            "25/25 [==============================] - 20s 695ms/step - loss: 0.9035 - accuracy: 0.7812 - val_loss: 0.6104 - val_accuracy: 0.7550\n",
            "Epoch 13/60\n",
            "25/25 [==============================] - 20s 683ms/step - loss: 0.8677 - accuracy: 0.8213 - val_loss: 0.5864 - val_accuracy: 0.7650\n",
            "Epoch 14/60\n",
            "25/25 [==============================] - 20s 686ms/step - loss: 0.8440 - accuracy: 0.8275 - val_loss: 0.5716 - val_accuracy: 0.7650\n",
            "Epoch 15/60\n",
            "25/25 [==============================] - 20s 685ms/step - loss: 0.8439 - accuracy: 0.8175 - val_loss: 0.5633 - val_accuracy: 0.7700\n",
            "Epoch 16/60\n",
            "25/25 [==============================] - 20s 690ms/step - loss: 0.8472 - accuracy: 0.7937 - val_loss: 0.5638 - val_accuracy: 0.7550\n",
            "Epoch 17/60\n",
            "25/25 [==============================] - 20s 694ms/step - loss: 0.8212 - accuracy: 0.8213 - val_loss: 0.5268 - val_accuracy: 0.8100\n",
            "Epoch 18/60\n",
            "25/25 [==============================] - 20s 690ms/step - loss: 0.8046 - accuracy: 0.8325 - val_loss: 0.5166 - val_accuracy: 0.8000\n",
            "Epoch 19/60\n",
            "25/25 [==============================] - 20s 688ms/step - loss: 0.7770 - accuracy: 0.8475 - val_loss: 0.5206 - val_accuracy: 0.7850\n",
            "Epoch 20/60\n",
            "25/25 [==============================] - 20s 694ms/step - loss: 0.7600 - accuracy: 0.8338 - val_loss: 0.5013 - val_accuracy: 0.8000\n",
            "Epoch 21/60\n",
            "25/25 [==============================] - 20s 693ms/step - loss: 0.7479 - accuracy: 0.8425 - val_loss: 0.4950 - val_accuracy: 0.7950\n",
            "Epoch 22/60\n",
            "25/25 [==============================] - 20s 685ms/step - loss: 0.7485 - accuracy: 0.8363 - val_loss: 0.4755 - val_accuracy: 0.8200\n",
            "Epoch 23/60\n",
            "25/25 [==============================] - 20s 686ms/step - loss: 0.7269 - accuracy: 0.8775 - val_loss: 0.4799 - val_accuracy: 0.8100\n",
            "Epoch 24/60\n",
            "25/25 [==============================] - 20s 691ms/step - loss: 0.7149 - accuracy: 0.8363 - val_loss: 0.4880 - val_accuracy: 0.8050\n",
            "Epoch 25/60\n",
            "25/25 [==============================] - 20s 691ms/step - loss: 0.7198 - accuracy: 0.8550 - val_loss: 0.4642 - val_accuracy: 0.8150\n",
            "Epoch 26/60\n",
            "25/25 [==============================] - 20s 689ms/step - loss: 0.6925 - accuracy: 0.8600 - val_loss: 0.4669 - val_accuracy: 0.8150\n",
            "Epoch 27/60\n",
            "25/25 [==============================] - 20s 694ms/step - loss: 0.6925 - accuracy: 0.8625 - val_loss: 0.4620 - val_accuracy: 0.8150\n",
            "Epoch 28/60\n",
            "25/25 [==============================] - 20s 689ms/step - loss: 0.6768 - accuracy: 0.8600 - val_loss: 0.4552 - val_accuracy: 0.8200\n",
            "Epoch 29/60\n",
            "25/25 [==============================] - 20s 684ms/step - loss: 0.6908 - accuracy: 0.8687 - val_loss: 0.4491 - val_accuracy: 0.8150\n",
            "Epoch 30/60\n",
            "25/25 [==============================] - 20s 689ms/step - loss: 0.6627 - accuracy: 0.8662 - val_loss: 0.4486 - val_accuracy: 0.8200\n",
            "Epoch 31/60\n",
            "25/25 [==============================] - 20s 689ms/step - loss: 0.6840 - accuracy: 0.8600 - val_loss: 0.4449 - val_accuracy: 0.8200\n",
            "Epoch 32/60\n",
            "25/25 [==============================] - 20s 681ms/step - loss: 0.6802 - accuracy: 0.8600 - val_loss: 0.4444 - val_accuracy: 0.8300\n",
            "Epoch 33/60\n",
            "25/25 [==============================] - 20s 690ms/step - loss: 0.6589 - accuracy: 0.8750 - val_loss: 0.4284 - val_accuracy: 0.8300\n",
            "Epoch 34/60\n",
            "25/25 [==============================] - 20s 695ms/step - loss: 0.6456 - accuracy: 0.8687 - val_loss: 0.4283 - val_accuracy: 0.8300\n",
            "Epoch 35/60\n",
            "25/25 [==============================] - 20s 683ms/step - loss: 0.6631 - accuracy: 0.8550 - val_loss: 0.4241 - val_accuracy: 0.8350\n",
            "Epoch 36/60\n",
            "25/25 [==============================] - 20s 685ms/step - loss: 0.6487 - accuracy: 0.8700 - val_loss: 0.4350 - val_accuracy: 0.8150\n",
            "Epoch 37/60\n",
            "25/25 [==============================] - 20s 686ms/step - loss: 0.6291 - accuracy: 0.8800 - val_loss: 0.4252 - val_accuracy: 0.8350\n",
            "Epoch 38/60\n",
            "25/25 [==============================] - 20s 688ms/step - loss: 0.6137 - accuracy: 0.8938 - val_loss: 0.4134 - val_accuracy: 0.8400\n",
            "Epoch 39/60\n",
            "25/25 [==============================] - 20s 692ms/step - loss: 0.6129 - accuracy: 0.8725 - val_loss: 0.4057 - val_accuracy: 0.8350\n",
            "Epoch 40/60\n",
            "25/25 [==============================] - 20s 686ms/step - loss: 0.6159 - accuracy: 0.8712 - val_loss: 0.4084 - val_accuracy: 0.8450\n",
            "Epoch 41/60\n",
            "25/25 [==============================] - 20s 684ms/step - loss: 0.5909 - accuracy: 0.8963 - val_loss: 0.4073 - val_accuracy: 0.8400\n",
            "Epoch 42/60\n",
            "25/25 [==============================] - 20s 686ms/step - loss: 0.6088 - accuracy: 0.8763 - val_loss: 0.4051 - val_accuracy: 0.8400\n",
            "Epoch 43/60\n",
            "25/25 [==============================] - 20s 688ms/step - loss: 0.5815 - accuracy: 0.8925 - val_loss: 0.3918 - val_accuracy: 0.8450\n",
            "Epoch 44/60\n",
            "25/25 [==============================] - 20s 687ms/step - loss: 0.5825 - accuracy: 0.8900 - val_loss: 0.3934 - val_accuracy: 0.8450\n",
            "Epoch 45/60\n",
            "25/25 [==============================] - 20s 691ms/step - loss: 0.5881 - accuracy: 0.8875 - val_loss: 0.3992 - val_accuracy: 0.8400\n",
            "Epoch 46/60\n",
            "25/25 [==============================] - 20s 689ms/step - loss: 0.5815 - accuracy: 0.8963 - val_loss: 0.3869 - val_accuracy: 0.8500\n",
            "Epoch 47/60\n",
            "25/25 [==============================] - 20s 693ms/step - loss: 0.5788 - accuracy: 0.8888 - val_loss: 0.3837 - val_accuracy: 0.8400\n",
            "Epoch 48/60\n",
            "25/25 [==============================] - 20s 687ms/step - loss: 0.5692 - accuracy: 0.9038 - val_loss: 0.3889 - val_accuracy: 0.8450\n",
            "Epoch 49/60\n",
            "25/25 [==============================] - 20s 685ms/step - loss: 0.5631 - accuracy: 0.8950 - val_loss: 0.3840 - val_accuracy: 0.8500\n",
            "Epoch 50/60\n",
            "25/25 [==============================] - 20s 686ms/step - loss: 0.5612 - accuracy: 0.8963 - val_loss: 0.3786 - val_accuracy: 0.8550\n",
            "Epoch 51/60\n",
            "25/25 [==============================] - 20s 690ms/step - loss: 0.5632 - accuracy: 0.8863 - val_loss: 0.3949 - val_accuracy: 0.8400\n",
            "Epoch 52/60\n",
            "25/25 [==============================] - 20s 688ms/step - loss: 0.5610 - accuracy: 0.8925 - val_loss: 0.3828 - val_accuracy: 0.8550\n",
            "Epoch 53/60\n",
            "25/25 [==============================] - 20s 687ms/step - loss: 0.5334 - accuracy: 0.9062 - val_loss: 0.3742 - val_accuracy: 0.8550\n",
            "Epoch 54/60\n",
            "25/25 [==============================] - 20s 689ms/step - loss: 0.5367 - accuracy: 0.8950 - val_loss: 0.3688 - val_accuracy: 0.8600\n",
            "Epoch 55/60\n",
            "25/25 [==============================] - 20s 687ms/step - loss: 0.5221 - accuracy: 0.9125 - val_loss: 0.3740 - val_accuracy: 0.8550\n",
            "Epoch 56/60\n",
            "25/25 [==============================] - 20s 691ms/step - loss: 0.5401 - accuracy: 0.8950 - val_loss: 0.3724 - val_accuracy: 0.8550\n",
            "Epoch 57/60\n",
            "25/25 [==============================] - 20s 685ms/step - loss: 0.5208 - accuracy: 0.8975 - val_loss: 0.3677 - val_accuracy: 0.8600\n",
            "Epoch 58/60\n",
            "25/25 [==============================] - 20s 688ms/step - loss: 0.5154 - accuracy: 0.9225 - val_loss: 0.3685 - val_accuracy: 0.8600\n",
            "Epoch 59/60\n",
            "25/25 [==============================] - 20s 689ms/step - loss: 0.5098 - accuracy: 0.9150 - val_loss: 0.3573 - val_accuracy: 0.8600\n",
            "Epoch 60/60\n",
            "25/25 [==============================] - 20s 687ms/step - loss: 0.5296 - accuracy: 0.8925 - val_loss: 0.3728 - val_accuracy: 0.8550\n"
          ],
          "name": "stdout"
        },
        {
          "output_type": "display_data",
          "data": {
            "image/png": "[encoded data removed]",
            "text/plain": [
              "<Figure size 432x288 with 1 Axes>"
            ]
          },
          "metadata": {
            "needs_background": "light"
          }
        }
      ]
    },
    {
      "cell_type": "code",
      "metadata": {
        "colab": {
          "base_uri": "https://localhost:8080/",
          "height": 1000
        },
        "id": "lNAAh6GB3Lji",
        "outputId": "8ceef201-ac26-4b91-e5c4-ca229ca13f71"
      },
      "source": [
        "models['base_model2'].fit(train_ds_scaled,validation_data=val_ds_scaled,epochs = 60, verbose = 1, workers = 3, class_weight = {0:1.13, 1:8.03, 2:1}, callbacks = [reduce_lr])\n",
        "plt.plot(models['base_model2'].history.history['accuracy'])\n",
        "plt.plot(models['base_model2'].history.history['val_accuracy'])\n",
        "plt.legend(['Train', 'Validation'])\n",
        "plt.title('Densenet121 training curves')\n",
        "plt.show()"
      ],
      "execution_count": null,
      "outputs": [
        {
          "output_type": "stream",
          "text": [
            "Epoch 1/60\n",
            "25/25 [==============================] - 26s 749ms/step - loss: 1.5878 - accuracy: 0.4700 - val_loss: 1.0058 - val_accuracy: 0.5250\n",
            "Epoch 2/60\n",
            "25/25 [==============================] - 20s 705ms/step - loss: 1.2435 - accuracy: 0.6712 - val_loss: 0.9363 - val_accuracy: 0.5350\n",
            "Epoch 3/60\n",
            "25/25 [==============================] - 20s 693ms/step - loss: 1.0797 - accuracy: 0.7375 - val_loss: 0.8861 - val_accuracy: 0.5700\n",
            "Epoch 4/60\n",
            "25/25 [==============================] - 20s 688ms/step - loss: 0.9722 - accuracy: 0.8225 - val_loss: 0.8138 - val_accuracy: 0.6200\n",
            "Epoch 5/60\n",
            "25/25 [==============================] - 20s 692ms/step - loss: 0.8983 - accuracy: 0.8275 - val_loss: 0.7771 - val_accuracy: 0.6350\n",
            "Epoch 6/60\n",
            "25/25 [==============================] - 20s 697ms/step - loss: 0.8407 - accuracy: 0.8712 - val_loss: 0.6961 - val_accuracy: 0.7050\n",
            "Epoch 7/60\n",
            "25/25 [==============================] - 20s 696ms/step - loss: 0.7777 - accuracy: 0.8838 - val_loss: 0.6523 - val_accuracy: 0.7600\n",
            "Epoch 8/60\n",
            "25/25 [==============================] - 20s 685ms/step - loss: 0.7265 - accuracy: 0.9038 - val_loss: 0.5846 - val_accuracy: 0.8250\n",
            "Epoch 9/60\n",
            "25/25 [==============================] - 20s 689ms/step - loss: 0.6723 - accuracy: 0.9150 - val_loss: 0.5554 - val_accuracy: 0.8350\n",
            "Epoch 10/60\n",
            "25/25 [==============================] - 20s 695ms/step - loss: 0.6353 - accuracy: 0.9212 - val_loss: 0.4928 - val_accuracy: 0.8850\n",
            "Epoch 11/60\n",
            "25/25 [==============================] - 20s 691ms/step - loss: 0.6175 - accuracy: 0.9275 - val_loss: 0.4808 - val_accuracy: 0.8800\n",
            "Epoch 12/60\n",
            "25/25 [==============================] - 20s 689ms/step - loss: 0.5806 - accuracy: 0.9325 - val_loss: 0.4243 - val_accuracy: 0.9100\n",
            "Epoch 13/60\n",
            "25/25 [==============================] - 20s 691ms/step - loss: 0.5207 - accuracy: 0.9300 - val_loss: 0.4247 - val_accuracy: 0.9100\n",
            "Epoch 14/60\n",
            "25/25 [==============================] - 20s 698ms/step - loss: 0.4798 - accuracy: 0.9438 - val_loss: 0.4068 - val_accuracy: 0.9050\n",
            "Epoch 15/60\n",
            "25/25 [==============================] - 20s 690ms/step - loss: 0.4560 - accuracy: 0.9500 - val_loss: 0.3960 - val_accuracy: 0.9150\n",
            "Epoch 16/60\n",
            "25/25 [==============================] - 20s 694ms/step - loss: 0.4181 - accuracy: 0.9600 - val_loss: 0.3768 - val_accuracy: 0.9250\n",
            "Epoch 17/60\n",
            "25/25 [==============================] - 20s 690ms/step - loss: 0.3908 - accuracy: 0.9550 - val_loss: 0.3695 - val_accuracy: 0.9200\n",
            "Epoch 18/60\n",
            "25/25 [==============================] - 20s 693ms/step - loss: 0.3561 - accuracy: 0.9600 - val_loss: 0.3535 - val_accuracy: 0.9350\n",
            "Epoch 19/60\n",
            "25/25 [==============================] - 20s 692ms/step - loss: 0.3204 - accuracy: 0.9737 - val_loss: 0.3405 - val_accuracy: 0.9300\n",
            "Epoch 20/60\n",
            "25/25 [==============================] - 20s 691ms/step - loss: 0.3160 - accuracy: 0.9737 - val_loss: 0.3306 - val_accuracy: 0.9250\n",
            "Epoch 21/60\n",
            "25/25 [==============================] - 20s 688ms/step - loss: 0.2782 - accuracy: 0.9850 - val_loss: 0.3269 - val_accuracy: 0.9250\n",
            "Epoch 22/60\n",
            "25/25 [==============================] - 20s 691ms/step - loss: 0.2700 - accuracy: 0.9862 - val_loss: 0.3163 - val_accuracy: 0.9400\n",
            "Epoch 23/60\n",
            "25/25 [==============================] - 20s 692ms/step - loss: 0.2463 - accuracy: 0.9912 - val_loss: 0.3115 - val_accuracy: 0.9400\n",
            "Epoch 24/60\n",
            "25/25 [==============================] - 20s 688ms/step - loss: 0.2322 - accuracy: 0.9850 - val_loss: 0.3052 - val_accuracy: 0.9250\n",
            "Epoch 25/60\n",
            "25/25 [==============================] - 20s 690ms/step - loss: 0.2097 - accuracy: 0.9900 - val_loss: 0.2970 - val_accuracy: 0.9400\n",
            "Epoch 26/60\n",
            "25/25 [==============================] - 20s 693ms/step - loss: 0.1986 - accuracy: 0.9900 - val_loss: 0.2812 - val_accuracy: 0.9450\n",
            "Epoch 27/60\n",
            "25/25 [==============================] - 20s 690ms/step - loss: 0.1851 - accuracy: 0.9975 - val_loss: 0.2863 - val_accuracy: 0.9500\n",
            "Epoch 28/60\n",
            "25/25 [==============================] - 20s 691ms/step - loss: 0.1700 - accuracy: 0.9925 - val_loss: 0.2681 - val_accuracy: 0.9550\n",
            "Epoch 29/60\n",
            "25/25 [==============================] - 20s 692ms/step - loss: 0.1711 - accuracy: 0.9950 - val_loss: 0.2701 - val_accuracy: 0.9450\n",
            "Epoch 30/60\n",
            "25/25 [==============================] - 20s 692ms/step - loss: 0.1529 - accuracy: 0.9950 - val_loss: 0.2581 - val_accuracy: 0.9500\n",
            "Epoch 31/60\n",
            "25/25 [==============================] - 20s 693ms/step - loss: 0.1371 - accuracy: 0.9975 - val_loss: 0.2559 - val_accuracy: 0.9500\n",
            "Epoch 32/60\n",
            "25/25 [==============================] - 20s 694ms/step - loss: 0.1416 - accuracy: 0.9962 - val_loss: 0.2545 - val_accuracy: 0.9500\n",
            "Epoch 33/60\n",
            "25/25 [==============================] - 20s 686ms/step - loss: 0.1263 - accuracy: 0.9962 - val_loss: 0.2585 - val_accuracy: 0.9550\n",
            "Epoch 34/60\n",
            "25/25 [==============================] - 20s 691ms/step - loss: 0.1255 - accuracy: 1.0000 - val_loss: 0.2538 - val_accuracy: 0.9500\n",
            "Epoch 35/60\n",
            "25/25 [==============================] - 20s 692ms/step - loss: 0.1141 - accuracy: 0.9975 - val_loss: 0.2508 - val_accuracy: 0.9550\n",
            "Epoch 36/60\n",
            "25/25 [==============================] - 20s 693ms/step - loss: 0.1061 - accuracy: 0.9975 - val_loss: 0.2486 - val_accuracy: 0.9550\n",
            "Epoch 37/60\n",
            "25/25 [==============================] - 20s 692ms/step - loss: 0.0938 - accuracy: 1.0000 - val_loss: 0.2530 - val_accuracy: 0.9400\n",
            "Epoch 38/60\n",
            "25/25 [==============================] - 20s 698ms/step - loss: 0.0899 - accuracy: 0.9987 - val_loss: 0.2432 - val_accuracy: 0.9550\n",
            "Epoch 39/60\n",
            "25/25 [==============================] - 20s 694ms/step - loss: 0.0992 - accuracy: 0.9987 - val_loss: 0.2418 - val_accuracy: 0.9550\n",
            "Epoch 40/60\n",
            "25/25 [==============================] - 20s 698ms/step - loss: 0.0890 - accuracy: 1.0000 - val_loss: 0.2456 - val_accuracy: 0.9500\n",
            "Epoch 41/60\n",
            "25/25 [==============================] - 20s 696ms/step - loss: 0.0834 - accuracy: 0.9975 - val_loss: 0.2383 - val_accuracy: 0.9550\n",
            "Epoch 42/60\n",
            "25/25 [==============================] - 20s 696ms/step - loss: 0.0804 - accuracy: 1.0000 - val_loss: 0.2390 - val_accuracy: 0.9500\n",
            "Epoch 43/60\n",
            "25/25 [==============================] - 20s 692ms/step - loss: 0.0797 - accuracy: 0.9987 - val_loss: 0.2470 - val_accuracy: 0.9400\n",
            "Epoch 44/60\n",
            "25/25 [==============================] - 20s 690ms/step - loss: 0.0660 - accuracy: 1.0000 - val_loss: 0.2348 - val_accuracy: 0.9500\n",
            "Epoch 45/60\n",
            "25/25 [==============================] - 20s 688ms/step - loss: 0.0708 - accuracy: 1.0000 - val_loss: 0.2320 - val_accuracy: 0.9500\n",
            "Epoch 46/60\n",
            "25/25 [==============================] - 20s 695ms/step - loss: 0.0666 - accuracy: 1.0000 - val_loss: 0.2313 - val_accuracy: 0.9500\n",
            "Epoch 47/60\n",
            "25/25 [==============================] - 20s 696ms/step - loss: 0.0571 - accuracy: 1.0000 - val_loss: 0.2323 - val_accuracy: 0.9500\n",
            "Epoch 48/60\n",
            "25/25 [==============================] - 20s 694ms/step - loss: 0.0586 - accuracy: 1.0000 - val_loss: 0.2267 - val_accuracy: 0.9550\n",
            "Epoch 49/60\n",
            "25/25 [==============================] - 20s 691ms/step - loss: 0.0503 - accuracy: 1.0000 - val_loss: 0.2278 - val_accuracy: 0.9500\n",
            "Epoch 50/60\n",
            "25/25 [==============================] - 20s 696ms/step - loss: 0.0620 - accuracy: 0.9987 - val_loss: 0.2287 - val_accuracy: 0.9500\n",
            "Epoch 51/60\n",
            "25/25 [==============================] - 20s 693ms/step - loss: 0.0565 - accuracy: 1.0000 - val_loss: 0.2328 - val_accuracy: 0.9450\n",
            "Epoch 52/60\n",
            "25/25 [==============================] - 20s 689ms/step - loss: 0.0492 - accuracy: 1.0000 - val_loss: 0.2277 - val_accuracy: 0.9500\n",
            "Epoch 53/60\n",
            "25/25 [==============================] - 20s 690ms/step - loss: 0.0709 - accuracy: 1.0000 - val_loss: 0.2633 - val_accuracy: 0.9150\n",
            "Epoch 54/60\n",
            "25/25 [==============================] - 20s 698ms/step - loss: 0.0499 - accuracy: 1.0000 - val_loss: 0.2335 - val_accuracy: 0.9450\n",
            "Epoch 55/60\n",
            "25/25 [==============================] - 20s 688ms/step - loss: 0.0442 - accuracy: 1.0000 - val_loss: 0.2255 - val_accuracy: 0.9500\n",
            "Epoch 56/60\n",
            "25/25 [==============================] - 20s 695ms/step - loss: 0.0410 - accuracy: 1.0000 - val_loss: 0.2242 - val_accuracy: 0.9500\n",
            "Epoch 57/60\n",
            "25/25 [==============================] - 20s 694ms/step - loss: 0.0434 - accuracy: 1.0000 - val_loss: 0.2231 - val_accuracy: 0.9500\n",
            "Epoch 58/60\n",
            "25/25 [==============================] - 20s 691ms/step - loss: 0.0407 - accuracy: 1.0000 - val_loss: 0.2227 - val_accuracy: 0.9500\n",
            "Epoch 59/60\n",
            "25/25 [==============================] - 20s 693ms/step - loss: 0.0430 - accuracy: 1.0000 - val_loss: 0.2227 - val_accuracy: 0.9500\n",
            "Epoch 60/60\n",
            "25/25 [==============================] - 20s 690ms/step - loss: 0.0462 - accuracy: 1.0000 - val_loss: 0.2232 - val_accuracy: 0.9500\n"
          ],
          "name": "stdout"
        },
        {
          "output_type": "display_data",
          "data": {
            "image/png": "[encoded data removed]",
            "text/plain": [
              "<Figure size 432x288 with 1 Axes>"
            ]
          },
          "metadata": {
            "needs_background": "light"
          }
        }
      ]
    },
    {
      "cell_type": "code",
      "metadata": {
        "colab": {
          "base_uri": "https://localhost:8080/",
          "height": 1000
        },
        "id": "zyyh6GC-3Lqb",
        "outputId": "5c2581e1-830f-4f2d-c86e-1fa4b52cce8e"
      },
      "source": [
        "models['base_model3'].fit(train_ds_scaled,validation_data=val_ds_scaled,epochs = 60, verbose = 1, workers = 3, class_weight = {0:1.13, 1:8.03, 2:1}, callbacks = [reduce_lr])\n",
        "plt.plot(models['base_model3'].history.history['accuracy'])\n",
        "plt.plot(models['base_model3'].history.history['val_accuracy'])\n",
        "plt.legend(['Train', 'Validation'])\n",
        "plt.title('Densenet121 training curves')\n",
        "plt.show()"
      ],
      "execution_count": null,
      "outputs": [
        {
          "output_type": "stream",
          "text": [
            "Epoch 1/60\n",
            "25/25 [==============================] - 27s 748ms/step - loss: 1.4042 - accuracy: 0.6075 - val_loss: 0.9806 - val_accuracy: 0.4450\n",
            "Epoch 2/60\n",
            "25/25 [==============================] - 19s 670ms/step - loss: 1.0096 - accuracy: 0.7300 - val_loss: 0.8120 - val_accuracy: 0.7800\n",
            "Epoch 3/60\n",
            "25/25 [==============================] - 20s 676ms/step - loss: 0.8557 - accuracy: 0.8112 - val_loss: 0.7032 - val_accuracy: 0.8850\n",
            "Epoch 4/60\n",
            "25/25 [==============================] - 20s 679ms/step - loss: 0.7629 - accuracy: 0.8500 - val_loss: 0.6343 - val_accuracy: 0.8550\n",
            "Epoch 5/60\n",
            "25/25 [==============================] - 20s 682ms/step - loss: 0.6641 - accuracy: 0.8888 - val_loss: 0.5949 - val_accuracy: 0.8250\n",
            "Epoch 6/60\n",
            "25/25 [==============================] - 20s 684ms/step - loss: 0.6311 - accuracy: 0.8875 - val_loss: 0.5288 - val_accuracy: 0.8450\n",
            "Epoch 7/60\n",
            "25/25 [==============================] - 20s 687ms/step - loss: 0.5535 - accuracy: 0.9300 - val_loss: 0.4812 - val_accuracy: 0.8800\n",
            "Epoch 8/60\n",
            "25/25 [==============================] - 20s 692ms/step - loss: 0.5188 - accuracy: 0.9287 - val_loss: 0.4432 - val_accuracy: 0.9000\n",
            "Epoch 9/60\n",
            "25/25 [==============================] - 20s 694ms/step - loss: 0.4519 - accuracy: 0.9513 - val_loss: 0.4020 - val_accuracy: 0.9000\n",
            "Epoch 10/60\n",
            "25/25 [==============================] - 20s 696ms/step - loss: 0.3965 - accuracy: 0.9588 - val_loss: 0.3582 - val_accuracy: 0.9300\n",
            "Epoch 11/60\n",
            "25/25 [==============================] - 20s 698ms/step - loss: 0.3444 - accuracy: 0.9712 - val_loss: 0.3388 - val_accuracy: 0.9250\n",
            "Epoch 12/60\n",
            "25/25 [==============================] - 20s 692ms/step - loss: 0.3319 - accuracy: 0.9700 - val_loss: 0.3329 - val_accuracy: 0.9200\n",
            "Epoch 13/60\n",
            "25/25 [==============================] - 20s 686ms/step - loss: 0.2929 - accuracy: 0.9762 - val_loss: 0.3288 - val_accuracy: 0.9250\n",
            "Epoch 14/60\n",
            "25/25 [==============================] - 20s 693ms/step - loss: 0.2488 - accuracy: 0.9837 - val_loss: 0.3060 - val_accuracy: 0.9350\n",
            "Epoch 15/60\n",
            "25/25 [==============================] - 20s 694ms/step - loss: 0.2185 - accuracy: 0.9887 - val_loss: 0.2929 - val_accuracy: 0.9300\n",
            "Epoch 16/60\n",
            "25/25 [==============================] - 20s 693ms/step - loss: 0.1968 - accuracy: 0.9900 - val_loss: 0.2879 - val_accuracy: 0.9350\n",
            "Epoch 17/60\n",
            "25/25 [==============================] - 20s 693ms/step - loss: 0.1760 - accuracy: 0.9925 - val_loss: 0.2729 - val_accuracy: 0.9300\n",
            "Epoch 18/60\n",
            "25/25 [==============================] - 20s 691ms/step - loss: 0.1553 - accuracy: 0.9962 - val_loss: 0.2535 - val_accuracy: 0.9450\n",
            "Epoch 19/60\n",
            "25/25 [==============================] - 20s 695ms/step - loss: 0.1416 - accuracy: 0.9925 - val_loss: 0.2441 - val_accuracy: 0.9400\n",
            "Epoch 20/60\n",
            "25/25 [==============================] - 20s 696ms/step - loss: 0.1250 - accuracy: 0.9975 - val_loss: 0.2380 - val_accuracy: 0.9250\n",
            "Epoch 21/60\n",
            "25/25 [==============================] - 20s 695ms/step - loss: 0.1263 - accuracy: 0.9962 - val_loss: 0.2457 - val_accuracy: 0.9200\n",
            "Epoch 22/60\n",
            "25/25 [==============================] - 20s 696ms/step - loss: 0.1094 - accuracy: 0.9950 - val_loss: 0.2397 - val_accuracy: 0.9350\n",
            "Epoch 23/60\n",
            "25/25 [==============================] - 20s 697ms/step - loss: 0.0986 - accuracy: 0.9975 - val_loss: 0.2287 - val_accuracy: 0.9400\n",
            "Epoch 24/60\n",
            "25/25 [==============================] - 20s 692ms/step - loss: 0.0858 - accuracy: 0.9975 - val_loss: 0.2354 - val_accuracy: 0.9350\n",
            "Epoch 25/60\n",
            "25/25 [==============================] - 20s 697ms/step - loss: 0.0770 - accuracy: 0.9975 - val_loss: 0.2369 - val_accuracy: 0.9450\n",
            "Epoch 26/60\n",
            "25/25 [==============================] - 20s 694ms/step - loss: 0.0779 - accuracy: 0.9975 - val_loss: 0.2313 - val_accuracy: 0.9450\n",
            "Epoch 27/60\n",
            "25/25 [==============================] - 20s 693ms/step - loss: 0.0685 - accuracy: 0.9987 - val_loss: 0.2274 - val_accuracy: 0.9400\n",
            "Epoch 28/60\n",
            "25/25 [==============================] - 20s 692ms/step - loss: 0.0749 - accuracy: 0.9975 - val_loss: 0.2382 - val_accuracy: 0.9350\n",
            "Epoch 29/60\n",
            "25/25 [==============================] - 20s 698ms/step - loss: 0.0676 - accuracy: 1.0000 - val_loss: 0.2527 - val_accuracy: 0.9350\n",
            "Epoch 30/60\n",
            "25/25 [==============================] - 20s 696ms/step - loss: 0.0482 - accuracy: 0.9987 - val_loss: 0.2217 - val_accuracy: 0.9350\n",
            "Epoch 31/60\n",
            "25/25 [==============================] - 20s 694ms/step - loss: 0.0546 - accuracy: 0.9987 - val_loss: 0.2321 - val_accuracy: 0.9400\n",
            "Epoch 32/60\n",
            "25/25 [==============================] - 20s 693ms/step - loss: 0.0454 - accuracy: 0.9987 - val_loss: 0.2314 - val_accuracy: 0.9350\n",
            "Epoch 33/60\n",
            "25/25 [==============================] - 20s 691ms/step - loss: 0.0454 - accuracy: 1.0000 - val_loss: 0.2301 - val_accuracy: 0.9400\n",
            "Epoch 34/60\n",
            "25/25 [==============================] - 20s 694ms/step - loss: 0.0484 - accuracy: 1.0000 - val_loss: 0.2457 - val_accuracy: 0.9400\n",
            "Epoch 35/60\n",
            "25/25 [==============================] - 20s 695ms/step - loss: 0.0394 - accuracy: 1.0000 - val_loss: 0.2351 - val_accuracy: 0.9350\n",
            "Epoch 36/60\n",
            "25/25 [==============================] - 20s 694ms/step - loss: 0.0361 - accuracy: 1.0000 - val_loss: 0.2328 - val_accuracy: 0.9350\n",
            "Epoch 37/60\n",
            "25/25 [==============================] - 20s 697ms/step - loss: 0.0409 - accuracy: 1.0000 - val_loss: 0.2300 - val_accuracy: 0.9350\n",
            "Epoch 38/60\n",
            "25/25 [==============================] - 20s 702ms/step - loss: 0.0421 - accuracy: 1.0000 - val_loss: 0.2278 - val_accuracy: 0.9300\n",
            "Epoch 39/60\n",
            "25/25 [==============================] - 20s 693ms/step - loss: 0.0397 - accuracy: 0.9987 - val_loss: 0.2277 - val_accuracy: 0.9300\n",
            "Epoch 40/60\n",
            "25/25 [==============================] - 20s 698ms/step - loss: 0.0392 - accuracy: 1.0000 - val_loss: 0.2287 - val_accuracy: 0.9300\n",
            "Epoch 41/60\n",
            "25/25 [==============================] - 20s 695ms/step - loss: 0.0419 - accuracy: 1.0000 - val_loss: 0.2286 - val_accuracy: 0.9300\n",
            "Epoch 42/60\n",
            "25/25 [==============================] - 20s 694ms/step - loss: 0.0363 - accuracy: 1.0000 - val_loss: 0.2284 - val_accuracy: 0.9300\n",
            "Epoch 43/60\n",
            "25/25 [==============================] - 20s 700ms/step - loss: 0.0371 - accuracy: 1.0000 - val_loss: 0.2283 - val_accuracy: 0.9300\n",
            "Epoch 44/60\n",
            "25/25 [==============================] - 20s 693ms/step - loss: 0.0392 - accuracy: 1.0000 - val_loss: 0.2281 - val_accuracy: 0.9300\n",
            "Epoch 45/60\n",
            "25/25 [==============================] - 20s 699ms/step - loss: 0.0404 - accuracy: 1.0000 - val_loss: 0.2281 - val_accuracy: 0.9300\n",
            "Epoch 46/60\n",
            "25/25 [==============================] - 20s 697ms/step - loss: 0.0333 - accuracy: 1.0000 - val_loss: 0.2281 - val_accuracy: 0.9300\n",
            "Epoch 47/60\n",
            "25/25 [==============================] - 20s 696ms/step - loss: 0.0340 - accuracy: 1.0000 - val_loss: 0.2281 - val_accuracy: 0.9300\n",
            "Epoch 48/60\n",
            "25/25 [==============================] - 20s 703ms/step - loss: 0.0358 - accuracy: 1.0000 - val_loss: 0.2280 - val_accuracy: 0.9300\n",
            "Epoch 49/60\n",
            "25/25 [==============================] - 20s 695ms/step - loss: 0.0342 - accuracy: 1.0000 - val_loss: 0.2281 - val_accuracy: 0.9300\n",
            "Epoch 50/60\n",
            "25/25 [==============================] - 20s 698ms/step - loss: 0.0371 - accuracy: 0.9987 - val_loss: 0.2280 - val_accuracy: 0.9300\n",
            "Epoch 51/60\n",
            "25/25 [==============================] - 20s 697ms/step - loss: 0.0315 - accuracy: 1.0000 - val_loss: 0.2281 - val_accuracy: 0.9300\n",
            "Epoch 52/60\n",
            "25/25 [==============================] - 20s 697ms/step - loss: 0.0348 - accuracy: 1.0000 - val_loss: 0.2279 - val_accuracy: 0.9300\n",
            "Epoch 53/60\n",
            "25/25 [==============================] - 20s 700ms/step - loss: 0.0376 - accuracy: 1.0000 - val_loss: 0.2279 - val_accuracy: 0.9300\n",
            "Epoch 54/60\n",
            "25/25 [==============================] - 20s 700ms/step - loss: 0.0352 - accuracy: 1.0000 - val_loss: 0.2279 - val_accuracy: 0.9300\n",
            "Epoch 55/60\n",
            "25/25 [==============================] - 20s 696ms/step - loss: 0.0405 - accuracy: 1.0000 - val_loss: 0.2278 - val_accuracy: 0.9300\n",
            "Epoch 56/60\n",
            "25/25 [==============================] - 20s 699ms/step - loss: 0.0361 - accuracy: 1.0000 - val_loss: 0.2279 - val_accuracy: 0.9300\n",
            "Epoch 57/60\n",
            "25/25 [==============================] - 20s 693ms/step - loss: 0.0330 - accuracy: 1.0000 - val_loss: 0.2279 - val_accuracy: 0.9300\n",
            "Epoch 58/60\n",
            "25/25 [==============================] - 20s 695ms/step - loss: 0.0338 - accuracy: 1.0000 - val_loss: 0.2279 - val_accuracy: 0.9300\n",
            "Epoch 59/60\n",
            "25/25 [==============================] - 20s 698ms/step - loss: 0.0399 - accuracy: 0.9987 - val_loss: 0.2278 - val_accuracy: 0.9300\n",
            "Epoch 60/60\n",
            "25/25 [==============================] - 20s 694ms/step - loss: 0.0344 - accuracy: 1.0000 - val_loss: 0.2277 - val_accuracy: 0.9300\n"
          ],
          "name": "stdout"
        },
        {
          "output_type": "display_data",
          "data": {
            "image/png": "[encoded data removed]",
            "text/plain": [
              "<Figure size 432x288 with 1 Axes>"
            ]
          },
          "metadata": {
            "needs_background": "light"
          }
        }
      ]
    },
    {
      "cell_type": "code",
      "metadata": {
        "colab": {
          "base_uri": "https://localhost:8080/",
          "height": 1000
        },
        "id": "frzAUhjK3Lt2",
        "outputId": "a8ab3141-9b02-4b3b-ea17-4cc1810d7ac3"
      },
      "source": [
        "models['base_model4'].fit(train_ds_scaled,validation_data=val_ds_scaled,epochs = 60, verbose = 1, workers = 3, class_weight = {0:1.13, 1:8.03, 2:1}, callbacks = [reduce_lr])\n",
        "plt.plot(models['base_model4'].history.history['accuracy'])\n",
        "plt.plot(models['base_model4'].history.history['val_accuracy'])\n",
        "plt.legend(['Train', 'Validation'])\n",
        "plt.title('Densenet121 training curves')\n",
        "plt.show()"
      ],
      "execution_count": null,
      "outputs": [
        {
          "output_type": "stream",
          "text": [
            "Epoch 1/60\n",
            "25/25 [==============================] - 26s 757ms/step - loss: 1.4873 - accuracy: 0.3938 - val_loss: 0.9167 - val_accuracy: 0.5550\n",
            "Epoch 2/60\n",
            "25/25 [==============================] - 20s 676ms/step - loss: 0.9976 - accuracy: 0.7800 - val_loss: 0.7419 - val_accuracy: 0.8650\n",
            "Epoch 3/60\n",
            "25/25 [==============================] - 20s 683ms/step - loss: 0.8224 - accuracy: 0.8275 - val_loss: 0.6450 - val_accuracy: 0.8550\n",
            "Epoch 4/60\n",
            "25/25 [==============================] - 20s 684ms/step - loss: 0.7303 - accuracy: 0.8975 - val_loss: 0.5891 - val_accuracy: 0.8500\n",
            "Epoch 5/60\n",
            "25/25 [==============================] - 20s 685ms/step - loss: 0.6431 - accuracy: 0.9000 - val_loss: 0.5335 - val_accuracy: 0.8550\n",
            "Epoch 6/60\n",
            "25/25 [==============================] - 20s 689ms/step - loss: 0.5710 - accuracy: 0.9200 - val_loss: 0.4953 - val_accuracy: 0.8700\n",
            "Epoch 7/60\n",
            "25/25 [==============================] - 20s 687ms/step - loss: 0.5453 - accuracy: 0.9013 - val_loss: 0.4494 - val_accuracy: 0.8700\n",
            "Epoch 8/60\n",
            "25/25 [==============================] - 20s 692ms/step - loss: 0.4834 - accuracy: 0.9400 - val_loss: 0.4064 - val_accuracy: 0.8950\n",
            "Epoch 9/60\n",
            "25/25 [==============================] - 20s 690ms/step - loss: 0.4421 - accuracy: 0.9525 - val_loss: 0.3899 - val_accuracy: 0.9100\n",
            "Epoch 10/60\n",
            "25/25 [==============================] - 20s 695ms/step - loss: 0.3881 - accuracy: 0.9500 - val_loss: 0.3422 - val_accuracy: 0.9250\n",
            "Epoch 11/60\n",
            "25/25 [==============================] - 20s 693ms/step - loss: 0.3318 - accuracy: 0.9625 - val_loss: 0.3216 - val_accuracy: 0.9350\n",
            "Epoch 12/60\n",
            "25/25 [==============================] - 20s 700ms/step - loss: 0.2969 - accuracy: 0.9787 - val_loss: 0.3063 - val_accuracy: 0.9450\n",
            "Epoch 13/60\n",
            "25/25 [==============================] - 20s 698ms/step - loss: 0.2560 - accuracy: 0.9825 - val_loss: 0.2913 - val_accuracy: 0.9500\n",
            "Epoch 14/60\n",
            "25/25 [==============================] - 20s 696ms/step - loss: 0.2102 - accuracy: 0.9912 - val_loss: 0.2799 - val_accuracy: 0.9500\n",
            "Epoch 15/60\n",
            "25/25 [==============================] - 20s 698ms/step - loss: 0.1949 - accuracy: 0.9887 - val_loss: 0.2721 - val_accuracy: 0.9400\n",
            "Epoch 16/60\n",
            "25/25 [==============================] - 20s 701ms/step - loss: 0.1766 - accuracy: 0.9887 - val_loss: 0.2622 - val_accuracy: 0.9450\n",
            "Epoch 17/60\n",
            "25/25 [==============================] - 20s 699ms/step - loss: 0.1576 - accuracy: 0.9912 - val_loss: 0.2535 - val_accuracy: 0.9500\n",
            "Epoch 18/60\n",
            "25/25 [==============================] - 20s 702ms/step - loss: 0.1312 - accuracy: 0.9937 - val_loss: 0.2476 - val_accuracy: 0.9500\n",
            "Epoch 19/60\n",
            "25/25 [==============================] - 20s 695ms/step - loss: 0.1236 - accuracy: 0.9962 - val_loss: 0.2418 - val_accuracy: 0.9500\n",
            "Epoch 20/60\n",
            "25/25 [==============================] - 20s 697ms/step - loss: 0.1204 - accuracy: 0.9962 - val_loss: 0.2353 - val_accuracy: 0.9500\n",
            "Epoch 21/60\n",
            "25/25 [==============================] - 20s 705ms/step - loss: 0.0896 - accuracy: 0.9962 - val_loss: 0.2301 - val_accuracy: 0.9450\n",
            "Epoch 22/60\n",
            "25/25 [==============================] - 20s 701ms/step - loss: 0.0872 - accuracy: 0.9950 - val_loss: 0.2306 - val_accuracy: 0.9400\n",
            "Epoch 23/60\n",
            "25/25 [==============================] - 20s 703ms/step - loss: 0.0913 - accuracy: 0.9975 - val_loss: 0.2371 - val_accuracy: 0.9450\n",
            "Epoch 24/60\n",
            "25/25 [==============================] - 20s 705ms/step - loss: 0.0797 - accuracy: 1.0000 - val_loss: 0.2289 - val_accuracy: 0.9400\n",
            "Epoch 25/60\n",
            "25/25 [==============================] - 20s 699ms/step - loss: 0.0609 - accuracy: 1.0000 - val_loss: 0.2218 - val_accuracy: 0.9400\n",
            "Epoch 26/60\n",
            "25/25 [==============================] - 20s 702ms/step - loss: 0.0586 - accuracy: 0.9987 - val_loss: 0.2246 - val_accuracy: 0.9400\n",
            "Epoch 27/60\n",
            "25/25 [==============================] - 20s 702ms/step - loss: 0.0617 - accuracy: 0.9987 - val_loss: 0.2238 - val_accuracy: 0.9500\n",
            "Epoch 28/60\n",
            "25/25 [==============================] - 20s 708ms/step - loss: 0.0495 - accuracy: 1.0000 - val_loss: 0.2176 - val_accuracy: 0.9400\n",
            "Epoch 29/60\n",
            "25/25 [==============================] - 20s 702ms/step - loss: 0.0439 - accuracy: 1.0000 - val_loss: 0.2171 - val_accuracy: 0.9450\n",
            "Epoch 30/60\n",
            "25/25 [==============================] - 20s 701ms/step - loss: 0.0494 - accuracy: 1.0000 - val_loss: 0.2233 - val_accuracy: 0.9450\n",
            "Epoch 31/60\n",
            "25/25 [==============================] - 20s 706ms/step - loss: 0.0375 - accuracy: 1.0000 - val_loss: 0.2191 - val_accuracy: 0.9450\n",
            "Epoch 32/60\n",
            "25/25 [==============================] - 20s 699ms/step - loss: 0.0354 - accuracy: 1.0000 - val_loss: 0.2229 - val_accuracy: 0.9250\n",
            "Epoch 33/60\n",
            "25/25 [==============================] - 20s 701ms/step - loss: 0.0370 - accuracy: 1.0000 - val_loss: 0.2174 - val_accuracy: 0.9450\n",
            "Epoch 34/60\n",
            "25/25 [==============================] - 20s 706ms/step - loss: 0.0293 - accuracy: 1.0000 - val_loss: 0.2246 - val_accuracy: 0.9400\n",
            "Epoch 35/60\n",
            "25/25 [==============================] - 20s 702ms/step - loss: 0.0302 - accuracy: 1.0000 - val_loss: 0.2210 - val_accuracy: 0.9400\n",
            "Epoch 36/60\n",
            "25/25 [==============================] - 20s 700ms/step - loss: 0.0329 - accuracy: 1.0000 - val_loss: 0.2190 - val_accuracy: 0.9450\n",
            "Epoch 37/60\n",
            "25/25 [==============================] - 20s 703ms/step - loss: 0.0288 - accuracy: 1.0000 - val_loss: 0.2187 - val_accuracy: 0.9450\n",
            "Epoch 38/60\n",
            "25/25 [==============================] - 20s 702ms/step - loss: 0.0286 - accuracy: 1.0000 - val_loss: 0.2185 - val_accuracy: 0.9450\n",
            "Epoch 39/60\n",
            "25/25 [==============================] - 20s 705ms/step - loss: 0.0368 - accuracy: 1.0000 - val_loss: 0.2189 - val_accuracy: 0.9450\n",
            "Epoch 40/60\n",
            "25/25 [==============================] - 20s 695ms/step - loss: 0.0416 - accuracy: 0.9987 - val_loss: 0.2189 - val_accuracy: 0.9450\n",
            "Epoch 41/60\n",
            "25/25 [==============================] - 20s 699ms/step - loss: 0.0284 - accuracy: 1.0000 - val_loss: 0.2189 - val_accuracy: 0.9450\n",
            "Epoch 42/60\n",
            "25/25 [==============================] - 20s 701ms/step - loss: 0.0366 - accuracy: 1.0000 - val_loss: 0.2188 - val_accuracy: 0.9450\n",
            "Epoch 43/60\n",
            "25/25 [==============================] - 20s 701ms/step - loss: 0.0304 - accuracy: 1.0000 - val_loss: 0.2188 - val_accuracy: 0.9450\n",
            "Epoch 44/60\n",
            "25/25 [==============================] - 20s 699ms/step - loss: 0.0302 - accuracy: 1.0000 - val_loss: 0.2188 - val_accuracy: 0.9450\n",
            "Epoch 45/60\n",
            "25/25 [==============================] - 20s 702ms/step - loss: 0.0278 - accuracy: 1.0000 - val_loss: 0.2188 - val_accuracy: 0.9450\n",
            "Epoch 46/60\n",
            "25/25 [==============================] - 20s 697ms/step - loss: 0.0280 - accuracy: 1.0000 - val_loss: 0.2188 - val_accuracy: 0.9450\n",
            "Epoch 47/60\n",
            "25/25 [==============================] - 20s 702ms/step - loss: 0.0317 - accuracy: 1.0000 - val_loss: 0.2188 - val_accuracy: 0.9450\n",
            "Epoch 48/60\n",
            "25/25 [==============================] - 20s 705ms/step - loss: 0.0321 - accuracy: 1.0000 - val_loss: 0.2188 - val_accuracy: 0.9450\n",
            "Epoch 49/60\n",
            "25/25 [==============================] - 20s 700ms/step - loss: 0.0332 - accuracy: 1.0000 - val_loss: 0.2187 - val_accuracy: 0.9450\n",
            "Epoch 50/60\n",
            "25/25 [==============================] - 20s 700ms/step - loss: 0.0290 - accuracy: 1.0000 - val_loss: 0.2189 - val_accuracy: 0.9450\n",
            "Epoch 51/60\n",
            "25/25 [==============================] - 20s 708ms/step - loss: 0.0384 - accuracy: 1.0000 - val_loss: 0.2188 - val_accuracy: 0.9450\n",
            "Epoch 52/60\n",
            "25/25 [==============================] - 20s 702ms/step - loss: 0.0318 - accuracy: 1.0000 - val_loss: 0.2188 - val_accuracy: 0.9450\n",
            "Epoch 53/60\n",
            "25/25 [==============================] - 20s 704ms/step - loss: 0.0281 - accuracy: 1.0000 - val_loss: 0.2190 - val_accuracy: 0.9450\n",
            "Epoch 54/60\n",
            "25/25 [==============================] - 20s 704ms/step - loss: 0.0316 - accuracy: 1.0000 - val_loss: 0.2190 - val_accuracy: 0.9450\n",
            "Epoch 55/60\n",
            "25/25 [==============================] - 20s 702ms/step - loss: 0.0338 - accuracy: 1.0000 - val_loss: 0.2189 - val_accuracy: 0.9450\n",
            "Epoch 56/60\n",
            "25/25 [==============================] - 20s 703ms/step - loss: 0.0287 - accuracy: 1.0000 - val_loss: 0.2189 - val_accuracy: 0.9450\n",
            "Epoch 57/60\n",
            "25/25 [==============================] - 20s 704ms/step - loss: 0.0380 - accuracy: 1.0000 - val_loss: 0.2188 - val_accuracy: 0.9450\n",
            "Epoch 58/60\n",
            "25/25 [==============================] - 20s 703ms/step - loss: 0.0297 - accuracy: 1.0000 - val_loss: 0.2188 - val_accuracy: 0.9450\n",
            "Epoch 59/60\n",
            "25/25 [==============================] - 20s 692ms/step - loss: 0.0304 - accuracy: 1.0000 - val_loss: 0.2188 - val_accuracy: 0.9450\n",
            "Epoch 60/60\n",
            "25/25 [==============================] - 20s 701ms/step - loss: 0.0329 - accuracy: 1.0000 - val_loss: 0.2187 - val_accuracy: 0.9450\n"
          ],
          "name": "stdout"
        },
        {
          "output_type": "display_data",
          "data": {
            "image/png": "[encoded data removed]",
            "text/plain": [
              "<Figure size 432x288 with 1 Axes>"
            ]
          },
          "metadata": {
            "needs_background": "light"
          }
        }
      ]
    },
    {
      "cell_type": "code",
      "metadata": {
        "colab": {
          "base_uri": "https://localhost:8080/"
        },
        "id": "v7oG1asv3LxL",
        "outputId": "8156a7a3-2f29-4f2d-ec2a-6e7cd4fb4e4a"
      },
      "source": [
        "models['base_model5'].fit(train_ds_scaled,validation_data=val_ds_scaled,epochs = 60, verbose = 1, workers = 3, class_weight = {0:1.13, 1:8.03, 2:1}, callbacks = [reduce_lr])\n",
        "plt.plot(models['base_model5'].history.history['accuracy'])\n",
        "plt.plot(models['base_model5'].history.history['val_accuracy'])\n",
        "plt.legend(['Train', 'Validation'])\n",
        "plt.title('Densenet121 training curves')\n",
        "plt.show()"
      ],
      "execution_count": null,
      "outputs": [
        {
          "output_type": "stream",
          "text": [
            "Epoch 1/60\n",
            "25/25 [==============================] - 27s 785ms/step - loss: 1.5130 - accuracy: 0.7462 - val_loss: 1.1275 - val_accuracy: 0.4350\n",
            "Epoch 2/60\n",
            "25/25 [==============================] - 20s 690ms/step - loss: 0.8869 - accuracy: 0.7975 - val_loss: 0.8481 - val_accuracy: 0.5450\n",
            "Epoch 3/60\n",
            "25/25 [==============================] - 20s 683ms/step - loss: 0.7341 - accuracy: 0.8263 - val_loss: 0.6402 - val_accuracy: 0.8600\n",
            "Epoch 4/60\n",
            "25/25 [==============================] - 20s 687ms/step - loss: 0.6443 - accuracy: 0.8625 - val_loss: 0.5334 - val_accuracy: 0.8750\n",
            "Epoch 5/60\n",
            "25/25 [==============================] - 20s 692ms/step - loss: 0.5868 - accuracy: 0.8963 - val_loss: 0.4762 - val_accuracy: 0.8900\n",
            "Epoch 6/60\n",
            "25/25 [==============================] - 20s 691ms/step - loss: 0.5121 - accuracy: 0.8975 - val_loss: 0.4095 - val_accuracy: 0.9000\n",
            "Epoch 7/60\n",
            "25/25 [==============================] - 20s 694ms/step - loss: 0.4604 - accuracy: 0.9275 - val_loss: 0.3959 - val_accuracy: 0.9200\n",
            "Epoch 8/60\n",
            "25/25 [==============================] - 20s 698ms/step - loss: 0.4038 - accuracy: 0.9388 - val_loss: 0.3461 - val_accuracy: 0.9350\n",
            "Epoch 9/60\n",
            "25/25 [==============================] - 20s 702ms/step - loss: 0.3803 - accuracy: 0.9513 - val_loss: 0.3277 - val_accuracy: 0.9200\n",
            "Epoch 10/60\n",
            "25/25 [==============================] - 20s 701ms/step - loss: 0.3157 - accuracy: 0.9625 - val_loss: 0.3102 - val_accuracy: 0.9350\n",
            "Epoch 11/60\n",
            "25/25 [==============================] - 20s 701ms/step - loss: 0.2607 - accuracy: 0.9712 - val_loss: 0.3001 - val_accuracy: 0.9250\n",
            "Epoch 12/60\n",
            "25/25 [==============================] - 20s 704ms/step - loss: 0.2412 - accuracy: 0.9787 - val_loss: 0.2909 - val_accuracy: 0.9200\n",
            "Epoch 13/60\n",
            "25/25 [==============================] - 20s 705ms/step - loss: 0.1834 - accuracy: 0.9875 - val_loss: 0.2664 - val_accuracy: 0.9300\n",
            "Epoch 14/60\n",
            "25/25 [==============================] - 20s 702ms/step - loss: 0.1696 - accuracy: 0.9850 - val_loss: 0.2582 - val_accuracy: 0.9300\n",
            "Epoch 15/60\n",
            "25/25 [==============================] - 20s 703ms/step - loss: 0.1359 - accuracy: 0.9925 - val_loss: 0.2521 - val_accuracy: 0.9350\n",
            "Epoch 16/60\n",
            "25/25 [==============================] - 20s 702ms/step - loss: 0.1175 - accuracy: 0.9950 - val_loss: 0.2390 - val_accuracy: 0.9400\n",
            "Epoch 17/60\n",
            "25/25 [==============================] - 20s 709ms/step - loss: 0.1159 - accuracy: 0.9900 - val_loss: 0.2406 - val_accuracy: 0.9350\n",
            "Epoch 18/60\n",
            "25/25 [==============================] - 20s 700ms/step - loss: 0.1021 - accuracy: 0.9950 - val_loss: 0.2358 - val_accuracy: 0.9400\n",
            "Epoch 19/60\n",
            "25/25 [==============================] - 20s 701ms/step - loss: 0.0930 - accuracy: 0.9937 - val_loss: 0.2229 - val_accuracy: 0.9450\n",
            "Epoch 20/60\n",
            "25/25 [==============================] - 20s 701ms/step - loss: 0.0732 - accuracy: 0.9962 - val_loss: 0.2266 - val_accuracy: 0.9400\n",
            "Epoch 21/60\n",
            "25/25 [==============================] - 20s 703ms/step - loss: 0.0637 - accuracy: 0.9975 - val_loss: 0.2160 - val_accuracy: 0.9450\n",
            "Epoch 22/60\n",
            "25/25 [==============================] - 20s 703ms/step - loss: 0.0527 - accuracy: 1.0000 - val_loss: 0.2239 - val_accuracy: 0.9400\n",
            "Epoch 23/60\n",
            "25/25 [==============================] - 20s 707ms/step - loss: 0.0522 - accuracy: 1.0000 - val_loss: 0.2373 - val_accuracy: 0.9250\n",
            "Epoch 24/60\n",
            "25/25 [==============================] - 20s 707ms/step - loss: 0.0419 - accuracy: 1.0000 - val_loss: 0.2196 - val_accuracy: 0.9350\n",
            "Epoch 25/60\n",
            "25/25 [==============================] - 20s 705ms/step - loss: 0.0372 - accuracy: 1.0000 - val_loss: 0.2180 - val_accuracy: 0.9300\n",
            "Epoch 26/60\n",
            "25/25 [==============================] - 20s 704ms/step - loss: 0.0352 - accuracy: 1.0000 - val_loss: 0.2236 - val_accuracy: 0.9300\n",
            "Epoch 27/60\n",
            "25/25 [==============================] - 20s 701ms/step - loss: 0.0322 - accuracy: 1.0000 - val_loss: 0.2206 - val_accuracy: 0.9250\n",
            "Epoch 28/60\n",
            "25/25 [==============================] - 20s 703ms/step - loss: 0.0320 - accuracy: 1.0000 - val_loss: 0.2206 - val_accuracy: 0.9300\n",
            "Epoch 29/60\n",
            "25/25 [==============================] - 20s 704ms/step - loss: 0.0347 - accuracy: 1.0000 - val_loss: 0.2203 - val_accuracy: 0.9300\n",
            "Epoch 30/60\n",
            "25/25 [==============================] - 20s 706ms/step - loss: 0.0484 - accuracy: 0.9987 - val_loss: 0.2194 - val_accuracy: 0.9300\n",
            "Epoch 31/60\n",
            "25/25 [==============================] - 20s 704ms/step - loss: 0.0335 - accuracy: 1.0000 - val_loss: 0.2201 - val_accuracy: 0.9250\n",
            "Epoch 32/60\n",
            "25/25 [==============================] - 20s 705ms/step - loss: 0.0284 - accuracy: 1.0000 - val_loss: 0.2201 - val_accuracy: 0.9250\n",
            "Epoch 33/60\n",
            "25/25 [==============================] - 20s 713ms/step - loss: 0.0311 - accuracy: 1.0000 - val_loss: 0.2200 - val_accuracy: 0.9250\n",
            "Epoch 34/60\n",
            "25/25 [==============================] - 20s 706ms/step - loss: 0.0323 - accuracy: 1.0000 - val_loss: 0.2201 - val_accuracy: 0.9250\n",
            "Epoch 35/60\n",
            "25/25 [==============================] - 20s 704ms/step - loss: 0.0270 - accuracy: 1.0000 - val_loss: 0.2202 - val_accuracy: 0.9250\n",
            "Epoch 36/60\n",
            "25/25 [==============================] - 20s 704ms/step - loss: 0.0299 - accuracy: 1.0000 - val_loss: 0.2203 - val_accuracy: 0.9250\n",
            "Epoch 37/60\n",
            "25/25 [==============================] - 20s 704ms/step - loss: 0.0334 - accuracy: 1.0000 - val_loss: 0.2204 - val_accuracy: 0.9250\n",
            "Epoch 38/60\n",
            "25/25 [==============================] - 20s 701ms/step - loss: 0.0322 - accuracy: 1.0000 - val_loss: 0.2204 - val_accuracy: 0.9250\n",
            "Epoch 39/60\n",
            "25/25 [==============================] - 20s 707ms/step - loss: 0.0316 - accuracy: 1.0000 - val_loss: 0.2204 - val_accuracy: 0.9250\n",
            "Epoch 40/60\n",
            "25/25 [==============================] - 20s 706ms/step - loss: 0.0317 - accuracy: 1.0000 - val_loss: 0.2205 - val_accuracy: 0.9250\n",
            "Epoch 41/60\n",
            "25/25 [==============================] - 20s 706ms/step - loss: 0.0298 - accuracy: 1.0000 - val_loss: 0.2205 - val_accuracy: 0.9250\n",
            "Epoch 42/60\n",
            "25/25 [==============================] - 20s 704ms/step - loss: 0.0312 - accuracy: 1.0000 - val_loss: 0.2204 - val_accuracy: 0.9250\n",
            "Epoch 43/60\n",
            "25/25 [==============================] - 20s 709ms/step - loss: 0.0270 - accuracy: 1.0000 - val_loss: 0.2204 - val_accuracy: 0.9250\n",
            "Epoch 44/60\n",
            "25/25 [==============================] - 20s 704ms/step - loss: 0.0333 - accuracy: 1.0000 - val_loss: 0.2205 - val_accuracy: 0.9250\n",
            "Epoch 45/60\n",
            "25/25 [==============================] - 20s 702ms/step - loss: 0.0333 - accuracy: 1.0000 - val_loss: 0.2206 - val_accuracy: 0.9250\n",
            "Epoch 46/60\n",
            "25/25 [==============================] - 20s 703ms/step - loss: 0.0282 - accuracy: 1.0000 - val_loss: 0.2205 - val_accuracy: 0.9250\n",
            "Epoch 47/60\n",
            "17/25 [===================>..........] - ETA: 4s - loss: 0.0286 - accuracy: 1.0000"
          ],
          "name": "stdout"
        }
      ]
    },
    {
      "cell_type": "code",
      "metadata": {
        "colab": {
          "base_uri": "https://localhost:8080/",
          "height": 1000
        },
        "id": "6CWGYXcw3L0V",
        "outputId": "f953bd88-7caa-43b5-962e-a72be4842d8f"
      },
      "source": [
        "models['base_model6'].fit(train_ds_scaled,validation_data=val_ds_scaled,epochs = 60, verbose = 1, workers = 3, class_weight = {0:1.13, 1:8.03, 2:1}, callbacks = [reduce_lr])\n",
        "plt.plot(models['base_model6'].history.history['accuracy'])\n",
        "plt.plot(models['base_model6'].history.history['val_accuracy'])\n",
        "plt.legend(['Train', 'Validation'])\n",
        "plt.title('Densenet121 training curves')\n",
        "plt.show()"
      ],
      "execution_count": null,
      "outputs": [
        {
          "output_type": "stream",
          "text": [
            "Epoch 1/60\n",
            "25/25 [==============================] - 149s 4s/step - loss: 1.2353 - accuracy: 0.4988 - val_loss: 1.1311 - val_accuracy: 0.5150\n",
            "Epoch 2/60\n",
            "25/25 [==============================] - 10s 352ms/step - loss: 0.7702 - accuracy: 0.8450 - val_loss: 0.9862 - val_accuracy: 0.5200\n",
            "Epoch 3/60\n",
            "25/25 [==============================] - 10s 352ms/step - loss: 0.6222 - accuracy: 0.8963 - val_loss: 0.8979 - val_accuracy: 0.5300\n",
            "Epoch 4/60\n",
            "25/25 [==============================] - 10s 350ms/step - loss: 0.5086 - accuracy: 0.9062 - val_loss: 0.8165 - val_accuracy: 0.5550\n",
            "Epoch 5/60\n",
            "25/25 [==============================] - 10s 351ms/step - loss: 0.4482 - accuracy: 0.9312 - val_loss: 0.7246 - val_accuracy: 0.6050\n",
            "Epoch 6/60\n",
            "25/25 [==============================] - 10s 350ms/step - loss: 0.3843 - accuracy: 0.9438 - val_loss: 0.6566 - val_accuracy: 0.6450\n",
            "Epoch 7/60\n",
            "25/25 [==============================] - 10s 351ms/step - loss: 0.3352 - accuracy: 0.9513 - val_loss: 0.5361 - val_accuracy: 0.7700\n",
            "Epoch 8/60\n",
            "25/25 [==============================] - 10s 352ms/step - loss: 0.2714 - accuracy: 0.9588 - val_loss: 0.4019 - val_accuracy: 0.8800\n",
            "Epoch 9/60\n",
            "25/25 [==============================] - 10s 356ms/step - loss: 0.2372 - accuracy: 0.9588 - val_loss: 0.3341 - val_accuracy: 0.9100\n",
            "Epoch 10/60\n",
            "25/25 [==============================] - 10s 352ms/step - loss: 0.1913 - accuracy: 0.9812 - val_loss: 0.2817 - val_accuracy: 0.9350\n",
            "Epoch 11/60\n",
            "25/25 [==============================] - 10s 351ms/step - loss: 0.1624 - accuracy: 0.9875 - val_loss: 0.2492 - val_accuracy: 0.9400\n",
            "Epoch 12/60\n",
            "25/25 [==============================] - 10s 352ms/step - loss: 0.1447 - accuracy: 0.9875 - val_loss: 0.2418 - val_accuracy: 0.9400\n",
            "Epoch 13/60\n",
            "25/25 [==============================] - 10s 351ms/step - loss: 0.1229 - accuracy: 0.9900 - val_loss: 0.2504 - val_accuracy: 0.9400\n",
            "Epoch 14/60\n",
            "25/25 [==============================] - 10s 350ms/step - loss: 0.0963 - accuracy: 0.9937 - val_loss: 0.2456 - val_accuracy: 0.9400\n",
            "Epoch 15/60\n",
            "25/25 [==============================] - 10s 352ms/step - loss: 0.0792 - accuracy: 0.9937 - val_loss: 0.2419 - val_accuracy: 0.9450\n",
            "Epoch 16/60\n",
            "25/25 [==============================] - 10s 352ms/step - loss: 0.0721 - accuracy: 0.9962 - val_loss: 0.2370 - val_accuracy: 0.9450\n",
            "Epoch 17/60\n",
            "25/25 [==============================] - 10s 352ms/step - loss: 0.0605 - accuracy: 0.9962 - val_loss: 0.2432 - val_accuracy: 0.9400\n",
            "Epoch 18/60\n",
            "25/25 [==============================] - 10s 350ms/step - loss: 0.0613 - accuracy: 0.9987 - val_loss: 0.2053 - val_accuracy: 0.9450\n",
            "Epoch 19/60\n",
            "25/25 [==============================] - 10s 353ms/step - loss: 0.0587 - accuracy: 0.9975 - val_loss: 0.2646 - val_accuracy: 0.9350\n",
            "Epoch 20/60\n",
            "25/25 [==============================] - 10s 352ms/step - loss: 0.0461 - accuracy: 0.9987 - val_loss: 0.2552 - val_accuracy: 0.9450\n",
            "Epoch 21/60\n",
            "25/25 [==============================] - 10s 351ms/step - loss: 0.0364 - accuracy: 0.9987 - val_loss: 0.2416 - val_accuracy: 0.9350\n",
            "Epoch 22/60\n",
            "25/25 [==============================] - 10s 351ms/step - loss: 0.0327 - accuracy: 0.9987 - val_loss: 0.2207 - val_accuracy: 0.9400\n",
            "Epoch 23/60\n",
            "25/25 [==============================] - 10s 350ms/step - loss: 0.0298 - accuracy: 1.0000 - val_loss: 0.2420 - val_accuracy: 0.9450\n",
            "Epoch 24/60\n",
            "25/25 [==============================] - 10s 350ms/step - loss: 0.0277 - accuracy: 1.0000 - val_loss: 0.2258 - val_accuracy: 0.9500\n",
            "Epoch 25/60\n",
            "25/25 [==============================] - 10s 356ms/step - loss: 0.0305 - accuracy: 1.0000 - val_loss: 0.2121 - val_accuracy: 0.9450\n",
            "Epoch 26/60\n",
            "25/25 [==============================] - 10s 352ms/step - loss: 0.0301 - accuracy: 1.0000 - val_loss: 0.2018 - val_accuracy: 0.9500\n",
            "Epoch 27/60\n",
            "25/25 [==============================] - 10s 350ms/step - loss: 0.0244 - accuracy: 0.9987 - val_loss: 0.1995 - val_accuracy: 0.9550\n",
            "Epoch 28/60\n",
            "25/25 [==============================] - 10s 352ms/step - loss: 0.0281 - accuracy: 1.0000 - val_loss: 0.1972 - val_accuracy: 0.9550\n",
            "Epoch 29/60\n",
            "25/25 [==============================] - 10s 349ms/step - loss: 0.0232 - accuracy: 1.0000 - val_loss: 0.1959 - val_accuracy: 0.9550\n",
            "Epoch 30/60\n",
            "25/25 [==============================] - 10s 351ms/step - loss: 0.0267 - accuracy: 1.0000 - val_loss: 0.1945 - val_accuracy: 0.9500\n",
            "Epoch 31/60\n",
            "25/25 [==============================] - 10s 352ms/step - loss: 0.0271 - accuracy: 1.0000 - val_loss: 0.1937 - val_accuracy: 0.9500\n",
            "Epoch 32/60\n",
            "25/25 [==============================] - 10s 351ms/step - loss: 0.0287 - accuracy: 1.0000 - val_loss: 0.1935 - val_accuracy: 0.9500\n",
            "Epoch 33/60\n",
            "25/25 [==============================] - 10s 350ms/step - loss: 0.0251 - accuracy: 1.0000 - val_loss: 0.1929 - val_accuracy: 0.9500\n",
            "Epoch 34/60\n",
            "25/25 [==============================] - 10s 353ms/step - loss: 0.0252 - accuracy: 1.0000 - val_loss: 0.1927 - val_accuracy: 0.9500\n",
            "Epoch 35/60\n",
            "25/25 [==============================] - 10s 352ms/step - loss: 0.0326 - accuracy: 1.0000 - val_loss: 0.1933 - val_accuracy: 0.9500\n",
            "Epoch 36/60\n",
            "25/25 [==============================] - 10s 352ms/step - loss: 0.0242 - accuracy: 1.0000 - val_loss: 0.1960 - val_accuracy: 0.9550\n",
            "Epoch 37/60\n",
            "25/25 [==============================] - 10s 350ms/step - loss: 0.0254 - accuracy: 1.0000 - val_loss: 0.1955 - val_accuracy: 0.9500\n",
            "Epoch 38/60\n",
            "25/25 [==============================] - 10s 356ms/step - loss: 0.0294 - accuracy: 0.9987 - val_loss: 0.1963 - val_accuracy: 0.9500\n",
            "Epoch 39/60\n",
            "25/25 [==============================] - 10s 350ms/step - loss: 0.0217 - accuracy: 1.0000 - val_loss: 0.1958 - val_accuracy: 0.9550\n",
            "Epoch 40/60\n",
            "25/25 [==============================] - 10s 352ms/step - loss: 0.0235 - accuracy: 1.0000 - val_loss: 0.1954 - val_accuracy: 0.9500\n",
            "Epoch 41/60\n",
            "25/25 [==============================] - 10s 354ms/step - loss: 0.0255 - accuracy: 1.0000 - val_loss: 0.1950 - val_accuracy: 0.9500\n",
            "Epoch 42/60\n",
            "25/25 [==============================] - 10s 353ms/step - loss: 0.0258 - accuracy: 1.0000 - val_loss: 0.1947 - val_accuracy: 0.9500\n",
            "Epoch 43/60\n",
            "25/25 [==============================] - 10s 352ms/step - loss: 0.0246 - accuracy: 1.0000 - val_loss: 0.1946 - val_accuracy: 0.9500\n",
            "Epoch 44/60\n",
            "25/25 [==============================] - 10s 354ms/step - loss: 0.0210 - accuracy: 1.0000 - val_loss: 0.1946 - val_accuracy: 0.9500\n",
            "Epoch 45/60\n",
            "25/25 [==============================] - 10s 353ms/step - loss: 0.0298 - accuracy: 1.0000 - val_loss: 0.1946 - val_accuracy: 0.9500\n",
            "Epoch 46/60\n",
            "25/25 [==============================] - 10s 353ms/step - loss: 0.0213 - accuracy: 1.0000 - val_loss: 0.1946 - val_accuracy: 0.9500\n",
            "Epoch 47/60\n",
            "25/25 [==============================] - 10s 354ms/step - loss: 0.0261 - accuracy: 1.0000 - val_loss: 0.1945 - val_accuracy: 0.9500\n",
            "Epoch 48/60\n",
            "25/25 [==============================] - 10s 350ms/step - loss: 0.0221 - accuracy: 1.0000 - val_loss: 0.1945 - val_accuracy: 0.9500\n",
            "Epoch 49/60\n",
            "25/25 [==============================] - 10s 350ms/step - loss: 0.0234 - accuracy: 1.0000 - val_loss: 0.1945 - val_accuracy: 0.9500\n",
            "Epoch 50/60\n",
            "25/25 [==============================] - 10s 349ms/step - loss: 0.0209 - accuracy: 1.0000 - val_loss: 0.1945 - val_accuracy: 0.9500\n",
            "Epoch 51/60\n",
            "25/25 [==============================] - 10s 352ms/step - loss: 0.0250 - accuracy: 1.0000 - val_loss: 0.1946 - val_accuracy: 0.9500\n",
            "Epoch 52/60\n",
            "25/25 [==============================] - 10s 350ms/step - loss: 0.0262 - accuracy: 1.0000 - val_loss: 0.1945 - val_accuracy: 0.9500\n",
            "Epoch 53/60\n",
            "25/25 [==============================] - 10s 353ms/step - loss: 0.0222 - accuracy: 1.0000 - val_loss: 0.1946 - val_accuracy: 0.9500\n",
            "Epoch 54/60\n",
            "25/25 [==============================] - 10s 352ms/step - loss: 0.0197 - accuracy: 1.0000 - val_loss: 0.1945 - val_accuracy: 0.9500\n",
            "Epoch 55/60\n",
            "25/25 [==============================] - 10s 351ms/step - loss: 0.0232 - accuracy: 1.0000 - val_loss: 0.1945 - val_accuracy: 0.9500\n",
            "Epoch 56/60\n",
            "25/25 [==============================] - 10s 351ms/step - loss: 0.0269 - accuracy: 0.9987 - val_loss: 0.1946 - val_accuracy: 0.9500\n",
            "Epoch 57/60\n",
            "25/25 [==============================] - 10s 352ms/step - loss: 0.0211 - accuracy: 1.0000 - val_loss: 0.1947 - val_accuracy: 0.9500\n",
            "Epoch 58/60\n",
            "25/25 [==============================] - 10s 350ms/step - loss: 0.0235 - accuracy: 1.0000 - val_loss: 0.1947 - val_accuracy: 0.9500\n",
            "Epoch 59/60\n",
            "25/25 [==============================] - 10s 351ms/step - loss: 0.0257 - accuracy: 1.0000 - val_loss: 0.1947 - val_accuracy: 0.9500\n",
            "Epoch 60/60\n",
            "25/25 [==============================] - 10s 355ms/step - loss: 0.0303 - accuracy: 1.0000 - val_loss: 0.1947 - val_accuracy: 0.9500\n"
          ],
          "name": "stdout"
        },
        {
          "output_type": "display_data",
          "data": {
            "image/png": "[encoded data removed]",
            "text/plain": [
              "<Figure size 432x288 with 1 Axes>"
            ]
          },
          "metadata": {
            "needs_background": "light"
          }
        }
      ]
    },
    {
      "cell_type": "code",
      "metadata": {
        "colab": {
          "base_uri": "https://localhost:8080/",
          "height": 1000
        },
        "id": "hwJGpwlF3PSI",
        "outputId": "1276efe7-e576-4f4c-e912-248b9c0e2a69"
      },
      "source": [
        "models['base_model7'].fit(train_ds_scaled,validation_data=val_ds_scaled,epochs = 60, verbose = 1, workers = 3, class_weight = {0:1.13, 1:8.03, 2:1}, callbacks = [reduce_lr])\n",
        "plt.plot(models['base_model7'].history.history['accuracy'])\n",
        "plt.plot(models['base_model7'].history.history['val_accuracy'])\n",
        "plt.legend(['Train', 'Validation'])\n",
        "plt.title('Densenet121 training curves')\n",
        "plt.show()"
      ],
      "execution_count": null,
      "outputs": [
        {
          "output_type": "stream",
          "text": [
            "Epoch 1/60\n",
            "25/25 [==============================] - 17s 413ms/step - loss: 1.3023 - accuracy: 0.5800 - val_loss: 1.2842 - val_accuracy: 0.0950\n",
            "Epoch 2/60\n",
            "25/25 [==============================] - 10s 352ms/step - loss: 0.7704 - accuracy: 0.8025 - val_loss: 0.8982 - val_accuracy: 0.5800\n",
            "Epoch 3/60\n",
            "25/25 [==============================] - 10s 355ms/step - loss: 0.6331 - accuracy: 0.8813 - val_loss: 0.7028 - val_accuracy: 0.7350\n",
            "Epoch 4/60\n",
            "25/25 [==============================] - 10s 355ms/step - loss: 0.5418 - accuracy: 0.9013 - val_loss: 0.6009 - val_accuracy: 0.7750\n",
            "Epoch 5/60\n",
            "25/25 [==============================] - 10s 352ms/step - loss: 0.4674 - accuracy: 0.9187 - val_loss: 0.5260 - val_accuracy: 0.8200\n",
            "Epoch 6/60\n",
            "25/25 [==============================] - 10s 355ms/step - loss: 0.4186 - accuracy: 0.9275 - val_loss: 0.4487 - val_accuracy: 0.8750\n",
            "Epoch 7/60\n",
            "25/25 [==============================] - 10s 350ms/step - loss: 0.3768 - accuracy: 0.9375 - val_loss: 0.4216 - val_accuracy: 0.8550\n",
            "Epoch 8/60\n",
            "25/25 [==============================] - 10s 353ms/step - loss: 0.3240 - accuracy: 0.9513 - val_loss: 0.3522 - val_accuracy: 0.8950\n",
            "Epoch 9/60\n",
            "25/25 [==============================] - 10s 354ms/step - loss: 0.2631 - accuracy: 0.9725 - val_loss: 0.3179 - val_accuracy: 0.9250\n",
            "Epoch 10/60\n",
            "25/25 [==============================] - 10s 354ms/step - loss: 0.2153 - accuracy: 0.9775 - val_loss: 0.3048 - val_accuracy: 0.9250\n",
            "Epoch 11/60\n",
            "25/25 [==============================] - 10s 354ms/step - loss: 0.1803 - accuracy: 0.9750 - val_loss: 0.2634 - val_accuracy: 0.9400\n",
            "Epoch 12/60\n",
            "25/25 [==============================] - 10s 352ms/step - loss: 0.1498 - accuracy: 0.9900 - val_loss: 0.2528 - val_accuracy: 0.9450\n",
            "Epoch 13/60\n",
            "25/25 [==============================] - 10s 354ms/step - loss: 0.1176 - accuracy: 0.9900 - val_loss: 0.2429 - val_accuracy: 0.9400\n",
            "Epoch 14/60\n",
            "25/25 [==============================] - 10s 354ms/step - loss: 0.0985 - accuracy: 0.9925 - val_loss: 0.2295 - val_accuracy: 0.9350\n",
            "Epoch 15/60\n",
            "25/25 [==============================] - 10s 351ms/step - loss: 0.1027 - accuracy: 0.9950 - val_loss: 0.2293 - val_accuracy: 0.9450\n",
            "Epoch 16/60\n",
            "25/25 [==============================] - 10s 351ms/step - loss: 0.0921 - accuracy: 0.9962 - val_loss: 0.2680 - val_accuracy: 0.9250\n",
            "Epoch 17/60\n",
            "25/25 [==============================] - 10s 352ms/step - loss: 0.0721 - accuracy: 0.9937 - val_loss: 0.2228 - val_accuracy: 0.9500\n",
            "Epoch 18/60\n",
            "25/25 [==============================] - 10s 351ms/step - loss: 0.0602 - accuracy: 0.9962 - val_loss: 0.2220 - val_accuracy: 0.9400\n",
            "Epoch 19/60\n",
            "25/25 [==============================] - 10s 351ms/step - loss: 0.0504 - accuracy: 0.9950 - val_loss: 0.2147 - val_accuracy: 0.9500\n",
            "Epoch 20/60\n",
            "25/25 [==============================] - 10s 351ms/step - loss: 0.0379 - accuracy: 1.0000 - val_loss: 0.2183 - val_accuracy: 0.9500\n",
            "Epoch 21/60\n",
            "25/25 [==============================] - 10s 352ms/step - loss: 0.0330 - accuracy: 1.0000 - val_loss: 0.2361 - val_accuracy: 0.9400\n",
            "Epoch 22/60\n",
            "25/25 [==============================] - 10s 355ms/step - loss: 0.0382 - accuracy: 1.0000 - val_loss: 0.2254 - val_accuracy: 0.9450\n",
            "Epoch 23/60\n",
            "25/25 [==============================] - 10s 352ms/step - loss: 0.0248 - accuracy: 1.0000 - val_loss: 0.2281 - val_accuracy: 0.9350\n",
            "Epoch 24/60\n",
            "25/25 [==============================] - 10s 354ms/step - loss: 0.0253 - accuracy: 1.0000 - val_loss: 0.2121 - val_accuracy: 0.9400\n",
            "Epoch 25/60\n",
            "25/25 [==============================] - 10s 353ms/step - loss: 0.0222 - accuracy: 1.0000 - val_loss: 0.2337 - val_accuracy: 0.9400\n",
            "Epoch 26/60\n",
            "25/25 [==============================] - 10s 355ms/step - loss: 0.0205 - accuracy: 1.0000 - val_loss: 0.2438 - val_accuracy: 0.9250\n",
            "Epoch 27/60\n",
            "25/25 [==============================] - 10s 350ms/step - loss: 0.0235 - accuracy: 1.0000 - val_loss: 0.2338 - val_accuracy: 0.9250\n",
            "Epoch 28/60\n",
            "25/25 [==============================] - 10s 351ms/step - loss: 0.0174 - accuracy: 1.0000 - val_loss: 0.2193 - val_accuracy: 0.9400\n",
            "Epoch 29/60\n",
            "25/25 [==============================] - 10s 351ms/step - loss: 0.0176 - accuracy: 1.0000 - val_loss: 0.2172 - val_accuracy: 0.9450\n",
            "Epoch 30/60\n",
            "25/25 [==============================] - 10s 356ms/step - loss: 0.0146 - accuracy: 1.0000 - val_loss: 0.2220 - val_accuracy: 0.9450\n",
            "Epoch 31/60\n",
            "25/25 [==============================] - 10s 355ms/step - loss: 0.0170 - accuracy: 1.0000 - val_loss: 0.2174 - val_accuracy: 0.9450\n",
            "Epoch 32/60\n",
            "25/25 [==============================] - 10s 357ms/step - loss: 0.0171 - accuracy: 1.0000 - val_loss: 0.2156 - val_accuracy: 0.9450\n",
            "Epoch 33/60\n",
            "25/25 [==============================] - 10s 352ms/step - loss: 0.0147 - accuracy: 1.0000 - val_loss: 0.2176 - val_accuracy: 0.9450\n",
            "Epoch 34/60\n",
            "25/25 [==============================] - 10s 355ms/step - loss: 0.0147 - accuracy: 1.0000 - val_loss: 0.2253 - val_accuracy: 0.9450\n",
            "Epoch 35/60\n",
            "25/25 [==============================] - 10s 353ms/step - loss: 0.0192 - accuracy: 1.0000 - val_loss: 0.2241 - val_accuracy: 0.9450\n",
            "Epoch 36/60\n",
            "25/25 [==============================] - 10s 354ms/step - loss: 0.0153 - accuracy: 1.0000 - val_loss: 0.2237 - val_accuracy: 0.9450\n",
            "Epoch 37/60\n",
            "25/25 [==============================] - 10s 353ms/step - loss: 0.0136 - accuracy: 1.0000 - val_loss: 0.2237 - val_accuracy: 0.9450\n",
            "Epoch 38/60\n",
            "25/25 [==============================] - 10s 354ms/step - loss: 0.0128 - accuracy: 1.0000 - val_loss: 0.2239 - val_accuracy: 0.9450\n",
            "Epoch 39/60\n",
            "25/25 [==============================] - 10s 350ms/step - loss: 0.0147 - accuracy: 1.0000 - val_loss: 0.2240 - val_accuracy: 0.9450\n",
            "Epoch 40/60\n",
            "25/25 [==============================] - 10s 350ms/step - loss: 0.0163 - accuracy: 1.0000 - val_loss: 0.2242 - val_accuracy: 0.9450\n",
            "Epoch 41/60\n",
            "25/25 [==============================] - 10s 353ms/step - loss: 0.0134 - accuracy: 1.0000 - val_loss: 0.2242 - val_accuracy: 0.9450\n",
            "Epoch 42/60\n",
            "25/25 [==============================] - 10s 354ms/step - loss: 0.0137 - accuracy: 1.0000 - val_loss: 0.2241 - val_accuracy: 0.9450\n",
            "Epoch 43/60\n",
            "25/25 [==============================] - 10s 350ms/step - loss: 0.0161 - accuracy: 1.0000 - val_loss: 0.2242 - val_accuracy: 0.9450\n",
            "Epoch 44/60\n",
            "25/25 [==============================] - 10s 353ms/step - loss: 0.0133 - accuracy: 1.0000 - val_loss: 0.2243 - val_accuracy: 0.9450\n",
            "Epoch 45/60\n",
            "25/25 [==============================] - 10s 351ms/step - loss: 0.0155 - accuracy: 1.0000 - val_loss: 0.2244 - val_accuracy: 0.9450\n",
            "Epoch 46/60\n",
            "25/25 [==============================] - 10s 352ms/step - loss: 0.0145 - accuracy: 1.0000 - val_loss: 0.2244 - val_accuracy: 0.9450\n",
            "Epoch 47/60\n",
            "25/25 [==============================] - 10s 352ms/step - loss: 0.0145 - accuracy: 1.0000 - val_loss: 0.2245 - val_accuracy: 0.9450\n",
            "Epoch 48/60\n",
            "25/25 [==============================] - 10s 353ms/step - loss: 0.0134 - accuracy: 1.0000 - val_loss: 0.2245 - val_accuracy: 0.9450\n",
            "Epoch 49/60\n",
            "25/25 [==============================] - 10s 351ms/step - loss: 0.0142 - accuracy: 1.0000 - val_loss: 0.2245 - val_accuracy: 0.9450\n",
            "Epoch 50/60\n",
            "25/25 [==============================] - 10s 351ms/step - loss: 0.0138 - accuracy: 1.0000 - val_loss: 0.2244 - val_accuracy: 0.9450\n",
            "Epoch 51/60\n",
            "25/25 [==============================] - 10s 356ms/step - loss: 0.0150 - accuracy: 1.0000 - val_loss: 0.2243 - val_accuracy: 0.9450\n",
            "Epoch 52/60\n",
            "25/25 [==============================] - 10s 353ms/step - loss: 0.0161 - accuracy: 1.0000 - val_loss: 0.2243 - val_accuracy: 0.9450\n",
            "Epoch 53/60\n",
            "25/25 [==============================] - 10s 352ms/step - loss: 0.0125 - accuracy: 1.0000 - val_loss: 0.2243 - val_accuracy: 0.9450\n",
            "Epoch 54/60\n",
            "25/25 [==============================] - 10s 352ms/step - loss: 0.0147 - accuracy: 1.0000 - val_loss: 0.2243 - val_accuracy: 0.9450\n",
            "Epoch 55/60\n",
            "25/25 [==============================] - 10s 352ms/step - loss: 0.0127 - accuracy: 1.0000 - val_loss: 0.2243 - val_accuracy: 0.9450\n",
            "Epoch 56/60\n",
            "25/25 [==============================] - 10s 352ms/step - loss: 0.0147 - accuracy: 1.0000 - val_loss: 0.2243 - val_accuracy: 0.9450\n",
            "Epoch 57/60\n",
            "25/25 [==============================] - 10s 352ms/step - loss: 0.0178 - accuracy: 1.0000 - val_loss: 0.2242 - val_accuracy: 0.9450\n",
            "Epoch 58/60\n",
            "25/25 [==============================] - 10s 353ms/step - loss: 0.0141 - accuracy: 1.0000 - val_loss: 0.2242 - val_accuracy: 0.9450\n",
            "Epoch 59/60\n",
            "25/25 [==============================] - 10s 350ms/step - loss: 0.0128 - accuracy: 1.0000 - val_loss: 0.2244 - val_accuracy: 0.9450\n",
            "Epoch 60/60\n",
            "25/25 [==============================] - 10s 350ms/step - loss: 0.0173 - accuracy: 1.0000 - val_loss: 0.2246 - val_accuracy: 0.9450\n"
          ],
          "name": "stdout"
        },
        {
          "output_type": "display_data",
          "data": {
            "image/png": "[encoded data removed]",
            "text/plain": [
              "<Figure size 432x288 with 1 Axes>"
            ]
          },
          "metadata": {
            "needs_background": "light"
          }
        }
      ]
    },
    {
      "cell_type": "code",
      "metadata": {
        "colab": {
          "base_uri": "https://localhost:8080/",
          "height": 1000
        },
        "id": "Hrzxjff33PVc",
        "outputId": "4b1cc7c3-9972-4fac-8619-f45305f96dc1"
      },
      "source": [
        "models['base_model8'].fit(train_ds_scaled,validation_data=val_ds_scaled,epochs = 60, verbose = 1, workers = 3, class_weight = {0:1.13, 1:8.03, 2:1}, callbacks = [reduce_lr])\n",
        "plt.plot(models['base_model8'].history.history['accuracy'])\n",
        "plt.plot(models['base_model8'].history.history['val_accuracy'])\n",
        "plt.legend(['Train', 'Validation'])\n",
        "plt.title('Densenet121 training curves')\n",
        "plt.show()"
      ],
      "execution_count": null,
      "outputs": [
        {
          "output_type": "stream",
          "text": [
            "Epoch 1/60\n",
            "25/25 [==============================] - 17s 412ms/step - loss: 1.2230 - accuracy: 0.7362 - val_loss: 0.7985 - val_accuracy: 0.5000\n",
            "Epoch 2/60\n",
            "25/25 [==============================] - 10s 355ms/step - loss: 0.7163 - accuracy: 0.8350 - val_loss: 0.6222 - val_accuracy: 0.8650\n",
            "Epoch 3/60\n",
            "25/25 [==============================] - 10s 353ms/step - loss: 0.5722 - accuracy: 0.8825 - val_loss: 0.5345 - val_accuracy: 0.8900\n",
            "Epoch 4/60\n",
            "25/25 [==============================] - 10s 353ms/step - loss: 0.4788 - accuracy: 0.9200 - val_loss: 0.4662 - val_accuracy: 0.9050\n",
            "Epoch 5/60\n",
            "25/25 [==============================] - 10s 356ms/step - loss: 0.4124 - accuracy: 0.9388 - val_loss: 0.4184 - val_accuracy: 0.9150\n",
            "Epoch 6/60\n",
            "25/25 [==============================] - 10s 354ms/step - loss: 0.3536 - accuracy: 0.9413 - val_loss: 0.3582 - val_accuracy: 0.9200\n",
            "Epoch 7/60\n",
            "25/25 [==============================] - 10s 353ms/step - loss: 0.2901 - accuracy: 0.9638 - val_loss: 0.3313 - val_accuracy: 0.9100\n",
            "Epoch 8/60\n",
            "25/25 [==============================] - 10s 356ms/step - loss: 0.2407 - accuracy: 0.9762 - val_loss: 0.3057 - val_accuracy: 0.9200\n",
            "Epoch 9/60\n",
            "25/25 [==============================] - 10s 354ms/step - loss: 0.1895 - accuracy: 0.9750 - val_loss: 0.2639 - val_accuracy: 0.9450\n",
            "Epoch 10/60\n",
            "25/25 [==============================] - 10s 352ms/step - loss: 0.1581 - accuracy: 0.9887 - val_loss: 0.2524 - val_accuracy: 0.9350\n",
            "Epoch 11/60\n",
            "25/25 [==============================] - 10s 356ms/step - loss: 0.1470 - accuracy: 0.9850 - val_loss: 0.2326 - val_accuracy: 0.9350\n",
            "Epoch 12/60\n",
            "25/25 [==============================] - 10s 354ms/step - loss: 0.1216 - accuracy: 0.9937 - val_loss: 0.2235 - val_accuracy: 0.9450\n",
            "Epoch 13/60\n",
            "25/25 [==============================] - 10s 354ms/step - loss: 0.0981 - accuracy: 0.9900 - val_loss: 0.2228 - val_accuracy: 0.9350\n",
            "Epoch 14/60\n",
            "25/25 [==============================] - 10s 353ms/step - loss: 0.0736 - accuracy: 0.9987 - val_loss: 0.2388 - val_accuracy: 0.9450\n",
            "Epoch 15/60\n",
            "25/25 [==============================] - 10s 353ms/step - loss: 0.0672 - accuracy: 0.9962 - val_loss: 0.2196 - val_accuracy: 0.9400\n",
            "Epoch 16/60\n",
            "25/25 [==============================] - 10s 352ms/step - loss: 0.0512 - accuracy: 1.0000 - val_loss: 0.2213 - val_accuracy: 0.9300\n",
            "Epoch 17/60\n",
            "25/25 [==============================] - 10s 355ms/step - loss: 0.0491 - accuracy: 0.9987 - val_loss: 0.2139 - val_accuracy: 0.9400\n",
            "Epoch 18/60\n",
            "25/25 [==============================] - 10s 356ms/step - loss: 0.0375 - accuracy: 1.0000 - val_loss: 0.2096 - val_accuracy: 0.9400\n",
            "Epoch 19/60\n",
            "25/25 [==============================] - 10s 355ms/step - loss: 0.0314 - accuracy: 1.0000 - val_loss: 0.2120 - val_accuracy: 0.9400\n",
            "Epoch 20/60\n",
            "25/25 [==============================] - 10s 353ms/step - loss: 0.0360 - accuracy: 1.0000 - val_loss: 0.2247 - val_accuracy: 0.9400\n",
            "Epoch 21/60\n",
            "25/25 [==============================] - 10s 353ms/step - loss: 0.0250 - accuracy: 1.0000 - val_loss: 0.2276 - val_accuracy: 0.9350\n",
            "Epoch 22/60\n",
            "25/25 [==============================] - 10s 355ms/step - loss: 0.0230 - accuracy: 1.0000 - val_loss: 0.2239 - val_accuracy: 0.9450\n",
            "Epoch 23/60\n",
            "25/25 [==============================] - 10s 357ms/step - loss: 0.0212 - accuracy: 0.9987 - val_loss: 0.2279 - val_accuracy: 0.9400\n",
            "Epoch 24/60\n",
            "25/25 [==============================] - 10s 353ms/step - loss: 0.0205 - accuracy: 1.0000 - val_loss: 0.2275 - val_accuracy: 0.9350\n",
            "Epoch 25/60\n",
            "25/25 [==============================] - 10s 355ms/step - loss: 0.0163 - accuracy: 1.0000 - val_loss: 0.2273 - val_accuracy: 0.9350\n",
            "Epoch 26/60\n",
            "25/25 [==============================] - 10s 354ms/step - loss: 0.0176 - accuracy: 1.0000 - val_loss: 0.2268 - val_accuracy: 0.9350\n",
            "Epoch 27/60\n",
            "25/25 [==============================] - 10s 354ms/step - loss: 0.0181 - accuracy: 1.0000 - val_loss: 0.2255 - val_accuracy: 0.9350\n",
            "Epoch 28/60\n",
            "25/25 [==============================] - 10s 356ms/step - loss: 0.0184 - accuracy: 1.0000 - val_loss: 0.2263 - val_accuracy: 0.9350\n",
            "Epoch 29/60\n",
            "25/25 [==============================] - 10s 353ms/step - loss: 0.0207 - accuracy: 1.0000 - val_loss: 0.2267 - val_accuracy: 0.9350\n",
            "Epoch 30/60\n",
            "25/25 [==============================] - 10s 356ms/step - loss: 0.0195 - accuracy: 1.0000 - val_loss: 0.2271 - val_accuracy: 0.9350\n",
            "Epoch 31/60\n",
            "25/25 [==============================] - 10s 353ms/step - loss: 0.0153 - accuracy: 1.0000 - val_loss: 0.2273 - val_accuracy: 0.9350\n",
            "Epoch 32/60\n",
            "25/25 [==============================] - 10s 354ms/step - loss: 0.0195 - accuracy: 1.0000 - val_loss: 0.2276 - val_accuracy: 0.9350\n",
            "Epoch 33/60\n",
            "25/25 [==============================] - 10s 354ms/step - loss: 0.0179 - accuracy: 1.0000 - val_loss: 0.2276 - val_accuracy: 0.9350\n",
            "Epoch 34/60\n",
            "25/25 [==============================] - 10s 357ms/step - loss: 0.0199 - accuracy: 1.0000 - val_loss: 0.2279 - val_accuracy: 0.9350\n",
            "Epoch 35/60\n",
            "25/25 [==============================] - 10s 354ms/step - loss: 0.0187 - accuracy: 1.0000 - val_loss: 0.2280 - val_accuracy: 0.9350\n",
            "Epoch 36/60\n",
            "25/25 [==============================] - 10s 357ms/step - loss: 0.0181 - accuracy: 1.0000 - val_loss: 0.2279 - val_accuracy: 0.9400\n",
            "Epoch 37/60\n",
            "25/25 [==============================] - 10s 354ms/step - loss: 0.0161 - accuracy: 1.0000 - val_loss: 0.2279 - val_accuracy: 0.9400\n",
            "Epoch 38/60\n",
            "25/25 [==============================] - 10s 352ms/step - loss: 0.0164 - accuracy: 1.0000 - val_loss: 0.2281 - val_accuracy: 0.9400\n",
            "Epoch 39/60\n",
            "25/25 [==============================] - 10s 352ms/step - loss: 0.0218 - accuracy: 1.0000 - val_loss: 0.2282 - val_accuracy: 0.9400\n",
            "Epoch 40/60\n",
            "25/25 [==============================] - 10s 353ms/step - loss: 0.0193 - accuracy: 1.0000 - val_loss: 0.2282 - val_accuracy: 0.9400\n",
            "Epoch 41/60\n",
            "25/25 [==============================] - 10s 353ms/step - loss: 0.0187 - accuracy: 1.0000 - val_loss: 0.2283 - val_accuracy: 0.9400\n",
            "Epoch 42/60\n",
            "25/25 [==============================] - 10s 355ms/step - loss: 0.0198 - accuracy: 1.0000 - val_loss: 0.2283 - val_accuracy: 0.9400\n",
            "Epoch 43/60\n",
            "25/25 [==============================] - 10s 355ms/step - loss: 0.0211 - accuracy: 1.0000 - val_loss: 0.2283 - val_accuracy: 0.9400\n",
            "Epoch 44/60\n",
            "25/25 [==============================] - 10s 355ms/step - loss: 0.0169 - accuracy: 1.0000 - val_loss: 0.2283 - val_accuracy: 0.9400\n",
            "Epoch 45/60\n",
            "25/25 [==============================] - 10s 354ms/step - loss: 0.0189 - accuracy: 1.0000 - val_loss: 0.2284 - val_accuracy: 0.9400\n",
            "Epoch 46/60\n",
            "25/25 [==============================] - 10s 352ms/step - loss: 0.0198 - accuracy: 1.0000 - val_loss: 0.2284 - val_accuracy: 0.9400\n",
            "Epoch 47/60\n",
            "25/25 [==============================] - 10s 353ms/step - loss: 0.0160 - accuracy: 1.0000 - val_loss: 0.2285 - val_accuracy: 0.9400\n",
            "Epoch 48/60\n",
            "25/25 [==============================] - 10s 354ms/step - loss: 0.0196 - accuracy: 1.0000 - val_loss: 0.2285 - val_accuracy: 0.9400\n",
            "Epoch 49/60\n",
            "25/25 [==============================] - 10s 354ms/step - loss: 0.0158 - accuracy: 1.0000 - val_loss: 0.2283 - val_accuracy: 0.9400\n",
            "Epoch 50/60\n",
            "25/25 [==============================] - 10s 354ms/step - loss: 0.0237 - accuracy: 1.0000 - val_loss: 0.2284 - val_accuracy: 0.9400\n",
            "Epoch 51/60\n",
            "25/25 [==============================] - 10s 354ms/step - loss: 0.0225 - accuracy: 1.0000 - val_loss: 0.2286 - val_accuracy: 0.9400\n",
            "Epoch 52/60\n",
            "25/25 [==============================] - 10s 354ms/step - loss: 0.0184 - accuracy: 1.0000 - val_loss: 0.2285 - val_accuracy: 0.9400\n",
            "Epoch 53/60\n",
            "25/25 [==============================] - 10s 355ms/step - loss: 0.0371 - accuracy: 1.0000 - val_loss: 0.2286 - val_accuracy: 0.9400\n",
            "Epoch 54/60\n",
            "25/25 [==============================] - 10s 354ms/step - loss: 0.0188 - accuracy: 1.0000 - val_loss: 0.2285 - val_accuracy: 0.9400\n",
            "Epoch 55/60\n",
            "25/25 [==============================] - 10s 356ms/step - loss: 0.0173 - accuracy: 1.0000 - val_loss: 0.2285 - val_accuracy: 0.9400\n",
            "Epoch 56/60\n",
            "25/25 [==============================] - 10s 359ms/step - loss: 0.0162 - accuracy: 1.0000 - val_loss: 0.2285 - val_accuracy: 0.9400\n",
            "Epoch 57/60\n",
            "25/25 [==============================] - 10s 358ms/step - loss: 0.0182 - accuracy: 1.0000 - val_loss: 0.2283 - val_accuracy: 0.9400\n",
            "Epoch 58/60\n",
            "25/25 [==============================] - 10s 355ms/step - loss: 0.0162 - accuracy: 1.0000 - val_loss: 0.2283 - val_accuracy: 0.9400\n",
            "Epoch 59/60\n",
            "25/25 [==============================] - 10s 354ms/step - loss: 0.0176 - accuracy: 1.0000 - val_loss: 0.2282 - val_accuracy: 0.9400\n",
            "Epoch 60/60\n",
            "25/25 [==============================] - 10s 354ms/step - loss: 0.0202 - accuracy: 1.0000 - val_loss: 0.2284 - val_accuracy: 0.9400\n"
          ],
          "name": "stdout"
        },
        {
          "output_type": "display_data",
          "data": {
            "image/png": "[encoded data removed]",
            "text/plain": [
              "<Figure size 432x288 with 1 Axes>"
            ]
          },
          "metadata": {
            "needs_background": "light"
          }
        }
      ]
    },
    {
      "cell_type": "code",
      "metadata": {
        "colab": {
          "base_uri": "https://localhost:8080/",
          "height": 1000
        },
        "id": "GKQq3VQO3PYk",
        "outputId": "bdcf8e37-83d9-4d9a-c8b3-e8239eb1c793"
      },
      "source": [
        "models['base_model9'].fit(train_ds_scaled,validation_data=val_ds_scaled,epochs = 60, verbose = 1, workers = 3, class_weight = {0:1.13, 1:8.03, 2:1}, callbacks = [reduce_lr])\n",
        "plt.plot(models['base_model9'].history.history['accuracy'])\n",
        "plt.plot(models['base_model9'].history.history['val_accuracy'])\n",
        "plt.legend(['Train', 'Validation'])\n",
        "plt.title('Densenet121 training curves')\n",
        "plt.show()"
      ],
      "execution_count": null,
      "outputs": [
        {
          "output_type": "stream",
          "text": [
            "Epoch 1/60\n",
            "25/25 [==============================] - 17s 418ms/step - loss: 1.0989 - accuracy: 0.6275 - val_loss: 0.9139 - val_accuracy: 0.5600\n",
            "Epoch 2/60\n",
            "25/25 [==============================] - 10s 357ms/step - loss: 0.6480 - accuracy: 0.8450 - val_loss: 0.7043 - val_accuracy: 0.7200\n",
            "Epoch 3/60\n",
            "25/25 [==============================] - 10s 354ms/step - loss: 0.5084 - accuracy: 0.9075 - val_loss: 0.6038 - val_accuracy: 0.7850\n",
            "Epoch 4/60\n",
            "25/25 [==============================] - 10s 358ms/step - loss: 0.4238 - accuracy: 0.9237 - val_loss: 0.5194 - val_accuracy: 0.8350\n",
            "Epoch 5/60\n",
            "25/25 [==============================] - 10s 355ms/step - loss: 0.3193 - accuracy: 0.9488 - val_loss: 0.4419 - val_accuracy: 0.8600\n",
            "Epoch 6/60\n",
            "25/25 [==============================] - 10s 355ms/step - loss: 0.2844 - accuracy: 0.9625 - val_loss: 0.3886 - val_accuracy: 0.8950\n",
            "Epoch 7/60\n",
            "25/25 [==============================] - 10s 356ms/step - loss: 0.2187 - accuracy: 0.9625 - val_loss: 0.3135 - val_accuracy: 0.9100\n",
            "Epoch 8/60\n",
            "25/25 [==============================] - 10s 355ms/step - loss: 0.1649 - accuracy: 0.9837 - val_loss: 0.2752 - val_accuracy: 0.9200\n",
            "Epoch 9/60\n",
            "25/25 [==============================] - 10s 355ms/step - loss: 0.1205 - accuracy: 0.9912 - val_loss: 0.2740 - val_accuracy: 0.9100\n",
            "Epoch 10/60\n",
            "25/25 [==============================] - 10s 355ms/step - loss: 0.0989 - accuracy: 0.9900 - val_loss: 0.2244 - val_accuracy: 0.9550\n",
            "Epoch 11/60\n",
            "25/25 [==============================] - 10s 356ms/step - loss: 0.0809 - accuracy: 0.9912 - val_loss: 0.2104 - val_accuracy: 0.9500\n",
            "Epoch 12/60\n",
            "25/25 [==============================] - 10s 358ms/step - loss: 0.0805 - accuracy: 0.9950 - val_loss: 0.2109 - val_accuracy: 0.9400\n",
            "Epoch 13/60\n",
            "25/25 [==============================] - 10s 355ms/step - loss: 0.0680 - accuracy: 0.9912 - val_loss: 0.2232 - val_accuracy: 0.9400\n",
            "Epoch 14/60\n",
            "25/25 [==============================] - 10s 357ms/step - loss: 0.0445 - accuracy: 0.9987 - val_loss: 0.2061 - val_accuracy: 0.9450\n",
            "Epoch 15/60\n",
            "25/25 [==============================] - 10s 358ms/step - loss: 0.0825 - accuracy: 0.9862 - val_loss: 0.2169 - val_accuracy: 0.9200\n",
            "Epoch 16/60\n",
            "25/25 [==============================] - 10s 356ms/step - loss: 0.0457 - accuracy: 0.9975 - val_loss: 0.1958 - val_accuracy: 0.9550\n",
            "Epoch 17/60\n",
            "25/25 [==============================] - 10s 357ms/step - loss: 0.0293 - accuracy: 1.0000 - val_loss: 0.1918 - val_accuracy: 0.9600\n",
            "Epoch 18/60\n",
            "25/25 [==============================] - 10s 355ms/step - loss: 0.0263 - accuracy: 1.0000 - val_loss: 0.1900 - val_accuracy: 0.9550\n",
            "Epoch 19/60\n",
            "25/25 [==============================] - 10s 356ms/step - loss: 0.0269 - accuracy: 0.9987 - val_loss: 0.1937 - val_accuracy: 0.9550\n",
            "Epoch 20/60\n",
            "25/25 [==============================] - 10s 358ms/step - loss: 0.0207 - accuracy: 1.0000 - val_loss: 0.1943 - val_accuracy: 0.9600\n",
            "Epoch 21/60\n",
            "25/25 [==============================] - 10s 356ms/step - loss: 0.0216 - accuracy: 1.0000 - val_loss: 0.1933 - val_accuracy: 0.9550\n",
            "Epoch 22/60\n",
            "25/25 [==============================] - 10s 357ms/step - loss: 0.0179 - accuracy: 1.0000 - val_loss: 0.1977 - val_accuracy: 0.9550\n",
            "Epoch 23/60\n",
            "25/25 [==============================] - 10s 362ms/step - loss: 0.0170 - accuracy: 1.0000 - val_loss: 0.1915 - val_accuracy: 0.9550\n",
            "Epoch 24/60\n",
            "25/25 [==============================] - 10s 356ms/step - loss: 0.0136 - accuracy: 1.0000 - val_loss: 0.1920 - val_accuracy: 0.9550\n",
            "Epoch 25/60\n",
            "25/25 [==============================] - 10s 359ms/step - loss: 0.0130 - accuracy: 1.0000 - val_loss: 0.1928 - val_accuracy: 0.9550\n",
            "Epoch 26/60\n",
            "25/25 [==============================] - 10s 355ms/step - loss: 0.0173 - accuracy: 1.0000 - val_loss: 0.1939 - val_accuracy: 0.9550\n",
            "Epoch 27/60\n",
            "25/25 [==============================] - 10s 358ms/step - loss: 0.0145 - accuracy: 1.0000 - val_loss: 0.1944 - val_accuracy: 0.9550\n",
            "Epoch 28/60\n",
            "25/25 [==============================] - 10s 359ms/step - loss: 0.0163 - accuracy: 0.9987 - val_loss: 0.1942 - val_accuracy: 0.9550\n",
            "Epoch 29/60\n",
            "25/25 [==============================] - 10s 357ms/step - loss: 0.0168 - accuracy: 1.0000 - val_loss: 0.1944 - val_accuracy: 0.9550\n",
            "Epoch 30/60\n",
            "25/25 [==============================] - 10s 357ms/step - loss: 0.0110 - accuracy: 1.0000 - val_loss: 0.1945 - val_accuracy: 0.9550\n",
            "Epoch 31/60\n",
            "25/25 [==============================] - 10s 354ms/step - loss: 0.0150 - accuracy: 1.0000 - val_loss: 0.1946 - val_accuracy: 0.9550\n",
            "Epoch 32/60\n",
            "25/25 [==============================] - 10s 357ms/step - loss: 0.0140 - accuracy: 1.0000 - val_loss: 0.1946 - val_accuracy: 0.9550\n",
            "Epoch 33/60\n",
            "25/25 [==============================] - 10s 359ms/step - loss: 0.0132 - accuracy: 1.0000 - val_loss: 0.1948 - val_accuracy: 0.9550\n",
            "Epoch 34/60\n",
            "25/25 [==============================] - 10s 354ms/step - loss: 0.0140 - accuracy: 1.0000 - val_loss: 0.1948 - val_accuracy: 0.9550\n",
            "Epoch 35/60\n",
            "25/25 [==============================] - 10s 355ms/step - loss: 0.0126 - accuracy: 1.0000 - val_loss: 0.1948 - val_accuracy: 0.9550\n",
            "Epoch 36/60\n",
            "25/25 [==============================] - 10s 360ms/step - loss: 0.0128 - accuracy: 1.0000 - val_loss: 0.1949 - val_accuracy: 0.9550\n",
            "Epoch 37/60\n",
            "25/25 [==============================] - 10s 358ms/step - loss: 0.0167 - accuracy: 1.0000 - val_loss: 0.1951 - val_accuracy: 0.9550\n",
            "Epoch 38/60\n",
            "25/25 [==============================] - 10s 357ms/step - loss: 0.0175 - accuracy: 1.0000 - val_loss: 0.1953 - val_accuracy: 0.9550\n",
            "Epoch 39/60\n",
            "25/25 [==============================] - 10s 355ms/step - loss: 0.0161 - accuracy: 0.9987 - val_loss: 0.1952 - val_accuracy: 0.9550\n",
            "Epoch 40/60\n",
            "25/25 [==============================] - 10s 357ms/step - loss: 0.0149 - accuracy: 1.0000 - val_loss: 0.1951 - val_accuracy: 0.9550\n",
            "Epoch 41/60\n",
            "25/25 [==============================] - 10s 357ms/step - loss: 0.0169 - accuracy: 1.0000 - val_loss: 0.1952 - val_accuracy: 0.9550\n",
            "Epoch 42/60\n",
            "25/25 [==============================] - 10s 358ms/step - loss: 0.0142 - accuracy: 1.0000 - val_loss: 0.1952 - val_accuracy: 0.9550\n",
            "Epoch 43/60\n",
            "25/25 [==============================] - 10s 358ms/step - loss: 0.0142 - accuracy: 1.0000 - val_loss: 0.1953 - val_accuracy: 0.9550\n",
            "Epoch 44/60\n",
            "25/25 [==============================] - 10s 356ms/step - loss: 0.0145 - accuracy: 1.0000 - val_loss: 0.1954 - val_accuracy: 0.9550\n",
            "Epoch 45/60\n",
            "25/25 [==============================] - 10s 357ms/step - loss: 0.0159 - accuracy: 1.0000 - val_loss: 0.1954 - val_accuracy: 0.9550\n",
            "Epoch 46/60\n",
            "25/25 [==============================] - 10s 357ms/step - loss: 0.0120 - accuracy: 1.0000 - val_loss: 0.1953 - val_accuracy: 0.9550\n",
            "Epoch 47/60\n",
            "25/25 [==============================] - 10s 356ms/step - loss: 0.0125 - accuracy: 1.0000 - val_loss: 0.1952 - val_accuracy: 0.9550\n",
            "Epoch 48/60\n",
            "25/25 [==============================] - 10s 355ms/step - loss: 0.0139 - accuracy: 1.0000 - val_loss: 0.1952 - val_accuracy: 0.9550\n",
            "Epoch 49/60\n",
            "25/25 [==============================] - 10s 356ms/step - loss: 0.0126 - accuracy: 1.0000 - val_loss: 0.1952 - val_accuracy: 0.9550\n",
            "Epoch 50/60\n",
            "25/25 [==============================] - 10s 358ms/step - loss: 0.0133 - accuracy: 1.0000 - val_loss: 0.1953 - val_accuracy: 0.9550\n",
            "Epoch 51/60\n",
            "25/25 [==============================] - 10s 358ms/step - loss: 0.0109 - accuracy: 1.0000 - val_loss: 0.1953 - val_accuracy: 0.9550\n",
            "Epoch 52/60\n",
            "25/25 [==============================] - 10s 356ms/step - loss: 0.0127 - accuracy: 1.0000 - val_loss: 0.1953 - val_accuracy: 0.9550\n",
            "Epoch 53/60\n",
            "25/25 [==============================] - 10s 355ms/step - loss: 0.0136 - accuracy: 1.0000 - val_loss: 0.1952 - val_accuracy: 0.9550\n",
            "Epoch 54/60\n",
            "25/25 [==============================] - 10s 356ms/step - loss: 0.0133 - accuracy: 1.0000 - val_loss: 0.1951 - val_accuracy: 0.9550\n",
            "Epoch 55/60\n",
            "25/25 [==============================] - 10s 359ms/step - loss: 0.0153 - accuracy: 1.0000 - val_loss: 0.1953 - val_accuracy: 0.9550\n",
            "Epoch 56/60\n",
            "25/25 [==============================] - 10s 354ms/step - loss: 0.0137 - accuracy: 1.0000 - val_loss: 0.1953 - val_accuracy: 0.9550\n",
            "Epoch 57/60\n",
            "25/25 [==============================] - 10s 358ms/step - loss: 0.0118 - accuracy: 1.0000 - val_loss: 0.1951 - val_accuracy: 0.9550\n",
            "Epoch 58/60\n",
            "25/25 [==============================] - 10s 358ms/step - loss: 0.0124 - accuracy: 1.0000 - val_loss: 0.1950 - val_accuracy: 0.9550\n",
            "Epoch 59/60\n",
            "25/25 [==============================] - 10s 358ms/step - loss: 0.0161 - accuracy: 0.9987 - val_loss: 0.1951 - val_accuracy: 0.9550\n",
            "Epoch 60/60\n",
            "25/25 [==============================] - 10s 356ms/step - loss: 0.0126 - accuracy: 1.0000 - val_loss: 0.1950 - val_accuracy: 0.9550\n"
          ],
          "name": "stdout"
        },
        {
          "output_type": "display_data",
          "data": {
            "image/png": "[encoded data removed]",
            "text/plain": [
              "<Figure size 432x288 with 1 Axes>"
            ]
          },
          "metadata": {
            "needs_background": "light"
          }
        }
      ]
    },
    {
      "cell_type": "code",
      "metadata": {
        "id": "uUZP7buB3Pbk"
      },
      "source": [
        "test_model = models['base_model9']"
      ],
      "execution_count": null,
      "outputs": []
    },
    {
      "cell_type": "code",
      "metadata": {
        "colab": {
          "base_uri": "https://localhost:8080/"
        },
        "id": "QZDBdXLC3Peb",
        "outputId": "2aa39788-6661-4612-ab8a-7070a2f3af92"
      },
      "source": [
        "i=0\n",
        "for model_name, model in models.items():\n",
        "    trainableParams = np.sum([np.prod(v.get_shape()) for v in model.trainable_weights])\n",
        "    nonTrainableParams = np.sum([np.prod(v.get_shape()) for v in model.non_trainable_weights])\n",
        "    totalParams = trainableParams + nonTrainableParams\n",
        "    \n",
        "    print('base_model'+str(i),trainableParams,nonTrainableParams,totalParams)\n",
        "    i+=1\n"
      ],
      "execution_count": null,
      "outputs": [
        {
          "output_type": "stream",
          "text": [
            "base_model0 3075 7037504 7040579\n",
            "base_model1 41987 6998592 7040579\n",
            "base_model2 171203 6869376 7040579\n",
            "base_model3 331203 6709376 7040579\n",
            "base_model4 369987 6670592 7040579\n",
            "base_model5 490883 6549696 7040579\n",
            "base_model6 642691 6397888 7040579\n",
            "base_model7 681603 6358976 7040579\n",
            "base_model8 830787 6209792 7040579\n",
            "base_model9 939203 6101376 7040579\n"
          ],
          "name": "stdout"
        }
      ]
    },
    {
      "cell_type": "code",
      "metadata": {
        "id": "dgnz84et3L3Z"
      },
      "source": [
        ""
      ],
      "execution_count": null,
      "outputs": []
    },
    {
      "cell_type": "code",
      "metadata": {
        "id": "T1JI_wTy3L6h"
      },
      "source": [
        ""
      ],
      "execution_count": null,
      "outputs": []
    }
  ]
}