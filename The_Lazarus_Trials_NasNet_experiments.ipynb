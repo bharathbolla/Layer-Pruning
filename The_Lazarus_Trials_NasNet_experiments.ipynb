{
  "nbformat": 4,
  "nbformat_minor": 0,
  "metadata": {
    "kernelspec": {
      "display_name": "Python 3",
      "language": "python",
      "name": "python3"
    },
    "language_info": {
      "codemirror_mode": {
        "name": "ipython",
        "version": 3
      },
      "file_extension": ".py",
      "mimetype": "text/x-python",
      "name": "python",
      "nbconvert_exporter": "python",
      "pygments_lexer": "ipython3",
      "version": "3.8.3"
    },
    "colab": {
      "name": "The Lazarus Trials - NasNet_experiments.ipynb",
      "provenance": [],
      "collapsed_sections": [],
      "include_colab_link": true
    },
    "accelerator": "GPU"
  },
  "cells": [
    {
      "cell_type": "markdown",
      "metadata": {
        "id": "view-in-github",
        "colab_type": "text"
      },
      "source": [
        "<a href=\"https://colab.research.google.com/github/sabeesh90/Layer_Fine_Tuning_Deep_Neural_Networks/blob/main/The_Lazarus_Trials_NasNet_experiments.ipynb\" target=\"_parent\"><img src=\"https://colab.research.google.com/assets/colab-badge.svg\" alt=\"Open In Colab\"/></a>"
      ]
    },
    {
      "cell_type": "markdown",
      "metadata": {
        "id": "SC1TI_gLUXF4"
      },
      "source": [
        "#### Importing libraries"
      ]
    },
    {
      "cell_type": "code",
      "metadata": {
        "id": "vADQpd_tUXF5",
        "colab": {
          "base_uri": "https://localhost:8080/"
        },
        "outputId": "e6a023f9-6570-4f4a-dffb-71dd6bed9013"
      },
      "source": [
        "from PIL import Image\n",
        "import requests\n",
        "from io import BytesIO\n",
        "import pandas as pd\n",
        "import numpy as np\n",
        "import matplotlib.pyplot as plt\n",
        "import tensorflow.keras as keras\n",
        "import seaborn as sns\n",
        "import warnings\n",
        "import os\n",
        "from skimage import io\n",
        "import pathlib\n",
        "import glob\n",
        "import numpy as np\n",
        "import pandas as pd\n",
        "import tensorflow as tf\n",
        "from sklearn.model_selection import train_test_split\n",
        "from tensorflow.keras import Model\n",
        "from tensorflow.keras.layers import *\n",
        "from tensorflow.keras.losses import CategoricalCrossentropy\n",
        "from tensorflow.keras import layers\n",
        "from tensorflow.keras.models import Sequential, Model, load_model\n",
        "from tensorflow.keras.layers import Dense, Dropout, Flatten, Conv2D, MaxPooling2D, BatchNormalization,GlobalAveragePooling2D\n",
        "from tensorflow.keras.preprocessing.image import ImageDataGenerator\n",
        "from tensorflow.keras import optimizers\n",
        "from sklearn.metrics import classification_report, confusion_matrix\n",
        "!pip install -q -U keras-tuner\n",
        "import kerastuner as kt\n",
        "%load_ext tensorboard\n",
        "warnings.filterwarnings(\"ignore\")\n"
      ],
      "execution_count": null,
      "outputs": [
        {
          "output_type": "stream",
          "name": "stdout",
          "text": [
            "\u001b[?25l\r\u001b[K     |███▍                            | 10 kB 27.1 MB/s eta 0:00:01\r\u001b[K     |██████▊                         | 20 kB 20.8 MB/s eta 0:00:01\r\u001b[K     |██████████                      | 30 kB 11.4 MB/s eta 0:00:01\r\u001b[K     |█████████████▍                  | 40 kB 9.1 MB/s eta 0:00:01\r\u001b[K     |████████████████▊               | 51 kB 5.0 MB/s eta 0:00:01\r\u001b[K     |████████████████████            | 61 kB 5.5 MB/s eta 0:00:01\r\u001b[K     |███████████████████████▍        | 71 kB 5.9 MB/s eta 0:00:01\r\u001b[K     |██████████████████████████▊     | 81 kB 5.6 MB/s eta 0:00:01\r\u001b[K     |██████████████████████████████▏ | 92 kB 6.2 MB/s eta 0:00:01\r\u001b[K     |████████████████████████████████| 97 kB 3.4 MB/s \n",
            "\u001b[?25h"
          ]
        },
        {
          "output_type": "stream",
          "name": "stderr",
          "text": [
            "/usr/local/lib/python3.7/dist-packages/ipykernel_launcher.py:28: DeprecationWarning: `import kerastuner` is deprecated, please use `import keras_tuner`.\n"
          ]
        }
      ]
    },
    {
      "cell_type": "code",
      "metadata": {
        "colab": {
          "base_uri": "https://localhost:8080/"
        },
        "id": "QVwvbxEr6EZI",
        "outputId": "10598f3d-f349-4273-badc-488c5ccf3ea0"
      },
      "source": [
        "pip install Ipython"
      ],
      "execution_count": null,
      "outputs": [
        {
          "output_type": "stream",
          "name": "stdout",
          "text": [
            "Requirement already satisfied: Ipython in /usr/local/lib/python3.7/dist-packages (5.5.0)\n",
            "Requirement already satisfied: setuptools>=18.5 in /usr/local/lib/python3.7/dist-packages (from Ipython) (57.4.0)\n",
            "Requirement already satisfied: simplegeneric>0.8 in /usr/local/lib/python3.7/dist-packages (from Ipython) (0.8.1)\n",
            "Requirement already satisfied: pexpect in /usr/local/lib/python3.7/dist-packages (from Ipython) (4.8.0)\n",
            "Requirement already satisfied: decorator in /usr/local/lib/python3.7/dist-packages (from Ipython) (4.4.2)\n",
            "Requirement already satisfied: traitlets>=4.2 in /usr/local/lib/python3.7/dist-packages (from Ipython) (5.0.5)\n",
            "Requirement already satisfied: pygments in /usr/local/lib/python3.7/dist-packages (from Ipython) (2.6.1)\n",
            "Requirement already satisfied: pickleshare in /usr/local/lib/python3.7/dist-packages (from Ipython) (0.7.5)\n",
            "Requirement already satisfied: prompt-toolkit<2.0.0,>=1.0.4 in /usr/local/lib/python3.7/dist-packages (from Ipython) (1.0.18)\n",
            "Requirement already satisfied: six>=1.9.0 in /usr/local/lib/python3.7/dist-packages (from prompt-toolkit<2.0.0,>=1.0.4->Ipython) (1.15.0)\n",
            "Requirement already satisfied: wcwidth in /usr/local/lib/python3.7/dist-packages (from prompt-toolkit<2.0.0,>=1.0.4->Ipython) (0.2.5)\n",
            "Requirement already satisfied: ipython-genutils in /usr/local/lib/python3.7/dist-packages (from traitlets>=4.2->Ipython) (0.2.0)\n",
            "Requirement already satisfied: ptyprocess>=0.5 in /usr/local/lib/python3.7/dist-packages (from pexpect->Ipython) (0.7.0)\n"
          ]
        }
      ]
    },
    {
      "cell_type": "code",
      "metadata": {
        "colab": {
          "base_uri": "https://localhost:8080/"
        },
        "id": "94NDxt-p3HJs",
        "outputId": "35f1b227-9bfe-4444-f582-89299f93406c"
      },
      "source": [
        "from google.colab import drive\n",
        "drive.mount('/content/drive')"
      ],
      "execution_count": null,
      "outputs": [
        {
          "output_type": "stream",
          "name": "stdout",
          "text": [
            "Drive already mounted at /content/drive; to attempt to forcibly remount, call drive.mount(\"/content/drive\", force_remount=True).\n"
          ]
        }
      ]
    },
    {
      "cell_type": "code",
      "metadata": {
        "colab": {
          "base_uri": "https://localhost:8080/"
        },
        "id": "S_jhi5Md3LkI",
        "outputId": "bb0373f7-d70b-45fc-ac7d-1305d0a24a01"
      },
      "source": [
        "%cd drive/MyDrive/Colab Notebooks"
      ],
      "execution_count": null,
      "outputs": [
        {
          "output_type": "stream",
          "name": "stdout",
          "text": [
            "[Errno 2] No such file or directory: 'drive/MyDrive/Colab Notebooks'\n",
            "/content/drive/MyDrive/Colab Notebooks\n"
          ]
        }
      ]
    },
    {
      "cell_type": "code",
      "metadata": {
        "id": "EGCbghzXZJwz"
      },
      "source": [
        "classes = ['GALAXY', 'QSO', 'STAR']"
      ],
      "execution_count": null,
      "outputs": []
    },
    {
      "cell_type": "code",
      "metadata": {
        "id": "1uf5Vn11O4wq"
      },
      "source": [
        "def generate_graph(model_training):\n",
        "    plt.figure(figsize= (15,5))\n",
        "    plt.subplot(1,2,1)\n",
        "    plt.plot(model_training.history.history['accuracy'])\n",
        "    plt.plot(model_training.history.history['val_accuracy'])\n",
        "    plt.title('Training vs TestAccuracy')\n",
        "    plt.xlabel('Epochs')\n",
        "    plt.ylabel('Accuracy')\n",
        "    plt.legend(('Training', 'Validation'), loc = 'best')\n",
        "    plt.subplot(1,2,2)\n",
        "    plt.plot(model_training.history.history['loss'])\n",
        "    plt.plot(model_training.history.history['val_loss'])\n",
        "    plt.title('Training loss vs Test Loss')\n",
        "    plt.xlabel('Epochs')\n",
        "    plt.ylabel('Loss')\n",
        "    plt.legend(('Training', 'Validation'), loc = 'best')\n",
        "    plt.show()\n",
        "\n",
        "class Metrics:\n",
        "    # from sklearn\n",
        "    def __init__(self, model, val_ds):\n",
        "        self.val_ds = val_ds\n",
        "        self.model = model\n",
        "        self.prediction_classes = np.array([])\n",
        "        self.true_classes = np.array([])\n",
        "        \n",
        "    def calculate_scores(self):     \n",
        "        print('calculating score.....')   \n",
        "        \n",
        "        for x, y in self.val_ds:\n",
        "            self.prediction_classes = np.concatenate([self.prediction_classes,np.argmax(self.model.predict(x), axis = -1)])\n",
        "            self.true_classes = np.concatenate([self.true_classes, np.argmax(y.numpy(), axis=-1)])\n",
        "        \n",
        "        class_report = classification_report(self.true_classes, self.prediction_classes)\n",
        "        conf_matrix = confusion_matrix(self.true_classes, self.prediction_classes)\n",
        "        print(conf_matrix)\n",
        "        print('------------------------------------')\n",
        "        print(class_report)\n",
        "\n",
        "reduce_lr = tf.keras.callbacks.ReduceLROnPlateau(\n",
        "    monitor=\"val_loss\",\n",
        "    factor=0.1,\n",
        "    patience=5,\n",
        "    verbose=0,\n",
        "    mode=\"auto\",\n",
        "    min_delta=0.0001,\n",
        "    cooldown=0,\n",
        "    min_lr=0,\n",
        ")\n",
        "early_stop = tf.keras.callbacks.EarlyStopping(\n",
        "    monitor=\"val_loss\",\n",
        "    min_delta=0,\n",
        "    patience=10,\n",
        "    verbose=0,\n",
        "    mode=\"auto\",\n",
        "    baseline=None,\n",
        "    restore_best_weights=True,\n",
        ")"
      ],
      "execution_count": null,
      "outputs": []
    },
    {
      "cell_type": "markdown",
      "metadata": {
        "id": "sEUWxsddLFIw"
      },
      "source": [
        "#### Densenet 121"
      ]
    },
    {
      "cell_type": "markdown",
      "metadata": {
        "id": "7mp2bYwBmOtm"
      },
      "source": [
        "##### Data preparation"
      ]
    },
    {
      "cell_type": "code",
      "metadata": {
        "colab": {
          "base_uri": "https://localhost:8080/"
        },
        "id": "UfG1CGD5Mxph",
        "outputId": "24753ed4-c728-448f-8542-b66ab068e49f"
      },
      "source": [
        "# Preprocessing the data\n",
        "dataset_path = 'Images'\n",
        "img_width = 512\n",
        "img_height = 512\n",
        "channels = 3\n",
        "num_classes = 3\n",
        "batch_size = 8\n",
        "\n",
        "\n",
        "img_width_crop = 1024\n",
        "img_height_crop = 1024\n",
        "\n",
        "rescale = tf.keras.Sequential([layers.experimental.preprocessing.Rescaling(1./255)])\n",
        "\n",
        "rescale_resize = tf.keras.Sequential([layers.experimental.preprocessing.Rescaling(1./255),\n",
        "                                      layers.experimental.preprocessing.Resizing(224,224)]) \n",
        "\n",
        "\n",
        "# augmenting the data\n",
        "# cropless flip and rotate\n",
        "\n",
        "data_aug_flip = tf.keras.Sequential([layers.experimental.preprocessing.RandomFlip(\"horizontal_and_vertical\"),\n",
        "                                # layers.experimental.preprocessing.RandomRotation(0.2)])\n",
        "])\n",
        "\n",
        "data_aug_flip_rotate = tf.keras.Sequential([layers.experimental.preprocessing.RandomFlip(\"horizontal_and_vertical\"),\n",
        "                                layers.experimental.preprocessing.RandomRotation(0.2)])\n",
        "\n",
        "\n",
        "# crop flip and rotate\n",
        "data_aug_crop_flip_rotate = tf.keras.Sequential([layers.experimental.preprocessing.CenterCrop(512,512),\n",
        "                                                 layers.experimental.preprocessing.RandomFlip(\"horizontal_and_vertical\"),\n",
        "                                                 layers.experimental.preprocessing.RandomRotation(0.2)])\n",
        "\n",
        "data_aug_crop_flip = tf.keras.Sequential([layers.experimental.preprocessing.CenterCrop(512,512),\n",
        "                                          layers.experimental.preprocessing.RandomFlip(\"horizontal_and_vertical\")])\n",
        "\n",
        "normal_crop = tf.keras.Sequential([layers.experimental.preprocessing.CenterCrop(512,512)],)\n",
        "batch_size =32 \n",
        "autotune = tf.data.AUTOTUNE\n",
        "\n",
        "# Preparing the normal dataset\n",
        "train_ds = tf.keras.preprocessing.image_dataset_from_directory(dataset_path, validation_split = 0.2,subset = 'training',seed = 123, image_size = (img_width, img_height), \n",
        "                                                                  batch_size = batch_size, label_mode = 'categorical',)\n",
        "val_ds = tf.keras.preprocessing.image_dataset_from_directory(dataset_path, validation_split = 0.2,subset = 'validation',seed = 123, image_size = (img_width, img_height),\n",
        "                                                                batch_size = batch_size, label_mode = 'categorical')\n",
        "\n",
        "train_ds_cropped = tf.keras.preprocessing.image_dataset_from_directory(dataset_path, validation_split = 0.2,subset = 'training',seed = 123, image_size = (img_width_crop, img_height_crop), \n",
        "                                                                  batch_size = batch_size, label_mode = 'categorical',)\n",
        "val_ds_cropped = tf.keras.preprocessing.image_dataset_from_directory(dataset_path, validation_split = 0.2,subset = 'validation',seed = 123, image_size = (img_width_crop, img_height_crop),\n",
        "                                                                batch_size = batch_size, label_mode = 'categorical')\n",
        "\n",
        "\n",
        "# preparing the scalred dataset\n",
        "train_ds_scaled = train_ds.map(lambda x,y: (rescale_resize(x, training = True), y), num_parallel_calls=autotune)\n",
        "val_ds_scaled = val_ds.map(lambda x,y: (rescale_resize(x, training = False), y), num_parallel_calls=autotune)\n",
        "train_ds.prefetch(buffer_size=autotune)\n",
        "val_ds.prefetch(buffer_size=autotune)\n",
        "\n",
        "train_ds_scaled_cropped = train_ds_scaled.map(lambda x,y: (rescale(x, training = True), y), num_parallel_calls=autotune)\n",
        "val_ds_scaled_cropped = val_ds_scaled.map(lambda x,y: (rescale(x, training = False), y), num_parallel_calls=autotune)\n",
        "\n",
        "# augment function \n",
        "def prepare_dataset(ds, flip = False, flip_rotate = False):\n",
        "    if flip == True:\n",
        "        ds = ds.map(lambda x, y : (data_aug_flip(x, training = True), y), num_parallel_calls = autotune)\n",
        "    elif flip_rotate == True:\n",
        "        ds = ds.map(lambda x, y : (data_aug_flip_rotate(x, training = True), y), num_parallel_calls = autotune)\n",
        "    \n",
        "    return ds.prefetch(buffer_size =autotune)\n",
        "\n",
        "def prepare_dataset_crop(ds, crop_flip = False, crop_flip_rotate = False):\n",
        "    if crop_flip_rotate == True:\n",
        "        ds = ds.map(lambda x, y : (data_aug_crop_flip_rotate(x, training = True), y), num_parallel_calls = autotune)\n",
        "    elif crop_flip == True:\n",
        "        ds = ds.map(lambda x, y : (data_aug_crop_flip(x, training = True), y), num_parallel_calls = autotune)\n",
        "    \n",
        "    return ds.prefetch(buffer_size =autotune)\n",
        "    \n",
        "def prepare_dataset_normal_crop(ds, training = True):\n",
        "    ds = ds.map(lambda x, y : (normal_crop(x, training = training), y), num_parallel_calls = autotune)\n",
        "    return ds.prefetch(buffer_size =autotune)\n",
        "# 25 batches of 32 each and 7 batches of 32 each\n",
        "\n"
      ],
      "execution_count": null,
      "outputs": [
        {
          "output_type": "stream",
          "name": "stdout",
          "text": [
            "Found 1000 files belonging to 3 classes.\n",
            "Using 800 files for training.\n",
            "Found 1000 files belonging to 3 classes.\n",
            "Using 200 files for validation.\n",
            "Found 1000 files belonging to 3 classes.\n",
            "Using 800 files for training.\n",
            "Found 1000 files belonging to 3 classes.\n",
            "Using 200 files for validation.\n"
          ]
        }
      ]
    },
    {
      "cell_type": "markdown",
      "metadata": {
        "id": "m4cuzjMadXZv"
      },
      "source": [
        "##### Densenet model building"
      ]
    },
    {
      "cell_type": "code",
      "metadata": {
        "id": "tyqSrpPwRoDj"
      },
      "source": [
        "from tensorflow.keras.applications import  NASNetMobile\n",
        "models = {'base_model'+str(num) : NASNetMobile(include_top=False, weights='imagenet', \n",
        "                                           input_shape = (224, 224, 3),classes = num_classes, pooling = 'avg') for num in range(0,10)}"
      ],
      "execution_count": null,
      "outputs": []
    },
    {
      "cell_type": "code",
      "metadata": {
        "colab": {
          "base_uri": "https://localhost:8080/"
        },
        "id": "EUpJglBPSKwS",
        "outputId": "13fe6ab1-63d3-4389-e004-7ad8e7670e87"
      },
      "source": [
        "models"
      ],
      "execution_count": null,
      "outputs": [
        {
          "output_type": "execute_result",
          "data": {
            "text/plain": [
              "{'base_model0': <keras.engine.functional.Functional at 0x7f0c90200090>,\n",
              " 'base_model1': <keras.engine.functional.Functional at 0x7f0c90265b50>,\n",
              " 'base_model2': <keras.engine.functional.Functional at 0x7f0c8f71ef90>,\n",
              " 'base_model3': <keras.engine.functional.Functional at 0x7f0c8e26bbd0>,\n",
              " 'base_model4': <keras.engine.functional.Functional at 0x7f0c8e275b90>,\n",
              " 'base_model5': <keras.engine.functional.Functional at 0x7f0c8cc48810>,\n",
              " 'base_model6': <keras.engine.functional.Functional at 0x7f0c8c191490>,\n",
              " 'base_model7': <keras.engine.functional.Functional at 0x7f0c8c71b210>,\n",
              " 'base_model8': <keras.engine.functional.Functional at 0x7f0c8aca91d0>,\n",
              " 'base_model9': <keras.engine.functional.Functional at 0x7f0c8a21fcd0>}"
            ]
          },
          "metadata": {},
          "execution_count": 27
        }
      ]
    },
    {
      "cell_type": "code",
      "metadata": {
        "colab": {
          "base_uri": "https://localhost:8080/"
        },
        "id": "5u6kNMzeshhn",
        "outputId": "7e16f932-ffa8-4f21-f90a-af87bfdea1f1"
      },
      "source": [
        "layer_count  = len(models['base_model0'].layers)\n",
        "print(f'There are a total of {layer_count} in the Densenet layer')"
      ],
      "execution_count": null,
      "outputs": [
        {
          "output_type": "stream",
          "name": "stdout",
          "text": [
            "There are a total of 770 in the Densenet layer\n"
          ]
        }
      ]
    },
    {
      "cell_type": "code",
      "metadata": {
        "colab": {
          "base_uri": "https://localhost:8080/"
        },
        "id": "xmbRbcXBTAie",
        "outputId": "4c75d888-d2c3-4908-b52a-541a7d1a7e36"
      },
      "source": [
        "for model,value in models.items():\n",
        "    print(model)"
      ],
      "execution_count": null,
      "outputs": [
        {
          "output_type": "stream",
          "name": "stdout",
          "text": [
            "base_model0\n",
            "base_model1\n",
            "base_model2\n",
            "base_model3\n",
            "base_model4\n",
            "base_model5\n",
            "base_model6\n",
            "base_model7\n",
            "base_model8\n",
            "base_model9\n"
          ]
        }
      ]
    },
    {
      "cell_type": "code",
      "metadata": {
        "id": "eZKmwR_AjSIa"
      },
      "source": [
        "num=0\n",
        "for i, (model_name, model) in zip(range(770, -1,-10), models.items()):\n",
        "    break_point  = i\n",
        "    for layer in model.layers[0:break_point]:\n",
        "        layer.trainable = False\n",
        "    for layer in model.layers[break_point:]:\n",
        "        layer.trainable = True\n",
        "    input_layer = model.input\n",
        "    output_layer = model.output\n",
        "    x = Dense(num_classes, activation  = 'softmax')(output_layer)    \n",
        "    models[model_name] = Model(inputs = input_layer, outputs = x)\n"
      ],
      "execution_count": null,
      "outputs": []
    },
    {
      "cell_type": "code",
      "metadata": {
        "colab": {
          "base_uri": "https://localhost:8080/"
        },
        "id": "LiYDL6oO_ZJg",
        "outputId": "f52ae239-4315-4623-9c9d-b8447d263996"
      },
      "source": [
        "for model_name, model in models.items():\n",
        "    count = 0\n",
        "    trained_layers = ['a' if layer.trainable == True else None for layer in model.layers]\n",
        "    print(f'The number of trainable layers in {model_name} is', trained_layers.count('a'), sep=':')"
      ],
      "execution_count": null,
      "outputs": [
        {
          "output_type": "stream",
          "name": "stdout",
          "text": [
            "The number of trainable layers in base_model0 is:1\n",
            "The number of trainable layers in base_model1 is:11\n",
            "The number of trainable layers in base_model2 is:21\n",
            "The number of trainable layers in base_model3 is:31\n",
            "The number of trainable layers in base_model4 is:41\n",
            "The number of trainable layers in base_model5 is:51\n",
            "The number of trainable layers in base_model6 is:61\n",
            "The number of trainable layers in base_model7 is:71\n",
            "The number of trainable layers in base_model8 is:81\n",
            "The number of trainable layers in base_model9 is:91\n"
          ]
        }
      ]
    },
    {
      "cell_type": "code",
      "metadata": {
        "id": "tHznpzHGshsv"
      },
      "source": [
        "# resnet_model.summary()\n",
        "for model_name, model in models.items():\n",
        "    model.compile(optimizer = optimizers.Adam(lr=1e-4), loss = 'categorical_crossentropy', metrics = ['accuracy'])"
      ],
      "execution_count": null,
      "outputs": []
    },
    {
      "cell_type": "markdown",
      "metadata": {
        "id": "Yq4hEpqjbl6K"
      },
      "source": [
        "##### Densnet model with normalization of  image pixels"
      ]
    },
    {
      "cell_type": "code",
      "metadata": {
        "colab": {
          "base_uri": "https://localhost:8080/"
        },
        "id": "ZAivYUjkshyu",
        "outputId": "efcaac06-9a35-4ed5-8c87-d6f178a6af7c"
      },
      "source": [
        "models['base_model0'].fit(train_ds_scaled,validation_data=val_ds_scaled,epochs = 60, verbose = 1, workers = 3, class_weight = {0:1.13, 1:8.03, 2:1}, callbacks = [reduce_lr])"
      ],
      "execution_count": null,
      "outputs": [
        {
          "output_type": "stream",
          "name": "stdout",
          "text": [
            "Epoch 1/60\n",
            "25/25 [==============================] - 144s 4s/step - loss: 1.6591 - accuracy: 0.1863 - val_loss: 1.2101 - val_accuracy: 0.2550\n",
            "Epoch 2/60\n",
            "25/25 [==============================] - 17s 533ms/step - loss: 1.5311 - accuracy: 0.3800 - val_loss: 1.0930 - val_accuracy: 0.3250\n",
            "Epoch 3/60\n",
            "25/25 [==============================] - 18s 601ms/step - loss: 1.4653 - accuracy: 0.5038 - val_loss: 1.0373 - val_accuracy: 0.3850\n",
            "Epoch 4/60\n",
            "25/25 [==============================] - 17s 534ms/step - loss: 1.4121 - accuracy: 0.5650 - val_loss: 1.0051 - val_accuracy: 0.4600\n",
            "Epoch 5/60\n",
            "25/25 [==============================] - 17s 534ms/step - loss: 1.3616 - accuracy: 0.6100 - val_loss: 0.9694 - val_accuracy: 0.5050\n",
            "Epoch 6/60\n",
            "25/25 [==============================] - 17s 540ms/step - loss: 1.3163 - accuracy: 0.6500 - val_loss: 0.9464 - val_accuracy: 0.5650\n",
            "Epoch 7/60\n",
            "25/25 [==============================] - 18s 596ms/step - loss: 1.2750 - accuracy: 0.6775 - val_loss: 0.9184 - val_accuracy: 0.6150\n",
            "Epoch 8/60\n",
            "25/25 [==============================] - 18s 598ms/step - loss: 1.2354 - accuracy: 0.6925 - val_loss: 0.8860 - val_accuracy: 0.6350\n",
            "Epoch 9/60\n",
            "25/25 [==============================] - 17s 532ms/step - loss: 1.1998 - accuracy: 0.7237 - val_loss: 0.8661 - val_accuracy: 0.6600\n",
            "Epoch 10/60\n",
            "25/25 [==============================] - 18s 601ms/step - loss: 1.1674 - accuracy: 0.7337 - val_loss: 0.8481 - val_accuracy: 0.6700\n",
            "Epoch 11/60\n",
            "25/25 [==============================] - 18s 597ms/step - loss: 1.1375 - accuracy: 0.7387 - val_loss: 0.8217 - val_accuracy: 0.6900\n",
            "Epoch 12/60\n",
            "25/25 [==============================] - 18s 596ms/step - loss: 1.1100 - accuracy: 0.7588 - val_loss: 0.8051 - val_accuracy: 0.6900\n",
            "Epoch 13/60\n",
            "25/25 [==============================] - 17s 534ms/step - loss: 1.0864 - accuracy: 0.7513 - val_loss: 0.7870 - val_accuracy: 0.7150\n",
            "Epoch 14/60\n",
            "25/25 [==============================] - 17s 528ms/step - loss: 1.0615 - accuracy: 0.7650 - val_loss: 0.7788 - val_accuracy: 0.7100\n",
            "Epoch 15/60\n",
            "25/25 [==============================] - 18s 591ms/step - loss: 1.0406 - accuracy: 0.7638 - val_loss: 0.7566 - val_accuracy: 0.7150\n",
            "Epoch 16/60\n",
            "25/25 [==============================] - 17s 531ms/step - loss: 1.0194 - accuracy: 0.7750 - val_loss: 0.7498 - val_accuracy: 0.7200\n",
            "Epoch 17/60\n",
            "25/25 [==============================] - 18s 590ms/step - loss: 1.0010 - accuracy: 0.7725 - val_loss: 0.7352 - val_accuracy: 0.7200\n",
            "Epoch 18/60\n",
            "25/25 [==============================] - 16s 527ms/step - loss: 0.9843 - accuracy: 0.7925 - val_loss: 0.7225 - val_accuracy: 0.7300\n",
            "Epoch 19/60\n",
            "25/25 [==============================] - 18s 594ms/step - loss: 0.9684 - accuracy: 0.7825 - val_loss: 0.7149 - val_accuracy: 0.7250\n",
            "Epoch 20/60\n",
            "25/25 [==============================] - 17s 531ms/step - loss: 0.9528 - accuracy: 0.7950 - val_loss: 0.7060 - val_accuracy: 0.7400\n",
            "Epoch 21/60\n",
            "25/25 [==============================] - 17s 531ms/step - loss: 0.9384 - accuracy: 0.7937 - val_loss: 0.7031 - val_accuracy: 0.7350\n",
            "Epoch 22/60\n",
            "25/25 [==============================] - 17s 537ms/step - loss: 0.9256 - accuracy: 0.7937 - val_loss: 0.6875 - val_accuracy: 0.7500\n",
            "Epoch 23/60\n",
            "25/25 [==============================] - 18s 598ms/step - loss: 0.9114 - accuracy: 0.8025 - val_loss: 0.6804 - val_accuracy: 0.7500\n",
            "Epoch 24/60\n",
            "25/25 [==============================] - 18s 599ms/step - loss: 0.9012 - accuracy: 0.8075 - val_loss: 0.6597 - val_accuracy: 0.7600\n",
            "Epoch 25/60\n",
            "25/25 [==============================] - 17s 537ms/step - loss: 0.8868 - accuracy: 0.8112 - val_loss: 0.6680 - val_accuracy: 0.7500\n",
            "Epoch 26/60\n",
            "25/25 [==============================] - 17s 545ms/step - loss: 0.8773 - accuracy: 0.8050 - val_loss: 0.6532 - val_accuracy: 0.7550\n",
            "Epoch 27/60\n",
            "25/25 [==============================] - 18s 602ms/step - loss: 0.8654 - accuracy: 0.8175 - val_loss: 0.6464 - val_accuracy: 0.7650\n",
            "Epoch 28/60\n",
            "25/25 [==============================] - 17s 536ms/step - loss: 0.8562 - accuracy: 0.8163 - val_loss: 0.6505 - val_accuracy: 0.7600\n",
            "Epoch 29/60\n",
            "25/25 [==============================] - 18s 599ms/step - loss: 0.8457 - accuracy: 0.8150 - val_loss: 0.6331 - val_accuracy: 0.7700\n",
            "Epoch 30/60\n",
            "25/25 [==============================] - 18s 593ms/step - loss: 0.8371 - accuracy: 0.8250 - val_loss: 0.6213 - val_accuracy: 0.7750\n",
            "Epoch 31/60\n",
            "25/25 [==============================] - 18s 594ms/step - loss: 0.8274 - accuracy: 0.8200 - val_loss: 0.6284 - val_accuracy: 0.7700\n",
            "Epoch 32/60\n",
            "25/25 [==============================] - 17s 537ms/step - loss: 0.8192 - accuracy: 0.8188 - val_loss: 0.6158 - val_accuracy: 0.7750\n",
            "Epoch 33/60\n",
            "25/25 [==============================] - 18s 602ms/step - loss: 0.8117 - accuracy: 0.8288 - val_loss: 0.6088 - val_accuracy: 0.7800\n",
            "Epoch 34/60\n",
            "25/25 [==============================] - 18s 597ms/step - loss: 0.8036 - accuracy: 0.8250 - val_loss: 0.6094 - val_accuracy: 0.7700\n",
            "Epoch 35/60\n",
            "25/25 [==============================] - 17s 538ms/step - loss: 0.7976 - accuracy: 0.8300 - val_loss: 0.5941 - val_accuracy: 0.7900\n",
            "Epoch 36/60\n",
            "25/25 [==============================] - 17s 536ms/step - loss: 0.7887 - accuracy: 0.8350 - val_loss: 0.5961 - val_accuracy: 0.7800\n",
            "Epoch 37/60\n",
            "25/25 [==============================] - 18s 599ms/step - loss: 0.7811 - accuracy: 0.8300 - val_loss: 0.5957 - val_accuracy: 0.7800\n",
            "Epoch 38/60\n",
            "25/25 [==============================] - 18s 603ms/step - loss: 0.7767 - accuracy: 0.8325 - val_loss: 0.5885 - val_accuracy: 0.7800\n",
            "Epoch 39/60\n",
            "25/25 [==============================] - 18s 597ms/step - loss: 0.7697 - accuracy: 0.8338 - val_loss: 0.5853 - val_accuracy: 0.7800\n",
            "Epoch 40/60\n",
            "25/25 [==============================] - 18s 603ms/step - loss: 0.7628 - accuracy: 0.8325 - val_loss: 0.5836 - val_accuracy: 0.7900\n",
            "Epoch 41/60\n",
            "25/25 [==============================] - 18s 599ms/step - loss: 0.7566 - accuracy: 0.8313 - val_loss: 0.5809 - val_accuracy: 0.7850\n",
            "Epoch 42/60\n",
            "25/25 [==============================] - 18s 600ms/step - loss: 0.7499 - accuracy: 0.8325 - val_loss: 0.5739 - val_accuracy: 0.7900\n",
            "Epoch 43/60\n",
            "25/25 [==============================] - 17s 544ms/step - loss: 0.7445 - accuracy: 0.8388 - val_loss: 0.5628 - val_accuracy: 0.8000\n",
            "Epoch 44/60\n",
            "25/25 [==============================] - 18s 600ms/step - loss: 0.7399 - accuracy: 0.8438 - val_loss: 0.5626 - val_accuracy: 0.8000\n",
            "Epoch 45/60\n",
            "25/25 [==============================] - 18s 598ms/step - loss: 0.7341 - accuracy: 0.8413 - val_loss: 0.5601 - val_accuracy: 0.8000\n",
            "Epoch 46/60\n",
            "25/25 [==============================] - 17s 541ms/step - loss: 0.7281 - accuracy: 0.8425 - val_loss: 0.5607 - val_accuracy: 0.7950\n",
            "Epoch 47/60\n",
            "25/25 [==============================] - 17s 537ms/step - loss: 0.7237 - accuracy: 0.8462 - val_loss: 0.5582 - val_accuracy: 0.7950\n",
            "Epoch 48/60\n",
            "25/25 [==============================] - 17s 539ms/step - loss: 0.7189 - accuracy: 0.8438 - val_loss: 0.5551 - val_accuracy: 0.7950\n",
            "Epoch 49/60\n",
            "25/25 [==============================] - 17s 538ms/step - loss: 0.7140 - accuracy: 0.8462 - val_loss: 0.5521 - val_accuracy: 0.7950\n",
            "Epoch 50/60\n",
            "25/25 [==============================] - 17s 532ms/step - loss: 0.7089 - accuracy: 0.8462 - val_loss: 0.5486 - val_accuracy: 0.7950\n",
            "Epoch 51/60\n",
            "25/25 [==============================] - 18s 602ms/step - loss: 0.7042 - accuracy: 0.8487 - val_loss: 0.5425 - val_accuracy: 0.8000\n",
            "Epoch 52/60\n",
            "25/25 [==============================] - 17s 540ms/step - loss: 0.7007 - accuracy: 0.8500 - val_loss: 0.5371 - val_accuracy: 0.7950\n",
            "Epoch 53/60\n",
            "25/25 [==============================] - 18s 602ms/step - loss: 0.6966 - accuracy: 0.8475 - val_loss: 0.5379 - val_accuracy: 0.8000\n",
            "Epoch 54/60\n",
            "25/25 [==============================] - 17s 532ms/step - loss: 0.6918 - accuracy: 0.8462 - val_loss: 0.5365 - val_accuracy: 0.8000\n",
            "Epoch 55/60\n",
            "25/25 [==============================] - 18s 599ms/step - loss: 0.6871 - accuracy: 0.8500 - val_loss: 0.5323 - val_accuracy: 0.7950\n",
            "Epoch 56/60\n",
            "25/25 [==============================] - 17s 542ms/step - loss: 0.6824 - accuracy: 0.8500 - val_loss: 0.5320 - val_accuracy: 0.7950\n",
            "Epoch 57/60\n",
            "25/25 [==============================] - 18s 598ms/step - loss: 0.6798 - accuracy: 0.8487 - val_loss: 0.5254 - val_accuracy: 0.7950\n",
            "Epoch 58/60\n",
            "25/25 [==============================] - 18s 602ms/step - loss: 0.6749 - accuracy: 0.8512 - val_loss: 0.5242 - val_accuracy: 0.8000\n",
            "Epoch 59/60\n",
            "25/25 [==============================] - 18s 596ms/step - loss: 0.6702 - accuracy: 0.8525 - val_loss: 0.5238 - val_accuracy: 0.7950\n",
            "Epoch 60/60\n",
            "25/25 [==============================] - 17s 537ms/step - loss: 0.6689 - accuracy: 0.8525 - val_loss: 0.5182 - val_accuracy: 0.8000\n"
          ]
        },
        {
          "output_type": "execute_result",
          "data": {
            "text/plain": [
              "<keras.callbacks.History at 0x7f0c8aca20d0>"
            ]
          },
          "metadata": {},
          "execution_count": 33
        }
      ]
    },
    {
      "cell_type": "code",
      "metadata": {
        "colab": {
          "base_uri": "https://localhost:8080/",
          "height": 281
        },
        "id": "5h6QFI7l2wib",
        "outputId": "079f0e84-160c-428d-8120-a774261bdd48"
      },
      "source": [
        "plt.plot(models['base_model0'].history.history['accuracy'])\n",
        "plt.plot(models['base_model0'].history.history['val_accuracy'])\n",
        "plt.legend(['Train', 'Validation'])\n",
        "plt.title('Densenet121 training curves')\n",
        "plt.show()"
      ],
      "execution_count": null,
      "outputs": [
        {
          "output_type": "display_data",
          "data": {
            "image/png": "[encoded data removed]",
            "text/plain": [
              "<Figure size 432x288 with 1 Axes>"
            ]
          },
          "metadata": {
            "needs_background": "light"
          }
        }
      ]
    },
    {
      "cell_type": "code",
      "metadata": {
        "colab": {
          "base_uri": "https://localhost:8080/",
          "height": 1000
        },
        "id": "b0FIUvMy3BjC",
        "outputId": "b9bf18da-fd0d-46c0-c4c5-aa7d2a16a273"
      },
      "source": [
        "models['base_model1'].fit(train_ds_scaled,validation_data=val_ds_scaled,epochs = 60, verbose = 1, workers = 3, class_weight = {0:1.13, 1:8.03, 2:1}, callbacks = [reduce_lr])\n",
        "plt.plot(models['base_model1'].history.history['accuracy'])\n",
        "plt.plot(models['base_model1'].history.history['val_accuracy'])\n",
        "plt.legend(['Train', 'Validation'])\n",
        "plt.title('Densenet121 training curves')\n",
        "plt.show()"
      ],
      "execution_count": null,
      "outputs": [
        {
          "output_type": "stream",
          "name": "stdout",
          "text": [
            "Epoch 1/60\n",
            "25/25 [==============================] - 37s 772ms/step - loss: 1.5922 - accuracy: 0.4875 - val_loss: 0.9826 - val_accuracy: 0.5250\n",
            "Epoch 2/60\n",
            "25/25 [==============================] - 17s 542ms/step - loss: 1.4864 - accuracy: 0.5188 - val_loss: 0.9771 - val_accuracy: 0.5750\n",
            "Epoch 3/60\n",
            "25/25 [==============================] - 19s 609ms/step - loss: 1.4292 - accuracy: 0.5713 - val_loss: 0.9512 - val_accuracy: 0.6450\n",
            "Epoch 4/60\n",
            "25/25 [==============================] - 19s 613ms/step - loss: 1.3797 - accuracy: 0.5888 - val_loss: 0.9155 - val_accuracy: 0.6800\n",
            "Epoch 5/60\n",
            "25/25 [==============================] - 17s 544ms/step - loss: 1.3318 - accuracy: 0.6388 - val_loss: 0.8871 - val_accuracy: 0.6950\n",
            "Epoch 6/60\n",
            "25/25 [==============================] - 17s 540ms/step - loss: 1.2915 - accuracy: 0.6488 - val_loss: 0.8640 - val_accuracy: 0.7250\n",
            "Epoch 7/60\n",
            "25/25 [==============================] - 18s 603ms/step - loss: 1.2516 - accuracy: 0.6862 - val_loss: 0.8411 - val_accuracy: 0.7300\n",
            "Epoch 8/60\n",
            "25/25 [==============================] - 17s 544ms/step - loss: 1.2178 - accuracy: 0.7038 - val_loss: 0.8203 - val_accuracy: 0.7350\n",
            "Epoch 9/60\n",
            "25/25 [==============================] - 19s 611ms/step - loss: 1.1858 - accuracy: 0.7163 - val_loss: 0.8032 - val_accuracy: 0.7450\n",
            "Epoch 10/60\n",
            "25/25 [==============================] - 18s 605ms/step - loss: 1.1559 - accuracy: 0.7300 - val_loss: 0.7855 - val_accuracy: 0.7550\n",
            "Epoch 11/60\n",
            "25/25 [==============================] - 18s 604ms/step - loss: 1.1282 - accuracy: 0.7412 - val_loss: 0.7659 - val_accuracy: 0.7600\n",
            "Epoch 12/60\n",
            "25/25 [==============================] - 17s 541ms/step - loss: 1.1041 - accuracy: 0.7437 - val_loss: 0.7566 - val_accuracy: 0.7550\n",
            "Epoch 13/60\n",
            "25/25 [==============================] - 17s 544ms/step - loss: 1.0792 - accuracy: 0.7588 - val_loss: 0.7376 - val_accuracy: 0.7800\n",
            "Epoch 14/60\n",
            "25/25 [==============================] - 17s 549ms/step - loss: 1.0584 - accuracy: 0.7638 - val_loss: 0.7243 - val_accuracy: 0.7700\n",
            "Epoch 15/60\n",
            "25/25 [==============================] - 17s 540ms/step - loss: 1.0377 - accuracy: 0.7750 - val_loss: 0.7150 - val_accuracy: 0.7800\n",
            "Epoch 16/60\n",
            "25/25 [==============================] - 18s 604ms/step - loss: 1.0230 - accuracy: 0.7575 - val_loss: 0.7132 - val_accuracy: 0.7650\n",
            "Epoch 17/60\n",
            "25/25 [==============================] - 17s 544ms/step - loss: 1.0021 - accuracy: 0.7725 - val_loss: 0.6897 - val_accuracy: 0.7800\n",
            "Epoch 18/60\n",
            "25/25 [==============================] - 19s 606ms/step - loss: 0.9865 - accuracy: 0.7975 - val_loss: 0.6764 - val_accuracy: 0.7800\n",
            "Epoch 19/60\n",
            "25/25 [==============================] - 17s 545ms/step - loss: 0.9698 - accuracy: 0.8000 - val_loss: 0.6719 - val_accuracy: 0.7750\n",
            "Epoch 20/60\n",
            "25/25 [==============================] - 17s 542ms/step - loss: 0.9534 - accuracy: 0.7925 - val_loss: 0.6648 - val_accuracy: 0.7750\n",
            "Epoch 21/60\n",
            "25/25 [==============================] - 17s 537ms/step - loss: 0.9410 - accuracy: 0.8012 - val_loss: 0.6555 - val_accuracy: 0.7750\n",
            "Epoch 22/60\n",
            "25/25 [==============================] - 18s 604ms/step - loss: 0.9302 - accuracy: 0.8012 - val_loss: 0.6459 - val_accuracy: 0.7750\n",
            "Epoch 23/60\n",
            "25/25 [==============================] - 17s 538ms/step - loss: 0.9167 - accuracy: 0.8150 - val_loss: 0.6365 - val_accuracy: 0.7750\n",
            "Epoch 24/60\n",
            "25/25 [==============================] - 18s 602ms/step - loss: 0.9048 - accuracy: 0.8075 - val_loss: 0.6403 - val_accuracy: 0.7650\n",
            "Epoch 25/60\n",
            "25/25 [==============================] - 17s 545ms/step - loss: 0.8934 - accuracy: 0.8112 - val_loss: 0.6234 - val_accuracy: 0.7800\n",
            "Epoch 26/60\n",
            "25/25 [==============================] - 18s 604ms/step - loss: 0.8830 - accuracy: 0.8138 - val_loss: 0.6193 - val_accuracy: 0.7850\n",
            "Epoch 27/60\n",
            "25/25 [==============================] - 17s 544ms/step - loss: 0.8724 - accuracy: 0.8150 - val_loss: 0.6156 - val_accuracy: 0.7950\n",
            "Epoch 28/60\n",
            "25/25 [==============================] - 18s 604ms/step - loss: 0.8615 - accuracy: 0.8200 - val_loss: 0.6108 - val_accuracy: 0.7800\n",
            "Epoch 29/60\n",
            "25/25 [==============================] - 17s 543ms/step - loss: 0.8535 - accuracy: 0.8200 - val_loss: 0.6049 - val_accuracy: 0.7850\n",
            "Epoch 30/60\n",
            "25/25 [==============================] - 17s 542ms/step - loss: 0.8437 - accuracy: 0.8213 - val_loss: 0.5990 - val_accuracy: 0.7900\n",
            "Epoch 31/60\n",
            "25/25 [==============================] - 18s 607ms/step - loss: 0.8365 - accuracy: 0.8213 - val_loss: 0.5944 - val_accuracy: 0.7900\n",
            "Epoch 32/60\n",
            "25/25 [==============================] - 17s 548ms/step - loss: 0.8289 - accuracy: 0.8275 - val_loss: 0.5881 - val_accuracy: 0.7850\n",
            "Epoch 33/60\n",
            "25/25 [==============================] - 19s 610ms/step - loss: 0.8202 - accuracy: 0.8263 - val_loss: 0.5845 - val_accuracy: 0.7900\n",
            "Epoch 34/60\n",
            "25/25 [==============================] - 18s 606ms/step - loss: 0.8119 - accuracy: 0.8250 - val_loss: 0.5781 - val_accuracy: 0.7900\n",
            "Epoch 35/60\n",
            "25/25 [==============================] - 19s 607ms/step - loss: 0.8049 - accuracy: 0.8263 - val_loss: 0.5734 - val_accuracy: 0.7900\n",
            "Epoch 36/60\n",
            "25/25 [==============================] - 18s 604ms/step - loss: 0.7982 - accuracy: 0.8275 - val_loss: 0.5752 - val_accuracy: 0.7950\n",
            "Epoch 37/60\n",
            "25/25 [==============================] - 17s 552ms/step - loss: 0.7911 - accuracy: 0.8288 - val_loss: 0.5706 - val_accuracy: 0.7900\n",
            "Epoch 38/60\n",
            "25/25 [==============================] - 17s 545ms/step - loss: 0.7850 - accuracy: 0.8338 - val_loss: 0.5601 - val_accuracy: 0.8000\n",
            "Epoch 39/60\n",
            "25/25 [==============================] - 18s 602ms/step - loss: 0.7804 - accuracy: 0.8338 - val_loss: 0.5572 - val_accuracy: 0.7950\n",
            "Epoch 40/60\n",
            "25/25 [==============================] - 17s 547ms/step - loss: 0.7720 - accuracy: 0.8313 - val_loss: 0.5580 - val_accuracy: 0.7950\n",
            "Epoch 41/60\n",
            "25/25 [==============================] - 19s 610ms/step - loss: 0.7653 - accuracy: 0.8275 - val_loss: 0.5569 - val_accuracy: 0.7900\n",
            "Epoch 42/60\n",
            "25/25 [==============================] - 17s 546ms/step - loss: 0.7610 - accuracy: 0.8313 - val_loss: 0.5522 - val_accuracy: 0.7950\n",
            "Epoch 43/60\n",
            "25/25 [==============================] - 17s 541ms/step - loss: 0.7548 - accuracy: 0.8325 - val_loss: 0.5432 - val_accuracy: 0.8000\n",
            "Epoch 44/60\n",
            "25/25 [==============================] - 17s 546ms/step - loss: 0.7477 - accuracy: 0.8325 - val_loss: 0.5414 - val_accuracy: 0.8000\n",
            "Epoch 45/60\n",
            "25/25 [==============================] - 18s 603ms/step - loss: 0.7427 - accuracy: 0.8350 - val_loss: 0.5449 - val_accuracy: 0.7900\n",
            "Epoch 46/60\n",
            "25/25 [==============================] - 17s 545ms/step - loss: 0.7368 - accuracy: 0.8350 - val_loss: 0.5384 - val_accuracy: 0.8000\n",
            "Epoch 47/60\n",
            "25/25 [==============================] - 19s 605ms/step - loss: 0.7332 - accuracy: 0.8438 - val_loss: 0.5345 - val_accuracy: 0.8050\n",
            "Epoch 48/60\n",
            "25/25 [==============================] - 17s 545ms/step - loss: 0.7292 - accuracy: 0.8363 - val_loss: 0.5327 - val_accuracy: 0.8000\n",
            "Epoch 49/60\n",
            "25/25 [==============================] - 19s 610ms/step - loss: 0.7230 - accuracy: 0.8375 - val_loss: 0.5296 - val_accuracy: 0.8000\n",
            "Epoch 50/60\n",
            "25/25 [==============================] - 18s 605ms/step - loss: 0.7180 - accuracy: 0.8400 - val_loss: 0.5252 - val_accuracy: 0.8000\n",
            "Epoch 51/60\n",
            "25/25 [==============================] - 19s 608ms/step - loss: 0.7153 - accuracy: 0.8388 - val_loss: 0.5297 - val_accuracy: 0.7900\n",
            "Epoch 52/60\n",
            "25/25 [==============================] - 18s 601ms/step - loss: 0.7115 - accuracy: 0.8400 - val_loss: 0.5249 - val_accuracy: 0.8000\n",
            "Epoch 53/60\n",
            "25/25 [==============================] - 17s 548ms/step - loss: 0.7051 - accuracy: 0.8400 - val_loss: 0.5210 - val_accuracy: 0.8000\n",
            "Epoch 54/60\n",
            "25/25 [==============================] - 19s 608ms/step - loss: 0.7009 - accuracy: 0.8413 - val_loss: 0.5134 - val_accuracy: 0.8200\n",
            "Epoch 55/60\n",
            "25/25 [==============================] - 18s 605ms/step - loss: 0.6990 - accuracy: 0.8525 - val_loss: 0.5116 - val_accuracy: 0.8100\n",
            "Epoch 56/60\n",
            "25/25 [==============================] - 18s 602ms/step - loss: 0.6920 - accuracy: 0.8487 - val_loss: 0.5144 - val_accuracy: 0.8100\n",
            "Epoch 57/60\n",
            "25/25 [==============================] - 17s 548ms/step - loss: 0.6895 - accuracy: 0.8413 - val_loss: 0.5166 - val_accuracy: 0.7950\n",
            "Epoch 58/60\n",
            "25/25 [==============================] - 19s 609ms/step - loss: 0.6853 - accuracy: 0.8500 - val_loss: 0.5068 - val_accuracy: 0.8200\n",
            "Epoch 59/60\n",
            "25/25 [==============================] - 17s 542ms/step - loss: 0.6816 - accuracy: 0.8500 - val_loss: 0.5047 - val_accuracy: 0.8200\n",
            "Epoch 60/60\n",
            "25/25 [==============================] - 19s 607ms/step - loss: 0.6779 - accuracy: 0.8475 - val_loss: 0.5064 - val_accuracy: 0.8200\n"
          ]
        },
        {
          "output_type": "display_data",
          "data": {
            "image/png": "[encoded data removed]",
            "text/plain": [
              "<Figure size 432x288 with 1 Axes>"
            ]
          },
          "metadata": {
            "needs_background": "light"
          }
        }
      ]
    },
    {
      "cell_type": "code",
      "metadata": {
        "colab": {
          "base_uri": "https://localhost:8080/",
          "height": 1000
        },
        "id": "lNAAh6GB3Lji",
        "outputId": "e26edeec-98a4-4fc8-840d-ab65ab8b17c9"
      },
      "source": [
        "models['base_model2'].fit(train_ds_scaled,validation_data=val_ds_scaled,epochs = 60, verbose = 1, workers = 3, class_weight = {0:1.13, 1:8.03, 2:1}, callbacks = [reduce_lr])\n",
        "plt.plot(models['base_model2'].history.history['accuracy'])\n",
        "plt.plot(models['base_model2'].history.history['val_accuracy'])\n",
        "plt.legend(['Train', 'Validation'])\n",
        "plt.title('Densenet121 training curves')\n",
        "plt.show()"
      ],
      "execution_count": null,
      "outputs": [
        {
          "output_type": "stream",
          "name": "stdout",
          "text": [
            "Epoch 1/60\n",
            "25/25 [==============================] - 38s 807ms/step - loss: 1.5361 - accuracy: 0.4387 - val_loss: 1.0111 - val_accuracy: 0.4850\n",
            "Epoch 2/60\n",
            "25/25 [==============================] - 17s 540ms/step - loss: 1.2625 - accuracy: 0.6500 - val_loss: 0.9164 - val_accuracy: 0.5600\n",
            "Epoch 3/60\n",
            "25/25 [==============================] - 18s 603ms/step - loss: 1.0954 - accuracy: 0.7163 - val_loss: 0.8591 - val_accuracy: 0.5750\n",
            "Epoch 4/60\n",
            "25/25 [==============================] - 17s 535ms/step - loss: 0.9615 - accuracy: 0.7738 - val_loss: 0.7994 - val_accuracy: 0.6250\n",
            "Epoch 5/60\n",
            "25/25 [==============================] - 17s 538ms/step - loss: 0.8808 - accuracy: 0.7975 - val_loss: 0.7685 - val_accuracy: 0.6250\n",
            "Epoch 6/60\n",
            "25/25 [==============================] - 18s 603ms/step - loss: 0.8151 - accuracy: 0.8288 - val_loss: 0.7303 - val_accuracy: 0.6400\n",
            "Epoch 7/60\n",
            "25/25 [==============================] - 18s 600ms/step - loss: 0.7473 - accuracy: 0.8338 - val_loss: 0.7095 - val_accuracy: 0.6500\n",
            "Epoch 8/60\n",
            "25/25 [==============================] - 17s 542ms/step - loss: 0.7105 - accuracy: 0.8525 - val_loss: 0.6847 - val_accuracy: 0.6700\n",
            "Epoch 9/60\n",
            "25/25 [==============================] - 17s 538ms/step - loss: 0.6666 - accuracy: 0.8600 - val_loss: 0.6696 - val_accuracy: 0.6700\n",
            "Epoch 10/60\n",
            "25/25 [==============================] - 18s 604ms/step - loss: 0.6314 - accuracy: 0.8662 - val_loss: 0.6443 - val_accuracy: 0.7000\n",
            "Epoch 11/60\n",
            "25/25 [==============================] - 18s 598ms/step - loss: 0.6303 - accuracy: 0.8537 - val_loss: 0.6339 - val_accuracy: 0.7050\n",
            "Epoch 12/60\n",
            "25/25 [==============================] - 16s 523ms/step - loss: 0.6028 - accuracy: 0.8800 - val_loss: 0.6018 - val_accuracy: 0.7200\n",
            "Epoch 13/60\n",
            "25/25 [==============================] - 18s 597ms/step - loss: 0.5528 - accuracy: 0.8737 - val_loss: 0.6289 - val_accuracy: 0.7150\n",
            "Epoch 14/60\n",
            "25/25 [==============================] - 17s 537ms/step - loss: 0.5449 - accuracy: 0.8800 - val_loss: 0.6057 - val_accuracy: 0.7150\n",
            "Epoch 15/60\n",
            "25/25 [==============================] - 17s 541ms/step - loss: 0.5251 - accuracy: 0.8838 - val_loss: 0.5988 - val_accuracy: 0.7200\n",
            "Epoch 16/60\n",
            "25/25 [==============================] - 17s 535ms/step - loss: 0.4927 - accuracy: 0.8875 - val_loss: 0.6084 - val_accuracy: 0.7150\n",
            "Epoch 17/60\n",
            "25/25 [==============================] - 17s 547ms/step - loss: 0.4802 - accuracy: 0.8963 - val_loss: 0.5827 - val_accuracy: 0.7300\n",
            "Epoch 18/60\n",
            "25/25 [==============================] - 18s 604ms/step - loss: 0.4633 - accuracy: 0.9050 - val_loss: 0.6001 - val_accuracy: 0.7200\n",
            "Epoch 19/60\n",
            "25/25 [==============================] - 17s 535ms/step - loss: 0.4297 - accuracy: 0.9100 - val_loss: 0.5805 - val_accuracy: 0.7300\n",
            "Epoch 20/60\n",
            "25/25 [==============================] - 17s 536ms/step - loss: 0.4326 - accuracy: 0.9100 - val_loss: 0.5918 - val_accuracy: 0.7300\n",
            "Epoch 21/60\n",
            "25/25 [==============================] - 16s 529ms/step - loss: 0.4191 - accuracy: 0.9100 - val_loss: 0.5671 - val_accuracy: 0.7500\n",
            "Epoch 22/60\n",
            "25/25 [==============================] - 16s 528ms/step - loss: 0.3965 - accuracy: 0.9175 - val_loss: 0.5767 - val_accuracy: 0.7350\n",
            "Epoch 23/60\n",
            "25/25 [==============================] - 18s 598ms/step - loss: 0.3890 - accuracy: 0.9175 - val_loss: 0.5787 - val_accuracy: 0.7400\n",
            "Epoch 24/60\n",
            "25/25 [==============================] - 17s 537ms/step - loss: 0.3828 - accuracy: 0.9175 - val_loss: 0.5739 - val_accuracy: 0.7400\n",
            "Epoch 25/60\n",
            "25/25 [==============================] - 18s 597ms/step - loss: 0.3645 - accuracy: 0.9250 - val_loss: 0.5581 - val_accuracy: 0.7450\n",
            "Epoch 26/60\n",
            "25/25 [==============================] - 18s 591ms/step - loss: 0.3481 - accuracy: 0.9275 - val_loss: 0.5750 - val_accuracy: 0.7450\n",
            "Epoch 27/60\n",
            "25/25 [==============================] - 17s 530ms/step - loss: 0.3425 - accuracy: 0.9237 - val_loss: 0.5650 - val_accuracy: 0.7450\n",
            "Epoch 28/60\n",
            "25/25 [==============================] - 18s 598ms/step - loss: 0.3441 - accuracy: 0.9262 - val_loss: 0.5734 - val_accuracy: 0.7450\n",
            "Epoch 29/60\n",
            "25/25 [==============================] - 17s 538ms/step - loss: 0.3273 - accuracy: 0.9250 - val_loss: 0.5564 - val_accuracy: 0.7500\n",
            "Epoch 30/60\n",
            "25/25 [==============================] - 17s 536ms/step - loss: 0.3251 - accuracy: 0.9162 - val_loss: 0.5836 - val_accuracy: 0.7450\n",
            "Epoch 31/60\n",
            "25/25 [==============================] - 17s 527ms/step - loss: 0.2930 - accuracy: 0.9450 - val_loss: 0.5521 - val_accuracy: 0.7500\n",
            "Epoch 32/60\n",
            "25/25 [==============================] - 17s 536ms/step - loss: 0.3078 - accuracy: 0.9337 - val_loss: 0.5700 - val_accuracy: 0.7450\n",
            "Epoch 33/60\n",
            "25/25 [==============================] - 16s 528ms/step - loss: 0.2850 - accuracy: 0.9438 - val_loss: 0.5738 - val_accuracy: 0.7450\n",
            "Epoch 34/60\n",
            "25/25 [==============================] - 17s 529ms/step - loss: 0.2736 - accuracy: 0.9488 - val_loss: 0.5743 - val_accuracy: 0.7450\n",
            "Epoch 35/60\n",
            "25/25 [==============================] - 17s 531ms/step - loss: 0.2756 - accuracy: 0.9400 - val_loss: 0.5839 - val_accuracy: 0.7400\n",
            "Epoch 36/60\n",
            "25/25 [==============================] - 18s 593ms/step - loss: 0.2663 - accuracy: 0.9413 - val_loss: 0.5505 - val_accuracy: 0.7650\n",
            "Epoch 37/60\n",
            "25/25 [==============================] - 18s 597ms/step - loss: 0.2446 - accuracy: 0.9550 - val_loss: 0.5717 - val_accuracy: 0.7500\n",
            "Epoch 38/60\n",
            "25/25 [==============================] - 16s 518ms/step - loss: 0.2469 - accuracy: 0.9438 - val_loss: 0.5572 - val_accuracy: 0.7650\n",
            "Epoch 39/60\n",
            "25/25 [==============================] - 17s 529ms/step - loss: 0.2474 - accuracy: 0.9413 - val_loss: 0.5753 - val_accuracy: 0.7500\n",
            "Epoch 40/60\n",
            "25/25 [==============================] - 18s 599ms/step - loss: 0.2437 - accuracy: 0.9525 - val_loss: 0.5654 - val_accuracy: 0.7550\n",
            "Epoch 41/60\n",
            "25/25 [==============================] - 18s 598ms/step - loss: 0.2314 - accuracy: 0.9425 - val_loss: 0.5745 - val_accuracy: 0.7500\n",
            "Epoch 42/60\n",
            "25/25 [==============================] - 16s 524ms/step - loss: 0.2202 - accuracy: 0.9563 - val_loss: 0.5692 - val_accuracy: 0.7550\n",
            "Epoch 43/60\n",
            "25/25 [==============================] - 17s 528ms/step - loss: 0.2276 - accuracy: 0.9450 - val_loss: 0.5633 - val_accuracy: 0.7700\n",
            "Epoch 44/60\n",
            "25/25 [==============================] - 17s 538ms/step - loss: 0.2254 - accuracy: 0.9500 - val_loss: 0.5601 - val_accuracy: 0.7700\n",
            "Epoch 45/60\n",
            "25/25 [==============================] - 17s 535ms/step - loss: 0.2199 - accuracy: 0.9625 - val_loss: 0.5561 - val_accuracy: 0.7700\n",
            "Epoch 46/60\n",
            "25/25 [==============================] - 18s 599ms/step - loss: 0.2132 - accuracy: 0.9575 - val_loss: 0.5498 - val_accuracy: 0.7700\n",
            "Epoch 47/60\n",
            "25/25 [==============================] - 16s 528ms/step - loss: 0.2136 - accuracy: 0.9550 - val_loss: 0.5492 - val_accuracy: 0.7700\n",
            "Epoch 48/60\n",
            "25/25 [==============================] - 18s 600ms/step - loss: 0.2259 - accuracy: 0.9563 - val_loss: 0.5489 - val_accuracy: 0.7700\n",
            "Epoch 49/60\n",
            "25/25 [==============================] - 16s 527ms/step - loss: 0.2108 - accuracy: 0.9650 - val_loss: 0.5456 - val_accuracy: 0.7700\n",
            "Epoch 50/60\n",
            "25/25 [==============================] - 17s 535ms/step - loss: 0.2299 - accuracy: 0.9463 - val_loss: 0.5441 - val_accuracy: 0.7700\n",
            "Epoch 51/60\n",
            "25/25 [==============================] - 17s 534ms/step - loss: 0.2228 - accuracy: 0.9538 - val_loss: 0.5415 - val_accuracy: 0.7700\n",
            "Epoch 52/60\n",
            "25/25 [==============================] - 17s 530ms/step - loss: 0.2182 - accuracy: 0.9575 - val_loss: 0.5413 - val_accuracy: 0.7700\n",
            "Epoch 53/60\n",
            "25/25 [==============================] - 17s 537ms/step - loss: 0.2368 - accuracy: 0.9500 - val_loss: 0.5395 - val_accuracy: 0.7700\n",
            "Epoch 54/60\n",
            "25/25 [==============================] - 16s 529ms/step - loss: 0.2134 - accuracy: 0.9613 - val_loss: 0.5347 - val_accuracy: 0.7800\n",
            "Epoch 55/60\n",
            "25/25 [==============================] - 17s 532ms/step - loss: 0.2075 - accuracy: 0.9650 - val_loss: 0.5329 - val_accuracy: 0.7800\n",
            "Epoch 56/60\n",
            "25/25 [==============================] - 17s 533ms/step - loss: 0.2042 - accuracy: 0.9588 - val_loss: 0.5296 - val_accuracy: 0.7850\n",
            "Epoch 57/60\n",
            "25/25 [==============================] - 16s 529ms/step - loss: 0.2090 - accuracy: 0.9538 - val_loss: 0.5255 - val_accuracy: 0.7900\n",
            "Epoch 58/60\n",
            "25/25 [==============================] - 18s 602ms/step - loss: 0.2135 - accuracy: 0.9538 - val_loss: 0.5214 - val_accuracy: 0.7900\n",
            "Epoch 59/60\n",
            "25/25 [==============================] - 18s 601ms/step - loss: 0.2046 - accuracy: 0.9588 - val_loss: 0.5209 - val_accuracy: 0.7900\n",
            "Epoch 60/60\n",
            "25/25 [==============================] - 18s 603ms/step - loss: 0.2135 - accuracy: 0.9613 - val_loss: 0.5176 - val_accuracy: 0.7900\n"
          ]
        },
        {
          "output_type": "display_data",
          "data": {
            "image/png": "[encoded data removed]",
            "text/plain": [
              "<Figure size 432x288 with 1 Axes>"
            ]
          },
          "metadata": {
            "needs_background": "light"
          }
        }
      ]
    },
    {
      "cell_type": "code",
      "metadata": {
        "colab": {
          "base_uri": "https://localhost:8080/",
          "height": 1000
        },
        "id": "zyyh6GC-3Lqb",
        "outputId": "faa62567-1417-4bd5-b89a-b3a24689775b"
      },
      "source": [
        "models['base_model3'].fit(train_ds_scaled,validation_data=val_ds_scaled,epochs = 60, verbose = 1, workers = 3, class_weight = {0:1.13, 1:8.03, 2:1}, callbacks = [reduce_lr])\n",
        "plt.plot(models['base_model3'].history.history['accuracy'])\n",
        "plt.plot(models['base_model3'].history.history['val_accuracy'])\n",
        "plt.legend(['Train', 'Validation'])\n",
        "plt.title('Densenet121 training curves')\n",
        "plt.show()"
      ],
      "execution_count": null,
      "outputs": [
        {
          "output_type": "stream",
          "name": "stdout",
          "text": [
            "Epoch 1/60\n",
            "25/25 [==============================] - 36s 725ms/step - loss: 1.4151 - accuracy: 0.5750 - val_loss: 0.9582 - val_accuracy: 0.5700\n",
            "Epoch 2/60\n",
            "25/25 [==============================] - 17s 535ms/step - loss: 1.0928 - accuracy: 0.7525 - val_loss: 0.8801 - val_accuracy: 0.6300\n",
            "Epoch 3/60\n",
            "25/25 [==============================] - 18s 598ms/step - loss: 0.9168 - accuracy: 0.7925 - val_loss: 0.8298 - val_accuracy: 0.6200\n",
            "Epoch 4/60\n",
            "25/25 [==============================] - 17s 533ms/step - loss: 0.8125 - accuracy: 0.8438 - val_loss: 0.7701 - val_accuracy: 0.6450\n",
            "Epoch 5/60\n",
            "25/25 [==============================] - 18s 597ms/step - loss: 0.7210 - accuracy: 0.8475 - val_loss: 0.7698 - val_accuracy: 0.6350\n",
            "Epoch 6/60\n",
            "25/25 [==============================] - 18s 598ms/step - loss: 0.6787 - accuracy: 0.8425 - val_loss: 0.7226 - val_accuracy: 0.6550\n",
            "Epoch 7/60\n",
            "25/25 [==============================] - 17s 536ms/step - loss: 0.6339 - accuracy: 0.8725 - val_loss: 0.6892 - val_accuracy: 0.6800\n",
            "Epoch 8/60\n",
            "25/25 [==============================] - 18s 609ms/step - loss: 0.5866 - accuracy: 0.8838 - val_loss: 0.6767 - val_accuracy: 0.6700\n",
            "Epoch 9/60\n",
            "25/25 [==============================] - 18s 604ms/step - loss: 0.5370 - accuracy: 0.8788 - val_loss: 0.6573 - val_accuracy: 0.6850\n",
            "Epoch 10/60\n",
            "25/25 [==============================] - 17s 539ms/step - loss: 0.5046 - accuracy: 0.8875 - val_loss: 0.6460 - val_accuracy: 0.6950\n",
            "Epoch 11/60\n",
            "25/25 [==============================] - 17s 540ms/step - loss: 0.4777 - accuracy: 0.8938 - val_loss: 0.6209 - val_accuracy: 0.7150\n",
            "Epoch 12/60\n",
            "25/25 [==============================] - 17s 543ms/step - loss: 0.4670 - accuracy: 0.8950 - val_loss: 0.6093 - val_accuracy: 0.7150\n",
            "Epoch 13/60\n",
            "25/25 [==============================] - 17s 538ms/step - loss: 0.4386 - accuracy: 0.9025 - val_loss: 0.5837 - val_accuracy: 0.7300\n",
            "Epoch 14/60\n",
            "25/25 [==============================] - 17s 533ms/step - loss: 0.4106 - accuracy: 0.9125 - val_loss: 0.5607 - val_accuracy: 0.7450\n",
            "Epoch 15/60\n",
            "25/25 [==============================] - 18s 597ms/step - loss: 0.3969 - accuracy: 0.9125 - val_loss: 0.5476 - val_accuracy: 0.7600\n",
            "Epoch 16/60\n",
            "25/25 [==============================] - 17s 531ms/step - loss: 0.3877 - accuracy: 0.9125 - val_loss: 0.5265 - val_accuracy: 0.7650\n",
            "Epoch 17/60\n",
            "25/25 [==============================] - 18s 601ms/step - loss: 0.3726 - accuracy: 0.9162 - val_loss: 0.5066 - val_accuracy: 0.7650\n",
            "Epoch 18/60\n",
            "25/25 [==============================] - 17s 544ms/step - loss: 0.3517 - accuracy: 0.9375 - val_loss: 0.4946 - val_accuracy: 0.7650\n",
            "Epoch 19/60\n",
            "25/25 [==============================] - 17s 534ms/step - loss: 0.3345 - accuracy: 0.9262 - val_loss: 0.4911 - val_accuracy: 0.7650\n",
            "Epoch 20/60\n",
            "25/25 [==============================] - 17s 540ms/step - loss: 0.3198 - accuracy: 0.9337 - val_loss: 0.4642 - val_accuracy: 0.7850\n",
            "Epoch 21/60\n",
            "25/25 [==============================] - 18s 596ms/step - loss: 0.3182 - accuracy: 0.9312 - val_loss: 0.4664 - val_accuracy: 0.7850\n",
            "Epoch 22/60\n",
            "25/25 [==============================] - 18s 595ms/step - loss: 0.3060 - accuracy: 0.9287 - val_loss: 0.4457 - val_accuracy: 0.8150\n",
            "Epoch 23/60\n",
            "25/25 [==============================] - 17s 533ms/step - loss: 0.3020 - accuracy: 0.9275 - val_loss: 0.4338 - val_accuracy: 0.8200\n",
            "Epoch 24/60\n",
            "25/25 [==============================] - 18s 601ms/step - loss: 0.2759 - accuracy: 0.9438 - val_loss: 0.4426 - val_accuracy: 0.8250\n",
            "Epoch 25/60\n",
            "25/25 [==============================] - 17s 528ms/step - loss: 0.2591 - accuracy: 0.9425 - val_loss: 0.4328 - val_accuracy: 0.8200\n",
            "Epoch 26/60\n",
            "25/25 [==============================] - 17s 535ms/step - loss: 0.2572 - accuracy: 0.9525 - val_loss: 0.4417 - val_accuracy: 0.8100\n",
            "Epoch 27/60\n",
            "25/25 [==============================] - 18s 595ms/step - loss: 0.2403 - accuracy: 0.9463 - val_loss: 0.4284 - val_accuracy: 0.8300\n",
            "Epoch 28/60\n",
            "25/25 [==============================] - 18s 599ms/step - loss: 0.2386 - accuracy: 0.9488 - val_loss: 0.4294 - val_accuracy: 0.8250\n",
            "Epoch 29/60\n",
            "25/25 [==============================] - 16s 529ms/step - loss: 0.2375 - accuracy: 0.9488 - val_loss: 0.4121 - val_accuracy: 0.8350\n",
            "Epoch 30/60\n",
            "25/25 [==============================] - 17s 533ms/step - loss: 0.2124 - accuracy: 0.9588 - val_loss: 0.3985 - val_accuracy: 0.8350\n",
            "Epoch 31/60\n",
            "25/25 [==============================] - 17s 533ms/step - loss: 0.2072 - accuracy: 0.9550 - val_loss: 0.3969 - val_accuracy: 0.8350\n",
            "Epoch 32/60\n",
            "25/25 [==============================] - 16s 529ms/step - loss: 0.2070 - accuracy: 0.9538 - val_loss: 0.4036 - val_accuracy: 0.8400\n",
            "Epoch 33/60\n",
            "25/25 [==============================] - 17s 538ms/step - loss: 0.1863 - accuracy: 0.9675 - val_loss: 0.3874 - val_accuracy: 0.8450\n",
            "Epoch 34/60\n",
            "25/25 [==============================] - 18s 596ms/step - loss: 0.1921 - accuracy: 0.9600 - val_loss: 0.3929 - val_accuracy: 0.8450\n",
            "Epoch 35/60\n",
            "25/25 [==============================] - 18s 597ms/step - loss: 0.1735 - accuracy: 0.9712 - val_loss: 0.3860 - val_accuracy: 0.8500\n",
            "Epoch 36/60\n",
            "25/25 [==============================] - 18s 596ms/step - loss: 0.1743 - accuracy: 0.9750 - val_loss: 0.3870 - val_accuracy: 0.8400\n",
            "Epoch 37/60\n",
            "25/25 [==============================] - 17s 530ms/step - loss: 0.1752 - accuracy: 0.9588 - val_loss: 0.3858 - val_accuracy: 0.8500\n",
            "Epoch 38/60\n",
            "25/25 [==============================] - 17s 532ms/step - loss: 0.1795 - accuracy: 0.9625 - val_loss: 0.3936 - val_accuracy: 0.8450\n",
            "Epoch 39/60\n",
            "25/25 [==============================] - 18s 604ms/step - loss: 0.1652 - accuracy: 0.9675 - val_loss: 0.4013 - val_accuracy: 0.8450\n",
            "Epoch 40/60\n",
            "25/25 [==============================] - 18s 600ms/step - loss: 0.1518 - accuracy: 0.9725 - val_loss: 0.4002 - val_accuracy: 0.8400\n",
            "Epoch 41/60\n",
            "25/25 [==============================] - 18s 597ms/step - loss: 0.1626 - accuracy: 0.9750 - val_loss: 0.4062 - val_accuracy: 0.8450\n",
            "Epoch 42/60\n",
            "25/25 [==============================] - 18s 600ms/step - loss: 0.1426 - accuracy: 0.9688 - val_loss: 0.4166 - val_accuracy: 0.8300\n",
            "Epoch 43/60\n",
            "25/25 [==============================] - 18s 607ms/step - loss: 0.1314 - accuracy: 0.9775 - val_loss: 0.4144 - val_accuracy: 0.8300\n",
            "Epoch 44/60\n",
            "25/25 [==============================] - 17s 535ms/step - loss: 0.1408 - accuracy: 0.9762 - val_loss: 0.4126 - val_accuracy: 0.8300\n",
            "Epoch 45/60\n",
            "25/25 [==============================] - 18s 599ms/step - loss: 0.1380 - accuracy: 0.9762 - val_loss: 0.4099 - val_accuracy: 0.8350\n",
            "Epoch 46/60\n",
            "25/25 [==============================] - 17s 539ms/step - loss: 0.1261 - accuracy: 0.9812 - val_loss: 0.4078 - val_accuracy: 0.8400\n",
            "Epoch 47/60\n",
            "25/25 [==============================] - 18s 598ms/step - loss: 0.1301 - accuracy: 0.9800 - val_loss: 0.4066 - val_accuracy: 0.8400\n",
            "Epoch 48/60\n",
            "25/25 [==============================] - 18s 594ms/step - loss: 0.1300 - accuracy: 0.9800 - val_loss: 0.4051 - val_accuracy: 0.8400\n",
            "Epoch 49/60\n",
            "25/25 [==============================] - 17s 529ms/step - loss: 0.1374 - accuracy: 0.9762 - val_loss: 0.4035 - val_accuracy: 0.8400\n",
            "Epoch 50/60\n",
            "25/25 [==============================] - 17s 535ms/step - loss: 0.1270 - accuracy: 0.9825 - val_loss: 0.4019 - val_accuracy: 0.8400\n",
            "Epoch 51/60\n",
            "25/25 [==============================] - 17s 530ms/step - loss: 0.1252 - accuracy: 0.9812 - val_loss: 0.4006 - val_accuracy: 0.8400\n",
            "Epoch 52/60\n",
            "25/25 [==============================] - 18s 598ms/step - loss: 0.1348 - accuracy: 0.9762 - val_loss: 0.3992 - val_accuracy: 0.8400\n",
            "Epoch 53/60\n",
            "25/25 [==============================] - 18s 601ms/step - loss: 0.1287 - accuracy: 0.9750 - val_loss: 0.3979 - val_accuracy: 0.8400\n",
            "Epoch 54/60\n",
            "25/25 [==============================] - 18s 601ms/step - loss: 0.1306 - accuracy: 0.9762 - val_loss: 0.3965 - val_accuracy: 0.8400\n",
            "Epoch 55/60\n",
            "25/25 [==============================] - 17s 536ms/step - loss: 0.1323 - accuracy: 0.9825 - val_loss: 0.3952 - val_accuracy: 0.8400\n",
            "Epoch 56/60\n",
            "25/25 [==============================] - 18s 607ms/step - loss: 0.1315 - accuracy: 0.9800 - val_loss: 0.3939 - val_accuracy: 0.8450\n",
            "Epoch 57/60\n",
            "25/25 [==============================] - 17s 534ms/step - loss: 0.1295 - accuracy: 0.9762 - val_loss: 0.3926 - val_accuracy: 0.8450\n",
            "Epoch 58/60\n",
            "25/25 [==============================] - 17s 544ms/step - loss: 0.1284 - accuracy: 0.9812 - val_loss: 0.3914 - val_accuracy: 0.8500\n",
            "Epoch 59/60\n",
            "25/25 [==============================] - 17s 538ms/step - loss: 0.1346 - accuracy: 0.9800 - val_loss: 0.3902 - val_accuracy: 0.8500\n",
            "Epoch 60/60\n",
            "25/25 [==============================] - 17s 537ms/step - loss: 0.1256 - accuracy: 0.9800 - val_loss: 0.3890 - val_accuracy: 0.8500\n"
          ]
        },
        {
          "output_type": "display_data",
          "data": {
            "image/png": "[encoded data removed]",
            "text/plain": [
              "<Figure size 432x288 with 1 Axes>"
            ]
          },
          "metadata": {
            "needs_background": "light"
          }
        }
      ]
    },
    {
      "cell_type": "code",
      "metadata": {
        "colab": {
          "base_uri": "https://localhost:8080/",
          "height": 1000
        },
        "id": "frzAUhjK3Lt2",
        "outputId": "4f29888e-b2d8-4276-c294-21934cc7572e"
      },
      "source": [
        "models['base_model4'].fit(train_ds_scaled,validation_data=val_ds_scaled,epochs = 60, verbose = 1, workers = 3, class_weight = {0:1.13, 1:8.03, 2:1}, callbacks = [reduce_lr])\n",
        "plt.plot(models['base_model4'].history.history['accuracy'])\n",
        "plt.plot(models['base_model4'].history.history['val_accuracy'])\n",
        "plt.legend(['Train', 'Validation'])\n",
        "plt.title('Densenet121 training curves')\n",
        "plt.show()"
      ],
      "execution_count": null,
      "outputs": [
        {
          "output_type": "stream",
          "name": "stdout",
          "text": [
            "Epoch 1/60\n",
            "25/25 [==============================] - 35s 702ms/step - loss: 1.3662 - accuracy: 0.6700 - val_loss: 0.9940 - val_accuracy: 0.4350\n",
            "Epoch 2/60\n",
            "25/25 [==============================] - 18s 603ms/step - loss: 0.9044 - accuracy: 0.7812 - val_loss: 0.7857 - val_accuracy: 0.7050\n",
            "Epoch 3/60\n",
            "25/25 [==============================] - 18s 602ms/step - loss: 0.7179 - accuracy: 0.8537 - val_loss: 0.6644 - val_accuracy: 0.8000\n",
            "Epoch 4/60\n",
            "25/25 [==============================] - 18s 606ms/step - loss: 0.5951 - accuracy: 0.8850 - val_loss: 0.5649 - val_accuracy: 0.8400\n",
            "Epoch 5/60\n",
            "25/25 [==============================] - 18s 604ms/step - loss: 0.4955 - accuracy: 0.8913 - val_loss: 0.5192 - val_accuracy: 0.8450\n",
            "Epoch 6/60\n",
            "25/25 [==============================] - 18s 602ms/step - loss: 0.4273 - accuracy: 0.9038 - val_loss: 0.4796 - val_accuracy: 0.8400\n",
            "Epoch 7/60\n",
            "25/25 [==============================] - 17s 538ms/step - loss: 0.3998 - accuracy: 0.9038 - val_loss: 0.4550 - val_accuracy: 0.8400\n",
            "Epoch 8/60\n",
            "25/25 [==============================] - 18s 607ms/step - loss: 0.3469 - accuracy: 0.9237 - val_loss: 0.4369 - val_accuracy: 0.8450\n",
            "Epoch 9/60\n",
            "25/25 [==============================] - 17s 540ms/step - loss: 0.2992 - accuracy: 0.9350 - val_loss: 0.4134 - val_accuracy: 0.8700\n",
            "Epoch 10/60\n",
            "25/25 [==============================] - 18s 604ms/step - loss: 0.2637 - accuracy: 0.9375 - val_loss: 0.4126 - val_accuracy: 0.8450\n",
            "Epoch 11/60\n",
            "25/25 [==============================] - 18s 603ms/step - loss: 0.2395 - accuracy: 0.9563 - val_loss: 0.3926 - val_accuracy: 0.8650\n",
            "Epoch 12/60\n",
            "25/25 [==============================] - 17s 545ms/step - loss: 0.2190 - accuracy: 0.9625 - val_loss: 0.3801 - val_accuracy: 0.8650\n",
            "Epoch 13/60\n",
            "25/25 [==============================] - 18s 604ms/step - loss: 0.1873 - accuracy: 0.9650 - val_loss: 0.3800 - val_accuracy: 0.8700\n",
            "Epoch 14/60\n",
            "25/25 [==============================] - 17s 531ms/step - loss: 0.1593 - accuracy: 0.9750 - val_loss: 0.3784 - val_accuracy: 0.8600\n",
            "Epoch 15/60\n",
            "25/25 [==============================] - 18s 605ms/step - loss: 0.1478 - accuracy: 0.9725 - val_loss: 0.3773 - val_accuracy: 0.8600\n",
            "Epoch 16/60\n",
            "25/25 [==============================] - 17s 537ms/step - loss: 0.1383 - accuracy: 0.9762 - val_loss: 0.3842 - val_accuracy: 0.8600\n",
            "Epoch 17/60\n",
            "25/25 [==============================] - 17s 537ms/step - loss: 0.1225 - accuracy: 0.9862 - val_loss: 0.3818 - val_accuracy: 0.8600\n",
            "Epoch 18/60\n",
            "25/25 [==============================] - 17s 542ms/step - loss: 0.1077 - accuracy: 0.9850 - val_loss: 0.3967 - val_accuracy: 0.8650\n",
            "Epoch 19/60\n",
            "25/25 [==============================] - 17s 543ms/step - loss: 0.1086 - accuracy: 0.9875 - val_loss: 0.3733 - val_accuracy: 0.8600\n",
            "Epoch 20/60\n",
            "25/25 [==============================] - 17s 540ms/step - loss: 0.0980 - accuracy: 0.9837 - val_loss: 0.3984 - val_accuracy: 0.8600\n",
            "Epoch 21/60\n",
            "25/25 [==============================] - 18s 604ms/step - loss: 0.0751 - accuracy: 0.9912 - val_loss: 0.4041 - val_accuracy: 0.8600\n",
            "Epoch 22/60\n",
            "25/25 [==============================] - 18s 601ms/step - loss: 0.0718 - accuracy: 0.9900 - val_loss: 0.4027 - val_accuracy: 0.8600\n",
            "Epoch 23/60\n",
            "25/25 [==============================] - 18s 602ms/step - loss: 0.0681 - accuracy: 0.9900 - val_loss: 0.4085 - val_accuracy: 0.8600\n",
            "Epoch 24/60\n",
            "25/25 [==============================] - 17s 533ms/step - loss: 0.0622 - accuracy: 0.9937 - val_loss: 0.4159 - val_accuracy: 0.8650\n",
            "Epoch 25/60\n",
            "25/25 [==============================] - 18s 605ms/step - loss: 0.0505 - accuracy: 0.9950 - val_loss: 0.4174 - val_accuracy: 0.8700\n",
            "Epoch 26/60\n",
            "25/25 [==============================] - 16s 528ms/step - loss: 0.0494 - accuracy: 0.9912 - val_loss: 0.4163 - val_accuracy: 0.8700\n",
            "Epoch 27/60\n",
            "25/25 [==============================] - 17s 537ms/step - loss: 0.0622 - accuracy: 0.9937 - val_loss: 0.4184 - val_accuracy: 0.8700\n",
            "Epoch 28/60\n",
            "25/25 [==============================] - 18s 598ms/step - loss: 0.0467 - accuracy: 0.9962 - val_loss: 0.4220 - val_accuracy: 0.8700\n",
            "Epoch 29/60\n",
            "25/25 [==============================] - 18s 602ms/step - loss: 0.0455 - accuracy: 0.9962 - val_loss: 0.4189 - val_accuracy: 0.8700\n",
            "Epoch 30/60\n",
            "25/25 [==============================] - 18s 601ms/step - loss: 0.0509 - accuracy: 0.9962 - val_loss: 0.4175 - val_accuracy: 0.8700\n",
            "Epoch 31/60\n",
            "25/25 [==============================] - 17s 536ms/step - loss: 0.0455 - accuracy: 0.9950 - val_loss: 0.4165 - val_accuracy: 0.8700\n",
            "Epoch 32/60\n",
            "25/25 [==============================] - 19s 608ms/step - loss: 0.0459 - accuracy: 0.9962 - val_loss: 0.4159 - val_accuracy: 0.8700\n",
            "Epoch 33/60\n",
            "25/25 [==============================] - 17s 539ms/step - loss: 0.0516 - accuracy: 0.9937 - val_loss: 0.4154 - val_accuracy: 0.8700\n",
            "Epoch 34/60\n",
            "25/25 [==============================] - 17s 541ms/step - loss: 0.0425 - accuracy: 0.9950 - val_loss: 0.4145 - val_accuracy: 0.8700\n",
            "Epoch 35/60\n",
            "25/25 [==============================] - 18s 604ms/step - loss: 0.0438 - accuracy: 0.9950 - val_loss: 0.4135 - val_accuracy: 0.8700\n",
            "Epoch 36/60\n",
            "25/25 [==============================] - 17s 544ms/step - loss: 0.0488 - accuracy: 0.9950 - val_loss: 0.4125 - val_accuracy: 0.8700\n",
            "Epoch 37/60\n",
            "25/25 [==============================] - 18s 608ms/step - loss: 0.0471 - accuracy: 0.9937 - val_loss: 0.4116 - val_accuracy: 0.8700\n",
            "Epoch 38/60\n",
            "25/25 [==============================] - 17s 542ms/step - loss: 0.0429 - accuracy: 0.9975 - val_loss: 0.4106 - val_accuracy: 0.8700\n",
            "Epoch 39/60\n",
            "25/25 [==============================] - 17s 547ms/step - loss: 0.0540 - accuracy: 0.9937 - val_loss: 0.4096 - val_accuracy: 0.8700\n",
            "Epoch 40/60\n",
            "25/25 [==============================] - 18s 608ms/step - loss: 0.0640 - accuracy: 0.9900 - val_loss: 0.4086 - val_accuracy: 0.8650\n",
            "Epoch 41/60\n",
            "25/25 [==============================] - 17s 545ms/step - loss: 0.0427 - accuracy: 0.9987 - val_loss: 0.4076 - val_accuracy: 0.8650\n",
            "Epoch 42/60\n",
            "25/25 [==============================] - 17s 544ms/step - loss: 0.0544 - accuracy: 0.9925 - val_loss: 0.4066 - val_accuracy: 0.8650\n",
            "Epoch 43/60\n",
            "25/25 [==============================] - 17s 544ms/step - loss: 0.0497 - accuracy: 0.9962 - val_loss: 0.4056 - val_accuracy: 0.8650\n",
            "Epoch 44/60\n",
            "25/25 [==============================] - 18s 603ms/step - loss: 0.0508 - accuracy: 0.9962 - val_loss: 0.4047 - val_accuracy: 0.8650\n",
            "Epoch 45/60\n",
            "25/25 [==============================] - 18s 603ms/step - loss: 0.0468 - accuracy: 0.9950 - val_loss: 0.4037 - val_accuracy: 0.8650\n",
            "Epoch 46/60\n",
            "25/25 [==============================] - 18s 602ms/step - loss: 0.0480 - accuracy: 0.9975 - val_loss: 0.4027 - val_accuracy: 0.8650\n",
            "Epoch 47/60\n",
            "25/25 [==============================] - 18s 602ms/step - loss: 0.0538 - accuracy: 0.9950 - val_loss: 0.4017 - val_accuracy: 0.8650\n",
            "Epoch 48/60\n",
            "25/25 [==============================] - 18s 605ms/step - loss: 0.0513 - accuracy: 0.9937 - val_loss: 0.4007 - val_accuracy: 0.8650\n",
            "Epoch 49/60\n",
            "25/25 [==============================] - 17s 540ms/step - loss: 0.0489 - accuracy: 0.9950 - val_loss: 0.3997 - val_accuracy: 0.8650\n",
            "Epoch 50/60\n",
            "25/25 [==============================] - 18s 607ms/step - loss: 0.0447 - accuracy: 0.9975 - val_loss: 0.3987 - val_accuracy: 0.8650\n",
            "Epoch 51/60\n",
            "25/25 [==============================] - 19s 609ms/step - loss: 0.0476 - accuracy: 0.9975 - val_loss: 0.3977 - val_accuracy: 0.8650\n",
            "Epoch 52/60\n",
            "25/25 [==============================] - 17s 547ms/step - loss: 0.0505 - accuracy: 0.9950 - val_loss: 0.3968 - val_accuracy: 0.8650\n",
            "Epoch 53/60\n",
            "25/25 [==============================] - 17s 545ms/step - loss: 0.0488 - accuracy: 0.9962 - val_loss: 0.3958 - val_accuracy: 0.8650\n",
            "Epoch 54/60\n",
            "25/25 [==============================] - 17s 547ms/step - loss: 0.0468 - accuracy: 0.9937 - val_loss: 0.3948 - val_accuracy: 0.8650\n",
            "Epoch 55/60\n",
            "25/25 [==============================] - 17s 536ms/step - loss: 0.0549 - accuracy: 0.9950 - val_loss: 0.3938 - val_accuracy: 0.8650\n",
            "Epoch 56/60\n",
            "25/25 [==============================] - 18s 607ms/step - loss: 0.0468 - accuracy: 0.9937 - val_loss: 0.3929 - val_accuracy: 0.8700\n",
            "Epoch 57/60\n",
            "25/25 [==============================] - 17s 550ms/step - loss: 0.0504 - accuracy: 0.9962 - val_loss: 0.3919 - val_accuracy: 0.8700\n",
            "Epoch 58/60\n",
            "25/25 [==============================] - 17s 546ms/step - loss: 0.0459 - accuracy: 0.9962 - val_loss: 0.3909 - val_accuracy: 0.8750\n",
            "Epoch 59/60\n",
            "25/25 [==============================] - 17s 549ms/step - loss: 0.0443 - accuracy: 0.9975 - val_loss: 0.3899 - val_accuracy: 0.8750\n",
            "Epoch 60/60\n",
            "25/25 [==============================] - 17s 547ms/step - loss: 0.0545 - accuracy: 0.9950 - val_loss: 0.3890 - val_accuracy: 0.8750\n"
          ]
        },
        {
          "output_type": "display_data",
          "data": {
            "image/png": "[encoded data removed]",
            "text/plain": [
              "<Figure size 432x288 with 1 Axes>"
            ]
          },
          "metadata": {
            "needs_background": "light"
          }
        }
      ]
    },
    {
      "cell_type": "code",
      "metadata": {
        "colab": {
          "base_uri": "https://localhost:8080/",
          "height": 1000
        },
        "id": "v7oG1asv3LxL",
        "outputId": "9d9f32c7-ed6b-4b0d-ca4e-37360b8c2f87"
      },
      "source": [
        "models['base_model5'].fit(train_ds_scaled,validation_data=val_ds_scaled,epochs = 60, verbose = 1, workers = 3, class_weight = {0:1.13, 1:8.03, 2:1}, callbacks = [reduce_lr])\n",
        "plt.plot(models['base_model5'].history.history['accuracy'])\n",
        "plt.plot(models['base_model5'].history.history['val_accuracy'])\n",
        "plt.legend(['Train', 'Validation'])\n",
        "plt.title('Densenet121 training curves')\n",
        "plt.show()"
      ],
      "execution_count": null,
      "outputs": [
        {
          "output_type": "stream",
          "name": "stdout",
          "text": [
            "Epoch 1/60\n",
            "25/25 [==============================] - 40s 785ms/step - loss: 1.4982 - accuracy: 0.4762 - val_loss: 0.8718 - val_accuracy: 0.5150\n",
            "Epoch 2/60\n",
            "25/25 [==============================] - 17s 540ms/step - loss: 1.0813 - accuracy: 0.7638 - val_loss: 0.7897 - val_accuracy: 0.6600\n",
            "Epoch 3/60\n",
            "25/25 [==============================] - 18s 608ms/step - loss: 0.8006 - accuracy: 0.8338 - val_loss: 0.6874 - val_accuracy: 0.7500\n",
            "Epoch 4/60\n",
            "25/25 [==============================] - 18s 607ms/step - loss: 0.6096 - accuracy: 0.8525 - val_loss: 0.6201 - val_accuracy: 0.8200\n",
            "Epoch 5/60\n",
            "25/25 [==============================] - 18s 604ms/step - loss: 0.5172 - accuracy: 0.8750 - val_loss: 0.6028 - val_accuracy: 0.8100\n",
            "Epoch 6/60\n",
            "25/25 [==============================] - 19s 613ms/step - loss: 0.4280 - accuracy: 0.8825 - val_loss: 0.5617 - val_accuracy: 0.8450\n",
            "Epoch 7/60\n",
            "25/25 [==============================] - 17s 537ms/step - loss: 0.3674 - accuracy: 0.9162 - val_loss: 0.5669 - val_accuracy: 0.8350\n",
            "Epoch 8/60\n",
            "25/25 [==============================] - 17s 539ms/step - loss: 0.3075 - accuracy: 0.9225 - val_loss: 0.5540 - val_accuracy: 0.8400\n",
            "Epoch 9/60\n",
            "25/25 [==============================] - 17s 538ms/step - loss: 0.2747 - accuracy: 0.9438 - val_loss: 0.5740 - val_accuracy: 0.8300\n",
            "Epoch 10/60\n",
            "25/25 [==============================] - 17s 537ms/step - loss: 0.2382 - accuracy: 0.9513 - val_loss: 0.5736 - val_accuracy: 0.8050\n",
            "Epoch 11/60\n",
            "25/25 [==============================] - 17s 534ms/step - loss: 0.1952 - accuracy: 0.9475 - val_loss: 0.5762 - val_accuracy: 0.8200\n",
            "Epoch 12/60\n",
            "25/25 [==============================] - 17s 536ms/step - loss: 0.1763 - accuracy: 0.9625 - val_loss: 0.5943 - val_accuracy: 0.7950\n",
            "Epoch 13/60\n",
            "25/25 [==============================] - 18s 604ms/step - loss: 0.1447 - accuracy: 0.9737 - val_loss: 0.6036 - val_accuracy: 0.8050\n",
            "Epoch 14/60\n",
            "25/25 [==============================] - 17s 537ms/step - loss: 0.1309 - accuracy: 0.9675 - val_loss: 0.6018 - val_accuracy: 0.8000\n",
            "Epoch 15/60\n",
            "25/25 [==============================] - 17s 536ms/step - loss: 0.1215 - accuracy: 0.9775 - val_loss: 0.5986 - val_accuracy: 0.8050\n",
            "Epoch 16/60\n",
            "25/25 [==============================] - 18s 603ms/step - loss: 0.1183 - accuracy: 0.9812 - val_loss: 0.5966 - val_accuracy: 0.8100\n",
            "Epoch 17/60\n",
            "25/25 [==============================] - 18s 602ms/step - loss: 0.1264 - accuracy: 0.9787 - val_loss: 0.5978 - val_accuracy: 0.8050\n",
            "Epoch 18/60\n",
            "25/25 [==============================] - 17s 536ms/step - loss: 0.1333 - accuracy: 0.9800 - val_loss: 0.5975 - val_accuracy: 0.8150\n",
            "Epoch 19/60\n",
            "25/25 [==============================] - 17s 548ms/step - loss: 0.1323 - accuracy: 0.9688 - val_loss: 0.5973 - val_accuracy: 0.8200\n",
            "Epoch 20/60\n",
            "25/25 [==============================] - 17s 538ms/step - loss: 0.1256 - accuracy: 0.9688 - val_loss: 0.5970 - val_accuracy: 0.8250\n",
            "Epoch 21/60\n",
            "25/25 [==============================] - 17s 552ms/step - loss: 0.1162 - accuracy: 0.9775 - val_loss: 0.5966 - val_accuracy: 0.8300\n",
            "Epoch 22/60\n",
            "25/25 [==============================] - 19s 607ms/step - loss: 0.1123 - accuracy: 0.9825 - val_loss: 0.5961 - val_accuracy: 0.8300\n",
            "Epoch 23/60\n",
            "25/25 [==============================] - 19s 613ms/step - loss: 0.1199 - accuracy: 0.9775 - val_loss: 0.5959 - val_accuracy: 0.8250\n",
            "Epoch 24/60\n",
            "25/25 [==============================] - 17s 543ms/step - loss: 0.1143 - accuracy: 0.9812 - val_loss: 0.5955 - val_accuracy: 0.8200\n",
            "Epoch 25/60\n",
            "25/25 [==============================] - 17s 550ms/step - loss: 0.1190 - accuracy: 0.9812 - val_loss: 0.5951 - val_accuracy: 0.8150\n",
            "Epoch 26/60\n",
            "25/25 [==============================] - 18s 602ms/step - loss: 0.1208 - accuracy: 0.9762 - val_loss: 0.5945 - val_accuracy: 0.8150\n",
            "Epoch 27/60\n",
            "25/25 [==============================] - 17s 542ms/step - loss: 0.1151 - accuracy: 0.9812 - val_loss: 0.5937 - val_accuracy: 0.8200\n",
            "Epoch 28/60\n",
            "25/25 [==============================] - 17s 545ms/step - loss: 0.1221 - accuracy: 0.9775 - val_loss: 0.5928 - val_accuracy: 0.8200\n",
            "Epoch 29/60\n",
            "25/25 [==============================] - 17s 542ms/step - loss: 0.1191 - accuracy: 0.9775 - val_loss: 0.5918 - val_accuracy: 0.8200\n",
            "Epoch 30/60\n",
            "25/25 [==============================] - 17s 544ms/step - loss: 0.1543 - accuracy: 0.9600 - val_loss: 0.5906 - val_accuracy: 0.8150\n",
            "Epoch 31/60\n",
            "25/25 [==============================] - 19s 610ms/step - loss: 0.1163 - accuracy: 0.9812 - val_loss: 0.5892 - val_accuracy: 0.8150\n",
            "Epoch 32/60\n",
            "25/25 [==============================] - 17s 546ms/step - loss: 0.1153 - accuracy: 0.9787 - val_loss: 0.5877 - val_accuracy: 0.8150\n",
            "Epoch 33/60\n",
            "25/25 [==============================] - 19s 615ms/step - loss: 0.1170 - accuracy: 0.9775 - val_loss: 0.5861 - val_accuracy: 0.8150\n",
            "Epoch 34/60\n",
            "25/25 [==============================] - 17s 547ms/step - loss: 0.1254 - accuracy: 0.9750 - val_loss: 0.5843 - val_accuracy: 0.8150\n",
            "Epoch 35/60\n",
            "25/25 [==============================] - 17s 552ms/step - loss: 0.1074 - accuracy: 0.9750 - val_loss: 0.5825 - val_accuracy: 0.8150\n",
            "Epoch 36/60\n",
            "25/25 [==============================] - 17s 545ms/step - loss: 0.1184 - accuracy: 0.9800 - val_loss: 0.5805 - val_accuracy: 0.8150\n",
            "Epoch 37/60\n",
            "25/25 [==============================] - 19s 611ms/step - loss: 0.1181 - accuracy: 0.9750 - val_loss: 0.5785 - val_accuracy: 0.8150\n",
            "Epoch 38/60\n",
            "25/25 [==============================] - 19s 614ms/step - loss: 0.1125 - accuracy: 0.9850 - val_loss: 0.5764 - val_accuracy: 0.8150\n",
            "Epoch 39/60\n",
            "25/25 [==============================] - 17s 547ms/step - loss: 0.1177 - accuracy: 0.9812 - val_loss: 0.5741 - val_accuracy: 0.8150\n",
            "Epoch 40/60\n",
            "25/25 [==============================] - 17s 555ms/step - loss: 0.1170 - accuracy: 0.9750 - val_loss: 0.5718 - val_accuracy: 0.8150\n",
            "Epoch 41/60\n",
            "25/25 [==============================] - 17s 552ms/step - loss: 0.1132 - accuracy: 0.9787 - val_loss: 0.5694 - val_accuracy: 0.8150\n",
            "Epoch 42/60\n",
            "25/25 [==============================] - 17s 555ms/step - loss: 0.1173 - accuracy: 0.9812 - val_loss: 0.5669 - val_accuracy: 0.8150\n",
            "Epoch 43/60\n",
            "25/25 [==============================] - 17s 548ms/step - loss: 0.1042 - accuracy: 0.9812 - val_loss: 0.5644 - val_accuracy: 0.8200\n",
            "Epoch 44/60\n",
            "25/25 [==============================] - 17s 560ms/step - loss: 0.1158 - accuracy: 0.9837 - val_loss: 0.5618 - val_accuracy: 0.8200\n",
            "Epoch 45/60\n",
            "25/25 [==============================] - 17s 551ms/step - loss: 0.1190 - accuracy: 0.9800 - val_loss: 0.5592 - val_accuracy: 0.8300\n",
            "Epoch 46/60\n",
            "25/25 [==============================] - 19s 616ms/step - loss: 0.1082 - accuracy: 0.9800 - val_loss: 0.5565 - val_accuracy: 0.8350\n",
            "Epoch 47/60\n",
            "25/25 [==============================] - 19s 609ms/step - loss: 0.1183 - accuracy: 0.9800 - val_loss: 0.5537 - val_accuracy: 0.8350\n",
            "Epoch 48/60\n",
            "25/25 [==============================] - 19s 611ms/step - loss: 0.1113 - accuracy: 0.9787 - val_loss: 0.5509 - val_accuracy: 0.8350\n",
            "Epoch 49/60\n",
            "25/25 [==============================] - 19s 613ms/step - loss: 0.1258 - accuracy: 0.9737 - val_loss: 0.5481 - val_accuracy: 0.8350\n",
            "Epoch 50/60\n",
            "25/25 [==============================] - 19s 614ms/step - loss: 0.1216 - accuracy: 0.9762 - val_loss: 0.5451 - val_accuracy: 0.8350\n",
            "Epoch 51/60\n",
            "25/25 [==============================] - 17s 546ms/step - loss: 0.1173 - accuracy: 0.9750 - val_loss: 0.5422 - val_accuracy: 0.8350\n",
            "Epoch 52/60\n",
            "25/25 [==============================] - 17s 542ms/step - loss: 0.1039 - accuracy: 0.9825 - val_loss: 0.5392 - val_accuracy: 0.8350\n",
            "Epoch 53/60\n",
            "25/25 [==============================] - 17s 556ms/step - loss: 0.1249 - accuracy: 0.9775 - val_loss: 0.5362 - val_accuracy: 0.8350\n",
            "Epoch 54/60\n",
            "25/25 [==============================] - 19s 609ms/step - loss: 0.1115 - accuracy: 0.9850 - val_loss: 0.5331 - val_accuracy: 0.8400\n",
            "Epoch 55/60\n",
            "25/25 [==============================] - 17s 544ms/step - loss: 0.1143 - accuracy: 0.9762 - val_loss: 0.5300 - val_accuracy: 0.8400\n",
            "Epoch 56/60\n",
            "25/25 [==============================] - 17s 543ms/step - loss: 0.1146 - accuracy: 0.9837 - val_loss: 0.5269 - val_accuracy: 0.8500\n",
            "Epoch 57/60\n",
            "25/25 [==============================] - 17s 546ms/step - loss: 0.1177 - accuracy: 0.9800 - val_loss: 0.5237 - val_accuracy: 0.8450\n",
            "Epoch 58/60\n",
            "25/25 [==============================] - 19s 609ms/step - loss: 0.1119 - accuracy: 0.9800 - val_loss: 0.5206 - val_accuracy: 0.8450\n",
            "Epoch 59/60\n",
            "25/25 [==============================] - 17s 550ms/step - loss: 0.1011 - accuracy: 0.9800 - val_loss: 0.5174 - val_accuracy: 0.8500\n",
            "Epoch 60/60\n",
            "25/25 [==============================] - 17s 552ms/step - loss: 0.1221 - accuracy: 0.9762 - val_loss: 0.5141 - val_accuracy: 0.8500\n"
          ]
        },
        {
          "output_type": "display_data",
          "data": {
            "image/png": "[encoded data removed]",
            "text/plain": [
              "<Figure size 432x288 with 1 Axes>"
            ]
          },
          "metadata": {
            "needs_background": "light"
          }
        }
      ]
    },
    {
      "cell_type": "code",
      "metadata": {
        "colab": {
          "base_uri": "https://localhost:8080/",
          "height": 1000
        },
        "id": "6CWGYXcw3L0V",
        "outputId": "f30ec5fa-f773-44ee-f52d-3180ac895ac3"
      },
      "source": [
        "models['base_model6'].fit(train_ds_scaled,validation_data=val_ds_scaled,epochs = 60, verbose = 1, workers = 3, class_weight = {0:1.13, 1:8.03, 2:1}, callbacks = [reduce_lr])\n",
        "plt.plot(models['base_model6'].history.history['accuracy'])\n",
        "plt.plot(models['base_model6'].history.history['val_accuracy'])\n",
        "plt.legend(['Train', 'Validation'])\n",
        "plt.title('Densenet121 training curves')\n",
        "plt.show()"
      ],
      "execution_count": null,
      "outputs": [
        {
          "output_type": "stream",
          "name": "stdout",
          "text": [
            "Epoch 1/60\n",
            "25/25 [==============================] - 37s 727ms/step - loss: 1.3932 - accuracy: 0.5537 - val_loss: 1.0088 - val_accuracy: 0.4750\n",
            "Epoch 2/60\n",
            "25/25 [==============================] - 19s 608ms/step - loss: 1.0306 - accuracy: 0.7663 - val_loss: 0.8573 - val_accuracy: 0.5550\n",
            "Epoch 3/60\n",
            "25/25 [==============================] - 17s 554ms/step - loss: 0.8023 - accuracy: 0.8225 - val_loss: 0.7364 - val_accuracy: 0.6700\n",
            "Epoch 4/60\n",
            "25/25 [==============================] - 17s 553ms/step - loss: 0.6296 - accuracy: 0.8425 - val_loss: 0.6752 - val_accuracy: 0.7550\n",
            "Epoch 5/60\n",
            "25/25 [==============================] - 17s 551ms/step - loss: 0.5253 - accuracy: 0.8900 - val_loss: 0.6395 - val_accuracy: 0.8250\n",
            "Epoch 6/60\n",
            "25/25 [==============================] - 19s 610ms/step - loss: 0.4800 - accuracy: 0.8763 - val_loss: 0.6278 - val_accuracy: 0.8250\n",
            "Epoch 7/60\n",
            "25/25 [==============================] - 17s 549ms/step - loss: 0.4095 - accuracy: 0.9137 - val_loss: 0.6206 - val_accuracy: 0.8450\n",
            "Epoch 8/60\n",
            "25/25 [==============================] - 17s 550ms/step - loss: 0.3305 - accuracy: 0.9212 - val_loss: 0.6142 - val_accuracy: 0.8500\n",
            "Epoch 9/60\n",
            "25/25 [==============================] - 19s 611ms/step - loss: 0.2969 - accuracy: 0.9400 - val_loss: 0.6122 - val_accuracy: 0.8400\n",
            "Epoch 10/60\n",
            "25/25 [==============================] - 19s 609ms/step - loss: 0.2592 - accuracy: 0.9413 - val_loss: 0.6285 - val_accuracy: 0.8500\n",
            "Epoch 11/60\n",
            "25/25 [==============================] - 19s 610ms/step - loss: 0.2181 - accuracy: 0.9500 - val_loss: 0.6380 - val_accuracy: 0.8300\n",
            "Epoch 12/60\n",
            "25/25 [==============================] - 17s 547ms/step - loss: 0.2144 - accuracy: 0.9563 - val_loss: 0.6565 - val_accuracy: 0.8050\n",
            "Epoch 13/60\n",
            "25/25 [==============================] - 17s 549ms/step - loss: 0.1692 - accuracy: 0.9638 - val_loss: 0.6498 - val_accuracy: 0.8050\n",
            "Epoch 14/60\n",
            "25/25 [==============================] - 19s 613ms/step - loss: 0.1767 - accuracy: 0.9638 - val_loss: 0.6751 - val_accuracy: 0.8050\n",
            "Epoch 15/60\n",
            "25/25 [==============================] - 17s 549ms/step - loss: 0.1503 - accuracy: 0.9638 - val_loss: 0.6723 - val_accuracy: 0.8000\n",
            "Epoch 16/60\n",
            "25/25 [==============================] - 19s 608ms/step - loss: 0.1243 - accuracy: 0.9800 - val_loss: 0.6674 - val_accuracy: 0.8000\n",
            "Epoch 17/60\n",
            "25/25 [==============================] - 19s 611ms/step - loss: 0.1270 - accuracy: 0.9787 - val_loss: 0.6650 - val_accuracy: 0.8000\n",
            "Epoch 18/60\n",
            "25/25 [==============================] - 19s 611ms/step - loss: 0.1184 - accuracy: 0.9850 - val_loss: 0.6617 - val_accuracy: 0.8000\n",
            "Epoch 19/60\n",
            "25/25 [==============================] - 19s 618ms/step - loss: 0.1320 - accuracy: 0.9725 - val_loss: 0.6596 - val_accuracy: 0.8050\n",
            "Epoch 20/60\n",
            "25/25 [==============================] - 17s 553ms/step - loss: 0.1210 - accuracy: 0.9812 - val_loss: 0.6574 - val_accuracy: 0.8100\n",
            "Epoch 21/60\n",
            "25/25 [==============================] - 19s 611ms/step - loss: 0.1109 - accuracy: 0.9812 - val_loss: 0.6549 - val_accuracy: 0.8100\n",
            "Epoch 22/60\n",
            "25/25 [==============================] - 19s 614ms/step - loss: 0.1235 - accuracy: 0.9850 - val_loss: 0.6519 - val_accuracy: 0.8200\n",
            "Epoch 23/60\n",
            "25/25 [==============================] - 19s 610ms/step - loss: 0.1210 - accuracy: 0.9837 - val_loss: 0.6487 - val_accuracy: 0.8250\n",
            "Epoch 24/60\n",
            "25/25 [==============================] - 17s 548ms/step - loss: 0.1193 - accuracy: 0.9862 - val_loss: 0.6454 - val_accuracy: 0.8150\n",
            "Epoch 25/60\n",
            "25/25 [==============================] - 17s 549ms/step - loss: 0.1235 - accuracy: 0.9725 - val_loss: 0.6420 - val_accuracy: 0.8150\n",
            "Epoch 26/60\n",
            "25/25 [==============================] - 17s 553ms/step - loss: 0.1197 - accuracy: 0.9787 - val_loss: 0.6384 - val_accuracy: 0.8150\n",
            "Epoch 27/60\n",
            "25/25 [==============================] - 17s 550ms/step - loss: 0.1250 - accuracy: 0.9775 - val_loss: 0.6347 - val_accuracy: 0.8150\n",
            "Epoch 28/60\n",
            "25/25 [==============================] - 17s 552ms/step - loss: 0.1200 - accuracy: 0.9837 - val_loss: 0.6308 - val_accuracy: 0.8150\n",
            "Epoch 29/60\n",
            "25/25 [==============================] - 19s 609ms/step - loss: 0.1238 - accuracy: 0.9775 - val_loss: 0.6268 - val_accuracy: 0.8200\n",
            "Epoch 30/60\n",
            "25/25 [==============================] - 17s 550ms/step - loss: 0.1199 - accuracy: 0.9787 - val_loss: 0.6226 - val_accuracy: 0.8250\n",
            "Epoch 31/60\n",
            "25/25 [==============================] - 17s 556ms/step - loss: 0.1250 - accuracy: 0.9737 - val_loss: 0.6183 - val_accuracy: 0.8300\n",
            "Epoch 32/60\n",
            "25/25 [==============================] - 17s 548ms/step - loss: 0.1301 - accuracy: 0.9725 - val_loss: 0.6139 - val_accuracy: 0.8350\n",
            "Epoch 33/60\n",
            "25/25 [==============================] - 19s 613ms/step - loss: 0.1237 - accuracy: 0.9812 - val_loss: 0.6094 - val_accuracy: 0.8400\n",
            "Epoch 34/60\n",
            "25/25 [==============================] - 17s 548ms/step - loss: 0.1325 - accuracy: 0.9725 - val_loss: 0.6048 - val_accuracy: 0.8500\n",
            "Epoch 35/60\n",
            "25/25 [==============================] - 17s 550ms/step - loss: 0.1102 - accuracy: 0.9800 - val_loss: 0.6002 - val_accuracy: 0.8500\n",
            "Epoch 36/60\n",
            "25/25 [==============================] - 17s 551ms/step - loss: 0.1188 - accuracy: 0.9787 - val_loss: 0.5955 - val_accuracy: 0.8500\n",
            "Epoch 37/60\n",
            "25/25 [==============================] - 17s 555ms/step - loss: 0.1124 - accuracy: 0.9787 - val_loss: 0.5907 - val_accuracy: 0.8500\n",
            "Epoch 38/60\n",
            "25/25 [==============================] - 17s 550ms/step - loss: 0.1212 - accuracy: 0.9837 - val_loss: 0.5859 - val_accuracy: 0.8450\n",
            "Epoch 39/60\n",
            "25/25 [==============================] - 17s 552ms/step - loss: 0.1280 - accuracy: 0.9825 - val_loss: 0.5810 - val_accuracy: 0.8500\n",
            "Epoch 40/60\n",
            "25/25 [==============================] - 17s 548ms/step - loss: 0.1141 - accuracy: 0.9725 - val_loss: 0.5761 - val_accuracy: 0.8500\n",
            "Epoch 41/60\n",
            "25/25 [==============================] - 17s 548ms/step - loss: 0.1205 - accuracy: 0.9775 - val_loss: 0.5712 - val_accuracy: 0.8500\n",
            "Epoch 42/60\n",
            "25/25 [==============================] - 17s 556ms/step - loss: 0.1139 - accuracy: 0.9850 - val_loss: 0.5663 - val_accuracy: 0.8500\n",
            "Epoch 43/60\n",
            "25/25 [==============================] - 17s 550ms/step - loss: 0.1188 - accuracy: 0.9850 - val_loss: 0.5613 - val_accuracy: 0.8500\n",
            "Epoch 44/60\n",
            "25/25 [==============================] - 17s 552ms/step - loss: 0.1271 - accuracy: 0.9837 - val_loss: 0.5563 - val_accuracy: 0.8500\n",
            "Epoch 45/60\n",
            "25/25 [==============================] - 19s 619ms/step - loss: 0.1302 - accuracy: 0.9750 - val_loss: 0.5513 - val_accuracy: 0.8550\n",
            "Epoch 46/60\n",
            "25/25 [==============================] - 19s 614ms/step - loss: 0.1221 - accuracy: 0.9800 - val_loss: 0.5464 - val_accuracy: 0.8550\n",
            "Epoch 47/60\n",
            "25/25 [==============================] - 17s 546ms/step - loss: 0.1090 - accuracy: 0.9825 - val_loss: 0.5414 - val_accuracy: 0.8550\n",
            "Epoch 48/60\n",
            "25/25 [==============================] - 17s 544ms/step - loss: 0.1366 - accuracy: 0.9712 - val_loss: 0.5365 - val_accuracy: 0.8550\n",
            "Epoch 49/60\n",
            "25/25 [==============================] - 17s 549ms/step - loss: 0.1145 - accuracy: 0.9787 - val_loss: 0.5316 - val_accuracy: 0.8550\n",
            "Epoch 50/60\n",
            "25/25 [==============================] - 19s 611ms/step - loss: 0.1246 - accuracy: 0.9800 - val_loss: 0.5267 - val_accuracy: 0.8600\n",
            "Epoch 51/60\n",
            "25/25 [==============================] - 19s 614ms/step - loss: 0.1301 - accuracy: 0.9737 - val_loss: 0.5219 - val_accuracy: 0.8600\n",
            "Epoch 52/60\n",
            "25/25 [==============================] - 19s 614ms/step - loss: 0.1127 - accuracy: 0.9850 - val_loss: 0.5171 - val_accuracy: 0.8650\n",
            "Epoch 53/60\n",
            "25/25 [==============================] - 17s 558ms/step - loss: 0.1221 - accuracy: 0.9787 - val_loss: 0.5123 - val_accuracy: 0.8700\n",
            "Epoch 54/60\n",
            "25/25 [==============================] - 17s 555ms/step - loss: 0.1208 - accuracy: 0.9825 - val_loss: 0.5076 - val_accuracy: 0.8700\n",
            "Epoch 55/60\n",
            "25/25 [==============================] - 17s 548ms/step - loss: 0.1327 - accuracy: 0.9762 - val_loss: 0.5030 - val_accuracy: 0.8700\n",
            "Epoch 56/60\n",
            "25/25 [==============================] - 19s 616ms/step - loss: 0.1198 - accuracy: 0.9800 - val_loss: 0.4984 - val_accuracy: 0.8750\n",
            "Epoch 57/60\n",
            "25/25 [==============================] - 17s 550ms/step - loss: 0.1227 - accuracy: 0.9762 - val_loss: 0.4938 - val_accuracy: 0.8750\n",
            "Epoch 58/60\n",
            "25/25 [==============================] - 17s 559ms/step - loss: 0.1293 - accuracy: 0.9725 - val_loss: 0.4893 - val_accuracy: 0.8750\n",
            "Epoch 59/60\n",
            "25/25 [==============================] - 19s 615ms/step - loss: 0.1240 - accuracy: 0.9800 - val_loss: 0.4848 - val_accuracy: 0.8750\n",
            "Epoch 60/60\n",
            "25/25 [==============================] - 17s 554ms/step - loss: 0.1221 - accuracy: 0.9825 - val_loss: 0.4804 - val_accuracy: 0.8800\n"
          ]
        },
        {
          "output_type": "display_data",
          "data": {
            "image/png": "[encoded data removed]",
            "text/plain": [
              "<Figure size 432x288 with 1 Axes>"
            ]
          },
          "metadata": {
            "needs_background": "light"
          }
        }
      ]
    },
    {
      "cell_type": "code",
      "metadata": {
        "colab": {
          "base_uri": "https://localhost:8080/",
          "height": 1000
        },
        "id": "hwJGpwlF3PSI",
        "outputId": "78f4127a-e154-451f-c44a-63fb3da1e4fb"
      },
      "source": [
        "models['base_model7'].fit(train_ds_scaled,validation_data=val_ds_scaled,epochs = 60, verbose = 1, workers = 3, class_weight = {0:1.13, 1:8.03, 2:1}, callbacks = [reduce_lr])\n",
        "plt.plot(models['base_model7'].history.history['accuracy'])\n",
        "plt.plot(models['base_model7'].history.history['val_accuracy'])\n",
        "plt.legend(['Train', 'Validation'])\n",
        "plt.title('Densenet121 training curves')\n",
        "plt.show()"
      ],
      "execution_count": null,
      "outputs": [
        {
          "output_type": "stream",
          "name": "stdout",
          "text": [
            "Epoch 1/60\n",
            "25/25 [==============================] - 37s 732ms/step - loss: 1.3557 - accuracy: 0.4900 - val_loss: 1.1581 - val_accuracy: 0.2500\n",
            "Epoch 2/60\n",
            "25/25 [==============================] - 17s 558ms/step - loss: 0.9450 - accuracy: 0.7663 - val_loss: 1.0104 - val_accuracy: 0.5100\n",
            "Epoch 3/60\n",
            "25/25 [==============================] - 19s 615ms/step - loss: 0.7060 - accuracy: 0.8625 - val_loss: 0.8533 - val_accuracy: 0.6000\n",
            "Epoch 4/60\n",
            "25/25 [==============================] - 19s 615ms/step - loss: 0.5645 - accuracy: 0.8712 - val_loss: 0.7919 - val_accuracy: 0.6350\n",
            "Epoch 5/60\n",
            "25/25 [==============================] - 19s 620ms/step - loss: 0.4796 - accuracy: 0.8838 - val_loss: 0.7592 - val_accuracy: 0.6700\n",
            "Epoch 6/60\n",
            "25/25 [==============================] - 19s 620ms/step - loss: 0.4010 - accuracy: 0.9038 - val_loss: 0.7275 - val_accuracy: 0.6700\n",
            "Epoch 7/60\n",
            "25/25 [==============================] - 19s 614ms/step - loss: 0.3149 - accuracy: 0.9300 - val_loss: 0.6903 - val_accuracy: 0.6950\n",
            "Epoch 8/60\n",
            "25/25 [==============================] - 19s 619ms/step - loss: 0.2937 - accuracy: 0.9275 - val_loss: 0.6791 - val_accuracy: 0.6900\n",
            "Epoch 9/60\n",
            "25/25 [==============================] - 17s 554ms/step - loss: 0.2164 - accuracy: 0.9513 - val_loss: 0.6201 - val_accuracy: 0.7400\n",
            "Epoch 10/60\n",
            "25/25 [==============================] - 19s 613ms/step - loss: 0.1794 - accuracy: 0.9712 - val_loss: 0.6297 - val_accuracy: 0.7600\n",
            "Epoch 11/60\n",
            "25/25 [==============================] - 19s 614ms/step - loss: 0.1708 - accuracy: 0.9650 - val_loss: 0.6085 - val_accuracy: 0.7750\n",
            "Epoch 12/60\n",
            "25/25 [==============================] - 19s 610ms/step - loss: 0.1249 - accuracy: 0.9750 - val_loss: 0.6130 - val_accuracy: 0.7650\n",
            "Epoch 13/60\n",
            "25/25 [==============================] - 19s 615ms/step - loss: 0.1130 - accuracy: 0.9825 - val_loss: 0.6269 - val_accuracy: 0.7550\n",
            "Epoch 14/60\n",
            "25/25 [==============================] - 17s 552ms/step - loss: 0.0981 - accuracy: 0.9812 - val_loss: 0.6424 - val_accuracy: 0.7550\n",
            "Epoch 15/60\n",
            "25/25 [==============================] - 19s 612ms/step - loss: 0.0756 - accuracy: 0.9837 - val_loss: 0.6140 - val_accuracy: 0.7750\n",
            "Epoch 16/60\n",
            "25/25 [==============================] - 17s 550ms/step - loss: 0.0604 - accuracy: 0.9850 - val_loss: 0.5756 - val_accuracy: 0.8150\n",
            "Epoch 17/60\n",
            "25/25 [==============================] - 19s 613ms/step - loss: 0.0527 - accuracy: 0.9962 - val_loss: 0.5692 - val_accuracy: 0.8100\n",
            "Epoch 18/60\n",
            "25/25 [==============================] - 17s 555ms/step - loss: 0.0388 - accuracy: 0.9975 - val_loss: 0.5772 - val_accuracy: 0.7900\n",
            "Epoch 19/60\n",
            "25/25 [==============================] - 17s 554ms/step - loss: 0.0346 - accuracy: 1.0000 - val_loss: 0.5881 - val_accuracy: 0.7900\n",
            "Epoch 20/60\n",
            "25/25 [==============================] - 17s 558ms/step - loss: 0.0278 - accuracy: 0.9950 - val_loss: 0.5809 - val_accuracy: 0.7850\n",
            "Epoch 21/60\n",
            "25/25 [==============================] - 17s 550ms/step - loss: 0.0184 - accuracy: 1.0000 - val_loss: 0.6171 - val_accuracy: 0.7600\n",
            "Epoch 22/60\n",
            "25/25 [==============================] - 19s 613ms/step - loss: 0.0210 - accuracy: 0.9975 - val_loss: 0.6016 - val_accuracy: 0.7750\n",
            "Epoch 23/60\n",
            "25/25 [==============================] - 17s 551ms/step - loss: 0.0191 - accuracy: 0.9987 - val_loss: 0.5999 - val_accuracy: 0.7750\n",
            "Epoch 24/60\n",
            "25/25 [==============================] - 19s 620ms/step - loss: 0.0199 - accuracy: 1.0000 - val_loss: 0.6052 - val_accuracy: 0.7700\n",
            "Epoch 25/60\n",
            "25/25 [==============================] - 17s 556ms/step - loss: 0.0209 - accuracy: 1.0000 - val_loss: 0.6026 - val_accuracy: 0.7700\n",
            "Epoch 26/60\n",
            "25/25 [==============================] - 17s 554ms/step - loss: 0.0156 - accuracy: 1.0000 - val_loss: 0.5970 - val_accuracy: 0.7750\n",
            "Epoch 27/60\n",
            "25/25 [==============================] - 17s 550ms/step - loss: 0.0150 - accuracy: 1.0000 - val_loss: 0.5883 - val_accuracy: 0.7800\n",
            "Epoch 28/60\n",
            "25/25 [==============================] - 19s 611ms/step - loss: 0.0187 - accuracy: 0.9975 - val_loss: 0.5861 - val_accuracy: 0.7800\n",
            "Epoch 29/60\n",
            "25/25 [==============================] - 19s 611ms/step - loss: 0.0157 - accuracy: 1.0000 - val_loss: 0.5846 - val_accuracy: 0.7750\n",
            "Epoch 30/60\n",
            "25/25 [==============================] - 17s 555ms/step - loss: 0.0156 - accuracy: 0.9987 - val_loss: 0.5828 - val_accuracy: 0.7700\n",
            "Epoch 31/60\n",
            "25/25 [==============================] - 17s 555ms/step - loss: 0.0160 - accuracy: 1.0000 - val_loss: 0.5816 - val_accuracy: 0.7750\n",
            "Epoch 32/60\n",
            "25/25 [==============================] - 19s 612ms/step - loss: 0.0142 - accuracy: 1.0000 - val_loss: 0.5810 - val_accuracy: 0.7750\n",
            "Epoch 33/60\n",
            "25/25 [==============================] - 17s 555ms/step - loss: 0.0160 - accuracy: 1.0000 - val_loss: 0.5802 - val_accuracy: 0.7750\n",
            "Epoch 34/60\n",
            "25/25 [==============================] - 19s 625ms/step - loss: 0.0219 - accuracy: 0.9987 - val_loss: 0.5795 - val_accuracy: 0.7750\n",
            "Epoch 35/60\n",
            "25/25 [==============================] - 19s 617ms/step - loss: 0.0126 - accuracy: 1.0000 - val_loss: 0.5789 - val_accuracy: 0.7750\n",
            "Epoch 36/60\n",
            "25/25 [==============================] - 19s 611ms/step - loss: 0.0232 - accuracy: 1.0000 - val_loss: 0.5785 - val_accuracy: 0.7750\n",
            "Epoch 37/60\n",
            "25/25 [==============================] - 19s 610ms/step - loss: 0.0219 - accuracy: 0.9987 - val_loss: 0.5782 - val_accuracy: 0.7750\n",
            "Epoch 38/60\n",
            "25/25 [==============================] - 19s 611ms/step - loss: 0.0176 - accuracy: 1.0000 - val_loss: 0.5778 - val_accuracy: 0.7750\n",
            "Epoch 39/60\n",
            "25/25 [==============================] - 19s 611ms/step - loss: 0.0155 - accuracy: 1.0000 - val_loss: 0.5775 - val_accuracy: 0.7700\n",
            "Epoch 40/60\n",
            "25/25 [==============================] - 19s 615ms/step - loss: 0.0135 - accuracy: 1.0000 - val_loss: 0.5773 - val_accuracy: 0.7700\n",
            "Epoch 41/60\n",
            "25/25 [==============================] - 17s 559ms/step - loss: 0.0195 - accuracy: 0.9987 - val_loss: 0.5771 - val_accuracy: 0.7750\n",
            "Epoch 42/60\n",
            "25/25 [==============================] - 17s 548ms/step - loss: 0.0168 - accuracy: 0.9987 - val_loss: 0.5770 - val_accuracy: 0.7750\n",
            "Epoch 43/60\n",
            "25/25 [==============================] - 19s 613ms/step - loss: 0.0180 - accuracy: 1.0000 - val_loss: 0.5769 - val_accuracy: 0.7750\n",
            "Epoch 44/60\n",
            "25/25 [==============================] - 19s 611ms/step - loss: 0.0196 - accuracy: 0.9987 - val_loss: 0.5767 - val_accuracy: 0.7750\n",
            "Epoch 45/60\n",
            "25/25 [==============================] - 17s 550ms/step - loss: 0.0163 - accuracy: 1.0000 - val_loss: 0.5766 - val_accuracy: 0.7750\n",
            "Epoch 46/60\n",
            "25/25 [==============================] - 17s 548ms/step - loss: 0.0201 - accuracy: 0.9975 - val_loss: 0.5765 - val_accuracy: 0.7700\n",
            "Epoch 47/60\n",
            "25/25 [==============================] - 17s 553ms/step - loss: 0.0184 - accuracy: 1.0000 - val_loss: 0.5763 - val_accuracy: 0.7700\n",
            "Epoch 48/60\n",
            "25/25 [==============================] - 19s 610ms/step - loss: 0.0179 - accuracy: 1.0000 - val_loss: 0.5762 - val_accuracy: 0.7700\n",
            "Epoch 49/60\n",
            "25/25 [==============================] - 19s 616ms/step - loss: 0.0190 - accuracy: 0.9987 - val_loss: 0.5761 - val_accuracy: 0.7700\n",
            "Epoch 50/60\n",
            "25/25 [==============================] - 17s 555ms/step - loss: 0.0154 - accuracy: 1.0000 - val_loss: 0.5759 - val_accuracy: 0.7750\n",
            "Epoch 51/60\n",
            "25/25 [==============================] - 19s 611ms/step - loss: 0.0147 - accuracy: 1.0000 - val_loss: 0.5759 - val_accuracy: 0.7700\n",
            "Epoch 52/60\n",
            "25/25 [==============================] - 19s 614ms/step - loss: 0.0166 - accuracy: 1.0000 - val_loss: 0.5757 - val_accuracy: 0.7700\n",
            "Epoch 53/60\n",
            "25/25 [==============================] - 19s 612ms/step - loss: 0.0179 - accuracy: 1.0000 - val_loss: 0.5756 - val_accuracy: 0.7700\n",
            "Epoch 54/60\n",
            "25/25 [==============================] - 19s 615ms/step - loss: 0.0135 - accuracy: 1.0000 - val_loss: 0.5754 - val_accuracy: 0.7800\n",
            "Epoch 55/60\n",
            "25/25 [==============================] - 17s 552ms/step - loss: 0.0182 - accuracy: 1.0000 - val_loss: 0.5752 - val_accuracy: 0.7800\n",
            "Epoch 56/60\n",
            "25/25 [==============================] - 19s 615ms/step - loss: 0.0219 - accuracy: 0.9962 - val_loss: 0.5750 - val_accuracy: 0.7800\n",
            "Epoch 57/60\n",
            "25/25 [==============================] - 19s 613ms/step - loss: 0.0177 - accuracy: 1.0000 - val_loss: 0.5747 - val_accuracy: 0.7800\n",
            "Epoch 58/60\n",
            "25/25 [==============================] - 19s 610ms/step - loss: 0.0166 - accuracy: 1.0000 - val_loss: 0.5744 - val_accuracy: 0.7800\n",
            "Epoch 59/60\n",
            "25/25 [==============================] - 17s 551ms/step - loss: 0.0181 - accuracy: 0.9975 - val_loss: 0.5741 - val_accuracy: 0.7800\n",
            "Epoch 60/60\n",
            "25/25 [==============================] - 17s 559ms/step - loss: 0.0227 - accuracy: 0.9962 - val_loss: 0.5736 - val_accuracy: 0.7800\n"
          ]
        },
        {
          "output_type": "display_data",
          "data": {
            "image/png": "[encoded data removed]",
            "text/plain": [
              "<Figure size 432x288 with 1 Axes>"
            ]
          },
          "metadata": {
            "needs_background": "light"
          }
        }
      ]
    },
    {
      "cell_type": "code",
      "metadata": {
        "colab": {
          "base_uri": "https://localhost:8080/",
          "height": 1000
        },
        "id": "Hrzxjff33PVc",
        "outputId": "b3610dad-9173-4425-d4a2-65c783b92d28"
      },
      "source": [
        "models['base_model8'].fit(train_ds_scaled,validation_data=val_ds_scaled,epochs = 60, verbose = 1, workers = 3, class_weight = {0:1.13, 1:8.03, 2:1}, callbacks = [reduce_lr])\n",
        "plt.plot(models['base_model8'].history.history['accuracy'])\n",
        "plt.plot(models['base_model8'].history.history['val_accuracy'])\n",
        "plt.legend(['Train', 'Validation'])\n",
        "plt.title('Densenet121 training curves')\n",
        "plt.show()"
      ],
      "execution_count": null,
      "outputs": [
        {
          "output_type": "stream",
          "name": "stdout",
          "text": [
            "Epoch 1/60\n",
            "25/25 [==============================] - 39s 729ms/step - loss: 1.3817 - accuracy: 0.5888 - val_loss: 1.3530 - val_accuracy: 0.4250\n",
            "Epoch 2/60\n",
            "25/25 [==============================] - 19s 618ms/step - loss: 0.9209 - accuracy: 0.7738 - val_loss: 1.1810 - val_accuracy: 0.5250\n",
            "Epoch 3/60\n",
            "25/25 [==============================] - 19s 615ms/step - loss: 0.6309 - accuracy: 0.8825 - val_loss: 1.0255 - val_accuracy: 0.5450\n",
            "Epoch 4/60\n",
            "25/25 [==============================] - 19s 618ms/step - loss: 0.4785 - accuracy: 0.9013 - val_loss: 0.9024 - val_accuracy: 0.5800\n",
            "Epoch 5/60\n",
            "25/25 [==============================] - 19s 626ms/step - loss: 0.3614 - accuracy: 0.9200 - val_loss: 0.8064 - val_accuracy: 0.6200\n",
            "Epoch 6/60\n",
            "25/25 [==============================] - 18s 562ms/step - loss: 0.3000 - accuracy: 0.9400 - val_loss: 0.7068 - val_accuracy: 0.6900\n",
            "Epoch 7/60\n",
            "25/25 [==============================] - 19s 622ms/step - loss: 0.2183 - accuracy: 0.9488 - val_loss: 0.6323 - val_accuracy: 0.7750\n",
            "Epoch 8/60\n",
            "25/25 [==============================] - 17s 559ms/step - loss: 0.1560 - accuracy: 0.9762 - val_loss: 0.5875 - val_accuracy: 0.7900\n",
            "Epoch 9/60\n",
            "25/25 [==============================] - 18s 562ms/step - loss: 0.1078 - accuracy: 0.9762 - val_loss: 0.5524 - val_accuracy: 0.8200\n",
            "Epoch 10/60\n",
            "25/25 [==============================] - 19s 623ms/step - loss: 0.1045 - accuracy: 0.9837 - val_loss: 0.5570 - val_accuracy: 0.8000\n",
            "Epoch 11/60\n",
            "25/25 [==============================] - 17s 559ms/step - loss: 0.0821 - accuracy: 0.9837 - val_loss: 0.5112 - val_accuracy: 0.8500\n",
            "Epoch 12/60\n",
            "25/25 [==============================] - 17s 561ms/step - loss: 0.0634 - accuracy: 0.9875 - val_loss: 0.4984 - val_accuracy: 0.8550\n",
            "Epoch 13/60\n",
            "25/25 [==============================] - 19s 629ms/step - loss: 0.0426 - accuracy: 0.9950 - val_loss: 0.4974 - val_accuracy: 0.8550\n",
            "Epoch 14/60\n",
            "25/25 [==============================] - 19s 620ms/step - loss: 0.0327 - accuracy: 1.0000 - val_loss: 0.4932 - val_accuracy: 0.8450\n",
            "Epoch 15/60\n",
            "25/25 [==============================] - 17s 559ms/step - loss: 0.0279 - accuracy: 0.9987 - val_loss: 0.4952 - val_accuracy: 0.8450\n",
            "Epoch 16/60\n",
            "25/25 [==============================] - 19s 619ms/step - loss: 0.0179 - accuracy: 1.0000 - val_loss: 0.4996 - val_accuracy: 0.8300\n",
            "Epoch 17/60\n",
            "25/25 [==============================] - 19s 617ms/step - loss: 0.0186 - accuracy: 1.0000 - val_loss: 0.5072 - val_accuracy: 0.8250\n",
            "Epoch 18/60\n",
            "25/25 [==============================] - 17s 552ms/step - loss: 0.0131 - accuracy: 1.0000 - val_loss: 0.4963 - val_accuracy: 0.8300\n",
            "Epoch 19/60\n",
            "25/25 [==============================] - 19s 608ms/step - loss: 0.0105 - accuracy: 1.0000 - val_loss: 0.4841 - val_accuracy: 0.8450\n",
            "Epoch 20/60\n",
            "25/25 [==============================] - 17s 546ms/step - loss: 0.0121 - accuracy: 1.0000 - val_loss: 0.4997 - val_accuracy: 0.8300\n",
            "Epoch 21/60\n",
            "25/25 [==============================] - 19s 612ms/step - loss: 0.0102 - accuracy: 1.0000 - val_loss: 0.4860 - val_accuracy: 0.8350\n",
            "Epoch 22/60\n",
            "25/25 [==============================] - 17s 548ms/step - loss: 0.0092 - accuracy: 1.0000 - val_loss: 0.4898 - val_accuracy: 0.8400\n",
            "Epoch 23/60\n",
            "25/25 [==============================] - 19s 611ms/step - loss: 0.0090 - accuracy: 1.0000 - val_loss: 0.4933 - val_accuracy: 0.8400\n",
            "Epoch 24/60\n",
            "25/25 [==============================] - 17s 539ms/step - loss: 0.0069 - accuracy: 1.0000 - val_loss: 0.4979 - val_accuracy: 0.8400\n",
            "Epoch 25/60\n",
            "25/25 [==============================] - 19s 610ms/step - loss: 0.0055 - accuracy: 1.0000 - val_loss: 0.4968 - val_accuracy: 0.8400\n",
            "Epoch 26/60\n",
            "25/25 [==============================] - 17s 539ms/step - loss: 0.0076 - accuracy: 1.0000 - val_loss: 0.4969 - val_accuracy: 0.8400\n",
            "Epoch 27/60\n",
            "25/25 [==============================] - 17s 544ms/step - loss: 0.0084 - accuracy: 1.0000 - val_loss: 0.4909 - val_accuracy: 0.8400\n",
            "Epoch 28/60\n",
            "25/25 [==============================] - 17s 542ms/step - loss: 0.0147 - accuracy: 0.9962 - val_loss: 0.4930 - val_accuracy: 0.8400\n",
            "Epoch 29/60\n",
            "25/25 [==============================] - 17s 536ms/step - loss: 0.0075 - accuracy: 1.0000 - val_loss: 0.5163 - val_accuracy: 0.8300\n",
            "Epoch 30/60\n",
            "25/25 [==============================] - 17s 537ms/step - loss: 0.0064 - accuracy: 1.0000 - val_loss: 0.5125 - val_accuracy: 0.8350\n",
            "Epoch 31/60\n",
            "25/25 [==============================] - 19s 608ms/step - loss: 0.0060 - accuracy: 1.0000 - val_loss: 0.5090 - val_accuracy: 0.8350\n",
            "Epoch 32/60\n",
            "25/25 [==============================] - 18s 604ms/step - loss: 0.0043 - accuracy: 1.0000 - val_loss: 0.5054 - val_accuracy: 0.8400\n",
            "Epoch 33/60\n",
            "25/25 [==============================] - 17s 550ms/step - loss: 0.0076 - accuracy: 1.0000 - val_loss: 0.5020 - val_accuracy: 0.8450\n",
            "Epoch 34/60\n",
            "25/25 [==============================] - 17s 536ms/step - loss: 0.0044 - accuracy: 1.0000 - val_loss: 0.4991 - val_accuracy: 0.8450\n",
            "Epoch 35/60\n",
            "25/25 [==============================] - 17s 552ms/step - loss: 0.0060 - accuracy: 1.0000 - val_loss: 0.4959 - val_accuracy: 0.8400\n",
            "Epoch 36/60\n",
            "25/25 [==============================] - 17s 530ms/step - loss: 0.0079 - accuracy: 1.0000 - val_loss: 0.4928 - val_accuracy: 0.8400\n",
            "Epoch 37/60\n",
            "25/25 [==============================] - 18s 603ms/step - loss: 0.0054 - accuracy: 1.0000 - val_loss: 0.4898 - val_accuracy: 0.8400\n",
            "Epoch 38/60\n",
            "25/25 [==============================] - 18s 599ms/step - loss: 0.0060 - accuracy: 1.0000 - val_loss: 0.4868 - val_accuracy: 0.8400\n",
            "Epoch 39/60\n",
            "25/25 [==============================] - 19s 624ms/step - loss: 0.0052 - accuracy: 1.0000 - val_loss: 0.4839 - val_accuracy: 0.8400\n",
            "Epoch 40/60\n",
            "25/25 [==============================] - 18s 568ms/step - loss: 0.0079 - accuracy: 0.9987 - val_loss: 0.4810 - val_accuracy: 0.8450\n",
            "Epoch 41/60\n",
            "25/25 [==============================] - 19s 613ms/step - loss: 0.0072 - accuracy: 1.0000 - val_loss: 0.4781 - val_accuracy: 0.8450\n",
            "Epoch 42/60\n",
            "25/25 [==============================] - 17s 555ms/step - loss: 0.0050 - accuracy: 1.0000 - val_loss: 0.4752 - val_accuracy: 0.8450\n",
            "Epoch 43/60\n",
            "25/25 [==============================] - 19s 607ms/step - loss: 0.0082 - accuracy: 1.0000 - val_loss: 0.4724 - val_accuracy: 0.8450\n",
            "Epoch 44/60\n",
            "25/25 [==============================] - 17s 545ms/step - loss: 0.0050 - accuracy: 1.0000 - val_loss: 0.4696 - val_accuracy: 0.8450\n",
            "Epoch 45/60\n",
            "25/25 [==============================] - 19s 608ms/step - loss: 0.0053 - accuracy: 1.0000 - val_loss: 0.4669 - val_accuracy: 0.8450\n",
            "Epoch 46/60\n",
            "25/25 [==============================] - 19s 621ms/step - loss: 0.0062 - accuracy: 1.0000 - val_loss: 0.4642 - val_accuracy: 0.8450\n",
            "Epoch 47/60\n",
            "25/25 [==============================] - 19s 616ms/step - loss: 0.0108 - accuracy: 1.0000 - val_loss: 0.4613 - val_accuracy: 0.8500\n",
            "Epoch 48/60\n",
            "25/25 [==============================] - 17s 555ms/step - loss: 0.0073 - accuracy: 1.0000 - val_loss: 0.4585 - val_accuracy: 0.8500\n",
            "Epoch 49/60\n",
            "25/25 [==============================] - 17s 561ms/step - loss: 0.0079 - accuracy: 0.9987 - val_loss: 0.4557 - val_accuracy: 0.8500\n",
            "Epoch 50/60\n",
            "25/25 [==============================] - 18s 563ms/step - loss: 0.0076 - accuracy: 1.0000 - val_loss: 0.4530 - val_accuracy: 0.8500\n",
            "Epoch 51/60\n",
            "25/25 [==============================] - 17s 547ms/step - loss: 0.0058 - accuracy: 1.0000 - val_loss: 0.4505 - val_accuracy: 0.8500\n",
            "Epoch 52/60\n",
            "25/25 [==============================] - 19s 613ms/step - loss: 0.0103 - accuracy: 0.9987 - val_loss: 0.4479 - val_accuracy: 0.8500\n",
            "Epoch 53/60\n",
            "25/25 [==============================] - 17s 553ms/step - loss: 0.0069 - accuracy: 1.0000 - val_loss: 0.4453 - val_accuracy: 0.8550\n",
            "Epoch 54/60\n",
            "25/25 [==============================] - 17s 549ms/step - loss: 0.0052 - accuracy: 1.0000 - val_loss: 0.4427 - val_accuracy: 0.8550\n",
            "Epoch 55/60\n",
            "25/25 [==============================] - 19s 617ms/step - loss: 0.0057 - accuracy: 1.0000 - val_loss: 0.4403 - val_accuracy: 0.8650\n",
            "Epoch 56/60\n",
            "25/25 [==============================] - 17s 561ms/step - loss: 0.0081 - accuracy: 1.0000 - val_loss: 0.4379 - val_accuracy: 0.8700\n",
            "Epoch 57/60\n",
            "25/25 [==============================] - 17s 557ms/step - loss: 0.0059 - accuracy: 1.0000 - val_loss: 0.4354 - val_accuracy: 0.8700\n",
            "Epoch 58/60\n",
            "25/25 [==============================] - 17s 553ms/step - loss: 0.0063 - accuracy: 1.0000 - val_loss: 0.4330 - val_accuracy: 0.8700\n",
            "Epoch 59/60\n",
            "25/25 [==============================] - 19s 613ms/step - loss: 0.0046 - accuracy: 1.0000 - val_loss: 0.4307 - val_accuracy: 0.8700\n",
            "Epoch 60/60\n",
            "25/25 [==============================] - 19s 617ms/step - loss: 0.0070 - accuracy: 1.0000 - val_loss: 0.4284 - val_accuracy: 0.8650\n"
          ]
        },
        {
          "output_type": "display_data",
          "data": {
            "image/png": "[encoded data removed]",
            "text/plain": [
              "<Figure size 432x288 with 1 Axes>"
            ]
          },
          "metadata": {
            "needs_background": "light"
          }
        }
      ]
    },
    {
      "cell_type": "code",
      "metadata": {
        "colab": {
          "base_uri": "https://localhost:8080/",
          "height": 1000
        },
        "id": "GKQq3VQO3PYk",
        "outputId": "7e7c734a-2991-4424-beb8-d7b46006a2f5"
      },
      "source": [
        "models['base_model9'].fit(train_ds_scaled,validation_data=val_ds_scaled,epochs = 60, verbose = 1, workers = 3, class_weight = {0:1.13, 1:8.03, 2:1}, callbacks = [reduce_lr])\n",
        "plt.plot(models['base_model9'].history.history['accuracy'])\n",
        "plt.plot(models['base_model9'].history.history['val_accuracy'])\n",
        "plt.legend(['Train', 'Validation'])\n",
        "plt.title('Densenet121 training curves')\n",
        "plt.show()"
      ],
      "execution_count": null,
      "outputs": [
        {
          "output_type": "stream",
          "name": "stdout",
          "text": [
            "Epoch 1/60\n",
            "25/25 [==============================] - 39s 801ms/step - loss: 1.4982 - accuracy: 0.5150 - val_loss: 1.4453 - val_accuracy: 0.1150\n",
            "Epoch 2/60\n",
            "25/25 [==============================] - 17s 556ms/step - loss: 1.0487 - accuracy: 0.7387 - val_loss: 1.4513 - val_accuracy: 0.0900\n",
            "Epoch 3/60\n",
            "25/25 [==============================] - 19s 618ms/step - loss: 0.7007 - accuracy: 0.8350 - val_loss: 1.3984 - val_accuracy: 0.0950\n",
            "Epoch 4/60\n",
            "25/25 [==============================] - 17s 558ms/step - loss: 0.5030 - accuracy: 0.8975 - val_loss: 1.3439 - val_accuracy: 0.1100\n",
            "Epoch 5/60\n",
            "25/25 [==============================] - 19s 617ms/step - loss: 0.4290 - accuracy: 0.9000 - val_loss: 1.3544 - val_accuracy: 0.1050\n",
            "Epoch 6/60\n",
            "25/25 [==============================] - 17s 554ms/step - loss: 0.3490 - accuracy: 0.9112 - val_loss: 1.3375 - val_accuracy: 0.1100\n",
            "Epoch 7/60\n",
            "25/25 [==============================] - 19s 615ms/step - loss: 0.2519 - accuracy: 0.9400 - val_loss: 1.3037 - val_accuracy: 0.1150\n",
            "Epoch 8/60\n",
            "25/25 [==============================] - 19s 614ms/step - loss: 0.1877 - accuracy: 0.9613 - val_loss: 1.3206 - val_accuracy: 0.1250\n",
            "Epoch 9/60\n",
            "25/25 [==============================] - 17s 550ms/step - loss: 0.1369 - accuracy: 0.9725 - val_loss: 1.2641 - val_accuracy: 0.1400\n",
            "Epoch 10/60\n",
            "25/25 [==============================] - 17s 556ms/step - loss: 0.1251 - accuracy: 0.9787 - val_loss: 1.2507 - val_accuracy: 0.1500\n",
            "Epoch 11/60\n",
            "25/25 [==============================] - 19s 618ms/step - loss: 0.1067 - accuracy: 0.9800 - val_loss: 1.2156 - val_accuracy: 0.1800\n",
            "Epoch 12/60\n",
            "25/25 [==============================] - 19s 610ms/step - loss: 0.0873 - accuracy: 0.9875 - val_loss: 1.1407 - val_accuracy: 0.2200\n",
            "Epoch 13/60\n",
            "25/25 [==============================] - 19s 611ms/step - loss: 0.0715 - accuracy: 0.9862 - val_loss: 1.1236 - val_accuracy: 0.2400\n",
            "Epoch 14/60\n",
            "25/25 [==============================] - 19s 612ms/step - loss: 0.0644 - accuracy: 0.9912 - val_loss: 1.1610 - val_accuracy: 0.2200\n",
            "Epoch 15/60\n",
            "25/25 [==============================] - 17s 551ms/step - loss: 0.0487 - accuracy: 0.9950 - val_loss: 1.1674 - val_accuracy: 0.2150\n",
            "Epoch 16/60\n",
            "25/25 [==============================] - 17s 555ms/step - loss: 0.0352 - accuracy: 0.9950 - val_loss: 1.1671 - val_accuracy: 0.2200\n",
            "Epoch 17/60\n",
            "25/25 [==============================] - 19s 612ms/step - loss: 0.0346 - accuracy: 0.9937 - val_loss: 1.1501 - val_accuracy: 0.2500\n",
            "Epoch 18/60\n",
            "25/25 [==============================] - 17s 543ms/step - loss: 0.0216 - accuracy: 0.9987 - val_loss: 1.1008 - val_accuracy: 0.2950\n",
            "Epoch 19/60\n",
            "25/25 [==============================] - 17s 544ms/step - loss: 0.0553 - accuracy: 0.9887 - val_loss: 1.2948 - val_accuracy: 0.2100\n",
            "Epoch 20/60\n",
            "25/25 [==============================] - 17s 542ms/step - loss: 0.1645 - accuracy: 0.9575 - val_loss: 1.2601 - val_accuracy: 0.2050\n",
            "Epoch 21/60\n",
            "25/25 [==============================] - 19s 617ms/step - loss: 0.0771 - accuracy: 0.9887 - val_loss: 1.2668 - val_accuracy: 0.1850\n",
            "Epoch 22/60\n",
            "25/25 [==============================] - 17s 551ms/step - loss: 0.0271 - accuracy: 0.9987 - val_loss: 1.3128 - val_accuracy: 0.1900\n",
            "Epoch 23/60\n",
            "25/25 [==============================] - 19s 614ms/step - loss: 0.0301 - accuracy: 0.9950 - val_loss: 1.2853 - val_accuracy: 0.1950\n",
            "Epoch 24/60\n",
            "25/25 [==============================] - 17s 543ms/step - loss: 0.0215 - accuracy: 0.9975 - val_loss: 1.2690 - val_accuracy: 0.2000\n",
            "Epoch 25/60\n",
            "25/25 [==============================] - 17s 539ms/step - loss: 0.0131 - accuracy: 0.9987 - val_loss: 1.2515 - val_accuracy: 0.2250\n",
            "Epoch 26/60\n",
            "25/25 [==============================] - 18s 607ms/step - loss: 0.0154 - accuracy: 0.9987 - val_loss: 1.2325 - val_accuracy: 0.2300\n",
            "Epoch 27/60\n",
            "25/25 [==============================] - 18s 605ms/step - loss: 0.0121 - accuracy: 1.0000 - val_loss: 1.2158 - val_accuracy: 0.2450\n",
            "Epoch 28/60\n",
            "25/25 [==============================] - 17s 546ms/step - loss: 0.0142 - accuracy: 0.9987 - val_loss: 1.2010 - val_accuracy: 0.2550\n",
            "Epoch 29/60\n",
            "25/25 [==============================] - 19s 615ms/step - loss: 0.0129 - accuracy: 0.9987 - val_loss: 1.1872 - val_accuracy: 0.2550\n",
            "Epoch 30/60\n",
            "25/25 [==============================] - 19s 612ms/step - loss: 0.0139 - accuracy: 0.9987 - val_loss: 1.1734 - val_accuracy: 0.2600\n",
            "Epoch 31/60\n",
            "25/25 [==============================] - 17s 543ms/step - loss: 0.0127 - accuracy: 1.0000 - val_loss: 1.1598 - val_accuracy: 0.2600\n",
            "Epoch 32/60\n",
            "25/25 [==============================] - 17s 547ms/step - loss: 0.0248 - accuracy: 0.9962 - val_loss: 1.1473 - val_accuracy: 0.2600\n",
            "Epoch 33/60\n",
            "25/25 [==============================] - 17s 544ms/step - loss: 0.0193 - accuracy: 0.9962 - val_loss: 1.1350 - val_accuracy: 0.2750\n",
            "Epoch 34/60\n",
            "25/25 [==============================] - 19s 616ms/step - loss: 0.0132 - accuracy: 0.9987 - val_loss: 1.1221 - val_accuracy: 0.2900\n",
            "Epoch 35/60\n",
            "25/25 [==============================] - 17s 541ms/step - loss: 0.0184 - accuracy: 0.9975 - val_loss: 1.1096 - val_accuracy: 0.3000\n",
            "Epoch 36/60\n",
            "25/25 [==============================] - 18s 608ms/step - loss: 0.0118 - accuracy: 1.0000 - val_loss: 1.0971 - val_accuracy: 0.3050\n",
            "Epoch 37/60\n",
            "25/25 [==============================] - 19s 608ms/step - loss: 0.0160 - accuracy: 0.9987 - val_loss: 1.0850 - val_accuracy: 0.3100\n",
            "Epoch 38/60\n",
            "25/25 [==============================] - 19s 610ms/step - loss: 0.0119 - accuracy: 1.0000 - val_loss: 1.0728 - val_accuracy: 0.3150\n",
            "Epoch 39/60\n",
            "25/25 [==============================] - 19s 611ms/step - loss: 0.0138 - accuracy: 1.0000 - val_loss: 1.0609 - val_accuracy: 0.3200\n",
            "Epoch 40/60\n",
            "25/25 [==============================] - 19s 612ms/step - loss: 0.0154 - accuracy: 1.0000 - val_loss: 1.0491 - val_accuracy: 0.3200\n",
            "Epoch 41/60\n",
            "25/25 [==============================] - 17s 548ms/step - loss: 0.0241 - accuracy: 0.9962 - val_loss: 1.0377 - val_accuracy: 0.3250\n",
            "Epoch 42/60\n",
            "25/25 [==============================] - 17s 544ms/step - loss: 0.0123 - accuracy: 1.0000 - val_loss: 1.0262 - val_accuracy: 0.3300\n",
            "Epoch 43/60\n",
            "25/25 [==============================] - 17s 536ms/step - loss: 0.0152 - accuracy: 1.0000 - val_loss: 1.0148 - val_accuracy: 0.3350\n",
            "Epoch 44/60\n",
            "25/25 [==============================] - 17s 549ms/step - loss: 0.0208 - accuracy: 0.9950 - val_loss: 1.0035 - val_accuracy: 0.3400\n",
            "Epoch 45/60\n",
            "25/25 [==============================] - 18s 605ms/step - loss: 0.0127 - accuracy: 0.9975 - val_loss: 0.9924 - val_accuracy: 0.3550\n",
            "Epoch 46/60\n",
            "25/25 [==============================] - 17s 548ms/step - loss: 0.0186 - accuracy: 0.9975 - val_loss: 0.9814 - val_accuracy: 0.3700\n",
            "Epoch 47/60\n",
            "25/25 [==============================] - 19s 616ms/step - loss: 0.0137 - accuracy: 1.0000 - val_loss: 0.9706 - val_accuracy: 0.3900\n",
            "Epoch 48/60\n",
            "25/25 [==============================] - 19s 618ms/step - loss: 0.0137 - accuracy: 1.0000 - val_loss: 0.9600 - val_accuracy: 0.4000\n",
            "Epoch 49/60\n",
            "25/25 [==============================] - 17s 561ms/step - loss: 0.0127 - accuracy: 1.0000 - val_loss: 0.9495 - val_accuracy: 0.4050\n",
            "Epoch 50/60\n",
            "25/25 [==============================] - 19s 617ms/step - loss: 0.0130 - accuracy: 1.0000 - val_loss: 0.9393 - val_accuracy: 0.4100\n",
            "Epoch 51/60\n",
            "25/25 [==============================] - 17s 555ms/step - loss: 0.0233 - accuracy: 0.9950 - val_loss: 0.9290 - val_accuracy: 0.4200\n",
            "Epoch 52/60\n",
            "25/25 [==============================] - 17s 551ms/step - loss: 0.0203 - accuracy: 0.9962 - val_loss: 0.9189 - val_accuracy: 0.4300\n",
            "Epoch 53/60\n",
            "25/25 [==============================] - 19s 613ms/step - loss: 0.0178 - accuracy: 0.9987 - val_loss: 0.9091 - val_accuracy: 0.4300\n",
            "Epoch 54/60\n",
            "25/25 [==============================] - 19s 621ms/step - loss: 0.0162 - accuracy: 0.9975 - val_loss: 0.8994 - val_accuracy: 0.4350\n",
            "Epoch 55/60\n",
            "25/25 [==============================] - 17s 559ms/step - loss: 0.0122 - accuracy: 1.0000 - val_loss: 0.8899 - val_accuracy: 0.4450\n",
            "Epoch 56/60\n",
            "25/25 [==============================] - 19s 617ms/step - loss: 0.0162 - accuracy: 0.9987 - val_loss: 0.8805 - val_accuracy: 0.4600\n",
            "Epoch 57/60\n",
            "25/25 [==============================] - 17s 548ms/step - loss: 0.0134 - accuracy: 1.0000 - val_loss: 0.8713 - val_accuracy: 0.4700\n",
            "Epoch 58/60\n",
            "25/25 [==============================] - 19s 622ms/step - loss: 0.0165 - accuracy: 1.0000 - val_loss: 0.8623 - val_accuracy: 0.4950\n",
            "Epoch 59/60\n",
            "25/25 [==============================] - 19s 616ms/step - loss: 0.0143 - accuracy: 0.9987 - val_loss: 0.8534 - val_accuracy: 0.5200\n",
            "Epoch 60/60\n",
            "25/25 [==============================] - 19s 615ms/step - loss: 0.0130 - accuracy: 0.9987 - val_loss: 0.8447 - val_accuracy: 0.5150\n"
          ]
        },
        {
          "output_type": "display_data",
          "data": {
            "image/png": "[encoded data removed]",
            "text/plain": [
              "<Figure size 432x288 with 1 Axes>"
            ]
          },
          "metadata": {
            "needs_background": "light"
          }
        }
      ]
    },
    {
      "cell_type": "code",
      "metadata": {
        "colab": {
          "base_uri": "https://localhost:8080/"
        },
        "id": "QZDBdXLC3Peb",
        "outputId": "572e7bde-9def-4ad4-de21-8a651ecdd4db"
      },
      "source": [
        "i=0\n",
        "for model_name, model in models.items():\n",
        "    trainableParams = np.sum([np.prod(v.get_shape()) for v in model.trainable_weights])\n",
        "    nonTrainableParams = np.sum([np.prod(v.get_shape()) for v in model.non_trainable_weights])\n",
        "    totalParams = trainableParams + nonTrainableParams\n",
        "    \n",
        "    print('base_model'+str(i),trainableParams,nonTrainableParams,totalParams)\n",
        "    i+=1\n"
      ],
      "execution_count": null,
      "outputs": [
        {
          "output_type": "stream",
          "name": "stdout",
          "text": [
            "base_model0 3171 4269716 4272887\n",
            "base_model1 3523 4269364 4272887\n",
            "base_model2 137987 4134900 4272887\n",
            "base_model3 174771 4098116 4272887\n",
            "base_model4 343555 3929332 4272887\n",
            "base_model5 715971 3556916 4272887\n",
            "base_model6 717379 3555508 4272887\n",
            "base_model7 886163 3386724 4272887\n",
            "base_model8 1020979 3251908 4272887\n",
            "base_model9 1428771 2844116 4272887\n"
          ]
        }
      ]
    },
    {
      "cell_type": "code",
      "metadata": {
        "id": "dgnz84et3L3Z"
      },
      "source": [
        ""
      ],
      "execution_count": null,
      "outputs": []
    },
    {
      "cell_type": "code",
      "metadata": {
        "id": "T1JI_wTy3L6h"
      },
      "source": [
        ""
      ],
      "execution_count": null,
      "outputs": []
    }
  ]
}