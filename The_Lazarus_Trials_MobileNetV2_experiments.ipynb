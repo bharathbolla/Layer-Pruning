{
  "nbformat": 4,
  "nbformat_minor": 0,
  "metadata": {
    "kernelspec": {
      "display_name": "Python 3",
      "language": "python",
      "name": "python3"
    },
    "language_info": {
      "codemirror_mode": {
        "name": "ipython",
        "version": 3
      },
      "file_extension": ".py",
      "mimetype": "text/x-python",
      "name": "python",
      "nbconvert_exporter": "python",
      "pygments_lexer": "ipython3",
      "version": "3.8.3"
    },
    "colab": {
      "name": "The Lazarus Trials - MobileNetV2_experiments.ipynb",
      "provenance": [],
      "collapsed_sections": [],
      "machine_shape": "hm",
      "include_colab_link": true
    },
    "accelerator": "GPU"
  },
  "cells": [
    {
      "cell_type": "markdown",
      "metadata": {
        "id": "view-in-github",
        "colab_type": "text"
      },
      "source": [
        "<a href=\"https://colab.research.google.com/github/sabeesh90/Layer_Fine_Tuning_Deep_Neural_Networks/blob/main/The_Lazarus_Trials_MobileNetV2_experiments.ipynb\" target=\"_parent\"><img src=\"https://colab.research.google.com/assets/colab-badge.svg\" alt=\"Open In Colab\"/></a>"
      ]
    },
    {
      "cell_type": "markdown",
      "metadata": {
        "id": "SC1TI_gLUXF4"
      },
      "source": [
        "#### Importing libraries"
      ]
    },
    {
      "cell_type": "code",
      "metadata": {
        "id": "vADQpd_tUXF5",
        "colab": {
          "base_uri": "https://localhost:8080/"
        },
        "outputId": "3a1eb3af-8dc5-418d-d4ab-7d0f0ac45368"
      },
      "source": [
        "from PIL import Image\n",
        "import requests\n",
        "from io import BytesIO\n",
        "import pandas as pd\n",
        "import numpy as np\n",
        "import matplotlib.pyplot as plt\n",
        "import tensorflow.keras as keras\n",
        "import seaborn as sns\n",
        "import warnings\n",
        "import os\n",
        "from skimage import io\n",
        "import pathlib\n",
        "import glob\n",
        "import numpy as np\n",
        "import pandas as pd\n",
        "import tensorflow as tf\n",
        "from sklearn.model_selection import train_test_split\n",
        "from tensorflow.keras import Model\n",
        "from tensorflow.keras.layers import *\n",
        "from tensorflow.keras.losses import CategoricalCrossentropy\n",
        "from tensorflow.keras import layers\n",
        "from tensorflow.keras.models import Sequential, Model, load_model\n",
        "from tensorflow.keras.layers import Dense, Dropout, Flatten, Conv2D, MaxPooling2D, BatchNormalization,GlobalAveragePooling2D\n",
        "from tensorflow.keras.preprocessing.image import ImageDataGenerator\n",
        "from tensorflow.keras import optimizers\n",
        "from sklearn.metrics import classification_report, confusion_matrix\n",
        "!pip install -q -U keras-tuner\n",
        "import kerastuner as kt\n",
        "%load_ext tensorboard\n",
        "warnings.filterwarnings(\"ignore\")\n"
      ],
      "execution_count": null,
      "outputs": [
        {
          "output_type": "stream",
          "name": "stdout",
          "text": [
            "\u001b[?25l\r\u001b[K     |███▍                            | 10 kB 33.5 MB/s eta 0:00:01\r\u001b[K     |██████▊                         | 20 kB 38.5 MB/s eta 0:00:01\r\u001b[K     |██████████                      | 30 kB 23.4 MB/s eta 0:00:01\r\u001b[K     |█████████████▍                  | 40 kB 19.3 MB/s eta 0:00:01\r\u001b[K     |████████████████▊               | 51 kB 9.3 MB/s eta 0:00:01\r\u001b[K     |████████████████████            | 61 kB 10.0 MB/s eta 0:00:01\r\u001b[K     |███████████████████████▍        | 71 kB 8.2 MB/s eta 0:00:01\r\u001b[K     |██████████████████████████▊     | 81 kB 9.1 MB/s eta 0:00:01\r\u001b[K     |██████████████████████████████▏ | 92 kB 9.1 MB/s eta 0:00:01\r\u001b[K     |████████████████████████████████| 97 kB 4.7 MB/s \n",
            "\u001b[?25h"
          ]
        },
        {
          "output_type": "stream",
          "name": "stderr",
          "text": [
            "/usr/local/lib/python3.7/dist-packages/ipykernel_launcher.py:28: DeprecationWarning: `import kerastuner` is deprecated, please use `import keras_tuner`.\n"
          ]
        }
      ]
    },
    {
      "cell_type": "code",
      "metadata": {
        "colab": {
          "base_uri": "https://localhost:8080/"
        },
        "id": "QVwvbxEr6EZI",
        "outputId": "7d2d8562-2f5c-4f9e-b131-ea0269aefe60"
      },
      "source": [
        "pip install Ipython"
      ],
      "execution_count": null,
      "outputs": [
        {
          "output_type": "stream",
          "name": "stdout",
          "text": [
            "Requirement already satisfied: Ipython in /usr/local/lib/python3.7/dist-packages (5.5.0)\n",
            "Requirement already satisfied: setuptools>=18.5 in /usr/local/lib/python3.7/dist-packages (from Ipython) (57.4.0)\n",
            "Requirement already satisfied: pygments in /usr/local/lib/python3.7/dist-packages (from Ipython) (2.6.1)\n",
            "Requirement already satisfied: pexpect in /usr/local/lib/python3.7/dist-packages (from Ipython) (4.8.0)\n",
            "Requirement already satisfied: prompt-toolkit<2.0.0,>=1.0.4 in /usr/local/lib/python3.7/dist-packages (from Ipython) (1.0.18)\n",
            "Requirement already satisfied: pickleshare in /usr/local/lib/python3.7/dist-packages (from Ipython) (0.7.5)\n",
            "Requirement already satisfied: simplegeneric>0.8 in /usr/local/lib/python3.7/dist-packages (from Ipython) (0.8.1)\n",
            "Requirement already satisfied: decorator in /usr/local/lib/python3.7/dist-packages (from Ipython) (4.4.2)\n",
            "Requirement already satisfied: traitlets>=4.2 in /usr/local/lib/python3.7/dist-packages (from Ipython) (5.0.5)\n",
            "Requirement already satisfied: wcwidth in /usr/local/lib/python3.7/dist-packages (from prompt-toolkit<2.0.0,>=1.0.4->Ipython) (0.2.5)\n",
            "Requirement already satisfied: six>=1.9.0 in /usr/local/lib/python3.7/dist-packages (from prompt-toolkit<2.0.0,>=1.0.4->Ipython) (1.15.0)\n",
            "Requirement already satisfied: ipython-genutils in /usr/local/lib/python3.7/dist-packages (from traitlets>=4.2->Ipython) (0.2.0)\n",
            "Requirement already satisfied: ptyprocess>=0.5 in /usr/local/lib/python3.7/dist-packages (from pexpect->Ipython) (0.7.0)\n"
          ]
        }
      ]
    },
    {
      "cell_type": "code",
      "metadata": {
        "colab": {
          "base_uri": "https://localhost:8080/"
        },
        "id": "94NDxt-p3HJs",
        "outputId": "064910d6-5d98-4400-be1f-2427c6dca72d"
      },
      "source": [
        "from google.colab import drive\n",
        "drive.mount('/content/drive')"
      ],
      "execution_count": null,
      "outputs": [
        {
          "output_type": "stream",
          "name": "stdout",
          "text": [
            "Drive already mounted at /content/drive; to attempt to forcibly remount, call drive.mount(\"/content/drive\", force_remount=True).\n"
          ]
        }
      ]
    },
    {
      "cell_type": "code",
      "metadata": {
        "colab": {
          "base_uri": "https://localhost:8080/"
        },
        "id": "S_jhi5Md3LkI",
        "outputId": "57969a02-f53f-48bf-b048-f7b7c48c1361"
      },
      "source": [
        "%cd drive/MyDrive/Colab Notebooks"
      ],
      "execution_count": null,
      "outputs": [
        {
          "output_type": "stream",
          "name": "stdout",
          "text": [
            "[Errno 2] No such file or directory: 'drive/MyDrive/Colab Notebooks'\n",
            "/content/drive/MyDrive/Colab Notebooks\n"
          ]
        }
      ]
    },
    {
      "cell_type": "code",
      "metadata": {
        "id": "EGCbghzXZJwz"
      },
      "source": [
        "classes = ['GALAXY', 'QSO', 'STAR']"
      ],
      "execution_count": null,
      "outputs": []
    },
    {
      "cell_type": "code",
      "metadata": {
        "id": "1uf5Vn11O4wq"
      },
      "source": [
        "def generate_graph(model_training):\n",
        "    plt.figure(figsize= (15,5))\n",
        "    plt.subplot(1,2,1)\n",
        "    plt.plot(model_training.history.history['accuracy'])\n",
        "    plt.plot(model_training.history.history['val_accuracy'])\n",
        "    plt.title('Training vs TestAccuracy')\n",
        "    plt.xlabel('Epochs')\n",
        "    plt.ylabel('Accuracy')\n",
        "    plt.legend(('Training', 'Validation'), loc = 'best')\n",
        "    plt.subplot(1,2,2)\n",
        "    plt.plot(model_training.history.history['loss'])\n",
        "    plt.plot(model_training.history.history['val_loss'])\n",
        "    plt.title('Training loss vs Test Loss')\n",
        "    plt.xlabel('Epochs')\n",
        "    plt.ylabel('Loss')\n",
        "    plt.legend(('Training', 'Validation'), loc = 'best')\n",
        "    plt.show()\n",
        "\n",
        "class Metrics:\n",
        "    # from sklearn\n",
        "    def __init__(self, model, val_ds):\n",
        "        self.val_ds = val_ds\n",
        "        self.model = model\n",
        "        self.prediction_classes = np.array([])\n",
        "        self.true_classes = np.array([])\n",
        "        \n",
        "    def calculate_scores(self):     \n",
        "        print('calculating score.....')   \n",
        "        \n",
        "        for x, y in self.val_ds:\n",
        "            self.prediction_classes = np.concatenate([self.prediction_classes,np.argmax(self.model.predict(x), axis = -1)])\n",
        "            self.true_classes = np.concatenate([self.true_classes, np.argmax(y.numpy(), axis=-1)])\n",
        "        \n",
        "        class_report = classification_report(self.true_classes, self.prediction_classes)\n",
        "        conf_matrix = confusion_matrix(self.true_classes, self.prediction_classes)\n",
        "        print(conf_matrix)\n",
        "        print('------------------------------------')\n",
        "        print(class_report)\n",
        "\n",
        "reduce_lr = tf.keras.callbacks.ReduceLROnPlateau(\n",
        "    monitor=\"val_loss\",\n",
        "    factor=0.1,\n",
        "    patience=5,\n",
        "    verbose=0,\n",
        "    mode=\"auto\",\n",
        "    min_delta=0.0001,\n",
        "    cooldown=0,\n",
        "    min_lr=0,\n",
        ")\n",
        "early_stop = tf.keras.callbacks.EarlyStopping(\n",
        "    monitor=\"val_loss\",\n",
        "    min_delta=0,\n",
        "    patience=10,\n",
        "    verbose=0,\n",
        "    mode=\"auto\",\n",
        "    baseline=None,\n",
        "    restore_best_weights=True,\n",
        ")"
      ],
      "execution_count": null,
      "outputs": []
    },
    {
      "cell_type": "markdown",
      "metadata": {
        "id": "sEUWxsddLFIw"
      },
      "source": [
        "#### Densenet 121"
      ]
    },
    {
      "cell_type": "markdown",
      "metadata": {
        "id": "7mp2bYwBmOtm"
      },
      "source": [
        "##### Data preparation"
      ]
    },
    {
      "cell_type": "code",
      "metadata": {
        "colab": {
          "base_uri": "https://localhost:8080/"
        },
        "id": "UfG1CGD5Mxph",
        "outputId": "cae5543c-d2f6-4da5-e5ec-3369f1435e68"
      },
      "source": [
        "# Preprocessing the data\n",
        "dataset_path = 'Images'\n",
        "img_width = 512\n",
        "img_height = 512\n",
        "channels = 3\n",
        "num_classes = 3\n",
        "batch_size = 8\n",
        "\n",
        "\n",
        "img_width_crop = 1024\n",
        "img_height_crop = 1024\n",
        "\n",
        "rescale = tf.keras.Sequential([layers.experimental.preprocessing.Rescaling(1./255)])\n",
        "\n",
        "\n",
        "# augmenting the data\n",
        "# cropless flip and rotate\n",
        "\n",
        "data_aug_flip = tf.keras.Sequential([layers.experimental.preprocessing.RandomFlip(\"horizontal_and_vertical\"),\n",
        "                                # layers.experimental.preprocessing.RandomRotation(0.2)])\n",
        "])\n",
        "\n",
        "data_aug_flip_rotate = tf.keras.Sequential([layers.experimental.preprocessing.RandomFlip(\"horizontal_and_vertical\"),\n",
        "                                layers.experimental.preprocessing.RandomRotation(0.2)])\n",
        "\n",
        "\n",
        "# crop flip and rotate\n",
        "data_aug_crop_flip_rotate = tf.keras.Sequential([layers.experimental.preprocessing.CenterCrop(512,512),\n",
        "                                                 layers.experimental.preprocessing.RandomFlip(\"horizontal_and_vertical\"),\n",
        "                                                 layers.experimental.preprocessing.RandomRotation(0.2)])\n",
        "\n",
        "data_aug_crop_flip = tf.keras.Sequential([layers.experimental.preprocessing.CenterCrop(512,512),\n",
        "                                          layers.experimental.preprocessing.RandomFlip(\"horizontal_and_vertical\")])\n",
        "\n",
        "normal_crop = tf.keras.Sequential([layers.experimental.preprocessing.CenterCrop(512,512)],)\n",
        "batch_size =32 \n",
        "autotune = tf.data.AUTOTUNE\n",
        "\n",
        "# Preparing the normal dataset\n",
        "train_ds = tf.keras.preprocessing.image_dataset_from_directory(dataset_path, validation_split = 0.2,subset = 'training',seed = 123, image_size = (img_width, img_height), \n",
        "                                                                  batch_size = batch_size, label_mode = 'categorical',)\n",
        "val_ds = tf.keras.preprocessing.image_dataset_from_directory(dataset_path, validation_split = 0.2,subset = 'validation',seed = 123, image_size = (img_width, img_height),\n",
        "                                                                batch_size = batch_size, label_mode = 'categorical')\n",
        "\n",
        "train_ds_cropped = tf.keras.preprocessing.image_dataset_from_directory(dataset_path, validation_split = 0.2,subset = 'training',seed = 123, image_size = (img_width_crop, img_height_crop), \n",
        "                                                                  batch_size = batch_size, label_mode = 'categorical',)\n",
        "val_ds_cropped = tf.keras.preprocessing.image_dataset_from_directory(dataset_path, validation_split = 0.2,subset = 'validation',seed = 123, image_size = (img_width_crop, img_height_crop),\n",
        "                                                                batch_size = batch_size, label_mode = 'categorical')\n",
        "\n",
        "\n",
        "# preparing the scalred dataset\n",
        "train_ds_scaled = train_ds.map(lambda x,y: (rescale(x, training = True), y), num_parallel_calls=autotune)\n",
        "val_ds_scaled = val_ds.map(lambda x,y: (rescale(x, training = False), y), num_parallel_calls=autotune)\n",
        "train_ds.prefetch(buffer_size=autotune)\n",
        "val_ds.prefetch(buffer_size=autotune)\n",
        "\n",
        "train_ds_scaled_cropped = train_ds_scaled.map(lambda x,y: (rescale(x, training = True), y), num_parallel_calls=autotune)\n",
        "val_ds_scaled_cropped = val_ds_scaled.map(lambda x,y: (rescale(x, training = False), y), num_parallel_calls=autotune)\n",
        "\n",
        "# augment function \n",
        "def prepare_dataset(ds, flip = False, flip_rotate = False):\n",
        "    if flip == True:\n",
        "        ds = ds.map(lambda x, y : (data_aug_flip(x, training = True), y), num_parallel_calls = autotune)\n",
        "    elif flip_rotate == True:\n",
        "        ds = ds.map(lambda x, y : (data_aug_flip_rotate(x, training = True), y), num_parallel_calls = autotune)\n",
        "    \n",
        "    return ds.prefetch(buffer_size =autotune)\n",
        "\n",
        "def prepare_dataset_crop(ds, crop_flip = False, crop_flip_rotate = False):\n",
        "    if crop_flip_rotate == True:\n",
        "        ds = ds.map(lambda x, y : (data_aug_crop_flip_rotate(x, training = True), y), num_parallel_calls = autotune)\n",
        "    elif crop_flip == True:\n",
        "        ds = ds.map(lambda x, y : (data_aug_crop_flip(x, training = True), y), num_parallel_calls = autotune)\n",
        "    \n",
        "    return ds.prefetch(buffer_size =autotune)\n",
        "    \n",
        "def prepare_dataset_normal_crop(ds, training = True):\n",
        "    ds = ds.map(lambda x, y : (normal_crop(x, training = training), y), num_parallel_calls = autotune)\n",
        "    return ds.prefetch(buffer_size =autotune)\n",
        "# 25 batches of 32 each and 7 batches of 32 each\n",
        "\n"
      ],
      "execution_count": null,
      "outputs": [
        {
          "output_type": "stream",
          "name": "stdout",
          "text": [
            "Found 1000 files belonging to 3 classes.\n",
            "Using 800 files for training.\n",
            "Found 1000 files belonging to 3 classes.\n",
            "Using 200 files for validation.\n",
            "Found 1000 files belonging to 3 classes.\n",
            "Using 800 files for training.\n",
            "Found 1000 files belonging to 3 classes.\n",
            "Using 200 files for validation.\n"
          ]
        }
      ]
    },
    {
      "cell_type": "markdown",
      "metadata": {
        "id": "m4cuzjMadXZv"
      },
      "source": [
        "##### Densenet model building"
      ]
    },
    {
      "cell_type": "code",
      "metadata": {
        "id": "tyqSrpPwRoDj",
        "colab": {
          "base_uri": "https://localhost:8080/"
        },
        "outputId": "8c7a821e-dde3-47db-ccdd-78d0fc28e080"
      },
      "source": [
        "from tensorflow.keras.applications import  MobileNetV2\n",
        "models = {'base_model'+str(num) : MobileNetV2(include_top=False, weights='imagenet', \n",
        "                                           input_shape = (img_height, img_width, 3),classes = num_classes, pooling = 'avg') for num in range(0,10)}"
      ],
      "execution_count": null,
      "outputs": [
        {
          "output_type": "stream",
          "name": "stdout",
          "text": [
            "WARNING:tensorflow:`input_shape` is undefined or non-square, or `rows` is not in [96, 128, 160, 192, 224]. Weights for input shape (224, 224) will be loaded as the default.\n",
            "WARNING:tensorflow:`input_shape` is undefined or non-square, or `rows` is not in [96, 128, 160, 192, 224]. Weights for input shape (224, 224) will be loaded as the default.\n",
            "WARNING:tensorflow:`input_shape` is undefined or non-square, or `rows` is not in [96, 128, 160, 192, 224]. Weights for input shape (224, 224) will be loaded as the default.\n",
            "WARNING:tensorflow:`input_shape` is undefined or non-square, or `rows` is not in [96, 128, 160, 192, 224]. Weights for input shape (224, 224) will be loaded as the default.\n",
            "WARNING:tensorflow:`input_shape` is undefined or non-square, or `rows` is not in [96, 128, 160, 192, 224]. Weights for input shape (224, 224) will be loaded as the default.\n",
            "WARNING:tensorflow:`input_shape` is undefined or non-square, or `rows` is not in [96, 128, 160, 192, 224]. Weights for input shape (224, 224) will be loaded as the default.\n",
            "WARNING:tensorflow:`input_shape` is undefined or non-square, or `rows` is not in [96, 128, 160, 192, 224]. Weights for input shape (224, 224) will be loaded as the default.\n",
            "WARNING:tensorflow:`input_shape` is undefined or non-square, or `rows` is not in [96, 128, 160, 192, 224]. Weights for input shape (224, 224) will be loaded as the default.\n",
            "WARNING:tensorflow:`input_shape` is undefined or non-square, or `rows` is not in [96, 128, 160, 192, 224]. Weights for input shape (224, 224) will be loaded as the default.\n",
            "WARNING:tensorflow:`input_shape` is undefined or non-square, or `rows` is not in [96, 128, 160, 192, 224]. Weights for input shape (224, 224) will be loaded as the default.\n"
          ]
        }
      ]
    },
    {
      "cell_type": "code",
      "metadata": {
        "colab": {
          "base_uri": "https://localhost:8080/"
        },
        "id": "EUpJglBPSKwS",
        "outputId": "bf3d444c-a394-475e-8f5b-a046e20b1356"
      },
      "source": [
        "models"
      ],
      "execution_count": null,
      "outputs": [
        {
          "output_type": "execute_result",
          "data": {
            "text/plain": [
              "{'base_model0': <keras.engine.functional.Functional at 0x7fc23d632e10>,\n",
              " 'base_model1': <keras.engine.functional.Functional at 0x7fc4c59ea6d0>,\n",
              " 'base_model2': <keras.engine.functional.Functional at 0x7fc24d71a490>,\n",
              " 'base_model3': <keras.engine.functional.Functional at 0x7fc23cd15e10>,\n",
              " 'base_model4': <keras.engine.functional.Functional at 0x7fc23cf38c90>,\n",
              " 'base_model5': <keras.engine.functional.Functional at 0x7fc23d052110>,\n",
              " 'base_model6': <keras.engine.functional.Functional at 0x7fc23cfb7e50>,\n",
              " 'base_model7': <keras.engine.functional.Functional at 0x7fc4c52ba790>,\n",
              " 'base_model8': <keras.engine.functional.Functional at 0x7fc4c4f20850>,\n",
              " 'base_model9': <keras.engine.functional.Functional at 0x7fc4c4c85450>}"
            ]
          },
          "metadata": {},
          "execution_count": 40
        }
      ]
    },
    {
      "cell_type": "code",
      "metadata": {
        "colab": {
          "base_uri": "https://localhost:8080/"
        },
        "id": "5u6kNMzeshhn",
        "outputId": "0767b627-2bb2-44ec-a06c-e4ecd58231e5"
      },
      "source": [
        "layer_count  = len(models['base_model0'].layers)\n",
        "print(f'There are a total of {layer_count} in the Densenet layer')"
      ],
      "execution_count": null,
      "outputs": [
        {
          "output_type": "stream",
          "name": "stdout",
          "text": [
            "There are a total of 155 in the Densenet layer\n"
          ]
        }
      ]
    },
    {
      "cell_type": "code",
      "metadata": {
        "colab": {
          "base_uri": "https://localhost:8080/"
        },
        "id": "xmbRbcXBTAie",
        "outputId": "617fc5e8-2c33-4769-9dc2-8977ad0d233a"
      },
      "source": [
        "for model,value in models.items():\n",
        "    print(model)"
      ],
      "execution_count": null,
      "outputs": [
        {
          "output_type": "stream",
          "name": "stdout",
          "text": [
            "base_model0\n",
            "base_model1\n",
            "base_model2\n",
            "base_model3\n",
            "base_model4\n",
            "base_model5\n",
            "base_model6\n",
            "base_model7\n",
            "base_model8\n",
            "base_model9\n"
          ]
        }
      ]
    },
    {
      "cell_type": "code",
      "metadata": {
        "id": "eZKmwR_AjSIa"
      },
      "source": [
        "num=0\n",
        "for i, (model_name, model) in zip(range(155, -1,-5), models.items()):\n",
        "    break_point  = i\n",
        "    for layer in model.layers[0:break_point]:\n",
        "        layer.trainable = False\n",
        "    for layer in model.layers[break_point:]:\n",
        "        layer.trainable = True\n",
        "    input_layer = model.input\n",
        "    output_layer = model.output\n",
        "    x = Dense(num_classes, activation  = 'softmax')(output_layer)    \n",
        "    models[model_name] = Model(inputs = input_layer, outputs = x)\n"
      ],
      "execution_count": null,
      "outputs": []
    },
    {
      "cell_type": "code",
      "metadata": {
        "colab": {
          "base_uri": "https://localhost:8080/"
        },
        "id": "LiYDL6oO_ZJg",
        "outputId": "429d6615-01b7-4fce-d290-6e17eeba0970"
      },
      "source": [
        "for model_name, model in models.items():\n",
        "    count = 0\n",
        "    trained_layers = ['a' if layer.trainable == True else None for layer in model.layers]\n",
        "    print(f'The number of trainable layers in {model_name} is', trained_layers.count('a'), sep=':')"
      ],
      "execution_count": null,
      "outputs": [
        {
          "output_type": "stream",
          "name": "stdout",
          "text": [
            "The number of trainable layers in base_model0 is:1\n",
            "The number of trainable layers in base_model1 is:6\n",
            "The number of trainable layers in base_model2 is:11\n",
            "The number of trainable layers in base_model3 is:16\n",
            "The number of trainable layers in base_model4 is:21\n",
            "The number of trainable layers in base_model5 is:26\n",
            "The number of trainable layers in base_model6 is:31\n",
            "The number of trainable layers in base_model7 is:36\n",
            "The number of trainable layers in base_model8 is:41\n",
            "The number of trainable layers in base_model9 is:46\n"
          ]
        }
      ]
    },
    {
      "cell_type": "code",
      "metadata": {
        "id": "tHznpzHGshsv"
      },
      "source": [
        "# resnet_model.summary()\n",
        "for model_name, model in models.items():\n",
        "    model.compile(optimizer = optimizers.Adam(lr=1e-4), loss = 'categorical_crossentropy', metrics = ['accuracy'])"
      ],
      "execution_count": null,
      "outputs": []
    },
    {
      "cell_type": "markdown",
      "metadata": {
        "id": "Yq4hEpqjbl6K"
      },
      "source": [
        "##### Densnet model with normalization of  image pixels"
      ]
    },
    {
      "cell_type": "code",
      "metadata": {
        "colab": {
          "base_uri": "https://localhost:8080/"
        },
        "id": "ZAivYUjkshyu",
        "outputId": "784b3348-a5e8-4027-dbb9-7207101c3a1c"
      },
      "source": [
        "models['base_model0'].fit(train_ds_scaled,validation_data=val_ds_scaled,epochs = 60, verbose = 1, workers = 3, class_weight = {0:1.13, 1:8.03, 2:1}, callbacks = [reduce_lr])"
      ],
      "execution_count": null,
      "outputs": [
        {
          "output_type": "stream",
          "name": "stdout",
          "text": [
            "Epoch 1/60\n",
            "25/25 [==============================] - 12s 332ms/step - loss: 1.9178 - accuracy: 0.3713 - val_loss: 1.1332 - val_accuracy: 0.4000\n",
            "Epoch 2/60\n",
            "25/25 [==============================] - 9s 291ms/step - loss: 1.6098 - accuracy: 0.3875 - val_loss: 1.0376 - val_accuracy: 0.5000\n",
            "Epoch 3/60\n",
            "25/25 [==============================] - 9s 291ms/step - loss: 1.5295 - accuracy: 0.5025 - val_loss: 1.0246 - val_accuracy: 0.4950\n",
            "Epoch 4/60\n",
            "25/25 [==============================] - 9s 289ms/step - loss: 1.4718 - accuracy: 0.5100 - val_loss: 1.0080 - val_accuracy: 0.4750\n",
            "Epoch 5/60\n",
            "25/25 [==============================] - 9s 291ms/step - loss: 1.4235 - accuracy: 0.5188 - val_loss: 0.9760 - val_accuracy: 0.5200\n",
            "Epoch 6/60\n",
            "25/25 [==============================] - 9s 291ms/step - loss: 1.3792 - accuracy: 0.5400 - val_loss: 0.9139 - val_accuracy: 0.5750\n",
            "Epoch 7/60\n",
            "25/25 [==============================] - 9s 291ms/step - loss: 1.3328 - accuracy: 0.5412 - val_loss: 0.9197 - val_accuracy: 0.5450\n",
            "Epoch 8/60\n",
            "25/25 [==============================] - 9s 291ms/step - loss: 1.3057 - accuracy: 0.5775 - val_loss: 0.8976 - val_accuracy: 0.5550\n",
            "Epoch 9/60\n",
            "25/25 [==============================] - 9s 294ms/step - loss: 1.2732 - accuracy: 0.5838 - val_loss: 0.8580 - val_accuracy: 0.5850\n",
            "Epoch 10/60\n",
            "25/25 [==============================] - 9s 295ms/step - loss: 1.2450 - accuracy: 0.6175 - val_loss: 0.8640 - val_accuracy: 0.5900\n",
            "Epoch 11/60\n",
            "25/25 [==============================] - 9s 292ms/step - loss: 1.2280 - accuracy: 0.6012 - val_loss: 0.8274 - val_accuracy: 0.6250\n",
            "Epoch 12/60\n",
            "25/25 [==============================] - 9s 292ms/step - loss: 1.2012 - accuracy: 0.6237 - val_loss: 0.8363 - val_accuracy: 0.6000\n",
            "Epoch 13/60\n",
            "25/25 [==============================] - 9s 293ms/step - loss: 1.1829 - accuracy: 0.6263 - val_loss: 0.7990 - val_accuracy: 0.6250\n",
            "Epoch 14/60\n",
            "25/25 [==============================] - 9s 293ms/step - loss: 1.1607 - accuracy: 0.6438 - val_loss: 0.8134 - val_accuracy: 0.6050\n",
            "Epoch 15/60\n",
            "25/25 [==============================] - 9s 295ms/step - loss: 1.1459 - accuracy: 0.6313 - val_loss: 0.7869 - val_accuracy: 0.6350\n",
            "Epoch 16/60\n",
            "25/25 [==============================] - 9s 291ms/step - loss: 1.1319 - accuracy: 0.6600 - val_loss: 0.7812 - val_accuracy: 0.6400\n",
            "Epoch 17/60\n",
            "25/25 [==============================] - 9s 296ms/step - loss: 1.1177 - accuracy: 0.6400 - val_loss: 0.7855 - val_accuracy: 0.6450\n",
            "Epoch 18/60\n",
            "25/25 [==============================] - 9s 293ms/step - loss: 1.1056 - accuracy: 0.6625 - val_loss: 0.7828 - val_accuracy: 0.6350\n",
            "Epoch 19/60\n",
            "25/25 [==============================] - 9s 294ms/step - loss: 1.0925 - accuracy: 0.6500 - val_loss: 0.7800 - val_accuracy: 0.6200\n",
            "Epoch 20/60\n",
            "25/25 [==============================] - 9s 293ms/step - loss: 1.0885 - accuracy: 0.6837 - val_loss: 0.7532 - val_accuracy: 0.6300\n",
            "Epoch 21/60\n",
            "25/25 [==============================] - 9s 293ms/step - loss: 1.0671 - accuracy: 0.6587 - val_loss: 0.7535 - val_accuracy: 0.6250\n",
            "Epoch 22/60\n",
            "25/25 [==============================] - 9s 294ms/step - loss: 1.0637 - accuracy: 0.6963 - val_loss: 0.7179 - val_accuracy: 0.6800\n",
            "Epoch 23/60\n",
            "25/25 [==============================] - 9s 295ms/step - loss: 1.0418 - accuracy: 0.6625 - val_loss: 0.7423 - val_accuracy: 0.6450\n",
            "Epoch 24/60\n",
            "25/25 [==============================] - 9s 296ms/step - loss: 1.0395 - accuracy: 0.6900 - val_loss: 0.7074 - val_accuracy: 0.6700\n",
            "Epoch 25/60\n",
            "25/25 [==============================] - 9s 295ms/step - loss: 1.0212 - accuracy: 0.7000 - val_loss: 0.7108 - val_accuracy: 0.6700\n",
            "Epoch 26/60\n",
            "25/25 [==============================] - 9s 294ms/step - loss: 1.0131 - accuracy: 0.6850 - val_loss: 0.7275 - val_accuracy: 0.6600\n",
            "Epoch 27/60\n",
            "25/25 [==============================] - 9s 295ms/step - loss: 1.0054 - accuracy: 0.7050 - val_loss: 0.6858 - val_accuracy: 0.7000\n",
            "Epoch 28/60\n",
            "25/25 [==============================] - 9s 295ms/step - loss: 0.9986 - accuracy: 0.7212 - val_loss: 0.6719 - val_accuracy: 0.6850\n",
            "Epoch 29/60\n",
            "25/25 [==============================] - 9s 295ms/step - loss: 0.9845 - accuracy: 0.6900 - val_loss: 0.7008 - val_accuracy: 0.6800\n",
            "Epoch 30/60\n",
            "25/25 [==============================] - 9s 295ms/step - loss: 0.9774 - accuracy: 0.7150 - val_loss: 0.6687 - val_accuracy: 0.7000\n",
            "Epoch 31/60\n",
            "25/25 [==============================] - 9s 294ms/step - loss: 0.9702 - accuracy: 0.7325 - val_loss: 0.6768 - val_accuracy: 0.6850\n",
            "Epoch 32/60\n",
            "25/25 [==============================] - 9s 297ms/step - loss: 0.9633 - accuracy: 0.7075 - val_loss: 0.6479 - val_accuracy: 0.7150\n",
            "Epoch 33/60\n",
            "25/25 [==============================] - 9s 296ms/step - loss: 0.9557 - accuracy: 0.7437 - val_loss: 0.6392 - val_accuracy: 0.7200\n",
            "Epoch 34/60\n",
            "25/25 [==============================] - 9s 294ms/step - loss: 0.9466 - accuracy: 0.7475 - val_loss: 0.6611 - val_accuracy: 0.6950\n",
            "Epoch 35/60\n",
            "25/25 [==============================] - 9s 294ms/step - loss: 0.9404 - accuracy: 0.7113 - val_loss: 0.6519 - val_accuracy: 0.7050\n",
            "Epoch 36/60\n",
            "25/25 [==============================] - 9s 298ms/step - loss: 0.9387 - accuracy: 0.7525 - val_loss: 0.6503 - val_accuracy: 0.7100\n",
            "Epoch 37/60\n",
            "25/25 [==============================] - 9s 297ms/step - loss: 0.9290 - accuracy: 0.7200 - val_loss: 0.6320 - val_accuracy: 0.7300\n",
            "Epoch 38/60\n",
            "25/25 [==============================] - 9s 298ms/step - loss: 0.9179 - accuracy: 0.7437 - val_loss: 0.6301 - val_accuracy: 0.7150\n",
            "Epoch 39/60\n",
            "25/25 [==============================] - 9s 296ms/step - loss: 0.9119 - accuracy: 0.7450 - val_loss: 0.6300 - val_accuracy: 0.7150\n",
            "Epoch 40/60\n",
            "25/25 [==============================] - 9s 295ms/step - loss: 0.9059 - accuracy: 0.7412 - val_loss: 0.6170 - val_accuracy: 0.7200\n",
            "Epoch 41/60\n",
            "25/25 [==============================] - 9s 296ms/step - loss: 0.8996 - accuracy: 0.7700 - val_loss: 0.6032 - val_accuracy: 0.7450\n",
            "Epoch 42/60\n",
            "25/25 [==============================] - 9s 294ms/step - loss: 0.8935 - accuracy: 0.7475 - val_loss: 0.6212 - val_accuracy: 0.7250\n",
            "Epoch 43/60\n",
            "25/25 [==============================] - 9s 295ms/step - loss: 0.8952 - accuracy: 0.7650 - val_loss: 0.5926 - val_accuracy: 0.7350\n",
            "Epoch 44/60\n",
            "25/25 [==============================] - 9s 296ms/step - loss: 0.8826 - accuracy: 0.7500 - val_loss: 0.6282 - val_accuracy: 0.7250\n",
            "Epoch 45/60\n",
            "25/25 [==============================] - 9s 295ms/step - loss: 0.8798 - accuracy: 0.7425 - val_loss: 0.5961 - val_accuracy: 0.7300\n",
            "Epoch 46/60\n",
            "25/25 [==============================] - 9s 296ms/step - loss: 0.8740 - accuracy: 0.7738 - val_loss: 0.6178 - val_accuracy: 0.7100\n",
            "Epoch 47/60\n",
            "25/25 [==============================] - 9s 293ms/step - loss: 0.8687 - accuracy: 0.7600 - val_loss: 0.6046 - val_accuracy: 0.7250\n",
            "Epoch 48/60\n",
            "25/25 [==============================] - 9s 294ms/step - loss: 0.8599 - accuracy: 0.7538 - val_loss: 0.5812 - val_accuracy: 0.7600\n",
            "Epoch 49/60\n",
            "25/25 [==============================] - 9s 294ms/step - loss: 0.8581 - accuracy: 0.7837 - val_loss: 0.5900 - val_accuracy: 0.7300\n",
            "Epoch 50/60\n",
            "25/25 [==============================] - 9s 298ms/step - loss: 0.8510 - accuracy: 0.7613 - val_loss: 0.5704 - val_accuracy: 0.7650\n",
            "Epoch 51/60\n",
            "25/25 [==============================] - 9s 298ms/step - loss: 0.8473 - accuracy: 0.7837 - val_loss: 0.5998 - val_accuracy: 0.7150\n",
            "Epoch 52/60\n",
            "25/25 [==============================] - 9s 296ms/step - loss: 0.8452 - accuracy: 0.7462 - val_loss: 0.5548 - val_accuracy: 0.7850\n",
            "Epoch 53/60\n",
            "25/25 [==============================] - 9s 299ms/step - loss: 0.8410 - accuracy: 0.7725 - val_loss: 0.5631 - val_accuracy: 0.7500\n",
            "Epoch 54/60\n",
            "25/25 [==============================] - 9s 293ms/step - loss: 0.8308 - accuracy: 0.7725 - val_loss: 0.5646 - val_accuracy: 0.7450\n",
            "Epoch 55/60\n",
            "25/25 [==============================] - 9s 296ms/step - loss: 0.8297 - accuracy: 0.7950 - val_loss: 0.5748 - val_accuracy: 0.7500\n",
            "Epoch 56/60\n",
            "25/25 [==============================] - 9s 295ms/step - loss: 0.8234 - accuracy: 0.7613 - val_loss: 0.5580 - val_accuracy: 0.7550\n",
            "Epoch 57/60\n",
            "25/25 [==============================] - 9s 296ms/step - loss: 0.8201 - accuracy: 0.7763 - val_loss: 0.5483 - val_accuracy: 0.7650\n",
            "Epoch 58/60\n",
            "25/25 [==============================] - 9s 295ms/step - loss: 0.8211 - accuracy: 0.7800 - val_loss: 0.5635 - val_accuracy: 0.7500\n",
            "Epoch 59/60\n",
            "25/25 [==============================] - 9s 297ms/step - loss: 0.8115 - accuracy: 0.7663 - val_loss: 0.5466 - val_accuracy: 0.7600\n",
            "Epoch 60/60\n",
            "25/25 [==============================] - 9s 298ms/step - loss: 0.8057 - accuracy: 0.7887 - val_loss: 0.5564 - val_accuracy: 0.7650\n"
          ]
        },
        {
          "output_type": "execute_result",
          "data": {
            "text/plain": [
              "<keras.callbacks.History at 0x7fc2507c8950>"
            ]
          },
          "metadata": {},
          "execution_count": 26
        }
      ]
    },
    {
      "cell_type": "code",
      "metadata": {
        "colab": {
          "base_uri": "https://localhost:8080/",
          "height": 281
        },
        "id": "5h6QFI7l2wib",
        "outputId": "5cb1782b-7b47-46cd-8eee-801c3c4180a6"
      },
      "source": [
        "plt.plot(models['base_model0'].history.history['accuracy'])\n",
        "plt.plot(models['base_model0'].history.history['val_accuracy'])\n",
        "plt.legend(['Train', 'Validation'])\n",
        "plt.title('MobileNetV2 training curves')\n",
        "plt.show()"
      ],
      "execution_count": null,
      "outputs": [
        {
          "output_type": "display_data",
          "data": {
            "image/png": "[encoded data removed]",
            "text/plain": [
              "<Figure size 432x288 with 1 Axes>"
            ]
          },
          "metadata": {
            "needs_background": "light"
          }
        }
      ]
    },
    {
      "cell_type": "code",
      "metadata": {
        "colab": {
          "base_uri": "https://localhost:8080/",
          "height": 1000
        },
        "id": "b0FIUvMy3BjC",
        "outputId": "93929ac8-8caf-4835-fc9b-f515ab4574fc"
      },
      "source": [
        "models['base_model1'].fit(train_ds_scaled,validation_data=val_ds_scaled,epochs = 60, verbose = 1, workers = 3, class_weight = {0:1.13, 1:8.03, 2:1}, callbacks = [reduce_lr])\n",
        "plt.plot(models['base_model1'].history.history['accuracy'])\n",
        "plt.plot(models['base_model1'].history.history['val_accuracy'])\n",
        "plt.legend(['Train', 'Validation'])\n",
        "plt.title('MobileNetV2 training curves')\n",
        "plt.show()"
      ],
      "execution_count": null,
      "outputs": [
        {
          "output_type": "stream",
          "name": "stdout",
          "text": [
            "Epoch 1/60\n",
            "25/25 [==============================] - 12s 325ms/step - loss: 1.0979 - accuracy: 0.6587 - val_loss: 1.7694 - val_accuracy: 0.4000\n",
            "Epoch 2/60\n",
            "25/25 [==============================] - 9s 300ms/step - loss: 0.7214 - accuracy: 0.8525 - val_loss: 1.6918 - val_accuracy: 0.5100\n",
            "Epoch 3/60\n",
            "25/25 [==============================] - 9s 301ms/step - loss: 0.5854 - accuracy: 0.8775 - val_loss: 1.5679 - val_accuracy: 0.5550\n",
            "Epoch 4/60\n",
            "25/25 [==============================] - 9s 300ms/step - loss: 0.5183 - accuracy: 0.8950 - val_loss: 1.7359 - val_accuracy: 0.5500\n",
            "Epoch 5/60\n",
            "25/25 [==============================] - 9s 300ms/step - loss: 0.4646 - accuracy: 0.9050 - val_loss: 1.7443 - val_accuracy: 0.5550\n",
            "Epoch 6/60\n",
            "25/25 [==============================] - 9s 300ms/step - loss: 0.4278 - accuracy: 0.9125 - val_loss: 1.7233 - val_accuracy: 0.5600\n",
            "Epoch 7/60\n",
            "25/25 [==============================] - 9s 301ms/step - loss: 0.3806 - accuracy: 0.9225 - val_loss: 1.6975 - val_accuracy: 0.5750\n",
            "Epoch 8/60\n",
            "25/25 [==============================] - 9s 300ms/step - loss: 0.3453 - accuracy: 0.9300 - val_loss: 1.5903 - val_accuracy: 0.5700\n",
            "Epoch 9/60\n",
            "25/25 [==============================] - 9s 301ms/step - loss: 0.3127 - accuracy: 0.9287 - val_loss: 1.5491 - val_accuracy: 0.5650\n",
            "Epoch 10/60\n",
            "25/25 [==============================] - 9s 303ms/step - loss: 0.3125 - accuracy: 0.9350 - val_loss: 1.4936 - val_accuracy: 0.5650\n",
            "Epoch 11/60\n",
            "25/25 [==============================] - 9s 302ms/step - loss: 0.3034 - accuracy: 0.9450 - val_loss: 1.4370 - val_accuracy: 0.5750\n",
            "Epoch 12/60\n",
            "25/25 [==============================] - 9s 302ms/step - loss: 0.3022 - accuracy: 0.9400 - val_loss: 1.3852 - val_accuracy: 0.5800\n",
            "Epoch 13/60\n",
            "25/25 [==============================] - 9s 300ms/step - loss: 0.3143 - accuracy: 0.9400 - val_loss: 1.3356 - val_accuracy: 0.5800\n",
            "Epoch 14/60\n",
            "25/25 [==============================] - 9s 299ms/step - loss: 0.3191 - accuracy: 0.9388 - val_loss: 1.2574 - val_accuracy: 0.5800\n",
            "Epoch 15/60\n",
            "25/25 [==============================] - 9s 302ms/step - loss: 0.3042 - accuracy: 0.9388 - val_loss: 1.2059 - val_accuracy: 0.5800\n",
            "Epoch 16/60\n",
            "25/25 [==============================] - 9s 301ms/step - loss: 0.3149 - accuracy: 0.9413 - val_loss: 1.1508 - val_accuracy: 0.5900\n",
            "Epoch 17/60\n",
            "25/25 [==============================] - 9s 301ms/step - loss: 0.3006 - accuracy: 0.9450 - val_loss: 1.1044 - val_accuracy: 0.5950\n",
            "Epoch 18/60\n",
            "25/25 [==============================] - 9s 302ms/step - loss: 0.2903 - accuracy: 0.9425 - val_loss: 1.0626 - val_accuracy: 0.6000\n",
            "Epoch 19/60\n",
            "25/25 [==============================] - 9s 303ms/step - loss: 0.2904 - accuracy: 0.9463 - val_loss: 1.0180 - val_accuracy: 0.5950\n",
            "Epoch 20/60\n",
            "25/25 [==============================] - 9s 303ms/step - loss: 0.2981 - accuracy: 0.9525 - val_loss: 0.9703 - val_accuracy: 0.6000\n",
            "Epoch 21/60\n",
            "25/25 [==============================] - 9s 301ms/step - loss: 0.2840 - accuracy: 0.9513 - val_loss: 0.9396 - val_accuracy: 0.6100\n",
            "Epoch 22/60\n",
            "25/25 [==============================] - 9s 301ms/step - loss: 0.2848 - accuracy: 0.9450 - val_loss: 0.9040 - val_accuracy: 0.6250\n",
            "Epoch 23/60\n",
            "25/25 [==============================] - 9s 302ms/step - loss: 0.2865 - accuracy: 0.9425 - val_loss: 0.8668 - val_accuracy: 0.6200\n",
            "Epoch 24/60\n",
            "25/25 [==============================] - 9s 301ms/step - loss: 0.2734 - accuracy: 0.9513 - val_loss: 0.8382 - val_accuracy: 0.6400\n",
            "Epoch 25/60\n",
            "25/25 [==============================] - 9s 302ms/step - loss: 0.2773 - accuracy: 0.9488 - val_loss: 0.8161 - val_accuracy: 0.6400\n",
            "Epoch 26/60\n",
            "25/25 [==============================] - 9s 303ms/step - loss: 0.2704 - accuracy: 0.9475 - val_loss: 0.7933 - val_accuracy: 0.6550\n",
            "Epoch 27/60\n",
            "25/25 [==============================] - 9s 302ms/step - loss: 0.2814 - accuracy: 0.9525 - val_loss: 0.7592 - val_accuracy: 0.6600\n",
            "Epoch 28/60\n",
            "25/25 [==============================] - 9s 303ms/step - loss: 0.2705 - accuracy: 0.9425 - val_loss: 0.7292 - val_accuracy: 0.6750\n",
            "Epoch 29/60\n",
            "25/25 [==============================] - 9s 300ms/step - loss: 0.2833 - accuracy: 0.9450 - val_loss: 0.6984 - val_accuracy: 0.6800\n",
            "Epoch 30/60\n",
            "25/25 [==============================] - 9s 301ms/step - loss: 0.2851 - accuracy: 0.9463 - val_loss: 0.6610 - val_accuracy: 0.7050\n",
            "Epoch 31/60\n",
            "25/25 [==============================] - 9s 301ms/step - loss: 0.2805 - accuracy: 0.9475 - val_loss: 0.6388 - val_accuracy: 0.7150\n",
            "Epoch 32/60\n",
            "25/25 [==============================] - 9s 301ms/step - loss: 0.2611 - accuracy: 0.9463 - val_loss: 0.6173 - val_accuracy: 0.7300\n",
            "Epoch 33/60\n",
            "25/25 [==============================] - 9s 303ms/step - loss: 0.2735 - accuracy: 0.9475 - val_loss: 0.5929 - val_accuracy: 0.7400\n",
            "Epoch 34/60\n",
            "25/25 [==============================] - 9s 303ms/step - loss: 0.2750 - accuracy: 0.9500 - val_loss: 0.5724 - val_accuracy: 0.7450\n",
            "Epoch 35/60\n",
            "25/25 [==============================] - 9s 301ms/step - loss: 0.2599 - accuracy: 0.9500 - val_loss: 0.5480 - val_accuracy: 0.7550\n",
            "Epoch 36/60\n",
            "25/25 [==============================] - 9s 301ms/step - loss: 0.2596 - accuracy: 0.9488 - val_loss: 0.5304 - val_accuracy: 0.7600\n",
            "Epoch 37/60\n",
            "25/25 [==============================] - 9s 304ms/step - loss: 0.2543 - accuracy: 0.9488 - val_loss: 0.5216 - val_accuracy: 0.7600\n",
            "Epoch 38/60\n",
            "25/25 [==============================] - 9s 305ms/step - loss: 0.2562 - accuracy: 0.9463 - val_loss: 0.5151 - val_accuracy: 0.7700\n",
            "Epoch 39/60\n",
            "25/25 [==============================] - 9s 301ms/step - loss: 0.2482 - accuracy: 0.9500 - val_loss: 0.5021 - val_accuracy: 0.7750\n",
            "Epoch 40/60\n",
            "25/25 [==============================] - 9s 302ms/step - loss: 0.2464 - accuracy: 0.9588 - val_loss: 0.4829 - val_accuracy: 0.7800\n",
            "Epoch 41/60\n",
            "25/25 [==============================] - 9s 300ms/step - loss: 0.2424 - accuracy: 0.9588 - val_loss: 0.4729 - val_accuracy: 0.7800\n",
            "Epoch 42/60\n",
            "25/25 [==============================] - 9s 301ms/step - loss: 0.2465 - accuracy: 0.9588 - val_loss: 0.4552 - val_accuracy: 0.7900\n",
            "Epoch 43/60\n",
            "25/25 [==============================] - 9s 301ms/step - loss: 0.2487 - accuracy: 0.9550 - val_loss: 0.4487 - val_accuracy: 0.8000\n",
            "Epoch 44/60\n",
            "25/25 [==============================] - 9s 302ms/step - loss: 0.2424 - accuracy: 0.9538 - val_loss: 0.4268 - val_accuracy: 0.8350\n",
            "Epoch 45/60\n",
            "25/25 [==============================] - 9s 302ms/step - loss: 0.2425 - accuracy: 0.9475 - val_loss: 0.4206 - val_accuracy: 0.8350\n",
            "Epoch 46/60\n",
            "25/25 [==============================] - 9s 303ms/step - loss: 0.2401 - accuracy: 0.9550 - val_loss: 0.4108 - val_accuracy: 0.8400\n",
            "Epoch 47/60\n",
            "25/25 [==============================] - 9s 302ms/step - loss: 0.2390 - accuracy: 0.9488 - val_loss: 0.3988 - val_accuracy: 0.8500\n",
            "Epoch 48/60\n",
            "25/25 [==============================] - 9s 302ms/step - loss: 0.2393 - accuracy: 0.9575 - val_loss: 0.3924 - val_accuracy: 0.8500\n",
            "Epoch 49/60\n",
            "25/25 [==============================] - 9s 301ms/step - loss: 0.2387 - accuracy: 0.9613 - val_loss: 0.3839 - val_accuracy: 0.8550\n",
            "Epoch 50/60\n",
            "25/25 [==============================] - 9s 301ms/step - loss: 0.2357 - accuracy: 0.9600 - val_loss: 0.3760 - val_accuracy: 0.8600\n",
            "Epoch 51/60\n",
            "25/25 [==============================] - 9s 302ms/step - loss: 0.2259 - accuracy: 0.9563 - val_loss: 0.3671 - val_accuracy: 0.8650\n",
            "Epoch 52/60\n",
            "25/25 [==============================] - 9s 304ms/step - loss: 0.2302 - accuracy: 0.9538 - val_loss: 0.3636 - val_accuracy: 0.8650\n",
            "Epoch 53/60\n",
            "25/25 [==============================] - 9s 302ms/step - loss: 0.2196 - accuracy: 0.9600 - val_loss: 0.3590 - val_accuracy: 0.8700\n",
            "Epoch 54/60\n",
            "25/25 [==============================] - 9s 303ms/step - loss: 0.2271 - accuracy: 0.9575 - val_loss: 0.3521 - val_accuracy: 0.8800\n",
            "Epoch 55/60\n",
            "25/25 [==============================] - 9s 303ms/step - loss: 0.2245 - accuracy: 0.9538 - val_loss: 0.3483 - val_accuracy: 0.8850\n",
            "Epoch 56/60\n",
            "25/25 [==============================] - 9s 300ms/step - loss: 0.2201 - accuracy: 0.9613 - val_loss: 0.3403 - val_accuracy: 0.8950\n",
            "Epoch 57/60\n",
            "25/25 [==============================] - 9s 300ms/step - loss: 0.2173 - accuracy: 0.9638 - val_loss: 0.3343 - val_accuracy: 0.8950\n",
            "Epoch 58/60\n",
            "25/25 [==============================] - 9s 302ms/step - loss: 0.2213 - accuracy: 0.9538 - val_loss: 0.3316 - val_accuracy: 0.8950\n",
            "Epoch 59/60\n",
            "25/25 [==============================] - 9s 301ms/step - loss: 0.2321 - accuracy: 0.9563 - val_loss: 0.3295 - val_accuracy: 0.8950\n",
            "Epoch 60/60\n",
            "25/25 [==============================] - 9s 303ms/step - loss: 0.2103 - accuracy: 0.9600 - val_loss: 0.3253 - val_accuracy: 0.9000\n"
          ]
        },
        {
          "output_type": "display_data",
          "data": {
            "image/png": "[encoded data removed]",
            "text/plain": [
              "<Figure size 432x288 with 1 Axes>"
            ]
          },
          "metadata": {
            "needs_background": "light"
          }
        }
      ]
    },
    {
      "cell_type": "code",
      "metadata": {
        "colab": {
          "base_uri": "https://localhost:8080/",
          "height": 1000
        },
        "id": "lNAAh6GB3Lji",
        "outputId": "092f8b44-aaaa-46bd-9cec-4d37cd30c61f"
      },
      "source": [
        "models['base_model2'].fit(train_ds_scaled,validation_data=val_ds_scaled,epochs = 60, verbose = 1, workers = 3, class_weight = {0:1.13, 1:8.03, 2:1}, callbacks = [reduce_lr])\n",
        "plt.plot(models['base_model2'].history.history['accuracy'])\n",
        "plt.plot(models['base_model2'].history.history['val_accuracy'])\n",
        "plt.legend(['Train', 'Validation'])\n",
        "plt.title('MobileNetV2 training curves')\n",
        "plt.show()"
      ],
      "execution_count": null,
      "outputs": [
        {
          "output_type": "stream",
          "name": "stdout",
          "text": [
            "Epoch 1/60\n",
            "25/25 [==============================] - 12s 335ms/step - loss: 1.1236 - accuracy: 0.6363 - val_loss: 4.7769 - val_accuracy: 0.4800\n",
            "Epoch 2/60\n",
            "25/25 [==============================] - 9s 309ms/step - loss: 0.7040 - accuracy: 0.8200 - val_loss: 6.1036 - val_accuracy: 0.4800\n",
            "Epoch 3/60\n",
            "25/25 [==============================] - 9s 307ms/step - loss: 0.5472 - accuracy: 0.8813 - val_loss: 7.2929 - val_accuracy: 0.4800\n",
            "Epoch 4/60\n",
            "25/25 [==============================] - 9s 309ms/step - loss: 0.4489 - accuracy: 0.9112 - val_loss: 8.1333 - val_accuracy: 0.4800\n",
            "Epoch 5/60\n",
            "25/25 [==============================] - 9s 308ms/step - loss: 0.3889 - accuracy: 0.9212 - val_loss: 8.5151 - val_accuracy: 0.4800\n",
            "Epoch 6/60\n",
            "25/25 [==============================] - 9s 309ms/step - loss: 0.3345 - accuracy: 0.9362 - val_loss: 8.4488 - val_accuracy: 0.4800\n",
            "Epoch 7/60\n",
            "25/25 [==============================] - 9s 309ms/step - loss: 0.2837 - accuracy: 0.9400 - val_loss: 8.1443 - val_accuracy: 0.4800\n",
            "Epoch 8/60\n",
            "25/25 [==============================] - 9s 309ms/step - loss: 0.2833 - accuracy: 0.9413 - val_loss: 7.8643 - val_accuracy: 0.4800\n",
            "Epoch 9/60\n",
            "25/25 [==============================] - 9s 309ms/step - loss: 0.2964 - accuracy: 0.9388 - val_loss: 7.6356 - val_accuracy: 0.4800\n",
            "Epoch 10/60\n",
            "25/25 [==============================] - 9s 309ms/step - loss: 0.2974 - accuracy: 0.9438 - val_loss: 7.4650 - val_accuracy: 0.4800\n",
            "Epoch 11/60\n",
            "25/25 [==============================] - 9s 310ms/step - loss: 0.2723 - accuracy: 0.9388 - val_loss: 7.2064 - val_accuracy: 0.4800\n",
            "Epoch 12/60\n",
            "25/25 [==============================] - 9s 313ms/step - loss: 0.2691 - accuracy: 0.9400 - val_loss: 6.9933 - val_accuracy: 0.4800\n",
            "Epoch 13/60\n",
            "25/25 [==============================] - 9s 309ms/step - loss: 0.2798 - accuracy: 0.9450 - val_loss: 6.7894 - val_accuracy: 0.4800\n",
            "Epoch 14/60\n",
            "25/25 [==============================] - 9s 307ms/step - loss: 0.2725 - accuracy: 0.9362 - val_loss: 6.5851 - val_accuracy: 0.4800\n",
            "Epoch 15/60\n",
            "25/25 [==============================] - 9s 309ms/step - loss: 0.2696 - accuracy: 0.9463 - val_loss: 6.3899 - val_accuracy: 0.4800\n",
            "Epoch 16/60\n",
            "25/25 [==============================] - 9s 307ms/step - loss: 0.2720 - accuracy: 0.9438 - val_loss: 6.1895 - val_accuracy: 0.4800\n",
            "Epoch 17/60\n",
            "25/25 [==============================] - 9s 310ms/step - loss: 0.2739 - accuracy: 0.9400 - val_loss: 5.9998 - val_accuracy: 0.4800\n",
            "Epoch 18/60\n",
            "25/25 [==============================] - 9s 308ms/step - loss: 0.2697 - accuracy: 0.9438 - val_loss: 5.8155 - val_accuracy: 0.4800\n",
            "Epoch 19/60\n",
            "25/25 [==============================] - 9s 309ms/step - loss: 0.2630 - accuracy: 0.9500 - val_loss: 5.6363 - val_accuracy: 0.4800\n",
            "Epoch 20/60\n",
            "25/25 [==============================] - 9s 308ms/step - loss: 0.2699 - accuracy: 0.9450 - val_loss: 5.4625 - val_accuracy: 0.4800\n",
            "Epoch 21/60\n",
            "25/25 [==============================] - 9s 309ms/step - loss: 0.2648 - accuracy: 0.9463 - val_loss: 5.2945 - val_accuracy: 0.4800\n",
            "Epoch 22/60\n",
            "25/25 [==============================] - 9s 308ms/step - loss: 0.2836 - accuracy: 0.9400 - val_loss: 5.1313 - val_accuracy: 0.4800\n",
            "Epoch 23/60\n",
            "25/25 [==============================] - 9s 309ms/step - loss: 0.2663 - accuracy: 0.9438 - val_loss: 4.9723 - val_accuracy: 0.4800\n",
            "Epoch 24/60\n",
            "25/25 [==============================] - 9s 307ms/step - loss: 0.2652 - accuracy: 0.9438 - val_loss: 4.8181 - val_accuracy: 0.4800\n",
            "Epoch 25/60\n",
            "25/25 [==============================] - 9s 309ms/step - loss: 0.2776 - accuracy: 0.9463 - val_loss: 4.6687 - val_accuracy: 0.4800\n",
            "Epoch 26/60\n",
            "25/25 [==============================] - 9s 309ms/step - loss: 0.2699 - accuracy: 0.9438 - val_loss: 4.5234 - val_accuracy: 0.4850\n",
            "Epoch 27/60\n",
            "25/25 [==============================] - 9s 309ms/step - loss: 0.2801 - accuracy: 0.9400 - val_loss: 4.3821 - val_accuracy: 0.4850\n",
            "Epoch 28/60\n",
            "25/25 [==============================] - 9s 310ms/step - loss: 0.2810 - accuracy: 0.9438 - val_loss: 4.2449 - val_accuracy: 0.4850\n",
            "Epoch 29/60\n",
            "25/25 [==============================] - 9s 309ms/step - loss: 0.2610 - accuracy: 0.9463 - val_loss: 4.1117 - val_accuracy: 0.4900\n",
            "Epoch 30/60\n",
            "25/25 [==============================] - 9s 310ms/step - loss: 0.2788 - accuracy: 0.9413 - val_loss: 3.9819 - val_accuracy: 0.5000\n",
            "Epoch 31/60\n",
            "25/25 [==============================] - 9s 308ms/step - loss: 0.2785 - accuracy: 0.9438 - val_loss: 3.8557 - val_accuracy: 0.5050\n",
            "Epoch 32/60\n",
            "25/25 [==============================] - 9s 308ms/step - loss: 0.2618 - accuracy: 0.9463 - val_loss: 3.7329 - val_accuracy: 0.5050\n",
            "Epoch 33/60\n",
            "25/25 [==============================] - 9s 309ms/step - loss: 0.2760 - accuracy: 0.9413 - val_loss: 3.6137 - val_accuracy: 0.5200\n",
            "Epoch 34/60\n",
            "25/25 [==============================] - 9s 310ms/step - loss: 0.2764 - accuracy: 0.9425 - val_loss: 3.4972 - val_accuracy: 0.5250\n",
            "Epoch 35/60\n",
            "25/25 [==============================] - 9s 311ms/step - loss: 0.2592 - accuracy: 0.9538 - val_loss: 3.3840 - val_accuracy: 0.5250\n",
            "Epoch 36/60\n",
            "25/25 [==============================] - 9s 307ms/step - loss: 0.2625 - accuracy: 0.9513 - val_loss: 3.2739 - val_accuracy: 0.5250\n",
            "Epoch 37/60\n",
            "25/25 [==============================] - 9s 308ms/step - loss: 0.2831 - accuracy: 0.9350 - val_loss: 3.1667 - val_accuracy: 0.5300\n",
            "Epoch 38/60\n",
            "25/25 [==============================] - 9s 311ms/step - loss: 0.2836 - accuracy: 0.9400 - val_loss: 3.0622 - val_accuracy: 0.5300\n",
            "Epoch 39/60\n",
            "25/25 [==============================] - 9s 311ms/step - loss: 0.2767 - accuracy: 0.9488 - val_loss: 2.9607 - val_accuracy: 0.5300\n",
            "Epoch 40/60\n",
            "25/25 [==============================] - 9s 311ms/step - loss: 0.2806 - accuracy: 0.9400 - val_loss: 2.8622 - val_accuracy: 0.5400\n",
            "Epoch 41/60\n",
            "25/25 [==============================] - 9s 312ms/step - loss: 0.2790 - accuracy: 0.9450 - val_loss: 2.7664 - val_accuracy: 0.5450\n",
            "Epoch 42/60\n",
            "25/25 [==============================] - 9s 307ms/step - loss: 0.2736 - accuracy: 0.9438 - val_loss: 2.6733 - val_accuracy: 0.5600\n",
            "Epoch 43/60\n",
            "25/25 [==============================] - 9s 311ms/step - loss: 0.2603 - accuracy: 0.9513 - val_loss: 2.5825 - val_accuracy: 0.5650\n",
            "Epoch 44/60\n",
            "25/25 [==============================] - 9s 310ms/step - loss: 0.2690 - accuracy: 0.9500 - val_loss: 2.4944 - val_accuracy: 0.5650\n",
            "Epoch 45/60\n",
            "25/25 [==============================] - 9s 309ms/step - loss: 0.2700 - accuracy: 0.9463 - val_loss: 2.4088 - val_accuracy: 0.5650\n",
            "Epoch 46/60\n",
            "25/25 [==============================] - 9s 309ms/step - loss: 0.2810 - accuracy: 0.9538 - val_loss: 2.3255 - val_accuracy: 0.5650\n",
            "Epoch 47/60\n",
            "25/25 [==============================] - 9s 310ms/step - loss: 0.2645 - accuracy: 0.9475 - val_loss: 2.2448 - val_accuracy: 0.5750\n",
            "Epoch 48/60\n",
            "25/25 [==============================] - 9s 309ms/step - loss: 0.2848 - accuracy: 0.9337 - val_loss: 2.1666 - val_accuracy: 0.5750\n",
            "Epoch 49/60\n",
            "25/25 [==============================] - 9s 307ms/step - loss: 0.2837 - accuracy: 0.9425 - val_loss: 2.0908 - val_accuracy: 0.5750\n",
            "Epoch 50/60\n",
            "25/25 [==============================] - 9s 308ms/step - loss: 0.2667 - accuracy: 0.9438 - val_loss: 2.0171 - val_accuracy: 0.5750\n",
            "Epoch 51/60\n",
            "25/25 [==============================] - 9s 307ms/step - loss: 0.2898 - accuracy: 0.9438 - val_loss: 1.9456 - val_accuracy: 0.5800\n",
            "Epoch 52/60\n",
            "25/25 [==============================] - 9s 311ms/step - loss: 0.2729 - accuracy: 0.9438 - val_loss: 1.8766 - val_accuracy: 0.5850\n",
            "Epoch 53/60\n",
            "25/25 [==============================] - 9s 308ms/step - loss: 0.2646 - accuracy: 0.9450 - val_loss: 1.8097 - val_accuracy: 0.5850\n",
            "Epoch 54/60\n",
            "25/25 [==============================] - 9s 309ms/step - loss: 0.2617 - accuracy: 0.9463 - val_loss: 1.7450 - val_accuracy: 0.5850\n",
            "Epoch 55/60\n",
            "25/25 [==============================] - 9s 310ms/step - loss: 0.2639 - accuracy: 0.9463 - val_loss: 1.6825 - val_accuracy: 0.5900\n",
            "Epoch 56/60\n",
            "25/25 [==============================] - 9s 309ms/step - loss: 0.2674 - accuracy: 0.9500 - val_loss: 1.6222 - val_accuracy: 0.5900\n",
            "Epoch 57/60\n",
            "25/25 [==============================] - 9s 310ms/step - loss: 0.2639 - accuracy: 0.9450 - val_loss: 1.5640 - val_accuracy: 0.5900\n",
            "Epoch 58/60\n",
            "25/25 [==============================] - 9s 308ms/step - loss: 0.2768 - accuracy: 0.9400 - val_loss: 1.5078 - val_accuracy: 0.5900\n",
            "Epoch 59/60\n",
            "25/25 [==============================] - 9s 308ms/step - loss: 0.3100 - accuracy: 0.9400 - val_loss: 1.4536 - val_accuracy: 0.5950\n",
            "Epoch 60/60\n",
            "25/25 [==============================] - 9s 309ms/step - loss: 0.2719 - accuracy: 0.9425 - val_loss: 1.4014 - val_accuracy: 0.5950\n"
          ]
        },
        {
          "output_type": "display_data",
          "data": {
            "image/png": "[encoded data removed]",
            "text/plain": [
              "<Figure size 432x288 with 1 Axes>"
            ]
          },
          "metadata": {
            "needs_background": "light"
          }
        }
      ]
    },
    {
      "cell_type": "code",
      "metadata": {
        "colab": {
          "base_uri": "https://localhost:8080/",
          "height": 1000
        },
        "id": "zyyh6GC-3Lqb",
        "outputId": "493fa4c1-385b-4a14-8ae5-4d65560f8db3"
      },
      "source": [
        "models['base_model3'].fit(train_ds_scaled,validation_data=val_ds_scaled,epochs = 60, verbose = 1, workers = 3, class_weight = {0:1.13, 1:8.03, 2:1}, callbacks = [reduce_lr])\n",
        "plt.plot(models['base_model3'].history.history['accuracy'])\n",
        "plt.plot(models['base_model3'].history.history['val_accuracy'])\n",
        "plt.legend(['Train', 'Validation'])\n",
        "plt.title('MobileNetV2 training curves')\n",
        "plt.show()"
      ],
      "execution_count": null,
      "outputs": [
        {
          "output_type": "stream",
          "name": "stdout",
          "text": [
            "Epoch 1/60\n",
            "25/25 [==============================] - 12s 338ms/step - loss: 1.0885 - accuracy: 0.6837 - val_loss: 4.4447 - val_accuracy: 0.4800\n",
            "Epoch 2/60\n",
            "25/25 [==============================] - 9s 314ms/step - loss: 0.6078 - accuracy: 0.8637 - val_loss: 5.9758 - val_accuracy: 0.4800\n",
            "Epoch 3/60\n",
            "25/25 [==============================] - 9s 314ms/step - loss: 0.4065 - accuracy: 0.9087 - val_loss: 6.4761 - val_accuracy: 0.4800\n",
            "Epoch 4/60\n",
            "25/25 [==============================] - 9s 314ms/step - loss: 0.3291 - accuracy: 0.9388 - val_loss: 6.3766 - val_accuracy: 0.4800\n",
            "Epoch 5/60\n",
            "25/25 [==============================] - 9s 313ms/step - loss: 0.2865 - accuracy: 0.9337 - val_loss: 6.3897 - val_accuracy: 0.4800\n",
            "Epoch 6/60\n",
            "25/25 [==============================] - 9s 314ms/step - loss: 0.2065 - accuracy: 0.9600 - val_loss: 6.2795 - val_accuracy: 0.4800\n",
            "Epoch 7/60\n",
            "25/25 [==============================] - 9s 317ms/step - loss: 0.1607 - accuracy: 0.9563 - val_loss: 6.2282 - val_accuracy: 0.4800\n",
            "Epoch 8/60\n",
            "25/25 [==============================] - 9s 315ms/step - loss: 0.1448 - accuracy: 0.9725 - val_loss: 6.1495 - val_accuracy: 0.4800\n",
            "Epoch 9/60\n",
            "25/25 [==============================] - 9s 317ms/step - loss: 0.1471 - accuracy: 0.9663 - val_loss: 6.0096 - val_accuracy: 0.4800\n",
            "Epoch 10/60\n",
            "25/25 [==============================] - 9s 315ms/step - loss: 0.1465 - accuracy: 0.9750 - val_loss: 5.8982 - val_accuracy: 0.4800\n",
            "Epoch 11/60\n",
            "25/25 [==============================] - 9s 315ms/step - loss: 0.1447 - accuracy: 0.9700 - val_loss: 5.6958 - val_accuracy: 0.4800\n",
            "Epoch 12/60\n",
            "25/25 [==============================] - 9s 313ms/step - loss: 0.1288 - accuracy: 0.9762 - val_loss: 5.5489 - val_accuracy: 0.4800\n",
            "Epoch 13/60\n",
            "25/25 [==============================] - 9s 315ms/step - loss: 0.1422 - accuracy: 0.9725 - val_loss: 5.4064 - val_accuracy: 0.4800\n",
            "Epoch 14/60\n",
            "25/25 [==============================] - 9s 315ms/step - loss: 0.1414 - accuracy: 0.9675 - val_loss: 5.2637 - val_accuracy: 0.4800\n",
            "Epoch 15/60\n",
            "25/25 [==============================] - 9s 315ms/step - loss: 0.1375 - accuracy: 0.9725 - val_loss: 5.1344 - val_accuracy: 0.4800\n",
            "Epoch 16/60\n",
            "25/25 [==============================] - 9s 314ms/step - loss: 0.1372 - accuracy: 0.9762 - val_loss: 5.0214 - val_accuracy: 0.4800\n",
            "Epoch 17/60\n",
            "25/25 [==============================] - 9s 314ms/step - loss: 0.1327 - accuracy: 0.9750 - val_loss: 4.9127 - val_accuracy: 0.4800\n",
            "Epoch 18/60\n",
            "25/25 [==============================] - 9s 316ms/step - loss: 0.1400 - accuracy: 0.9725 - val_loss: 4.8105 - val_accuracy: 0.4800\n",
            "Epoch 19/60\n",
            "25/25 [==============================] - 9s 317ms/step - loss: 0.1378 - accuracy: 0.9700 - val_loss: 4.7152 - val_accuracy: 0.4800\n",
            "Epoch 20/60\n",
            "25/25 [==============================] - 9s 315ms/step - loss: 0.1383 - accuracy: 0.9762 - val_loss: 4.6248 - val_accuracy: 0.4800\n",
            "Epoch 21/60\n",
            "25/25 [==============================] - 9s 313ms/step - loss: 0.1390 - accuracy: 0.9725 - val_loss: 4.5385 - val_accuracy: 0.4850\n",
            "Epoch 22/60\n",
            "25/25 [==============================] - 9s 314ms/step - loss: 0.1313 - accuracy: 0.9750 - val_loss: 4.4570 - val_accuracy: 0.4850\n",
            "Epoch 23/60\n",
            "25/25 [==============================] - 9s 314ms/step - loss: 0.1311 - accuracy: 0.9737 - val_loss: 4.3790 - val_accuracy: 0.4850\n",
            "Epoch 24/60\n",
            "25/25 [==============================] - 9s 313ms/step - loss: 0.1465 - accuracy: 0.9700 - val_loss: 4.3036 - val_accuracy: 0.4850\n",
            "Epoch 25/60\n",
            "25/25 [==============================] - 9s 315ms/step - loss: 0.1336 - accuracy: 0.9750 - val_loss: 4.2297 - val_accuracy: 0.4850\n",
            "Epoch 26/60\n",
            "25/25 [==============================] - 9s 314ms/step - loss: 0.1333 - accuracy: 0.9725 - val_loss: 4.1574 - val_accuracy: 0.4850\n",
            "Epoch 27/60\n",
            "25/25 [==============================] - 9s 315ms/step - loss: 0.1385 - accuracy: 0.9762 - val_loss: 4.0859 - val_accuracy: 0.4850\n",
            "Epoch 28/60\n",
            "25/25 [==============================] - 9s 315ms/step - loss: 0.1238 - accuracy: 0.9750 - val_loss: 4.0150 - val_accuracy: 0.4850\n",
            "Epoch 29/60\n",
            "25/25 [==============================] - 9s 313ms/step - loss: 0.1308 - accuracy: 0.9725 - val_loss: 3.9449 - val_accuracy: 0.4850\n",
            "Epoch 30/60\n",
            "25/25 [==============================] - 9s 315ms/step - loss: 0.1377 - accuracy: 0.9688 - val_loss: 3.8750 - val_accuracy: 0.4850\n",
            "Epoch 31/60\n",
            "25/25 [==============================] - 9s 313ms/step - loss: 0.1302 - accuracy: 0.9762 - val_loss: 3.8056 - val_accuracy: 0.4850\n",
            "Epoch 32/60\n",
            "25/25 [==============================] - 9s 316ms/step - loss: 0.1362 - accuracy: 0.9762 - val_loss: 3.7364 - val_accuracy: 0.4850\n",
            "Epoch 33/60\n",
            "25/25 [==============================] - 9s 314ms/step - loss: 0.1282 - accuracy: 0.9762 - val_loss: 3.6672 - val_accuracy: 0.4900\n",
            "Epoch 34/60\n",
            "25/25 [==============================] - 9s 314ms/step - loss: 0.1309 - accuracy: 0.9737 - val_loss: 3.5979 - val_accuracy: 0.4900\n",
            "Epoch 35/60\n",
            "25/25 [==============================] - 9s 314ms/step - loss: 0.1422 - accuracy: 0.9663 - val_loss: 3.5292 - val_accuracy: 0.4900\n",
            "Epoch 36/60\n",
            "25/25 [==============================] - 9s 314ms/step - loss: 0.1382 - accuracy: 0.9712 - val_loss: 3.4603 - val_accuracy: 0.4900\n",
            "Epoch 37/60\n",
            "25/25 [==============================] - 9s 315ms/step - loss: 0.1368 - accuracy: 0.9700 - val_loss: 3.3917 - val_accuracy: 0.4900\n",
            "Epoch 38/60\n",
            "25/25 [==============================] - 9s 314ms/step - loss: 0.1398 - accuracy: 0.9688 - val_loss: 3.3236 - val_accuracy: 0.4900\n",
            "Epoch 39/60\n",
            "25/25 [==============================] - 9s 316ms/step - loss: 0.1455 - accuracy: 0.9725 - val_loss: 3.2552 - val_accuracy: 0.4900\n",
            "Epoch 40/60\n",
            "25/25 [==============================] - 9s 314ms/step - loss: 0.1354 - accuracy: 0.9750 - val_loss: 3.1870 - val_accuracy: 0.4950\n",
            "Epoch 41/60\n",
            "25/25 [==============================] - 9s 314ms/step - loss: 0.1313 - accuracy: 0.9737 - val_loss: 3.1187 - val_accuracy: 0.5000\n",
            "Epoch 42/60\n",
            "25/25 [==============================] - 9s 317ms/step - loss: 0.1367 - accuracy: 0.9688 - val_loss: 3.0501 - val_accuracy: 0.5000\n",
            "Epoch 43/60\n",
            "25/25 [==============================] - 9s 314ms/step - loss: 0.1394 - accuracy: 0.9712 - val_loss: 2.9813 - val_accuracy: 0.5000\n",
            "Epoch 44/60\n",
            "25/25 [==============================] - 9s 315ms/step - loss: 0.1269 - accuracy: 0.9775 - val_loss: 2.9119 - val_accuracy: 0.5000\n",
            "Epoch 45/60\n",
            "25/25 [==============================] - 9s 315ms/step - loss: 0.1301 - accuracy: 0.9750 - val_loss: 2.8422 - val_accuracy: 0.5100\n",
            "Epoch 46/60\n",
            "25/25 [==============================] - 9s 315ms/step - loss: 0.1361 - accuracy: 0.9775 - val_loss: 2.7719 - val_accuracy: 0.5100\n",
            "Epoch 47/60\n",
            "25/25 [==============================] - 9s 315ms/step - loss: 0.1387 - accuracy: 0.9725 - val_loss: 2.7009 - val_accuracy: 0.5200\n",
            "Epoch 48/60\n",
            "25/25 [==============================] - 9s 315ms/step - loss: 0.1320 - accuracy: 0.9750 - val_loss: 2.6298 - val_accuracy: 0.5250\n",
            "Epoch 49/60\n",
            "25/25 [==============================] - 9s 313ms/step - loss: 0.1277 - accuracy: 0.9750 - val_loss: 2.5582 - val_accuracy: 0.5350\n",
            "Epoch 50/60\n",
            "25/25 [==============================] - 9s 317ms/step - loss: 0.1328 - accuracy: 0.9712 - val_loss: 2.4865 - val_accuracy: 0.5400\n",
            "Epoch 51/60\n",
            "25/25 [==============================] - 9s 316ms/step - loss: 0.1347 - accuracy: 0.9762 - val_loss: 2.4153 - val_accuracy: 0.5400\n",
            "Epoch 52/60\n",
            "25/25 [==============================] - 9s 316ms/step - loss: 0.1345 - accuracy: 0.9700 - val_loss: 2.3443 - val_accuracy: 0.5400\n",
            "Epoch 53/60\n",
            "25/25 [==============================] - 9s 314ms/step - loss: 0.1373 - accuracy: 0.9737 - val_loss: 2.2733 - val_accuracy: 0.5550\n",
            "Epoch 54/60\n",
            "25/25 [==============================] - 9s 316ms/step - loss: 0.1337 - accuracy: 0.9688 - val_loss: 2.2028 - val_accuracy: 0.5550\n",
            "Epoch 55/60\n",
            "25/25 [==============================] - 9s 315ms/step - loss: 0.1295 - accuracy: 0.9762 - val_loss: 2.1328 - val_accuracy: 0.5600\n",
            "Epoch 56/60\n",
            "25/25 [==============================] - 9s 316ms/step - loss: 0.1302 - accuracy: 0.9737 - val_loss: 2.0631 - val_accuracy: 0.5650\n",
            "Epoch 57/60\n",
            "25/25 [==============================] - 9s 316ms/step - loss: 0.1450 - accuracy: 0.9712 - val_loss: 1.9943 - val_accuracy: 0.5700\n",
            "Epoch 58/60\n",
            "25/25 [==============================] - 9s 316ms/step - loss: 0.1309 - accuracy: 0.9700 - val_loss: 1.9263 - val_accuracy: 0.5700\n",
            "Epoch 59/60\n",
            "25/25 [==============================] - 9s 315ms/step - loss: 0.1326 - accuracy: 0.9688 - val_loss: 1.8595 - val_accuracy: 0.5700\n",
            "Epoch 60/60\n",
            "25/25 [==============================] - 9s 318ms/step - loss: 0.1362 - accuracy: 0.9725 - val_loss: 1.7938 - val_accuracy: 0.5700\n"
          ]
        },
        {
          "output_type": "display_data",
          "data": {
            "image/png": "[encoded data removed]",
            "text/plain": [
              "<Figure size 432x288 with 1 Axes>"
            ]
          },
          "metadata": {
            "needs_background": "light"
          }
        }
      ]
    },
    {
      "cell_type": "code",
      "metadata": {
        "colab": {
          "base_uri": "https://localhost:8080/",
          "height": 1000
        },
        "id": "frzAUhjK3Lt2",
        "outputId": "cebee20f-b229-44d5-c518-a33e339b4c54"
      },
      "source": [
        "models['base_model4'].fit(train_ds_scaled,validation_data=val_ds_scaled,epochs = 60, verbose = 1, workers = 3, class_weight = {0:1.13, 1:8.03, 2:1}, callbacks = [reduce_lr])\n",
        "plt.plot(models['base_model4'].history.history['accuracy'])\n",
        "plt.plot(models['base_model4'].history.history['val_accuracy'])\n",
        "plt.legend(['Train', 'Validation'])\n",
        "plt.title('MobileNetV2 training curves')\n",
        "plt.show()"
      ],
      "execution_count": null,
      "outputs": [
        {
          "output_type": "stream",
          "name": "stdout",
          "text": [
            "Epoch 1/60\n",
            "25/25 [==============================] - 13s 343ms/step - loss: 1.1618 - accuracy: 0.6237 - val_loss: 2.6981 - val_accuracy: 0.4800\n",
            "Epoch 2/60\n",
            "25/25 [==============================] - 9s 319ms/step - loss: 0.5579 - accuracy: 0.8925 - val_loss: 3.9850 - val_accuracy: 0.4800\n",
            "Epoch 3/60\n",
            "25/25 [==============================] - 9s 318ms/step - loss: 0.3693 - accuracy: 0.9237 - val_loss: 4.1378 - val_accuracy: 0.4800\n",
            "Epoch 4/60\n",
            "25/25 [==============================] - 9s 320ms/step - loss: 0.2554 - accuracy: 0.9425 - val_loss: 3.9014 - val_accuracy: 0.4800\n",
            "Epoch 5/60\n",
            "25/25 [==============================] - 9s 320ms/step - loss: 0.2128 - accuracy: 0.9513 - val_loss: 3.3673 - val_accuracy: 0.4850\n",
            "Epoch 6/60\n",
            "25/25 [==============================] - 9s 318ms/step - loss: 0.1688 - accuracy: 0.9613 - val_loss: 3.1924 - val_accuracy: 0.4850\n",
            "Epoch 7/60\n",
            "25/25 [==============================] - 9s 318ms/step - loss: 0.1451 - accuracy: 0.9825 - val_loss: 3.4143 - val_accuracy: 0.4850\n",
            "Epoch 8/60\n",
            "25/25 [==============================] - 9s 318ms/step - loss: 0.1178 - accuracy: 0.9775 - val_loss: 3.5153 - val_accuracy: 0.4850\n",
            "Epoch 9/60\n",
            "25/25 [==============================] - 9s 320ms/step - loss: 0.1093 - accuracy: 0.9737 - val_loss: 3.5529 - val_accuracy: 0.4850\n",
            "Epoch 10/60\n",
            "25/25 [==============================] - 9s 320ms/step - loss: 0.1143 - accuracy: 0.9837 - val_loss: 3.6345 - val_accuracy: 0.4850\n",
            "Epoch 11/60\n",
            "25/25 [==============================] - 9s 318ms/step - loss: 0.1019 - accuracy: 0.9800 - val_loss: 3.6668 - val_accuracy: 0.4850\n",
            "Epoch 12/60\n",
            "25/25 [==============================] - 9s 318ms/step - loss: 0.0944 - accuracy: 0.9812 - val_loss: 3.7116 - val_accuracy: 0.4850\n",
            "Epoch 13/60\n",
            "25/25 [==============================] - 9s 319ms/step - loss: 0.1007 - accuracy: 0.9787 - val_loss: 3.7356 - val_accuracy: 0.4850\n",
            "Epoch 14/60\n",
            "25/25 [==============================] - 9s 320ms/step - loss: 0.1077 - accuracy: 0.9825 - val_loss: 3.7442 - val_accuracy: 0.4850\n",
            "Epoch 15/60\n",
            "25/25 [==============================] - 9s 319ms/step - loss: 0.1004 - accuracy: 0.9825 - val_loss: 3.7572 - val_accuracy: 0.4850\n",
            "Epoch 16/60\n",
            "25/25 [==============================] - 9s 318ms/step - loss: 0.1003 - accuracy: 0.9825 - val_loss: 3.7592 - val_accuracy: 0.4900\n",
            "Epoch 17/60\n",
            "25/25 [==============================] - 9s 319ms/step - loss: 0.1011 - accuracy: 0.9850 - val_loss: 3.7496 - val_accuracy: 0.4900\n",
            "Epoch 18/60\n",
            "25/25 [==============================] - 9s 318ms/step - loss: 0.1071 - accuracy: 0.9800 - val_loss: 3.7331 - val_accuracy: 0.4900\n",
            "Epoch 19/60\n",
            "25/25 [==============================] - 9s 318ms/step - loss: 0.0964 - accuracy: 0.9837 - val_loss: 3.7093 - val_accuracy: 0.4900\n",
            "Epoch 20/60\n",
            "25/25 [==============================] - 9s 319ms/step - loss: 0.1043 - accuracy: 0.9800 - val_loss: 3.6772 - val_accuracy: 0.4950\n",
            "Epoch 21/60\n",
            "25/25 [==============================] - 9s 320ms/step - loss: 0.1034 - accuracy: 0.9812 - val_loss: 3.6408 - val_accuracy: 0.4950\n",
            "Epoch 22/60\n",
            "25/25 [==============================] - 9s 318ms/step - loss: 0.1009 - accuracy: 0.9800 - val_loss: 3.5987 - val_accuracy: 0.4950\n",
            "Epoch 23/60\n",
            "25/25 [==============================] - 9s 322ms/step - loss: 0.0971 - accuracy: 0.9825 - val_loss: 3.5509 - val_accuracy: 0.4950\n",
            "Epoch 24/60\n",
            "25/25 [==============================] - 9s 319ms/step - loss: 0.0956 - accuracy: 0.9837 - val_loss: 3.4982 - val_accuracy: 0.5000\n",
            "Epoch 25/60\n",
            "25/25 [==============================] - 9s 321ms/step - loss: 0.1074 - accuracy: 0.9762 - val_loss: 3.4415 - val_accuracy: 0.5000\n",
            "Epoch 26/60\n",
            "25/25 [==============================] - 9s 318ms/step - loss: 0.0945 - accuracy: 0.9825 - val_loss: 3.3806 - val_accuracy: 0.5000\n",
            "Epoch 27/60\n",
            "25/25 [==============================] - 9s 319ms/step - loss: 0.0936 - accuracy: 0.9837 - val_loss: 3.3163 - val_accuracy: 0.5050\n",
            "Epoch 28/60\n",
            "25/25 [==============================] - 9s 319ms/step - loss: 0.1076 - accuracy: 0.9800 - val_loss: 3.2492 - val_accuracy: 0.5100\n",
            "Epoch 29/60\n",
            "25/25 [==============================] - 9s 318ms/step - loss: 0.0969 - accuracy: 0.9787 - val_loss: 3.1791 - val_accuracy: 0.5100\n",
            "Epoch 30/60\n",
            "25/25 [==============================] - 9s 320ms/step - loss: 0.0946 - accuracy: 0.9825 - val_loss: 3.1069 - val_accuracy: 0.5150\n",
            "Epoch 31/60\n",
            "25/25 [==============================] - 9s 319ms/step - loss: 0.0985 - accuracy: 0.9825 - val_loss: 3.0327 - val_accuracy: 0.5150\n",
            "Epoch 32/60\n",
            "25/25 [==============================] - 9s 319ms/step - loss: 0.0903 - accuracy: 0.9850 - val_loss: 2.9567 - val_accuracy: 0.5150\n",
            "Epoch 33/60\n",
            "25/25 [==============================] - 9s 318ms/step - loss: 0.0908 - accuracy: 0.9862 - val_loss: 2.8798 - val_accuracy: 0.5150\n",
            "Epoch 34/60\n",
            "25/25 [==============================] - 9s 322ms/step - loss: 0.0993 - accuracy: 0.9787 - val_loss: 2.8017 - val_accuracy: 0.5200\n",
            "Epoch 35/60\n",
            "25/25 [==============================] - 9s 319ms/step - loss: 0.0953 - accuracy: 0.9825 - val_loss: 2.7237 - val_accuracy: 0.5250\n",
            "Epoch 36/60\n",
            "25/25 [==============================] - 9s 320ms/step - loss: 0.1014 - accuracy: 0.9800 - val_loss: 2.6442 - val_accuracy: 0.5250\n",
            "Epoch 37/60\n",
            "25/25 [==============================] - 9s 319ms/step - loss: 0.1095 - accuracy: 0.9825 - val_loss: 2.5649 - val_accuracy: 0.5250\n",
            "Epoch 38/60\n",
            "25/25 [==============================] - 9s 319ms/step - loss: 0.1145 - accuracy: 0.9775 - val_loss: 2.4860 - val_accuracy: 0.5250\n",
            "Epoch 39/60\n",
            "25/25 [==============================] - 9s 322ms/step - loss: 0.0966 - accuracy: 0.9825 - val_loss: 2.4072 - val_accuracy: 0.5250\n",
            "Epoch 40/60\n",
            "25/25 [==============================] - 9s 320ms/step - loss: 0.1028 - accuracy: 0.9812 - val_loss: 2.3283 - val_accuracy: 0.5250\n",
            "Epoch 41/60\n",
            "25/25 [==============================] - 9s 321ms/step - loss: 0.0993 - accuracy: 0.9825 - val_loss: 2.2502 - val_accuracy: 0.5250\n",
            "Epoch 42/60\n",
            "25/25 [==============================] - 9s 321ms/step - loss: 0.1005 - accuracy: 0.9825 - val_loss: 2.1732 - val_accuracy: 0.5250\n",
            "Epoch 43/60\n",
            "25/25 [==============================] - 9s 318ms/step - loss: 0.0973 - accuracy: 0.9825 - val_loss: 2.0974 - val_accuracy: 0.5300\n",
            "Epoch 44/60\n",
            "25/25 [==============================] - 9s 319ms/step - loss: 0.0945 - accuracy: 0.9825 - val_loss: 2.0222 - val_accuracy: 0.5300\n",
            "Epoch 45/60\n",
            "25/25 [==============================] - 9s 320ms/step - loss: 0.1017 - accuracy: 0.9800 - val_loss: 1.9483 - val_accuracy: 0.5350\n",
            "Epoch 46/60\n",
            "25/25 [==============================] - 9s 322ms/step - loss: 0.1005 - accuracy: 0.9775 - val_loss: 1.8759 - val_accuracy: 0.5450\n",
            "Epoch 47/60\n",
            "25/25 [==============================] - 9s 318ms/step - loss: 0.1031 - accuracy: 0.9825 - val_loss: 1.8049 - val_accuracy: 0.5450\n",
            "Epoch 48/60\n",
            "25/25 [==============================] - 9s 318ms/step - loss: 0.1001 - accuracy: 0.9812 - val_loss: 1.7353 - val_accuracy: 0.5600\n",
            "Epoch 49/60\n",
            "25/25 [==============================] - 9s 319ms/step - loss: 0.1042 - accuracy: 0.9812 - val_loss: 1.6669 - val_accuracy: 0.5600\n",
            "Epoch 50/60\n",
            "25/25 [==============================] - 9s 318ms/step - loss: 0.0960 - accuracy: 0.9862 - val_loss: 1.6006 - val_accuracy: 0.5600\n",
            "Epoch 51/60\n",
            "25/25 [==============================] - 9s 319ms/step - loss: 0.0964 - accuracy: 0.9837 - val_loss: 1.5364 - val_accuracy: 0.5650\n",
            "Epoch 52/60\n",
            "25/25 [==============================] - 9s 319ms/step - loss: 0.0993 - accuracy: 0.9787 - val_loss: 1.4740 - val_accuracy: 0.5700\n",
            "Epoch 53/60\n",
            "25/25 [==============================] - 9s 320ms/step - loss: 0.1069 - accuracy: 0.9800 - val_loss: 1.4138 - val_accuracy: 0.5850\n",
            "Epoch 54/60\n",
            "25/25 [==============================] - 9s 317ms/step - loss: 0.0983 - accuracy: 0.9812 - val_loss: 1.3556 - val_accuracy: 0.5850\n",
            "Epoch 55/60\n",
            "25/25 [==============================] - 9s 319ms/step - loss: 0.1027 - accuracy: 0.9737 - val_loss: 1.2991 - val_accuracy: 0.5900\n",
            "Epoch 56/60\n",
            "25/25 [==============================] - 9s 321ms/step - loss: 0.0955 - accuracy: 0.9825 - val_loss: 1.2451 - val_accuracy: 0.5900\n",
            "Epoch 57/60\n",
            "25/25 [==============================] - 9s 323ms/step - loss: 0.0956 - accuracy: 0.9812 - val_loss: 1.1927 - val_accuracy: 0.6000\n",
            "Epoch 58/60\n",
            "25/25 [==============================] - 9s 321ms/step - loss: 0.1075 - accuracy: 0.9825 - val_loss: 1.1423 - val_accuracy: 0.6050\n",
            "Epoch 59/60\n",
            "25/25 [==============================] - 9s 317ms/step - loss: 0.0920 - accuracy: 0.9862 - val_loss: 1.0937 - val_accuracy: 0.6100\n",
            "Epoch 60/60\n",
            "25/25 [==============================] - 9s 318ms/step - loss: 0.1017 - accuracy: 0.9825 - val_loss: 1.0473 - val_accuracy: 0.6250\n"
          ]
        },
        {
          "output_type": "display_data",
          "data": {
            "image/png": "[encoded data removed]",
            "text/plain": [
              "<Figure size 432x288 with 1 Axes>"
            ]
          },
          "metadata": {
            "needs_background": "light"
          }
        }
      ]
    },
    {
      "cell_type": "code",
      "metadata": {
        "colab": {
          "base_uri": "https://localhost:8080/",
          "height": 1000
        },
        "id": "5GFygRWelJZA",
        "outputId": "049f05db-224d-4884-96f1-fe0a85e4ae58"
      },
      "source": [
        "models['base_model5'].fit(train_ds_scaled,validation_data=val_ds_scaled,epochs = 60, verbose = 1, workers = 3, class_weight = {0:1.13, 1:8.03, 2:1}, callbacks = [reduce_lr])\n",
        "plt.plot(models['base_model5'].history.history['accuracy'])\n",
        "plt.plot(models['base_model5'].history.history['val_accuracy'])\n",
        "plt.legend(['Train', 'Validation'])\n",
        "plt.title('MobileNetV2 training curves')\n",
        "plt.show()"
      ],
      "execution_count": null,
      "outputs": [
        {
          "output_type": "stream",
          "name": "stdout",
          "text": [
            "Epoch 1/60\n",
            "25/25 [==============================] - 12s 341ms/step - loss: 1.0565 - accuracy: 0.6812 - val_loss: 4.8251 - val_accuracy: 0.4800\n",
            "Epoch 2/60\n",
            "25/25 [==============================] - 9s 316ms/step - loss: 0.4681 - accuracy: 0.9000 - val_loss: 6.4584 - val_accuracy: 0.4800\n",
            "Epoch 3/60\n",
            "25/25 [==============================] - 9s 316ms/step - loss: 0.2761 - accuracy: 0.9350 - val_loss: 7.0050 - val_accuracy: 0.4800\n",
            "Epoch 4/60\n",
            "25/25 [==============================] - 9s 318ms/step - loss: 0.2078 - accuracy: 0.9563 - val_loss: 7.2276 - val_accuracy: 0.4800\n",
            "Epoch 5/60\n",
            "25/25 [==============================] - 9s 318ms/step - loss: 0.1317 - accuracy: 0.9712 - val_loss: 6.6079 - val_accuracy: 0.4800\n",
            "Epoch 6/60\n",
            "25/25 [==============================] - 9s 316ms/step - loss: 0.0938 - accuracy: 0.9775 - val_loss: 6.3669 - val_accuracy: 0.4800\n",
            "Epoch 7/60\n",
            "25/25 [==============================] - 9s 321ms/step - loss: 0.0632 - accuracy: 0.9862 - val_loss: 6.3822 - val_accuracy: 0.4800\n",
            "Epoch 8/60\n",
            "25/25 [==============================] - 9s 317ms/step - loss: 0.0654 - accuracy: 0.9887 - val_loss: 6.3898 - val_accuracy: 0.4800\n",
            "Epoch 9/60\n",
            "25/25 [==============================] - 9s 318ms/step - loss: 0.0558 - accuracy: 0.9937 - val_loss: 6.3895 - val_accuracy: 0.4800\n",
            "Epoch 10/60\n",
            "25/25 [==============================] - 9s 319ms/step - loss: 0.0526 - accuracy: 0.9937 - val_loss: 6.3331 - val_accuracy: 0.4850\n",
            "Epoch 11/60\n",
            "25/25 [==============================] - 9s 319ms/step - loss: 0.0507 - accuracy: 0.9912 - val_loss: 6.2643 - val_accuracy: 0.4850\n",
            "Epoch 12/60\n",
            "25/25 [==============================] - 9s 318ms/step - loss: 0.0471 - accuracy: 0.9950 - val_loss: 6.2244 - val_accuracy: 0.4850\n",
            "Epoch 13/60\n",
            "25/25 [==============================] - 9s 320ms/step - loss: 0.0472 - accuracy: 0.9900 - val_loss: 6.1771 - val_accuracy: 0.4850\n",
            "Epoch 14/60\n",
            "25/25 [==============================] - 9s 320ms/step - loss: 0.0531 - accuracy: 0.9887 - val_loss: 6.1103 - val_accuracy: 0.4850\n",
            "Epoch 15/60\n",
            "25/25 [==============================] - 9s 319ms/step - loss: 0.0539 - accuracy: 0.9887 - val_loss: 6.0401 - val_accuracy: 0.4850\n",
            "Epoch 16/60\n",
            "25/25 [==============================] - 9s 319ms/step - loss: 0.0537 - accuracy: 0.9937 - val_loss: 5.9722 - val_accuracy: 0.4850\n",
            "Epoch 17/60\n",
            "25/25 [==============================] - 9s 321ms/step - loss: 0.0469 - accuracy: 0.9937 - val_loss: 5.8993 - val_accuracy: 0.4850\n",
            "Epoch 18/60\n",
            "25/25 [==============================] - 9s 319ms/step - loss: 0.0484 - accuracy: 0.9937 - val_loss: 5.8209 - val_accuracy: 0.4850\n",
            "Epoch 19/60\n",
            "25/25 [==============================] - 9s 321ms/step - loss: 0.0515 - accuracy: 0.9887 - val_loss: 5.7383 - val_accuracy: 0.4900\n",
            "Epoch 20/60\n",
            "25/25 [==============================] - 9s 319ms/step - loss: 0.0494 - accuracy: 0.9925 - val_loss: 5.6537 - val_accuracy: 0.5000\n",
            "Epoch 21/60\n",
            "25/25 [==============================] - 9s 322ms/step - loss: 0.0483 - accuracy: 0.9912 - val_loss: 5.5657 - val_accuracy: 0.5050\n",
            "Epoch 22/60\n",
            "25/25 [==============================] - 9s 324ms/step - loss: 0.0568 - accuracy: 0.9912 - val_loss: 5.4751 - val_accuracy: 0.5050\n",
            "Epoch 23/60\n",
            "25/25 [==============================] - 9s 322ms/step - loss: 0.0499 - accuracy: 0.9925 - val_loss: 5.3815 - val_accuracy: 0.5050\n",
            "Epoch 24/60\n",
            "25/25 [==============================] - 9s 321ms/step - loss: 0.0514 - accuracy: 0.9937 - val_loss: 5.2860 - val_accuracy: 0.5050\n",
            "Epoch 25/60\n",
            "25/25 [==============================] - 9s 322ms/step - loss: 0.0517 - accuracy: 0.9900 - val_loss: 5.1886 - val_accuracy: 0.5100\n",
            "Epoch 26/60\n",
            "25/25 [==============================] - 10s 322ms/step - loss: 0.0412 - accuracy: 0.9950 - val_loss: 5.0891 - val_accuracy: 0.5100\n",
            "Epoch 27/60\n",
            "25/25 [==============================] - 9s 322ms/step - loss: 0.0482 - accuracy: 0.9925 - val_loss: 4.9874 - val_accuracy: 0.5100\n",
            "Epoch 28/60\n",
            "25/25 [==============================] - 10s 325ms/step - loss: 0.0448 - accuracy: 0.9900 - val_loss: 4.8832 - val_accuracy: 0.5100\n",
            "Epoch 29/60\n",
            "25/25 [==============================] - 9s 320ms/step - loss: 0.0536 - accuracy: 0.9925 - val_loss: 4.7782 - val_accuracy: 0.5100\n",
            "Epoch 30/60\n",
            "25/25 [==============================] - 9s 323ms/step - loss: 0.0555 - accuracy: 0.9875 - val_loss: 4.6714 - val_accuracy: 0.5150\n",
            "Epoch 31/60\n",
            "25/25 [==============================] - 9s 321ms/step - loss: 0.0476 - accuracy: 0.9950 - val_loss: 4.5623 - val_accuracy: 0.5200\n",
            "Epoch 32/60\n",
            "25/25 [==============================] - 9s 322ms/step - loss: 0.0485 - accuracy: 0.9937 - val_loss: 4.4523 - val_accuracy: 0.5200\n",
            "Epoch 33/60\n",
            "25/25 [==============================] - 9s 324ms/step - loss: 0.0450 - accuracy: 0.9937 - val_loss: 4.3409 - val_accuracy: 0.5200\n",
            "Epoch 34/60\n",
            "25/25 [==============================] - 9s 322ms/step - loss: 0.0505 - accuracy: 0.9937 - val_loss: 4.2281 - val_accuracy: 0.5250\n",
            "Epoch 35/60\n",
            "25/25 [==============================] - 9s 322ms/step - loss: 0.0481 - accuracy: 0.9975 - val_loss: 4.1141 - val_accuracy: 0.5300\n",
            "Epoch 36/60\n",
            "25/25 [==============================] - 9s 322ms/step - loss: 0.0488 - accuracy: 0.9925 - val_loss: 3.9988 - val_accuracy: 0.5300\n",
            "Epoch 37/60\n",
            "25/25 [==============================] - 9s 323ms/step - loss: 0.0529 - accuracy: 0.9925 - val_loss: 3.8835 - val_accuracy: 0.5300\n",
            "Epoch 38/60\n",
            "25/25 [==============================] - 9s 322ms/step - loss: 0.0450 - accuracy: 0.9962 - val_loss: 3.7669 - val_accuracy: 0.5300\n",
            "Epoch 39/60\n",
            "25/25 [==============================] - 9s 322ms/step - loss: 0.0451 - accuracy: 0.9937 - val_loss: 3.6496 - val_accuracy: 0.5300\n",
            "Epoch 40/60\n",
            "25/25 [==============================] - 9s 321ms/step - loss: 0.0493 - accuracy: 0.9950 - val_loss: 3.5325 - val_accuracy: 0.5350\n",
            "Epoch 41/60\n",
            "25/25 [==============================] - 9s 324ms/step - loss: 0.0471 - accuracy: 0.9937 - val_loss: 3.4153 - val_accuracy: 0.5350\n",
            "Epoch 42/60\n",
            "25/25 [==============================] - 9s 324ms/step - loss: 0.0492 - accuracy: 0.9912 - val_loss: 3.2983 - val_accuracy: 0.5400\n",
            "Epoch 43/60\n",
            "25/25 [==============================] - 9s 324ms/step - loss: 0.0516 - accuracy: 0.9925 - val_loss: 3.1820 - val_accuracy: 0.5400\n",
            "Epoch 44/60\n",
            "25/25 [==============================] - 9s 324ms/step - loss: 0.0522 - accuracy: 0.9900 - val_loss: 3.0666 - val_accuracy: 0.5450\n",
            "Epoch 45/60\n",
            "25/25 [==============================] - 9s 322ms/step - loss: 0.0497 - accuracy: 0.9950 - val_loss: 2.9526 - val_accuracy: 0.5450\n",
            "Epoch 46/60\n",
            "25/25 [==============================] - 9s 324ms/step - loss: 0.0562 - accuracy: 0.9937 - val_loss: 2.8402 - val_accuracy: 0.5550\n",
            "Epoch 47/60\n",
            "25/25 [==============================] - 9s 324ms/step - loss: 0.0454 - accuracy: 0.9975 - val_loss: 2.7303 - val_accuracy: 0.5600\n",
            "Epoch 48/60\n",
            "25/25 [==============================] - 10s 324ms/step - loss: 0.0428 - accuracy: 0.9937 - val_loss: 2.6218 - val_accuracy: 0.5650\n",
            "Epoch 49/60\n",
            "25/25 [==============================] - 10s 325ms/step - loss: 0.0498 - accuracy: 0.9937 - val_loss: 2.5152 - val_accuracy: 0.5700\n",
            "Epoch 50/60\n",
            "25/25 [==============================] - 10s 324ms/step - loss: 0.0544 - accuracy: 0.9912 - val_loss: 2.4111 - val_accuracy: 0.5700\n",
            "Epoch 51/60\n",
            "25/25 [==============================] - 9s 323ms/step - loss: 0.0452 - accuracy: 0.9950 - val_loss: 2.3093 - val_accuracy: 0.5750\n",
            "Epoch 52/60\n",
            "25/25 [==============================] - 10s 326ms/step - loss: 0.0447 - accuracy: 0.9937 - val_loss: 2.2099 - val_accuracy: 0.5750\n",
            "Epoch 53/60\n",
            "25/25 [==============================] - 10s 324ms/step - loss: 0.0446 - accuracy: 0.9950 - val_loss: 2.1138 - val_accuracy: 0.5800\n",
            "Epoch 54/60\n",
            "25/25 [==============================] - 9s 324ms/step - loss: 0.0490 - accuracy: 0.9925 - val_loss: 2.0202 - val_accuracy: 0.5850\n",
            "Epoch 55/60\n",
            "25/25 [==============================] - 9s 323ms/step - loss: 0.0479 - accuracy: 0.9925 - val_loss: 1.9299 - val_accuracy: 0.5850\n",
            "Epoch 56/60\n",
            "25/25 [==============================] - 10s 325ms/step - loss: 0.0437 - accuracy: 0.9962 - val_loss: 1.8422 - val_accuracy: 0.5950\n",
            "Epoch 57/60\n",
            "25/25 [==============================] - 10s 326ms/step - loss: 0.0512 - accuracy: 0.9925 - val_loss: 1.7576 - val_accuracy: 0.5950\n",
            "Epoch 58/60\n",
            "25/25 [==============================] - 9s 323ms/step - loss: 0.0443 - accuracy: 0.9937 - val_loss: 1.6754 - val_accuracy: 0.6100\n",
            "Epoch 59/60\n",
            "25/25 [==============================] - 9s 324ms/step - loss: 0.0461 - accuracy: 0.9925 - val_loss: 1.5965 - val_accuracy: 0.6250\n",
            "Epoch 60/60\n",
            "25/25 [==============================] - 9s 322ms/step - loss: 0.0498 - accuracy: 0.9937 - val_loss: 1.5209 - val_accuracy: 0.6350\n"
          ]
        },
        {
          "output_type": "display_data",
          "data": {
            "image/png": "[encoded data removed]",
            "text/plain": [
              "<Figure size 432x288 with 1 Axes>"
            ]
          },
          "metadata": {
            "needs_background": "light"
          }
        }
      ]
    },
    {
      "cell_type": "code",
      "metadata": {
        "colab": {
          "base_uri": "https://localhost:8080/",
          "height": 1000
        },
        "id": "_cIi9t97lJ4Z",
        "outputId": "f69ecbd9-690c-4042-ca56-669185353fbb"
      },
      "source": [
        "models['base_model6'].fit(train_ds_scaled,validation_data=val_ds_scaled,epochs = 60, verbose = 1, workers = 3, class_weight = {0:1.13, 1:8.03, 2:1}, callbacks = [reduce_lr])\n",
        "plt.plot(models['base_model6'].history.history['accuracy'])\n",
        "plt.plot(models['base_model6'].history.history['val_accuracy'])\n",
        "plt.legend(['Train', 'Validation'])\n",
        "plt.title('MobileNetV2 training curves')\n",
        "plt.show()"
      ],
      "execution_count": null,
      "outputs": [
        {
          "output_type": "stream",
          "name": "stdout",
          "text": [
            "Epoch 1/60\n",
            "25/25 [==============================] - 13s 358ms/step - loss: 0.9975 - accuracy: 0.7225 - val_loss: 2.5064 - val_accuracy: 0.4800\n",
            "Epoch 2/60\n",
            "25/25 [==============================] - 10s 329ms/step - loss: 0.3879 - accuracy: 0.9287 - val_loss: 2.4371 - val_accuracy: 0.4800\n",
            "Epoch 3/60\n",
            "25/25 [==============================] - 10s 330ms/step - loss: 0.1891 - accuracy: 0.9613 - val_loss: 2.4182 - val_accuracy: 0.4800\n",
            "Epoch 4/60\n",
            "25/25 [==============================] - 10s 330ms/step - loss: 0.1116 - accuracy: 0.9812 - val_loss: 2.5091 - val_accuracy: 0.4800\n",
            "Epoch 5/60\n",
            "25/25 [==============================] - 10s 330ms/step - loss: 0.0664 - accuracy: 0.9900 - val_loss: 2.4043 - val_accuracy: 0.4750\n",
            "Epoch 6/60\n",
            "25/25 [==============================] - 10s 331ms/step - loss: 0.0538 - accuracy: 0.9875 - val_loss: 2.1070 - val_accuracy: 0.4750\n",
            "Epoch 7/60\n",
            "25/25 [==============================] - 10s 332ms/step - loss: 0.0308 - accuracy: 0.9962 - val_loss: 1.8281 - val_accuracy: 0.4800\n",
            "Epoch 8/60\n",
            "25/25 [==============================] - 10s 329ms/step - loss: 0.0230 - accuracy: 0.9987 - val_loss: 1.8172 - val_accuracy: 0.5150\n",
            "Epoch 9/60\n",
            "25/25 [==============================] - 10s 332ms/step - loss: 0.0134 - accuracy: 1.0000 - val_loss: 2.0900 - val_accuracy: 0.5300\n",
            "Epoch 10/60\n",
            "25/25 [==============================] - 10s 332ms/step - loss: 0.0114 - accuracy: 0.9987 - val_loss: 1.9297 - val_accuracy: 0.5200\n",
            "Epoch 11/60\n",
            "25/25 [==============================] - 10s 330ms/step - loss: 0.0077 - accuracy: 1.0000 - val_loss: 1.9331 - val_accuracy: 0.5100\n",
            "Epoch 12/60\n",
            "25/25 [==============================] - 10s 331ms/step - loss: 0.0049 - accuracy: 1.0000 - val_loss: 1.9907 - val_accuracy: 0.5100\n",
            "Epoch 13/60\n",
            "25/25 [==============================] - 10s 329ms/step - loss: 0.0096 - accuracy: 0.9975 - val_loss: 2.0285 - val_accuracy: 0.5100\n",
            "Epoch 14/60\n",
            "25/25 [==============================] - 10s 332ms/step - loss: 0.0058 - accuracy: 1.0000 - val_loss: 2.0296 - val_accuracy: 0.5200\n",
            "Epoch 15/60\n",
            "25/25 [==============================] - 10s 330ms/step - loss: 0.0049 - accuracy: 1.0000 - val_loss: 2.0154 - val_accuracy: 0.5200\n",
            "Epoch 16/60\n",
            "25/25 [==============================] - 10s 330ms/step - loss: 0.0034 - accuracy: 1.0000 - val_loss: 2.0105 - val_accuracy: 0.5200\n",
            "Epoch 17/60\n",
            "25/25 [==============================] - 10s 331ms/step - loss: 0.0057 - accuracy: 1.0000 - val_loss: 1.9999 - val_accuracy: 0.5200\n",
            "Epoch 18/60\n",
            "25/25 [==============================] - 10s 333ms/step - loss: 0.0055 - accuracy: 0.9987 - val_loss: 1.9423 - val_accuracy: 0.5200\n",
            "Epoch 19/60\n",
            "25/25 [==============================] - 10s 332ms/step - loss: 0.0033 - accuracy: 1.0000 - val_loss: 1.9579 - val_accuracy: 0.5200\n",
            "Epoch 20/60\n",
            "25/25 [==============================] - 10s 333ms/step - loss: 0.0032 - accuracy: 1.0000 - val_loss: 1.9741 - val_accuracy: 0.5200\n",
            "Epoch 21/60\n",
            "25/25 [==============================] - 10s 330ms/step - loss: 0.0040 - accuracy: 1.0000 - val_loss: 1.9904 - val_accuracy: 0.5200\n",
            "Epoch 22/60\n",
            "25/25 [==============================] - 10s 331ms/step - loss: 0.0037 - accuracy: 1.0000 - val_loss: 2.0074 - val_accuracy: 0.5200\n",
            "Epoch 23/60\n",
            "25/25 [==============================] - 10s 330ms/step - loss: 0.0036 - accuracy: 1.0000 - val_loss: 2.0264 - val_accuracy: 0.5200\n",
            "Epoch 24/60\n",
            "25/25 [==============================] - 10s 330ms/step - loss: 0.0035 - accuracy: 1.0000 - val_loss: 2.0468 - val_accuracy: 0.5300\n",
            "Epoch 25/60\n",
            "25/25 [==============================] - 10s 331ms/step - loss: 0.0044 - accuracy: 1.0000 - val_loss: 2.0672 - val_accuracy: 0.5350\n",
            "Epoch 26/60\n",
            "25/25 [==============================] - 10s 331ms/step - loss: 0.0081 - accuracy: 1.0000 - val_loss: 2.0875 - val_accuracy: 0.5400\n",
            "Epoch 27/60\n",
            "25/25 [==============================] - 10s 330ms/step - loss: 0.0043 - accuracy: 1.0000 - val_loss: 2.1075 - val_accuracy: 0.5400\n",
            "Epoch 28/60\n",
            "25/25 [==============================] - 10s 333ms/step - loss: 0.0038 - accuracy: 1.0000 - val_loss: 2.1273 - val_accuracy: 0.5400\n",
            "Epoch 29/60\n",
            "25/25 [==============================] - 10s 334ms/step - loss: 0.0044 - accuracy: 1.0000 - val_loss: 2.1467 - val_accuracy: 0.5400\n",
            "Epoch 30/60\n",
            "25/25 [==============================] - 10s 332ms/step - loss: 0.0034 - accuracy: 1.0000 - val_loss: 2.1663 - val_accuracy: 0.5400\n",
            "Epoch 31/60\n",
            "25/25 [==============================] - 10s 332ms/step - loss: 0.0039 - accuracy: 1.0000 - val_loss: 2.1849 - val_accuracy: 0.5350\n",
            "Epoch 32/60\n",
            "25/25 [==============================] - 10s 332ms/step - loss: 0.0036 - accuracy: 1.0000 - val_loss: 2.2030 - val_accuracy: 0.5350\n",
            "Epoch 33/60\n",
            "25/25 [==============================] - 10s 330ms/step - loss: 0.0036 - accuracy: 1.0000 - val_loss: 2.2199 - val_accuracy: 0.5450\n",
            "Epoch 34/60\n",
            "25/25 [==============================] - 10s 333ms/step - loss: 0.0034 - accuracy: 1.0000 - val_loss: 2.2353 - val_accuracy: 0.5500\n",
            "Epoch 35/60\n",
            "25/25 [==============================] - 10s 330ms/step - loss: 0.0050 - accuracy: 1.0000 - val_loss: 2.2500 - val_accuracy: 0.5550\n",
            "Epoch 36/60\n",
            "25/25 [==============================] - 10s 329ms/step - loss: 0.0038 - accuracy: 1.0000 - val_loss: 2.2636 - val_accuracy: 0.5650\n",
            "Epoch 37/60\n",
            "25/25 [==============================] - 10s 332ms/step - loss: 0.0036 - accuracy: 1.0000 - val_loss: 2.2758 - val_accuracy: 0.5650\n",
            "Epoch 38/60\n",
            "25/25 [==============================] - 10s 332ms/step - loss: 0.0049 - accuracy: 1.0000 - val_loss: 2.2862 - val_accuracy: 0.5650\n",
            "Epoch 39/60\n",
            "25/25 [==============================] - 10s 329ms/step - loss: 0.0038 - accuracy: 1.0000 - val_loss: 2.2948 - val_accuracy: 0.5650\n",
            "Epoch 40/60\n",
            "25/25 [==============================] - 10s 331ms/step - loss: 0.0042 - accuracy: 1.0000 - val_loss: 2.3014 - val_accuracy: 0.5650\n",
            "Epoch 41/60\n",
            "25/25 [==============================] - 10s 329ms/step - loss: 0.0040 - accuracy: 1.0000 - val_loss: 2.3052 - val_accuracy: 0.5650\n",
            "Epoch 42/60\n",
            "25/25 [==============================] - 10s 330ms/step - loss: 0.0040 - accuracy: 1.0000 - val_loss: 2.3078 - val_accuracy: 0.5650\n",
            "Epoch 43/60\n",
            "25/25 [==============================] - 10s 329ms/step - loss: 0.0040 - accuracy: 1.0000 - val_loss: 2.3076 - val_accuracy: 0.5650\n",
            "Epoch 44/60\n",
            "25/25 [==============================] - 10s 332ms/step - loss: 0.0041 - accuracy: 1.0000 - val_loss: 2.3062 - val_accuracy: 0.5700\n",
            "Epoch 45/60\n",
            "25/25 [==============================] - 10s 332ms/step - loss: 0.0054 - accuracy: 1.0000 - val_loss: 2.3027 - val_accuracy: 0.5700\n",
            "Epoch 46/60\n",
            "25/25 [==============================] - 10s 329ms/step - loss: 0.0068 - accuracy: 0.9987 - val_loss: 2.2972 - val_accuracy: 0.5750\n",
            "Epoch 47/60\n",
            "25/25 [==============================] - 10s 334ms/step - loss: 0.0039 - accuracy: 1.0000 - val_loss: 2.2901 - val_accuracy: 0.5800\n",
            "Epoch 48/60\n",
            "25/25 [==============================] - 10s 332ms/step - loss: 0.0041 - accuracy: 1.0000 - val_loss: 2.2813 - val_accuracy: 0.5800\n",
            "Epoch 49/60\n",
            "25/25 [==============================] - 10s 332ms/step - loss: 0.0035 - accuracy: 1.0000 - val_loss: 2.2713 - val_accuracy: 0.5800\n",
            "Epoch 50/60\n",
            "25/25 [==============================] - 10s 330ms/step - loss: 0.0055 - accuracy: 1.0000 - val_loss: 2.2591 - val_accuracy: 0.5800\n",
            "Epoch 51/60\n",
            "25/25 [==============================] - 10s 331ms/step - loss: 0.0037 - accuracy: 1.0000 - val_loss: 2.2453 - val_accuracy: 0.5850\n",
            "Epoch 52/60\n",
            "25/25 [==============================] - 10s 331ms/step - loss: 0.0060 - accuracy: 0.9987 - val_loss: 2.2307 - val_accuracy: 0.5900\n",
            "Epoch 53/60\n",
            "25/25 [==============================] - 10s 330ms/step - loss: 0.0032 - accuracy: 1.0000 - val_loss: 2.2141 - val_accuracy: 0.5900\n",
            "Epoch 54/60\n",
            "25/25 [==============================] - 10s 331ms/step - loss: 0.0031 - accuracy: 1.0000 - val_loss: 2.1968 - val_accuracy: 0.5900\n",
            "Epoch 55/60\n",
            "25/25 [==============================] - 10s 330ms/step - loss: 0.0044 - accuracy: 1.0000 - val_loss: 2.1783 - val_accuracy: 0.5900\n",
            "Epoch 56/60\n",
            "25/25 [==============================] - 10s 332ms/step - loss: 0.0029 - accuracy: 1.0000 - val_loss: 2.1576 - val_accuracy: 0.5900\n",
            "Epoch 57/60\n",
            "25/25 [==============================] - 10s 334ms/step - loss: 0.0031 - accuracy: 1.0000 - val_loss: 2.1364 - val_accuracy: 0.5900\n",
            "Epoch 58/60\n",
            "25/25 [==============================] - 10s 331ms/step - loss: 0.0033 - accuracy: 1.0000 - val_loss: 2.1137 - val_accuracy: 0.5900\n",
            "Epoch 59/60\n",
            "25/25 [==============================] - 10s 329ms/step - loss: 0.0040 - accuracy: 1.0000 - val_loss: 2.0900 - val_accuracy: 0.5900\n",
            "Epoch 60/60\n",
            "25/25 [==============================] - 10s 330ms/step - loss: 0.0042 - accuracy: 1.0000 - val_loss: 2.0650 - val_accuracy: 0.5900\n"
          ]
        },
        {
          "output_type": "display_data",
          "data": {
            "image/png": "[encoded data removed]",
            "text/plain": [
              "<Figure size 432x288 with 1 Axes>"
            ]
          },
          "metadata": {
            "needs_background": "light"
          }
        }
      ]
    },
    {
      "cell_type": "code",
      "metadata": {
        "colab": {
          "base_uri": "https://localhost:8080/"
        },
        "id": "2f4rjpzoZnn_",
        "outputId": "fa1ce784-054b-46bc-d4e1-8ee9db116f41"
      },
      "source": [
        "# second trial of 2,4, 8\n",
        "from tensorflow.keras.applications import  MobileNetV2\n",
        "models = {'base_model'+str(num) : MobileNetV2(include_top=False, weights='imagenet', \n",
        "                                           input_shape = (img_height, img_width, 3),classes = num_classes, pooling = 'avg') for num in range(0,4)}\n",
        "num=0\n",
        "for i, (model_name, model) in zip(range(154, -2,-2), models.items()):\n",
        "    break_point  = i\n",
        "    for layer in model.layers[0:break_point]:\n",
        "        layer.trainable = False\n",
        "    for layer in model.layers[break_point:]:\n",
        "        layer.trainable = True\n",
        "    input_layer = model.input\n",
        "    output_layer = model.output\n",
        "    x = Dense(num_classes, activation  = 'softmax')(output_layer)    \n",
        "    models[model_name] = Model(inputs = input_layer, outputs = x)\n",
        "\n",
        "\n",
        "for model_name, model in models.items():\n",
        "    count = 0\n",
        "    trained_layers = ['a' if layer.trainable == True else None for layer in model.layers]\n",
        "    print(f'The number of trainable layers in {model_name} is', trained_layers.count('a'), sep=':')\n",
        "\n",
        "    # resnet_model.summary()\n",
        "for model_name, model in models.items():\n",
        "    model.compile(optimizer = optimizers.Adam(lr=1e-4), loss = 'categorical_crossentropy', metrics = ['accuracy'])"
      ],
      "execution_count": null,
      "outputs": [
        {
          "output_type": "stream",
          "name": "stdout",
          "text": [
            "WARNING:tensorflow:`input_shape` is undefined or non-square, or `rows` is not in [96, 128, 160, 192, 224]. Weights for input shape (224, 224) will be loaded as the default.\n",
            "WARNING:tensorflow:`input_shape` is undefined or non-square, or `rows` is not in [96, 128, 160, 192, 224]. Weights for input shape (224, 224) will be loaded as the default.\n",
            "WARNING:tensorflow:`input_shape` is undefined or non-square, or `rows` is not in [96, 128, 160, 192, 224]. Weights for input shape (224, 224) will be loaded as the default.\n",
            "WARNING:tensorflow:`input_shape` is undefined or non-square, or `rows` is not in [96, 128, 160, 192, 224]. Weights for input shape (224, 224) will be loaded as the default.\n",
            "The number of trainable layers in base_model0 is:2\n",
            "The number of trainable layers in base_model1 is:4\n",
            "The number of trainable layers in base_model2 is:6\n",
            "The number of trainable layers in base_model3 is:8\n"
          ]
        }
      ]
    },
    {
      "cell_type": "code",
      "metadata": {
        "colab": {
          "base_uri": "https://localhost:8080/",
          "height": 1000
        },
        "id": "v7oG1asv3LxL",
        "outputId": "419319e9-dc97-431e-a58d-9e8360c37499"
      },
      "source": [
        "models['base_model0'].fit(train_ds_scaled,validation_data=val_ds_scaled,epochs = 60, verbose = 1, workers = 3, class_weight = {0:1.13, 1:8.03, 2:1}, callbacks = [reduce_lr])\n",
        "plt.plot(models['base_model0'].history.history['accuracy'])\n",
        "plt.plot(models['base_model0'].history.history['val_accuracy'])\n",
        "plt.legend(['Train', 'Validation'])\n",
        "plt.title('MobileNetV2 training curves')\n",
        "plt.show()"
      ],
      "execution_count": null,
      "outputs": [
        {
          "output_type": "stream",
          "name": "stdout",
          "text": [
            "Epoch 1/60\n",
            "25/25 [==============================] - 12s 322ms/step - loss: 2.9076 - accuracy: 0.0600 - val_loss: 1.6699 - val_accuracy: 0.1400\n",
            "Epoch 2/60\n",
            "25/25 [==============================] - 9s 292ms/step - loss: 1.7907 - accuracy: 0.2837 - val_loss: 1.0648 - val_accuracy: 0.3900\n",
            "Epoch 3/60\n",
            "25/25 [==============================] - 9s 293ms/step - loss: 1.5697 - accuracy: 0.4450 - val_loss: 0.9927 - val_accuracy: 0.5100\n",
            "Epoch 4/60\n",
            "25/25 [==============================] - 9s 291ms/step - loss: 1.4934 - accuracy: 0.4825 - val_loss: 0.9807 - val_accuracy: 0.5200\n",
            "Epoch 5/60\n",
            "25/25 [==============================] - 9s 291ms/step - loss: 1.4361 - accuracy: 0.5362 - val_loss: 0.9330 - val_accuracy: 0.6000\n",
            "Epoch 6/60\n",
            "25/25 [==============================] - 9s 294ms/step - loss: 1.3856 - accuracy: 0.6363 - val_loss: 0.9025 - val_accuracy: 0.6200\n",
            "Epoch 7/60\n",
            "25/25 [==============================] - 9s 294ms/step - loss: 1.3421 - accuracy: 0.5925 - val_loss: 0.8928 - val_accuracy: 0.6200\n",
            "Epoch 8/60\n",
            "25/25 [==============================] - 9s 291ms/step - loss: 1.3012 - accuracy: 0.6100 - val_loss: 0.8729 - val_accuracy: 0.6550\n",
            "Epoch 9/60\n",
            "25/25 [==============================] - 9s 294ms/step - loss: 1.2696 - accuracy: 0.6488 - val_loss: 0.8381 - val_accuracy: 0.6750\n",
            "Epoch 10/60\n",
            "25/25 [==============================] - 9s 293ms/step - loss: 1.2392 - accuracy: 0.6625 - val_loss: 0.8232 - val_accuracy: 0.6700\n",
            "Epoch 11/60\n",
            "25/25 [==============================] - 9s 297ms/step - loss: 1.2145 - accuracy: 0.6187 - val_loss: 0.8307 - val_accuracy: 0.6300\n",
            "Epoch 12/60\n",
            "25/25 [==============================] - 9s 295ms/step - loss: 1.1944 - accuracy: 0.6662 - val_loss: 0.8037 - val_accuracy: 0.6350\n",
            "Epoch 13/60\n",
            "25/25 [==============================] - 9s 293ms/step - loss: 1.1642 - accuracy: 0.6375 - val_loss: 0.8036 - val_accuracy: 0.6350\n",
            "Epoch 14/60\n",
            "25/25 [==============================] - 9s 292ms/step - loss: 1.1445 - accuracy: 0.6687 - val_loss: 0.7660 - val_accuracy: 0.6600\n",
            "Epoch 15/60\n",
            "25/25 [==============================] - 9s 296ms/step - loss: 1.1271 - accuracy: 0.6825 - val_loss: 0.7686 - val_accuracy: 0.6600\n",
            "Epoch 16/60\n",
            "25/25 [==============================] - 9s 294ms/step - loss: 1.1096 - accuracy: 0.6787 - val_loss: 0.7619 - val_accuracy: 0.6550\n",
            "Epoch 17/60\n",
            "25/25 [==============================] - 9s 295ms/step - loss: 1.0979 - accuracy: 0.6850 - val_loss: 0.7559 - val_accuracy: 0.6500\n",
            "Epoch 18/60\n",
            "25/25 [==============================] - 9s 295ms/step - loss: 1.0814 - accuracy: 0.6675 - val_loss: 0.7325 - val_accuracy: 0.6850\n",
            "Epoch 19/60\n",
            "25/25 [==============================] - 9s 297ms/step - loss: 1.0668 - accuracy: 0.6812 - val_loss: 0.7272 - val_accuracy: 0.6800\n",
            "Epoch 20/60\n",
            "25/25 [==============================] - 9s 296ms/step - loss: 1.0553 - accuracy: 0.6812 - val_loss: 0.7220 - val_accuracy: 0.6850\n",
            "Epoch 21/60\n",
            "25/25 [==============================] - 9s 295ms/step - loss: 1.0504 - accuracy: 0.7250 - val_loss: 0.6872 - val_accuracy: 0.7100\n",
            "Epoch 22/60\n",
            "25/25 [==============================] - 9s 296ms/step - loss: 1.0334 - accuracy: 0.6800 - val_loss: 0.7295 - val_accuracy: 0.6600\n",
            "Epoch 23/60\n",
            "25/25 [==============================] - 9s 295ms/step - loss: 1.0238 - accuracy: 0.7038 - val_loss: 0.6908 - val_accuracy: 0.7000\n",
            "Epoch 24/60\n",
            "25/25 [==============================] - 9s 299ms/step - loss: 1.0166 - accuracy: 0.7125 - val_loss: 0.6919 - val_accuracy: 0.6800\n",
            "Epoch 25/60\n",
            "25/25 [==============================] - 9s 296ms/step - loss: 1.0009 - accuracy: 0.6963 - val_loss: 0.6865 - val_accuracy: 0.7000\n",
            "Epoch 26/60\n",
            "25/25 [==============================] - 9s 296ms/step - loss: 0.9935 - accuracy: 0.7113 - val_loss: 0.6908 - val_accuracy: 0.6750\n",
            "Epoch 27/60\n",
            "25/25 [==============================] - 9s 296ms/step - loss: 0.9831 - accuracy: 0.6963 - val_loss: 0.6794 - val_accuracy: 0.7000\n",
            "Epoch 28/60\n",
            "25/25 [==============================] - 9s 297ms/step - loss: 0.9794 - accuracy: 0.7175 - val_loss: 0.6481 - val_accuracy: 0.7300\n",
            "Epoch 29/60\n",
            "25/25 [==============================] - 9s 298ms/step - loss: 0.9672 - accuracy: 0.7175 - val_loss: 0.6759 - val_accuracy: 0.6800\n",
            "Epoch 30/60\n",
            "25/25 [==============================] - 9s 294ms/step - loss: 0.9611 - accuracy: 0.7025 - val_loss: 0.6453 - val_accuracy: 0.7200\n",
            "Epoch 31/60\n",
            "25/25 [==============================] - 9s 299ms/step - loss: 0.9525 - accuracy: 0.7275 - val_loss: 0.6451 - val_accuracy: 0.7050\n",
            "Epoch 32/60\n",
            "25/25 [==============================] - 9s 295ms/step - loss: 0.9425 - accuracy: 0.7250 - val_loss: 0.6478 - val_accuracy: 0.7100\n",
            "Epoch 33/60\n",
            "25/25 [==============================] - 9s 296ms/step - loss: 0.9372 - accuracy: 0.7412 - val_loss: 0.6396 - val_accuracy: 0.7150\n",
            "Epoch 34/60\n",
            "25/25 [==============================] - 9s 295ms/step - loss: 0.9320 - accuracy: 0.7200 - val_loss: 0.6315 - val_accuracy: 0.7250\n",
            "Epoch 35/60\n",
            "25/25 [==============================] - 9s 295ms/step - loss: 0.9244 - accuracy: 0.7425 - val_loss: 0.6469 - val_accuracy: 0.7000\n",
            "Epoch 36/60\n",
            "25/25 [==============================] - 9s 297ms/step - loss: 0.9209 - accuracy: 0.7237 - val_loss: 0.6195 - val_accuracy: 0.7300\n",
            "Epoch 37/60\n",
            "25/25 [==============================] - 9s 294ms/step - loss: 0.9084 - accuracy: 0.7375 - val_loss: 0.6269 - val_accuracy: 0.7250\n",
            "Epoch 38/60\n",
            "25/25 [==============================] - 9s 300ms/step - loss: 0.9116 - accuracy: 0.7450 - val_loss: 0.5997 - val_accuracy: 0.7500\n",
            "Epoch 39/60\n",
            "25/25 [==============================] - 9s 293ms/step - loss: 0.8985 - accuracy: 0.7387 - val_loss: 0.6134 - val_accuracy: 0.7400\n",
            "Epoch 40/60\n",
            "25/25 [==============================] - 9s 297ms/step - loss: 0.8918 - accuracy: 0.7312 - val_loss: 0.6216 - val_accuracy: 0.7200\n",
            "Epoch 41/60\n",
            "25/25 [==============================] - 9s 295ms/step - loss: 0.8884 - accuracy: 0.7588 - val_loss: 0.6027 - val_accuracy: 0.7400\n",
            "Epoch 42/60\n",
            "25/25 [==============================] - 9s 294ms/step - loss: 0.8801 - accuracy: 0.7362 - val_loss: 0.6174 - val_accuracy: 0.7250\n",
            "Epoch 43/60\n",
            "25/25 [==============================] - 9s 298ms/step - loss: 0.8756 - accuracy: 0.7500 - val_loss: 0.5921 - val_accuracy: 0.7450\n",
            "Epoch 44/60\n",
            "25/25 [==============================] - 9s 297ms/step - loss: 0.8691 - accuracy: 0.7613 - val_loss: 0.5943 - val_accuracy: 0.7400\n",
            "Epoch 45/60\n",
            "25/25 [==============================] - 9s 297ms/step - loss: 0.8631 - accuracy: 0.7675 - val_loss: 0.6035 - val_accuracy: 0.7200\n",
            "Epoch 46/60\n",
            "25/25 [==============================] - 9s 295ms/step - loss: 0.8587 - accuracy: 0.7450 - val_loss: 0.5909 - val_accuracy: 0.7400\n",
            "Epoch 47/60\n",
            "25/25 [==============================] - 9s 297ms/step - loss: 0.8538 - accuracy: 0.7550 - val_loss: 0.5821 - val_accuracy: 0.7400\n",
            "Epoch 48/60\n",
            "25/25 [==============================] - 9s 296ms/step - loss: 0.8482 - accuracy: 0.7738 - val_loss: 0.5838 - val_accuracy: 0.7400\n",
            "Epoch 49/60\n",
            "25/25 [==============================] - 9s 298ms/step - loss: 0.8452 - accuracy: 0.7638 - val_loss: 0.5835 - val_accuracy: 0.7400\n",
            "Epoch 50/60\n",
            "25/25 [==============================] - 9s 299ms/step - loss: 0.8418 - accuracy: 0.7763 - val_loss: 0.5751 - val_accuracy: 0.7400\n",
            "Epoch 51/60\n",
            "25/25 [==============================] - 9s 293ms/step - loss: 0.8372 - accuracy: 0.7487 - val_loss: 0.5590 - val_accuracy: 0.7600\n",
            "Epoch 52/60\n",
            "25/25 [==============================] - 9s 296ms/step - loss: 0.8306 - accuracy: 0.8000 - val_loss: 0.5758 - val_accuracy: 0.7350\n",
            "Epoch 53/60\n",
            "25/25 [==============================] - 9s 300ms/step - loss: 0.8271 - accuracy: 0.7513 - val_loss: 0.5563 - val_accuracy: 0.7550\n",
            "Epoch 54/60\n",
            "25/25 [==============================] - 9s 299ms/step - loss: 0.8210 - accuracy: 0.7875 - val_loss: 0.5594 - val_accuracy: 0.7450\n",
            "Epoch 55/60\n",
            "25/25 [==============================] - 9s 296ms/step - loss: 0.8189 - accuracy: 0.7700 - val_loss: 0.5503 - val_accuracy: 0.7750\n",
            "Epoch 56/60\n",
            "25/25 [==============================] - 9s 296ms/step - loss: 0.8126 - accuracy: 0.7738 - val_loss: 0.5615 - val_accuracy: 0.7450\n",
            "Epoch 57/60\n",
            "25/25 [==============================] - 9s 298ms/step - loss: 0.8143 - accuracy: 0.7862 - val_loss: 0.5496 - val_accuracy: 0.7350\n",
            "Epoch 58/60\n",
            "25/25 [==============================] - 9s 295ms/step - loss: 0.8075 - accuracy: 0.7713 - val_loss: 0.5388 - val_accuracy: 0.7650\n",
            "Epoch 59/60\n",
            "25/25 [==============================] - 9s 295ms/step - loss: 0.8011 - accuracy: 0.7850 - val_loss: 0.5396 - val_accuracy: 0.7650\n",
            "Epoch 60/60\n",
            "25/25 [==============================] - 9s 299ms/step - loss: 0.7960 - accuracy: 0.7825 - val_loss: 0.5446 - val_accuracy: 0.7700\n"
          ]
        },
        {
          "output_type": "display_data",
          "data": {
            "image/png": "[encoded data removed]",
            "text/plain": [
              "<Figure size 432x288 with 1 Axes>"
            ]
          },
          "metadata": {
            "needs_background": "light"
          }
        }
      ]
    },
    {
      "cell_type": "code",
      "metadata": {
        "colab": {
          "base_uri": "https://localhost:8080/",
          "height": 1000
        },
        "id": "6CWGYXcw3L0V",
        "outputId": "ac849b11-9433-4bd1-ce1a-8d50612655f7"
      },
      "source": [
        "models['base_model1'].fit(train_ds_scaled,validation_data=val_ds_scaled,epochs = 60, verbose = 1, workers = 3, class_weight = {0:1.13, 1:8.03, 2:1}, callbacks = [reduce_lr])\n",
        "plt.plot(models['base_model1'].history.history['accuracy'])\n",
        "plt.plot(models['base_model1'].history.history['val_accuracy'])\n",
        "plt.legend(['Train', 'Validation'])\n",
        "plt.title('MobileNetV2 training curves')\n",
        "plt.show()"
      ],
      "execution_count": null,
      "outputs": [
        {
          "output_type": "stream",
          "name": "stdout",
          "text": [
            "Epoch 1/60\n",
            "25/25 [==============================] - 12s 324ms/step - loss: 1.6999 - accuracy: 0.2362 - val_loss: 1.5661 - val_accuracy: 0.2050\n",
            "Epoch 2/60\n",
            "25/25 [==============================] - 9s 297ms/step - loss: 1.5591 - accuracy: 0.4363 - val_loss: 1.4692 - val_accuracy: 0.4700\n",
            "Epoch 3/60\n",
            "25/25 [==============================] - 9s 297ms/step - loss: 1.4556 - accuracy: 0.5750 - val_loss: 1.4800 - val_accuracy: 0.4750\n",
            "Epoch 4/60\n",
            "25/25 [==============================] - 9s 296ms/step - loss: 1.3738 - accuracy: 0.5900 - val_loss: 1.4714 - val_accuracy: 0.4800\n",
            "Epoch 5/60\n",
            "25/25 [==============================] - 9s 297ms/step - loss: 1.3094 - accuracy: 0.6488 - val_loss: 1.5287 - val_accuracy: 0.4800\n",
            "Epoch 6/60\n",
            "25/25 [==============================] - 9s 299ms/step - loss: 1.2585 - accuracy: 0.6625 - val_loss: 1.5533 - val_accuracy: 0.4800\n",
            "Epoch 7/60\n",
            "25/25 [==============================] - 9s 295ms/step - loss: 1.2110 - accuracy: 0.6425 - val_loss: 1.5905 - val_accuracy: 0.4800\n",
            "Epoch 8/60\n",
            "25/25 [==============================] - 9s 300ms/step - loss: 1.2050 - accuracy: 0.6800 - val_loss: 1.5691 - val_accuracy: 0.4800\n",
            "Epoch 9/60\n",
            "25/25 [==============================] - 9s 297ms/step - loss: 1.2041 - accuracy: 0.6712 - val_loss: 1.5407 - val_accuracy: 0.4800\n",
            "Epoch 10/60\n",
            "25/25 [==============================] - 9s 300ms/step - loss: 1.1784 - accuracy: 0.6837 - val_loss: 1.5122 - val_accuracy: 0.4850\n",
            "Epoch 11/60\n",
            "25/25 [==============================] - 9s 301ms/step - loss: 1.1819 - accuracy: 0.6837 - val_loss: 1.4916 - val_accuracy: 0.4850\n",
            "Epoch 12/60\n",
            "25/25 [==============================] - 9s 298ms/step - loss: 1.1776 - accuracy: 0.6925 - val_loss: 1.4593 - val_accuracy: 0.4850\n",
            "Epoch 13/60\n",
            "25/25 [==============================] - 9s 297ms/step - loss: 1.1913 - accuracy: 0.6850 - val_loss: 1.4381 - val_accuracy: 0.4850\n",
            "Epoch 14/60\n",
            "25/25 [==============================] - 9s 299ms/step - loss: 1.1725 - accuracy: 0.6750 - val_loss: 1.4113 - val_accuracy: 0.4850\n",
            "Epoch 15/60\n",
            "25/25 [==============================] - 9s 296ms/step - loss: 1.1733 - accuracy: 0.6888 - val_loss: 1.3851 - val_accuracy: 0.4850\n",
            "Epoch 16/60\n",
            "25/25 [==============================] - 9s 300ms/step - loss: 1.1689 - accuracy: 0.6787 - val_loss: 1.3612 - val_accuracy: 0.4850\n",
            "Epoch 17/60\n",
            "25/25 [==============================] - 9s 297ms/step - loss: 1.1655 - accuracy: 0.7013 - val_loss: 1.3371 - val_accuracy: 0.4850\n",
            "Epoch 18/60\n",
            "25/25 [==============================] - 9s 301ms/step - loss: 1.1565 - accuracy: 0.6938 - val_loss: 1.3110 - val_accuracy: 0.4800\n",
            "Epoch 19/60\n",
            "25/25 [==============================] - 9s 297ms/step - loss: 1.1540 - accuracy: 0.6825 - val_loss: 1.2889 - val_accuracy: 0.4850\n",
            "Epoch 20/60\n",
            "25/25 [==============================] - 9s 298ms/step - loss: 1.1571 - accuracy: 0.6888 - val_loss: 1.2636 - val_accuracy: 0.4950\n",
            "Epoch 21/60\n",
            "25/25 [==============================] - 9s 299ms/step - loss: 1.1587 - accuracy: 0.6812 - val_loss: 1.2400 - val_accuracy: 0.4950\n",
            "Epoch 22/60\n",
            "25/25 [==============================] - 9s 299ms/step - loss: 1.1476 - accuracy: 0.6787 - val_loss: 1.2173 - val_accuracy: 0.5000\n",
            "Epoch 23/60\n",
            "25/25 [==============================] - 9s 301ms/step - loss: 1.1480 - accuracy: 0.6775 - val_loss: 1.1977 - val_accuracy: 0.5000\n",
            "Epoch 24/60\n",
            "25/25 [==============================] - 9s 296ms/step - loss: 1.1438 - accuracy: 0.6650 - val_loss: 1.1784 - val_accuracy: 0.5100\n",
            "Epoch 25/60\n",
            "25/25 [==============================] - 9s 299ms/step - loss: 1.1502 - accuracy: 0.6837 - val_loss: 1.1562 - val_accuracy: 0.5100\n",
            "Epoch 26/60\n",
            "25/25 [==============================] - 9s 300ms/step - loss: 1.1255 - accuracy: 0.6837 - val_loss: 1.1351 - val_accuracy: 0.5100\n",
            "Epoch 27/60\n",
            "25/25 [==============================] - 9s 297ms/step - loss: 1.1250 - accuracy: 0.6875 - val_loss: 1.1168 - val_accuracy: 0.5100\n",
            "Epoch 28/60\n",
            "25/25 [==============================] - 9s 299ms/step - loss: 1.1341 - accuracy: 0.6825 - val_loss: 1.0996 - val_accuracy: 0.5200\n",
            "Epoch 29/60\n",
            "25/25 [==============================] - 9s 299ms/step - loss: 1.1208 - accuracy: 0.6875 - val_loss: 1.0825 - val_accuracy: 0.5250\n",
            "Epoch 30/60\n",
            "25/25 [==============================] - 9s 303ms/step - loss: 1.1242 - accuracy: 0.6963 - val_loss: 1.0615 - val_accuracy: 0.5250\n",
            "Epoch 31/60\n",
            "25/25 [==============================] - 9s 299ms/step - loss: 1.1104 - accuracy: 0.7000 - val_loss: 1.0488 - val_accuracy: 0.5350\n",
            "Epoch 32/60\n",
            "25/25 [==============================] - 9s 303ms/step - loss: 1.1246 - accuracy: 0.6775 - val_loss: 1.0349 - val_accuracy: 0.5450\n",
            "Epoch 33/60\n",
            "25/25 [==============================] - 9s 300ms/step - loss: 1.1187 - accuracy: 0.7063 - val_loss: 1.0153 - val_accuracy: 0.5450\n",
            "Epoch 34/60\n",
            "25/25 [==============================] - 9s 301ms/step - loss: 1.0984 - accuracy: 0.7000 - val_loss: 1.0026 - val_accuracy: 0.5450\n",
            "Epoch 35/60\n",
            "25/25 [==============================] - 9s 299ms/step - loss: 1.0943 - accuracy: 0.6925 - val_loss: 0.9893 - val_accuracy: 0.5500\n",
            "Epoch 36/60\n",
            "25/25 [==============================] - 9s 298ms/step - loss: 1.1049 - accuracy: 0.7113 - val_loss: 0.9752 - val_accuracy: 0.5500\n",
            "Epoch 37/60\n",
            "25/25 [==============================] - 9s 299ms/step - loss: 1.0973 - accuracy: 0.7075 - val_loss: 0.9621 - val_accuracy: 0.5500\n",
            "Epoch 38/60\n",
            "25/25 [==============================] - 9s 311ms/step - loss: 1.0992 - accuracy: 0.7050 - val_loss: 0.9495 - val_accuracy: 0.5550\n",
            "Epoch 39/60\n",
            "25/25 [==============================] - 9s 298ms/step - loss: 1.0942 - accuracy: 0.6913 - val_loss: 0.9396 - val_accuracy: 0.5600\n",
            "Epoch 40/60\n",
            "25/25 [==============================] - 9s 298ms/step - loss: 1.1060 - accuracy: 0.7000 - val_loss: 0.9290 - val_accuracy: 0.5600\n",
            "Epoch 41/60\n",
            "25/25 [==============================] - 9s 297ms/step - loss: 1.0889 - accuracy: 0.6963 - val_loss: 0.9169 - val_accuracy: 0.5600\n",
            "Epoch 42/60\n",
            "25/25 [==============================] - 9s 298ms/step - loss: 1.0954 - accuracy: 0.7050 - val_loss: 0.9069 - val_accuracy: 0.5600\n",
            "Epoch 43/60\n",
            "25/25 [==============================] - 9s 301ms/step - loss: 1.0905 - accuracy: 0.7100 - val_loss: 0.8965 - val_accuracy: 0.5600\n",
            "Epoch 44/60\n",
            "25/25 [==============================] - 9s 300ms/step - loss: 1.0955 - accuracy: 0.6900 - val_loss: 0.8875 - val_accuracy: 0.5600\n",
            "Epoch 45/60\n",
            "25/25 [==============================] - 9s 300ms/step - loss: 1.0914 - accuracy: 0.7025 - val_loss: 0.8804 - val_accuracy: 0.5600\n",
            "Epoch 46/60\n",
            "25/25 [==============================] - 9s 299ms/step - loss: 1.0782 - accuracy: 0.7113 - val_loss: 0.8705 - val_accuracy: 0.5600\n",
            "Epoch 47/60\n",
            "25/25 [==============================] - 9s 299ms/step - loss: 1.0760 - accuracy: 0.7163 - val_loss: 0.8623 - val_accuracy: 0.5600\n",
            "Epoch 48/60\n",
            "25/25 [==============================] - 9s 298ms/step - loss: 1.0793 - accuracy: 0.6975 - val_loss: 0.8530 - val_accuracy: 0.5550\n",
            "Epoch 49/60\n",
            "25/25 [==============================] - 9s 300ms/step - loss: 1.0854 - accuracy: 0.6988 - val_loss: 0.8476 - val_accuracy: 0.5500\n",
            "Epoch 50/60\n",
            "25/25 [==============================] - 9s 300ms/step - loss: 1.0580 - accuracy: 0.7138 - val_loss: 0.8397 - val_accuracy: 0.5500\n",
            "Epoch 51/60\n",
            "25/25 [==============================] - 9s 301ms/step - loss: 1.0610 - accuracy: 0.7150 - val_loss: 0.8343 - val_accuracy: 0.5550\n",
            "Epoch 52/60\n",
            "25/25 [==============================] - 9s 300ms/step - loss: 1.0675 - accuracy: 0.7025 - val_loss: 0.8270 - val_accuracy: 0.5600\n",
            "Epoch 53/60\n",
            "25/25 [==============================] - 9s 299ms/step - loss: 1.0608 - accuracy: 0.7050 - val_loss: 0.8221 - val_accuracy: 0.5650\n",
            "Epoch 54/60\n",
            "25/25 [==============================] - 9s 297ms/step - loss: 1.0552 - accuracy: 0.7075 - val_loss: 0.8134 - val_accuracy: 0.5650\n",
            "Epoch 55/60\n",
            "25/25 [==============================] - 9s 300ms/step - loss: 1.0660 - accuracy: 0.7163 - val_loss: 0.8103 - val_accuracy: 0.5700\n",
            "Epoch 56/60\n",
            "25/25 [==============================] - 9s 300ms/step - loss: 1.0604 - accuracy: 0.7113 - val_loss: 0.8068 - val_accuracy: 0.5750\n",
            "Epoch 57/60\n",
            "25/25 [==============================] - 9s 298ms/step - loss: 1.0621 - accuracy: 0.7050 - val_loss: 0.8007 - val_accuracy: 0.5800\n",
            "Epoch 58/60\n",
            "25/25 [==============================] - 9s 300ms/step - loss: 1.0499 - accuracy: 0.7113 - val_loss: 0.7922 - val_accuracy: 0.5800\n",
            "Epoch 59/60\n",
            "25/25 [==============================] - 9s 299ms/step - loss: 1.0512 - accuracy: 0.7188 - val_loss: 0.7882 - val_accuracy: 0.5800\n",
            "Epoch 60/60\n",
            "25/25 [==============================] - 9s 296ms/step - loss: 1.0647 - accuracy: 0.7138 - val_loss: 0.7852 - val_accuracy: 0.5850\n"
          ]
        },
        {
          "output_type": "display_data",
          "data": {
            "image/png": "[encoded data removed]",
            "text/plain": [
              "<Figure size 432x288 with 1 Axes>"
            ]
          },
          "metadata": {
            "needs_background": "light"
          }
        }
      ]
    },
    {
      "cell_type": "code",
      "metadata": {
        "colab": {
          "base_uri": "https://localhost:8080/",
          "height": 1000
        },
        "id": "hwJGpwlF3PSI",
        "outputId": "3d6367d7-cca5-4de3-b35e-f0915838af9d"
      },
      "source": [
        "models['base_model3'].fit(train_ds_scaled,validation_data=val_ds_scaled,epochs = 60, verbose = 1, workers = 3, class_weight = {0:1.13, 1:8.03, 2:1}, callbacks = [reduce_lr])\n",
        "plt.plot(models['base_model3'].history.history['accuracy'])\n",
        "plt.plot(models['base_model3'].history.history['val_accuracy'])\n",
        "plt.legend(['Train', 'Validation'])\n",
        "plt.title('MobileNetV2 training curves')\n",
        "plt.show()"
      ],
      "execution_count": null,
      "outputs": [
        {
          "output_type": "stream",
          "name": "stdout",
          "text": [
            "Epoch 1/60\n",
            "25/25 [==============================] - 12s 334ms/step - loss: 1.0153 - accuracy: 0.6975 - val_loss: 2.6214 - val_accuracy: 0.5200\n",
            "Epoch 2/60\n",
            "25/25 [==============================] - 9s 307ms/step - loss: 0.6929 - accuracy: 0.8475 - val_loss: 3.8760 - val_accuracy: 0.5150\n",
            "Epoch 3/60\n",
            "25/25 [==============================] - 9s 307ms/step - loss: 0.5458 - accuracy: 0.8712 - val_loss: 4.7348 - val_accuracy: 0.5250\n",
            "Epoch 4/60\n",
            "25/25 [==============================] - 9s 308ms/step - loss: 0.4521 - accuracy: 0.9050 - val_loss: 5.6113 - val_accuracy: 0.5250\n",
            "Epoch 5/60\n",
            "25/25 [==============================] - 9s 304ms/step - loss: 0.4129 - accuracy: 0.9150 - val_loss: 5.6036 - val_accuracy: 0.5250\n",
            "Epoch 6/60\n",
            "25/25 [==============================] - 9s 308ms/step - loss: 0.3617 - accuracy: 0.9225 - val_loss: 5.6191 - val_accuracy: 0.5500\n",
            "Epoch 7/60\n",
            "25/25 [==============================] - 9s 307ms/step - loss: 0.3148 - accuracy: 0.9500 - val_loss: 5.3367 - val_accuracy: 0.5550\n",
            "Epoch 8/60\n",
            "25/25 [==============================] - 9s 307ms/step - loss: 0.3105 - accuracy: 0.9375 - val_loss: 5.2478 - val_accuracy: 0.5550\n",
            "Epoch 9/60\n",
            "25/25 [==============================] - 9s 307ms/step - loss: 0.2999 - accuracy: 0.9350 - val_loss: 5.0812 - val_accuracy: 0.5500\n",
            "Epoch 10/60\n",
            "25/25 [==============================] - 9s 305ms/step - loss: 0.2981 - accuracy: 0.9425 - val_loss: 4.9234 - val_accuracy: 0.5500\n",
            "Epoch 11/60\n",
            "25/25 [==============================] - 9s 305ms/step - loss: 0.2962 - accuracy: 0.9312 - val_loss: 4.7494 - val_accuracy: 0.5500\n",
            "Epoch 12/60\n",
            "25/25 [==============================] - 9s 306ms/step - loss: 0.2816 - accuracy: 0.9438 - val_loss: 4.5732 - val_accuracy: 0.5500\n",
            "Epoch 13/60\n",
            "25/25 [==============================] - 9s 306ms/step - loss: 0.2812 - accuracy: 0.9475 - val_loss: 4.4052 - val_accuracy: 0.5500\n",
            "Epoch 14/60\n",
            "25/25 [==============================] - 9s 306ms/step - loss: 0.2845 - accuracy: 0.9438 - val_loss: 4.2392 - val_accuracy: 0.5550\n",
            "Epoch 15/60\n",
            "25/25 [==============================] - 9s 308ms/step - loss: 0.2778 - accuracy: 0.9350 - val_loss: 4.0808 - val_accuracy: 0.5550\n",
            "Epoch 16/60\n",
            "25/25 [==============================] - 9s 307ms/step - loss: 0.2942 - accuracy: 0.9438 - val_loss: 3.9230 - val_accuracy: 0.5550\n",
            "Epoch 17/60\n",
            "25/25 [==============================] - 9s 304ms/step - loss: 0.2834 - accuracy: 0.9413 - val_loss: 3.7736 - val_accuracy: 0.5550\n",
            "Epoch 18/60\n",
            "25/25 [==============================] - 9s 305ms/step - loss: 0.2904 - accuracy: 0.9400 - val_loss: 3.6289 - val_accuracy: 0.5550\n",
            "Epoch 19/60\n",
            "25/25 [==============================] - 9s 309ms/step - loss: 0.2771 - accuracy: 0.9413 - val_loss: 3.4895 - val_accuracy: 0.5550\n",
            "Epoch 20/60\n",
            "25/25 [==============================] - 9s 307ms/step - loss: 0.2768 - accuracy: 0.9450 - val_loss: 3.3551 - val_accuracy: 0.5550\n",
            "Epoch 21/60\n",
            "25/25 [==============================] - 9s 306ms/step - loss: 0.2795 - accuracy: 0.9475 - val_loss: 3.2252 - val_accuracy: 0.5600\n",
            "Epoch 22/60\n",
            "25/25 [==============================] - 9s 306ms/step - loss: 0.2782 - accuracy: 0.9388 - val_loss: 3.0994 - val_accuracy: 0.5600\n",
            "Epoch 23/60\n",
            "25/25 [==============================] - 9s 308ms/step - loss: 0.2883 - accuracy: 0.9362 - val_loss: 2.9779 - val_accuracy: 0.5600\n",
            "Epoch 24/60\n",
            "25/25 [==============================] - 9s 307ms/step - loss: 0.2788 - accuracy: 0.9488 - val_loss: 2.8606 - val_accuracy: 0.5600\n",
            "Epoch 25/60\n",
            "25/25 [==============================] - 9s 306ms/step - loss: 0.2746 - accuracy: 0.9513 - val_loss: 2.7473 - val_accuracy: 0.5600\n",
            "Epoch 26/60\n",
            "25/25 [==============================] - 9s 305ms/step - loss: 0.2799 - accuracy: 0.9450 - val_loss: 2.6379 - val_accuracy: 0.5600\n",
            "Epoch 27/60\n",
            "25/25 [==============================] - 9s 305ms/step - loss: 0.2881 - accuracy: 0.9463 - val_loss: 2.5323 - val_accuracy: 0.5650\n",
            "Epoch 28/60\n",
            "25/25 [==============================] - 9s 306ms/step - loss: 0.2881 - accuracy: 0.9388 - val_loss: 2.4304 - val_accuracy: 0.5650\n",
            "Epoch 29/60\n",
            "25/25 [==============================] - 9s 307ms/step - loss: 0.2759 - accuracy: 0.9438 - val_loss: 2.3321 - val_accuracy: 0.5650\n",
            "Epoch 30/60\n",
            "25/25 [==============================] - 9s 305ms/step - loss: 0.2860 - accuracy: 0.9413 - val_loss: 2.2373 - val_accuracy: 0.5650\n",
            "Epoch 31/60\n",
            "25/25 [==============================] - 9s 306ms/step - loss: 0.2961 - accuracy: 0.9438 - val_loss: 2.1461 - val_accuracy: 0.5700\n",
            "Epoch 32/60\n",
            "25/25 [==============================] - 9s 306ms/step - loss: 0.2819 - accuracy: 0.9438 - val_loss: 2.0582 - val_accuracy: 0.5700\n",
            "Epoch 33/60\n",
            "25/25 [==============================] - 9s 307ms/step - loss: 0.2716 - accuracy: 0.9425 - val_loss: 1.9737 - val_accuracy: 0.5750\n",
            "Epoch 34/60\n",
            "25/25 [==============================] - 9s 305ms/step - loss: 0.2813 - accuracy: 0.9450 - val_loss: 1.8925 - val_accuracy: 0.5800\n",
            "Epoch 35/60\n",
            "25/25 [==============================] - 9s 306ms/step - loss: 0.2894 - accuracy: 0.9500 - val_loss: 1.8145 - val_accuracy: 0.5800\n",
            "Epoch 36/60\n",
            "25/25 [==============================] - 9s 307ms/step - loss: 0.2786 - accuracy: 0.9375 - val_loss: 1.7396 - val_accuracy: 0.5850\n",
            "Epoch 37/60\n",
            "25/25 [==============================] - 9s 306ms/step - loss: 0.2738 - accuracy: 0.9400 - val_loss: 1.6677 - val_accuracy: 0.5850\n",
            "Epoch 38/60\n",
            "25/25 [==============================] - 9s 307ms/step - loss: 0.2884 - accuracy: 0.9513 - val_loss: 1.5989 - val_accuracy: 0.5850\n",
            "Epoch 39/60\n",
            "25/25 [==============================] - 9s 308ms/step - loss: 0.2819 - accuracy: 0.9450 - val_loss: 1.5329 - val_accuracy: 0.5850\n",
            "Epoch 40/60\n",
            "25/25 [==============================] - 9s 308ms/step - loss: 0.2845 - accuracy: 0.9425 - val_loss: 1.4697 - val_accuracy: 0.5900\n",
            "Epoch 41/60\n",
            "25/25 [==============================] - 9s 306ms/step - loss: 0.2896 - accuracy: 0.9438 - val_loss: 1.4093 - val_accuracy: 0.5950\n",
            "Epoch 42/60\n",
            "25/25 [==============================] - 9s 308ms/step - loss: 0.2829 - accuracy: 0.9463 - val_loss: 1.3515 - val_accuracy: 0.5950\n",
            "Epoch 43/60\n",
            "25/25 [==============================] - 9s 308ms/step - loss: 0.2878 - accuracy: 0.9362 - val_loss: 1.2963 - val_accuracy: 0.5950\n",
            "Epoch 44/60\n",
            "25/25 [==============================] - 9s 307ms/step - loss: 0.2768 - accuracy: 0.9400 - val_loss: 1.2437 - val_accuracy: 0.5950\n",
            "Epoch 45/60\n",
            "25/25 [==============================] - 9s 307ms/step - loss: 0.2730 - accuracy: 0.9425 - val_loss: 1.1934 - val_accuracy: 0.6000\n",
            "Epoch 46/60\n",
            "25/25 [==============================] - 9s 306ms/step - loss: 0.2919 - accuracy: 0.9388 - val_loss: 1.1455 - val_accuracy: 0.6000\n",
            "Epoch 47/60\n",
            "25/25 [==============================] - 9s 308ms/step - loss: 0.2779 - accuracy: 0.9438 - val_loss: 1.0999 - val_accuracy: 0.6000\n",
            "Epoch 48/60\n",
            "25/25 [==============================] - 9s 307ms/step - loss: 0.2783 - accuracy: 0.9413 - val_loss: 1.0565 - val_accuracy: 0.6000\n",
            "Epoch 49/60\n",
            "25/25 [==============================] - 9s 308ms/step - loss: 0.2846 - accuracy: 0.9300 - val_loss: 1.0152 - val_accuracy: 0.6050\n",
            "Epoch 50/60\n",
            "25/25 [==============================] - 9s 309ms/step - loss: 0.3010 - accuracy: 0.9350 - val_loss: 0.9759 - val_accuracy: 0.6150\n",
            "Epoch 51/60\n",
            "25/25 [==============================] - 9s 306ms/step - loss: 0.2894 - accuracy: 0.9413 - val_loss: 0.9386 - val_accuracy: 0.6200\n",
            "Epoch 52/60\n",
            "25/25 [==============================] - 9s 307ms/step - loss: 0.2907 - accuracy: 0.9413 - val_loss: 0.9032 - val_accuracy: 0.6200\n",
            "Epoch 53/60\n",
            "25/25 [==============================] - 9s 310ms/step - loss: 0.2760 - accuracy: 0.9463 - val_loss: 0.8696 - val_accuracy: 0.6350\n",
            "Epoch 54/60\n",
            "25/25 [==============================] - 9s 308ms/step - loss: 0.2948 - accuracy: 0.9438 - val_loss: 0.8377 - val_accuracy: 0.6450\n",
            "Epoch 55/60\n",
            "25/25 [==============================] - 9s 306ms/step - loss: 0.2834 - accuracy: 0.9388 - val_loss: 0.8075 - val_accuracy: 0.6450\n",
            "Epoch 56/60\n",
            "25/25 [==============================] - 9s 307ms/step - loss: 0.2757 - accuracy: 0.9400 - val_loss: 0.7789 - val_accuracy: 0.6550\n",
            "Epoch 57/60\n",
            "25/25 [==============================] - 9s 308ms/step - loss: 0.2809 - accuracy: 0.9413 - val_loss: 0.7518 - val_accuracy: 0.6650\n",
            "Epoch 58/60\n",
            "25/25 [==============================] - 9s 306ms/step - loss: 0.2759 - accuracy: 0.9500 - val_loss: 0.7262 - val_accuracy: 0.6750\n",
            "Epoch 59/60\n",
            "25/25 [==============================] - 9s 307ms/step - loss: 0.2837 - accuracy: 0.9413 - val_loss: 0.7019 - val_accuracy: 0.6750\n",
            "Epoch 60/60\n",
            "25/25 [==============================] - 9s 309ms/step - loss: 0.2668 - accuracy: 0.9475 - val_loss: 0.6789 - val_accuracy: 0.6950\n"
          ]
        },
        {
          "output_type": "display_data",
          "data": {
            "image/png": "[encoded data removed]",
            "text/plain": [
              "<Figure size 432x288 with 1 Axes>"
            ]
          },
          "metadata": {
            "needs_background": "light"
          }
        }
      ]
    },
    {
      "cell_type": "code",
      "metadata": {
        "colab": {
          "base_uri": "https://localhost:8080/"
        },
        "id": "QZDBdXLC3Peb",
        "outputId": "f7b33c9d-dc45-4ef2-9757-811065e1d125"
      },
      "source": [
        "i=0\n",
        "for model_name, model in models.items():\n",
        "    trainableParams = np.sum([np.prod(v.get_shape()) for v in model.trainable_weights])\n",
        "    nonTrainableParams = np.sum([np.prod(v.get_shape()) for v in model.non_trainable_weights])\n",
        "    totalParams = trainableParams + nonTrainableParams\n",
        "    \n",
        "    print('base_model'+str(i),trainableParams,nonTrainableParams,totalParams)\n",
        "    i+=1\n"
      ],
      "execution_count": null,
      "outputs": [
        {
          "output_type": "stream",
          "name": "stdout",
          "text": [
            "base_model0 3843 2257984 2261827\n",
            "base_model1 416643 1845184 2261827\n",
            "base_model2 734403 1527424 2261827\n",
            "base_model3 1043843 1217984 2261827\n",
            "base_model4 1056323 1205504 2261827\n",
            "base_model5 1363843 897984 2261827\n",
            "base_model6 1529923 731904 2261827\n",
            "base_model7 1628739 633088 2261827\n",
            "base_model8 1685187 576640 2261827\n",
            "base_model9 1747011 514816 2261827\n"
          ]
        }
      ]
    },
    {
      "cell_type": "code",
      "metadata": {
        "colab": {
          "base_uri": "https://localhost:8080/"
        },
        "id": "U88ODE36iqYF",
        "outputId": "65b56ca7-ac1c-4b33-bfb3-1f27712d30d5"
      },
      "source": [
        "# second trial\n",
        "i=0\n",
        "for model_name, model in models.items():\n",
        "    trainableParams = np.sum([np.prod(v.get_shape()) for v in model.trainable_weights])\n",
        "    nonTrainableParams = np.sum([np.prod(v.get_shape()) for v in model.non_trainable_weights])\n",
        "    totalParams = trainableParams + nonTrainableParams\n",
        "    \n",
        "    print('base_model'+str(i),trainableParams,nonTrainableParams,totalParams)\n",
        "    i+=1\n"
      ],
      "execution_count": null,
      "outputs": [
        {
          "output_type": "stream",
          "name": "stdout",
          "text": [
            "base_model0 3843 2257984 2261827\n",
            "base_model1 6403 2255424 2261827\n",
            "base_model2 416643 1845184 2261827\n",
            "base_model3 723843 1537984 2261827\n"
          ]
        }
      ]
    },
    {
      "cell_type": "code",
      "metadata": {
        "id": "dgnz84et3L3Z"
      },
      "source": [
        ""
      ],
      "execution_count": null,
      "outputs": []
    },
    {
      "cell_type": "code",
      "metadata": {
        "id": "T1JI_wTy3L6h"
      },
      "source": [
        ""
      ],
      "execution_count": null,
      "outputs": []
    }
  ]
}